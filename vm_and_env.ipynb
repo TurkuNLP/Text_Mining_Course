{
 "cells": [
  {
   "cell_type": "markdown",
   "metadata": {},
   "source": [
    "# Virtual Machine\n",
    "\n",
    "All course work will happen on the linux server `edu.turkunlp.org` (also known as `vm0964.kaj.pouta.csc.fi`). Accounts for those who have signed up for the course have been created and passwords will be given in the class. The way to access the machine is `ssh`. You can open as many sessions as you like and the machine can be accessed from anywhere.\n",
    "\n",
    "## SSH -  Linux and OSX\n",
    "\n",
    "`ssh yourusername@edu.turkunlp.org`\n",
    "\n",
    "## SSH - Windows\n",
    "\n",
    "The easiest is to run `putty.exe` from https://www.chiark.greenend.org.uk/~sgtatham/putty/latest.html This link is found by Googling `putty download`. In the login window, set `host name` to be `edu.turkunlp.org` and then *Open*."
   ]
  },
  {
   "cell_type": "markdown",
   "metadata": {},
   "source": [
    "# Jupyter Notebook\n",
    "\n",
    "Jupyter Notebook is used as a handy environment to write code and notes on the remote machine. It allows you to edit notebooks in your local browser, even though the notebooks are stored on the virtual machine.\n",
    "\n",
    "## Launching Jupyter on the VM\n",
    "\n",
    "```\n",
    "ginter@nlpedu-new-1:~/Text_Mining_Course$ jupyter notebook\n",
    "[I 20:40:56.189 NotebookApp] The port 8888 is already in use, trying another port.\n",
    "[I 20:40:56.189 NotebookApp] The port 8889 is already in use, trying another port.\n",
    "[I 20:40:56.197 NotebookApp] Serving notebooks from local directory: /home/ginter/Text_Mining_Course\n",
    "[I 20:40:56.197 NotebookApp] 0 active kernels\n",
    "[I 20:40:56.197 NotebookApp] The Jupyter Notebook is running at:\n",
    "[I 20:40:56.197 NotebookApp] http://localhost:8890/\n",
    "[I 20:40:56.197 NotebookApp] Use Control-C to stop this server and shut down all kernels (twice to skip confirmation).\n",
    "[W 20:40:56.197 NotebookApp] No web browser found: could not locate runnable browser.\n",
    "```\n",
    "\n",
    "This starts the notebook and the info `http://localhost:8890/` tells us that the notebook found a free port number `8890` to run on, since its default port (8888) is in use by someone else already. Your port number may differ, just use what Jupyter tells you to. Now one needs to build an SSH tunnel from your local computer to the port `8890` of the virtual machine so we can open the notebook in our own browser."
   ]
  },
  {
   "cell_type": "markdown",
   "metadata": {},
   "source": [
    "### SSH Tunnel - Linux and OSX\n",
    "\n",
    "`ssh -L 8890:localhost:8890 yourusername@edu.turkunlp.org` tells `ssh` to forward any traffic from your local port 8890 to the virtual machine's local port 8890, where Jupyter is listening. Do not close the other terminal where Jupyter runs!\n",
    "\n",
    "This also has a video: https://www.youtube.com/HRYD6IVNQek"
   ]
  },
  {
   "cell_type": "code",
   "execution_count": 1,
   "metadata": {},
   "outputs": [
    {
     "data": {
      "text/html": [
       "<iframe width=\"560\" height=\"315\" src=\"https://www.youtube.com/embed/HRYD6IVNQek?rel=0&amp;controls=1&amp;showinfo=0\" frameborder=\"0\" allowfullscreen></iframe>"
      ],
      "text/plain": [
       "<IPython.core.display.HTML object>"
      ]
     },
     "execution_count": 1,
     "metadata": {},
     "output_type": "execute_result"
    }
   ],
   "source": [
    "from IPython.display import HTML\n",
    "HTML('<iframe width=\"560\" height=\"315\" src=\"https://www.youtube.com/embed/HRYD6IVNQek?rel=0&amp;controls=1&amp;showinfo=0\" frameborder=\"0\" allowfullscreen></iframe>')"
   ]
  },
  {
   "cell_type": "markdown",
   "metadata": {},
   "source": [
    "### SSH Tunnel - Windows\n",
    "\n",
    "The tunnel port numbers are filled in under `Connection/SSH/Tunnels`. See the attached video (watch in HD).\n",
    "\n",
    "Video: https://www.youtube.com/embed/e0DHdOyrw5M"
   ]
  },
  {
   "cell_type": "code",
   "execution_count": 2,
   "metadata": {},
   "outputs": [
    {
     "data": {
      "text/html": [
       "<iframe width=\"560\" height=\"315\" src=\"https://www.youtube.com/embed/e0DHdOyrw5M?rel=0&amp;controls=1&amp;showinfo=0\" frameborder=\"0\" allowfullscreen></iframe>"
      ],
      "text/plain": [
       "<IPython.core.display.HTML object>"
      ]
     },
     "execution_count": 2,
     "metadata": {},
     "output_type": "execute_result"
    }
   ],
   "source": [
    "from IPython.display import HTML\n",
    "HTML('<iframe width=\"560\" height=\"315\" src=\"https://www.youtube.com/embed/e0DHdOyrw5M?rel=0&amp;controls=1&amp;showinfo=0\" frameborder=\"0\" allowfullscreen></iframe>')"
   ]
  },
  {
   "cell_type": "markdown",
   "metadata": {},
   "source": [
    "## Open Jupyter in your local browser\n",
    "\n",
    "Point your browser to `http://localhost:XXXX` where `XXXX` is your port number. In our example case that would be `http://localhost:8890`.\n",
    "\n",
    "### Jupyter first run\n",
    "\n",
    "Few things are needed first time you run Jupyter:\n",
    "\n",
    "* `jupyter notebook --generate-config` if Jupyter complains about missing files and crashes\n",
    "* `jupyter notebook password` sets a password to access Jupyter and disables the token-based authentication which is quite painful. You can set this password to something simple like 1234."
   ]
  },
  {
   "cell_type": "markdown",
   "metadata": {},
   "source": [
    "# Course material\n",
    "\n",
    "## First time copy\n",
    "\n",
    "```\n",
    "git clone https://github.com/TurkuNLP/Text_Mining_Course.git\n",
    "cd Text_Mining_Course\n",
    "```\n",
    "\n",
    "## Getting latest changes\n",
    "\n",
    "```\n",
    "cd Text_Mining_Course\n",
    "git pull\n",
    "```\n",
    "\n",
    "## Make a copy before editing!\n",
    "\n",
    "To avoid git conflicts, make a copy of the course material notebook before modifying it. `File / Make a copy` in Jupyter. This is important.\n"
   ]
  }
 ],
 "metadata": {
  "kernelspec": {
   "display_name": "Python 3",
   "language": "python",
   "name": "python3"
  },
  "language_info": {
   "codemirror_mode": {
    "name": "ipython",
    "version": 3
   },
   "file_extension": ".py",
   "mimetype": "text/x-python",
   "name": "python",
   "nbconvert_exporter": "python",
   "pygments_lexer": "ipython3",
   "version": "3.5.2"
  }
 },
 "nbformat": 4,
 "nbformat_minor": 2
}
