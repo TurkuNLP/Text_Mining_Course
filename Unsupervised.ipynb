{
 "cells": [
  {
   "cell_type": "markdown",
   "metadata": {},
   "source": [
    "# Unsupervised methods\n",
    "\n",
    "Most of the methods we've looked at so far have applied *supervised* machine learning, where the learning methods require examples of text **input** (documents, words, etc.) and the **correct outputs** (classes, tags, etc.)\n",
    "\n",
    "By contrast, *unsupervised* methods do not expect outputs, but instead aim to identify commonalities or structure in their input."
   ]
  },
  {
   "cell_type": "markdown",
   "metadata": {},
   "source": [
    "## Example: language models\n",
    "\n"
   ]
  },
  {
   "cell_type": "markdown",
   "metadata": {},
   "source": [
    "Statistical language models estimate the \"probability\" of text, i.e. $P(w_1, w_2, \\ldots, w_n)$\n",
    "\n",
    "Basic N-gram approach:\n",
    "\n",
    "* Assume (incorrectly) that $P(w_i)$ only depends on the N-1 previous words\n",
    "    * e.g. for bigrams $P(w_i|w_{i-1},w_{i-2}, \\ldots) = P(w_i|w_{i-1})$\n",
    "* Count occurrences of N-grams in a large amount of (unlabelled) text\n",
    "    * e.g. [Google Web 5-grams](https://catalog.ldc.upenn.edu/LDC2006T13): 1,024,908,267,229 words (~1 trillion)\n",
    "* Estimate probabilities from counts and apply smoothing\n",
    "\n",
    "---\n",
    "\n",
    "A model that can estimate $P(w_i|w_{i-1},w_{i-2}, \\ldots)$ can be used to generate text: given a \"prompt\" of words, pick the most likely next word, and repeat.\n",
    "\n",
    "Recent example from [Open AI GPT-2](https://openai.com/blog/better-language-models/) neural language model:"
   ]
  },
  {
   "cell_type": "markdown",
   "metadata": {},
   "source": [
    "<div style=\"margin:1em\">\n",
    "<table style=\"font-size:100%; text-align:left\">\n",
    "  <tr>\n",
    "    <td><b>Prompt (human input)</b>:</td>\n",
    "    <td><i>In a shocking finding, scientist discovered a herd of unicorns living in a remote, previously unexplored valley, in the Andes Mountains. Even more surprising to the researchers was the fact that the unicorns spoke perfect English.</i></td>\n",
    "  </tr>\n",
    "  <tr>\n",
    "    <td><b>System output</b>:</td>\n",
    "    <td><p>The scientist named the population, after their distinctive horn, Ovid’s Unicorn. These four-horned, silver-white unicorns were previously unknown to science.</p>\n",
    "\n",
    "<p>Now, after almost two centuries, the mystery of what sparked this odd phenomenon is finally solved.</p>\n",
    "\n",
    "<p>Dr. Jorge Pérez, an evolutionary biologist from the University of La Paz, and several companions, were exploring the Andes Mountains when they found a small valley, with no other animals or humans. Pérez noticed that the valley had what appeared to be a natural fountain, surrounded by two peaks of rock and silver snow.</p>\n",
    "\n",
    "<p>Pérez and the others then ventured further into the valley. “By the time we reached the top of one peak, the water looked blue, with some crystals on top,” said Pérez.</p>\n",
    "\n",
    "<p>Pérez and his friends were astonished to see the unicorn herd. These creatures could be seen from the air without having to move too much to see them – they were so close they could touch their horns.</p>\n",
    "\n",
    "<p>While examining these bizarre creatures the scientists discovered that the creatures also spoke some fairly regular English. Pérez stated, “We can see, for example, that they have a common ‘language,’ something like a dialect or dialectic.”</p>\n",
    "\n",
    "<p>[...]</p>\n",
    "</td>\n",
    "</tr>\n",
    "</table>\n",
    "</div>"
   ]
  },
  {
   "cell_type": "markdown",
   "metadata": {},
   "source": [
    "## Distributional semantics\n",
    "\n",
    "Methods that aim to derive (representations of) meaning from text statistics. Based on a comparatively old idea (mandatory quotes):\n",
    "\n",
    "<div style=\"text-align:center; font-size:120%; margin-top:1em\"><i>If A and B have almost identical environments we say that they are synonyms</i> (Harris 1954)</div>\n",
    "\n",
    "<div style=\"text-align:center; font-size:120%; margin-top:1em\"><i>You shall know a word by the company it keeps</i> (Firth 1957)</div>\n",
    "\n",
    "<div style=\"text-align:center; font-size:120%; margin-top:1em\"><i>Words which are similar in meaning occur in similar contexts</i> (Rubenstein and Goodenough, 1965)</div>\n",
    "\n",
    "---\n",
    "\n",
    "Example:"
   ]
  },
  {
   "cell_type": "markdown",
   "metadata": {},
   "source": [
    "<div style=\"margin:1em\">\n",
    "<table style=\"font-size:100%; text-align:left\">\n",
    "    <tr style=\"background-color:lightgray\"><td>A large</td><td><b>___</b></td><td>runs in the yard</td></tr>\n",
    "    <tr style=\"background-color:lightgreen\"><td>A large</td><td><b>dog</b></td><td>runs in the yard</td></tr>\n",
    "    <tr style=\"background-color:lightgreen\"><td>A large</td><td><b>cat</b></td><td>runs in the yard</td></tr>\n",
    "    <tr style=\"background-color:yellow\"><td>A large</td><td><b>hat</b></td><td>runs in the yard</td></tr>\n",
    "    <tr style=\"background-color:orangered\"><td>A large</td><td><b>the</b></td><td>runs in the yard</td></tr>\n",
    "</table>\n",
    "</div>"
   ]
  },
  {
   "cell_type": "markdown",
   "metadata": {},
   "source": [
    "Basic approach:\n",
    "\n",
    "* Create a **word-context matrix** that records occurrences of words in context (for various definitions of context)\n",
    "    * Most typically **word-word matrix**\n",
    "* Process a large corpus of text, summing up (word, context) counts"
   ]
  },
  {
   "cell_type": "markdown",
   "metadata": {},
   "source": [
    "<img src=\"figs/word_context_example.png\" width=\"60%\">"
   ]
  },
  {
   "cell_type": "markdown",
   "metadata": {},
   "source": [
    "* Apply smoothing and/or statistics measuring association strength (e.g. PMI, TF-IDF)\n",
    "* Perform dimensionality reduction\n",
    "\n",
    "The process creates **word vectors** that aim to reflect word relationships: e.g. `similarity(cat,dog)` > `similarity(cat,hat)`"
   ]
  },
  {
   "cell_type": "markdown",
   "metadata": {},
   "source": [
    "Hypothetical example with *very* small corpus:"
   ]
  },
  {
   "cell_type": "code",
   "execution_count": 1,
   "metadata": {},
   "outputs": [],
   "source": [
    "words = ['a', 'cat', 'dog', 'eats', 'runs', 'the', 'yard']\n",
    "\n",
    "word_word_matrix = [\n",
    "    [  0, 43, 57,  0,  0,  0, 12 ],\n",
    "    [  0,  0,  0, 13,  9,  0,  0 ],\n",
    "    [  0,  0,  0,  9, 11,  0,  0 ],\n",
    "    [ 21,  0,  0,  0,  0, 16,  0 ],\n",
    "    [  5,  0,  0,  0,  0,  2,  0 ],\n",
    "    [  0, 33, 38,  0,  0,  0,  7 ],\n",
    "    [  0,  0,  0,  0,  0,  0,  0 ],    \n",
    "]"
   ]
  },
  {
   "cell_type": "code",
   "execution_count": 2,
   "metadata": {},
   "outputs": [
    {
     "data": {
      "text/html": [
       "<div>\n",
       "<style scoped>\n",
       "    .dataframe tbody tr th:only-of-type {\n",
       "        vertical-align: middle;\n",
       "    }\n",
       "\n",
       "    .dataframe tbody tr th {\n",
       "        vertical-align: top;\n",
       "    }\n",
       "\n",
       "    .dataframe thead th {\n",
       "        text-align: right;\n",
       "    }\n",
       "</style>\n",
       "<table border=\"1\" class=\"dataframe\">\n",
       "  <thead>\n",
       "    <tr style=\"text-align: right;\">\n",
       "      <th></th>\n",
       "      <th>a</th>\n",
       "      <th>cat</th>\n",
       "      <th>dog</th>\n",
       "      <th>eats</th>\n",
       "      <th>runs</th>\n",
       "      <th>the</th>\n",
       "      <th>yard</th>\n",
       "    </tr>\n",
       "  </thead>\n",
       "  <tbody>\n",
       "    <tr>\n",
       "      <th>a</th>\n",
       "      <td>0</td>\n",
       "      <td>43</td>\n",
       "      <td>57</td>\n",
       "      <td>0</td>\n",
       "      <td>0</td>\n",
       "      <td>0</td>\n",
       "      <td>12</td>\n",
       "    </tr>\n",
       "    <tr>\n",
       "      <th>cat</th>\n",
       "      <td>0</td>\n",
       "      <td>0</td>\n",
       "      <td>0</td>\n",
       "      <td>13</td>\n",
       "      <td>9</td>\n",
       "      <td>0</td>\n",
       "      <td>0</td>\n",
       "    </tr>\n",
       "    <tr>\n",
       "      <th>dog</th>\n",
       "      <td>0</td>\n",
       "      <td>0</td>\n",
       "      <td>0</td>\n",
       "      <td>9</td>\n",
       "      <td>11</td>\n",
       "      <td>0</td>\n",
       "      <td>0</td>\n",
       "    </tr>\n",
       "    <tr>\n",
       "      <th>eats</th>\n",
       "      <td>21</td>\n",
       "      <td>0</td>\n",
       "      <td>0</td>\n",
       "      <td>0</td>\n",
       "      <td>0</td>\n",
       "      <td>16</td>\n",
       "      <td>0</td>\n",
       "    </tr>\n",
       "    <tr>\n",
       "      <th>runs</th>\n",
       "      <td>5</td>\n",
       "      <td>0</td>\n",
       "      <td>0</td>\n",
       "      <td>0</td>\n",
       "      <td>0</td>\n",
       "      <td>2</td>\n",
       "      <td>0</td>\n",
       "    </tr>\n",
       "    <tr>\n",
       "      <th>the</th>\n",
       "      <td>0</td>\n",
       "      <td>33</td>\n",
       "      <td>38</td>\n",
       "      <td>0</td>\n",
       "      <td>0</td>\n",
       "      <td>0</td>\n",
       "      <td>7</td>\n",
       "    </tr>\n",
       "    <tr>\n",
       "      <th>yard</th>\n",
       "      <td>0</td>\n",
       "      <td>0</td>\n",
       "      <td>0</td>\n",
       "      <td>0</td>\n",
       "      <td>0</td>\n",
       "      <td>0</td>\n",
       "      <td>0</td>\n",
       "    </tr>\n",
       "  </tbody>\n",
       "</table>\n",
       "</div>"
      ],
      "text/plain": [
       "       a  cat  dog  eats  runs  the  yard\n",
       "a      0   43   57     0     0    0    12\n",
       "cat    0    0    0    13     9    0     0\n",
       "dog    0    0    0     9    11    0     0\n",
       "eats  21    0    0     0     0   16     0\n",
       "runs   5    0    0     0     0    2     0\n",
       "the    0   33   38     0     0    0     7\n",
       "yard   0    0    0     0     0    0     0"
      ]
     },
     "execution_count": 2,
     "metadata": {},
     "output_type": "execute_result"
    }
   ],
   "source": [
    "from pandas import DataFrame\n",
    "\n",
    "\n",
    "DataFrame(word_word_matrix, index=words, columns=words)"
   ]
  },
  {
   "cell_type": "markdown",
   "metadata": {},
   "source": [
    "Now, similar words should have similar vectors (rows):"
   ]
  },
  {
   "cell_type": "code",
   "execution_count": 3,
   "metadata": {},
   "outputs": [
    {
     "name": "stdout",
     "output_type": "stream",
     "text": [
      "dog \t [ 0  0  0  9 11  0  0]\n",
      "cat \t [ 0  0  0 13  9  0  0]\n",
      "eats \t [21  0  0  0  0 16  0]\n",
      "runs \t [5 0 0 0 0 2 0]\n"
     ]
    }
   ],
   "source": [
    "import numpy as np\n",
    "\n",
    "\n",
    "vec = dict((words[i], np.array(word_word_matrix[i])) for i in range(len(words)))\n",
    "\n",
    "for w in ['dog', 'cat', 'eats', 'runs']:\n",
    "    print(w, '\\t', vec[w])"
   ]
  },
  {
   "cell_type": "markdown",
   "metadata": {},
   "source": [
    "Vector similarity is typically measured using *cosine similarity*, the dot product of normalized (length 1) vectors:\n",
    "\n",
    "$$cos(a,b) = \\frac{a \\cdot b}{\\|a\\|\\|b\\|} = \\frac{\\sum_i{a_i b_i}}{\\sqrt{\\sum_i{a_i^2}}\\sqrt{\\sum_i{b_i^2}}}$$\n",
    "\n",
    "(i.e. for normalized vectors, this is just the sum of the elementwise products)\n",
    "\n",
    "As the name suggests, this corresponds to the cosine of the angle between the vectors:\n",
    "\n",
    "* if $a$ and $b$ pointing in the same direction, $cos(a,b) = 1$\n",
    "* if $a$ and $b$ have a near 90 degree angle, $cos(a,b) = 0$\n",
    "* if $a$ and $b$ point in opposite directions, $cos(a,b) = -1$\n"
   ]
  },
  {
   "cell_type": "code",
   "execution_count": 4,
   "metadata": {},
   "outputs": [
    {
     "name": "stdout",
     "output_type": "stream",
     "text": [
      "sim(dog ,cat ) = 0.96\n",
      "sim(dog ,eats) = 0.00\n",
      "sim(eats,runs) = 0.96\n"
     ]
    }
   ],
   "source": [
    "from math import sqrt\n",
    "\n",
    "\n",
    "def cos(a, b):\n",
    "    return np.dot(a,b)/(sqrt(np.dot(a,a))*sqrt(np.dot(b,b)))\n",
    "\n",
    "\n",
    "for a, b in [['dog', 'cat'], ['dog', 'eats'], ['eats', 'runs']]:\n",
    "    print('sim({:4s},{:4s}) = {:.2f}'.format(a, b, cos(vec[a], vec[b])))"
   ]
  },
  {
   "cell_type": "markdown",
   "metadata": {},
   "source": [
    "It's not very surprising that an artificially constructed example can be made to work. Can we do this with real data?"
   ]
  },
  {
   "cell_type": "markdown",
   "metadata": {},
   "source": [
    "---\n",
    "\n",
    "# Recap\n",
    "\n",
    "Yesterday, we talked about annotation and started looking into unsupervised methods, briefly covering\n",
    "\n",
    "* Language models: estimate probability of text $P(w_1, w_2, \\ldots, w_n)$\n",
    "* Distributional semantics: representations of meaning from text statistics\n",
    "* Word-word matrix and count-based word vectors\n",
    "* Cosine similarity"
   ]
  },
  {
   "cell_type": "markdown",
   "metadata": {},
   "source": [
    "# Neural word representations"
   ]
  },
  {
   "cell_type": "markdown",
   "metadata": {},
   "source": [
    "Count-based word vectors are easy and effective, but recent *prediction-based* methods offer better performance at many tasks (see e.g. [Baroni et al. 2014](http://www.aclweb.org/anthology/P/P14/P14-1023.pdf)).\n",
    "\n",
    "In prediction-based models, the task is to predict a word given its context (or vice versa):"
   ]
  },
  {
   "cell_type": "markdown",
   "metadata": {},
   "source": [
    "<img src=\"figs/cbow_and_skipgram.png\" width=\"60%\">"
   ]
  },
  {
   "cell_type": "markdown",
   "metadata": {},
   "source": [
    "<div style=\"text-align:center; font-size:80%\">(figure adapted from <a href=\"https://arxiv.org/pdf/1301.3781.pdf\">Mikolov et al. 2013</a>)</div>"
   ]
  },
  {
   "cell_type": "markdown",
   "metadata": {},
   "source": [
    "The basic idea:\n",
    "\n",
    "1. Create a random vector for each unique input word and context element (above, also words)\n",
    "2. Map inputs and contexts to their vectors, try to predict one from the other (black box)\n",
    "3. Update word and context vectors (and other model weights) to minimize errors (prediction differing from word/context example)\n",
    "4. (Repeat 2-3)\n",
    "\n",
    "**Note**: The word vectors are learned as a \"side effect\" of learning the prediction task."
   ]
  },
  {
   "cell_type": "markdown",
   "metadata": {},
   "source": [
    "---\n",
    "\n",
    "In the following, we'll be working using the [gensim](https://radimrehurek.com/gensim/) library to work with vectors created using the [word2vec](https://github.com/tmikolov/word2vec) implementation of the skip-gram model.\n",
    "\n",
    "The English word vectors were created by Mikolov et al. on 100 billion words of Google News texts. These are available [here](https://code.google.com/archive/p/word2vec/)\n",
    "\n",
    "Let's load some vectors:"
   ]
  },
  {
   "cell_type": "code",
   "execution_count": 5,
   "metadata": {},
   "outputs": [],
   "source": [
    "from gensim.models import KeyedVectors\n",
    "\n",
    "# This is where the word vectors are found on the server\n",
    "EN_WV_PATH = \"/course_data/textmine/wordvecs/GoogleNews-vectors-negative300.bin\"\n",
    "\n",
    "\n",
    "en_wv = KeyedVectors.load_word2vec_format(EN_WV_PATH, binary=True, limit=100000)"
   ]
  },
  {
   "cell_type": "markdown",
   "metadata": {},
   "source": [
    "Let's have a look at the data"
   ]
  },
  {
   "cell_type": "code",
   "execution_count": 6,
   "metadata": {},
   "outputs": [
    {
     "name": "stdout",
     "output_type": "stream",
     "text": [
      "(300,)\n"
     ]
    }
   ],
   "source": [
    "print(en_wv['dog'].shape)"
   ]
  },
  {
   "cell_type": "markdown",
   "metadata": {},
   "source": [
    "These are 300-dimensional vectors. Can we make sense of one?"
   ]
  },
  {
   "cell_type": "code",
   "execution_count": 7,
   "metadata": {},
   "outputs": [
    {
     "data": {
      "text/html": [
       "<div>\n",
       "<style scoped>\n",
       "    .dataframe tbody tr th:only-of-type {\n",
       "        vertical-align: middle;\n",
       "    }\n",
       "\n",
       "    .dataframe tbody tr th {\n",
       "        vertical-align: top;\n",
       "    }\n",
       "\n",
       "    .dataframe thead th {\n",
       "        text-align: right;\n",
       "    }\n",
       "</style>\n",
       "<table border=\"1\" class=\"dataframe\">\n",
       "  <thead>\n",
       "    <tr style=\"text-align: right;\">\n",
       "      <th></th>\n",
       "      <th>0</th>\n",
       "      <th>1</th>\n",
       "      <th>2</th>\n",
       "      <th>3</th>\n",
       "      <th>4</th>\n",
       "      <th>5</th>\n",
       "      <th>6</th>\n",
       "      <th>7</th>\n",
       "      <th>8</th>\n",
       "      <th>9</th>\n",
       "      <th>...</th>\n",
       "      <th>290</th>\n",
       "      <th>291</th>\n",
       "      <th>292</th>\n",
       "      <th>293</th>\n",
       "      <th>294</th>\n",
       "      <th>295</th>\n",
       "      <th>296</th>\n",
       "      <th>297</th>\n",
       "      <th>298</th>\n",
       "      <th>299</th>\n",
       "    </tr>\n",
       "  </thead>\n",
       "  <tbody>\n",
       "    <tr>\n",
       "      <th>wv[\"dog\"]</th>\n",
       "      <td>0.05127</td>\n",
       "      <td>-0.022339</td>\n",
       "      <td>-0.172852</td>\n",
       "      <td>0.161133</td>\n",
       "      <td>-0.084473</td>\n",
       "      <td>0.057373</td>\n",
       "      <td>0.058594</td>\n",
       "      <td>-0.08252</td>\n",
       "      <td>-0.015381</td>\n",
       "      <td>-0.063477</td>\n",
       "      <td>...</td>\n",
       "      <td>-0.180664</td>\n",
       "      <td>0.103027</td>\n",
       "      <td>-0.275391</td>\n",
       "      <td>0.261719</td>\n",
       "      <td>0.246094</td>\n",
       "      <td>-0.047119</td>\n",
       "      <td>0.0625</td>\n",
       "      <td>0.416016</td>\n",
       "      <td>-0.355469</td>\n",
       "      <td>0.222656</td>\n",
       "    </tr>\n",
       "  </tbody>\n",
       "</table>\n",
       "<p>1 rows × 300 columns</p>\n",
       "</div>"
      ],
      "text/plain": [
       "               0         1         2         3         4         5    \\\n",
       "wv[\"dog\"]  0.05127 -0.022339 -0.172852  0.161133 -0.084473  0.057373   \n",
       "\n",
       "                6        7         8         9    ...       290       291  \\\n",
       "wv[\"dog\"]  0.058594 -0.08252 -0.015381 -0.063477  ... -0.180664  0.103027   \n",
       "\n",
       "                292       293       294       295     296       297       298  \\\n",
       "wv[\"dog\"] -0.275391  0.261719  0.246094 -0.047119  0.0625  0.416016 -0.355469   \n",
       "\n",
       "                299  \n",
       "wv[\"dog\"]  0.222656  \n",
       "\n",
       "[1 rows x 300 columns]"
      ]
     },
     "execution_count": 7,
     "metadata": {},
     "output_type": "execute_result"
    }
   ],
   "source": [
    "DataFrame([en_wv['dog']], index=['wv[\"dog\"]'])"
   ]
  },
  {
   "cell_type": "markdown",
   "metadata": {},
   "source": [
    "Doesn't look much like a dog. A couple of points:\n",
    "\n",
    "* The vectors don't mean anything *in isolation*; they can only be interpreted with reference to other vectors (of the same collection)\n",
    "    * `wv[\"dog\"]` is a good representation of \"dog\" if its relations to other vectors (e.g. `wv[\"cat\"]`) reflect the relations of the words (e.g. \"cat\")\n",
    "* The specific values are (largely) arbitrary: re-running the method would not re-create these vectors\n",
    "    * (It is not possible to look at this vector alone and determine that it represents \"dog\")\n",
    "    \n",
    "So, can we see the relations?"
   ]
  },
  {
   "cell_type": "code",
   "execution_count": 8,
   "metadata": {},
   "outputs": [
    {
     "data": {
      "text/html": [
       "<style  type=\"text/css\" >\n",
       "    #T_71d43304_54b6_11e9_b063_fa163e87fcdbrow0_col0 {\n",
       "            background-color:  #f5c6c8;\n",
       "            color:  #000000;\n",
       "        }    #T_71d43304_54b6_11e9_b063_fa163e87fcdbrow0_col1 {\n",
       "            background-color:  #64de7e;\n",
       "            color:  #000000;\n",
       "        }    #T_71d43304_54b6_11e9_b063_fa163e87fcdbrow0_col2 {\n",
       "            background-color:  #c1f2cc;\n",
       "            color:  #000000;\n",
       "        }    #T_71d43304_54b6_11e9_b063_fa163e87fcdbrow0_col3 {\n",
       "            background-color:  #f6c8ca;\n",
       "            color:  #000000;\n",
       "        }    #T_71d43304_54b6_11e9_b063_fa163e87fcdbrow0_col4 {\n",
       "            background-color:  #b6f0c2;\n",
       "            color:  #000000;\n",
       "        }    #T_71d43304_54b6_11e9_b063_fa163e87fcdbrow0_col5 {\n",
       "            background-color:  #f5c5c6;\n",
       "            color:  #000000;\n",
       "        }    #T_71d43304_54b6_11e9_b063_fa163e87fcdbrow0_col6 {\n",
       "            background-color:  #f5c8c9;\n",
       "            color:  #000000;\n",
       "        }    #T_71d43304_54b6_11e9_b063_fa163e87fcdbrow0_col7 {\n",
       "            background-color:  #c0f2cb;\n",
       "            color:  #000000;\n",
       "        }    #T_71d43304_54b6_11e9_b063_fa163e87fcdbrow0_col8 {\n",
       "            background-color:  #64de7e;\n",
       "            color:  #000000;\n",
       "        }    #T_71d43304_54b6_11e9_b063_fa163e87fcdbrow0_col9 {\n",
       "            background-color:  #a8edb7;\n",
       "            color:  #000000;\n",
       "        }    #T_71d43304_54b6_11e9_b063_fa163e87fcdbrow0_col10 {\n",
       "            background-color:  #f3b8ba;\n",
       "            color:  #000000;\n",
       "        }    #T_71d43304_54b6_11e9_b063_fa163e87fcdbrow0_col11 {\n",
       "            background-color:  #bdf1c8;\n",
       "            color:  #000000;\n",
       "        }    #T_71d43304_54b6_11e9_b063_fa163e87fcdbrow0_col12 {\n",
       "            background-color:  #64de7e;\n",
       "            color:  #000000;\n",
       "        }    #T_71d43304_54b6_11e9_b063_fa163e87fcdbrow0_col13 {\n",
       "            background-color:  #cdf5d6;\n",
       "            color:  #000000;\n",
       "        }    #T_71d43304_54b6_11e9_b063_fa163e87fcdbrow0_col14 {\n",
       "            background-color:  #f3babc;\n",
       "            color:  #000000;\n",
       "        }    #T_71d43304_54b6_11e9_b063_fa163e87fcdbrow0_col15 {\n",
       "            background-color:  #f9ddde;\n",
       "            color:  #000000;\n",
       "        }    #T_71d43304_54b6_11e9_b063_fa163e87fcdbrow0_col16 {\n",
       "            background-color:  #74e28b;\n",
       "            color:  #000000;\n",
       "        }    #T_71d43304_54b6_11e9_b063_fa163e87fcdbrow0_col17 {\n",
       "            background-color:  #f3b8ba;\n",
       "            color:  #000000;\n",
       "        }    #T_71d43304_54b6_11e9_b063_fa163e87fcdbrow0_col18 {\n",
       "            background-color:  #e1f9e6;\n",
       "            color:  #000000;\n",
       "        }    #T_71d43304_54b6_11e9_b063_fa163e87fcdbrow0_col19 {\n",
       "            background-color:  #d5f6dc;\n",
       "            color:  #000000;\n",
       "        }    #T_71d43304_54b6_11e9_b063_fa163e87fcdbrow1_col0 {\n",
       "            background-color:  #f9dadb;\n",
       "            color:  #000000;\n",
       "        }    #T_71d43304_54b6_11e9_b063_fa163e87fcdbrow1_col1 {\n",
       "            background-color:  #f3b8ba;\n",
       "            color:  #000000;\n",
       "        }    #T_71d43304_54b6_11e9_b063_fa163e87fcdbrow1_col2 {\n",
       "            background-color:  #64de7e;\n",
       "            color:  #000000;\n",
       "        }    #T_71d43304_54b6_11e9_b063_fa163e87fcdbrow1_col3 {\n",
       "            background-color:  #f3b8ba;\n",
       "            color:  #000000;\n",
       "        }    #T_71d43304_54b6_11e9_b063_fa163e87fcdbrow1_col4 {\n",
       "            background-color:  #f3b8ba;\n",
       "            color:  #000000;\n",
       "        }    #T_71d43304_54b6_11e9_b063_fa163e87fcdbrow1_col5 {\n",
       "            background-color:  #f3b8ba;\n",
       "            color:  #000000;\n",
       "        }    #T_71d43304_54b6_11e9_b063_fa163e87fcdbrow1_col6 {\n",
       "            background-color:  #fbe9ea;\n",
       "            color:  #000000;\n",
       "        }    #T_71d43304_54b6_11e9_b063_fa163e87fcdbrow1_col7 {\n",
       "            background-color:  #f3b8ba;\n",
       "            color:  #000000;\n",
       "        }    #T_71d43304_54b6_11e9_b063_fa163e87fcdbrow1_col8 {\n",
       "            background-color:  #f4c2c4;\n",
       "            color:  #000000;\n",
       "        }    #T_71d43304_54b6_11e9_b063_fa163e87fcdbrow1_col9 {\n",
       "            background-color:  #64de7e;\n",
       "            color:  #000000;\n",
       "        }    #T_71d43304_54b6_11e9_b063_fa163e87fcdbrow1_col10 {\n",
       "            background-color:  #fae3e4;\n",
       "            color:  #000000;\n",
       "        }    #T_71d43304_54b6_11e9_b063_fa163e87fcdbrow1_col11 {\n",
       "            background-color:  #64de7e;\n",
       "            color:  #000000;\n",
       "        }    #T_71d43304_54b6_11e9_b063_fa163e87fcdbrow1_col12 {\n",
       "            background-color:  #f2f2f2;\n",
       "            color:  #000000;\n",
       "        }    #T_71d43304_54b6_11e9_b063_fa163e87fcdbrow1_col13 {\n",
       "            background-color:  #64de7e;\n",
       "            color:  #000000;\n",
       "        }    #T_71d43304_54b6_11e9_b063_fa163e87fcdbrow1_col14 {\n",
       "            background-color:  #f3b8ba;\n",
       "            color:  #000000;\n",
       "        }    #T_71d43304_54b6_11e9_b063_fa163e87fcdbrow1_col15 {\n",
       "            background-color:  #64de7e;\n",
       "            color:  #000000;\n",
       "        }    #T_71d43304_54b6_11e9_b063_fa163e87fcdbrow1_col16 {\n",
       "            background-color:  #f3b8ba;\n",
       "            color:  #000000;\n",
       "        }    #T_71d43304_54b6_11e9_b063_fa163e87fcdbrow1_col17 {\n",
       "            background-color:  #f3bbbd;\n",
       "            color:  #000000;\n",
       "        }    #T_71d43304_54b6_11e9_b063_fa163e87fcdbrow1_col18 {\n",
       "            background-color:  #64de7e;\n",
       "            color:  #000000;\n",
       "        }    #T_71d43304_54b6_11e9_b063_fa163e87fcdbrow1_col19 {\n",
       "            background-color:  #f5c4c5;\n",
       "            color:  #000000;\n",
       "        }    #T_71d43304_54b6_11e9_b063_fa163e87fcdbrow2_col0 {\n",
       "            background-color:  #64de7e;\n",
       "            color:  #000000;\n",
       "        }    #T_71d43304_54b6_11e9_b063_fa163e87fcdbrow2_col1 {\n",
       "            background-color:  #66df7f;\n",
       "            color:  #000000;\n",
       "        }    #T_71d43304_54b6_11e9_b063_fa163e87fcdbrow2_col2 {\n",
       "            background-color:  #a7edb6;\n",
       "            color:  #000000;\n",
       "        }    #T_71d43304_54b6_11e9_b063_fa163e87fcdbrow2_col3 {\n",
       "            background-color:  #64de7e;\n",
       "            color:  #000000;\n",
       "        }    #T_71d43304_54b6_11e9_b063_fa163e87fcdbrow2_col4 {\n",
       "            background-color:  #64de7e;\n",
       "            color:  #000000;\n",
       "        }    #T_71d43304_54b6_11e9_b063_fa163e87fcdbrow2_col5 {\n",
       "            background-color:  #64de7e;\n",
       "            color:  #000000;\n",
       "        }    #T_71d43304_54b6_11e9_b063_fa163e87fcdbrow2_col6 {\n",
       "            background-color:  #f3b8ba;\n",
       "            color:  #000000;\n",
       "        }    #T_71d43304_54b6_11e9_b063_fa163e87fcdbrow2_col7 {\n",
       "            background-color:  #71e189;\n",
       "            color:  #000000;\n",
       "        }    #T_71d43304_54b6_11e9_b063_fa163e87fcdbrow2_col8 {\n",
       "            background-color:  #f3b8ba;\n",
       "            color:  #000000;\n",
       "        }    #T_71d43304_54b6_11e9_b063_fa163e87fcdbrow2_col9 {\n",
       "            background-color:  #f3b8ba;\n",
       "            color:  #000000;\n",
       "        }    #T_71d43304_54b6_11e9_b063_fa163e87fcdbrow2_col10 {\n",
       "            background-color:  #cbf4d4;\n",
       "            color:  #000000;\n",
       "        }    #T_71d43304_54b6_11e9_b063_fa163e87fcdbrow2_col11 {\n",
       "            background-color:  #f4bdbf;\n",
       "            color:  #000000;\n",
       "        }    #T_71d43304_54b6_11e9_b063_fa163e87fcdbrow2_col12 {\n",
       "            background-color:  #f7d4d5;\n",
       "            color:  #000000;\n",
       "        }    #T_71d43304_54b6_11e9_b063_fa163e87fcdbrow2_col13 {\n",
       "            background-color:  #b8f0c4;\n",
       "            color:  #000000;\n",
       "        }    #T_71d43304_54b6_11e9_b063_fa163e87fcdbrow2_col14 {\n",
       "            background-color:  #64de7e;\n",
       "            color:  #000000;\n",
       "        }    #T_71d43304_54b6_11e9_b063_fa163e87fcdbrow2_col15 {\n",
       "            background-color:  #f3b8ba;\n",
       "            color:  #000000;\n",
       "        }    #T_71d43304_54b6_11e9_b063_fa163e87fcdbrow2_col16 {\n",
       "            background-color:  #64de7e;\n",
       "            color:  #000000;\n",
       "        }    #T_71d43304_54b6_11e9_b063_fa163e87fcdbrow2_col17 {\n",
       "            background-color:  #e0f9e6;\n",
       "            color:  #000000;\n",
       "        }    #T_71d43304_54b6_11e9_b063_fa163e87fcdbrow2_col18 {\n",
       "            background-color:  #f3b8ba;\n",
       "            color:  #000000;\n",
       "        }    #T_71d43304_54b6_11e9_b063_fa163e87fcdbrow2_col19 {\n",
       "            background-color:  #64de7e;\n",
       "            color:  #000000;\n",
       "        }    #T_71d43304_54b6_11e9_b063_fa163e87fcdbrow3_col0 {\n",
       "            background-color:  #f3b8ba;\n",
       "            color:  #000000;\n",
       "        }    #T_71d43304_54b6_11e9_b063_fa163e87fcdbrow3_col1 {\n",
       "            background-color:  #fbe5e6;\n",
       "            color:  #000000;\n",
       "        }    #T_71d43304_54b6_11e9_b063_fa163e87fcdbrow3_col2 {\n",
       "            background-color:  #f3b8ba;\n",
       "            color:  #000000;\n",
       "        }    #T_71d43304_54b6_11e9_b063_fa163e87fcdbrow3_col3 {\n",
       "            background-color:  #fbe9ea;\n",
       "            color:  #000000;\n",
       "        }    #T_71d43304_54b6_11e9_b063_fa163e87fcdbrow3_col4 {\n",
       "            background-color:  #c7f3d0;\n",
       "            color:  #000000;\n",
       "        }    #T_71d43304_54b6_11e9_b063_fa163e87fcdbrow3_col5 {\n",
       "            background-color:  #64de7e;\n",
       "            color:  #000000;\n",
       "        }    #T_71d43304_54b6_11e9_b063_fa163e87fcdbrow3_col6 {\n",
       "            background-color:  #64de7e;\n",
       "            color:  #000000;\n",
       "        }    #T_71d43304_54b6_11e9_b063_fa163e87fcdbrow3_col7 {\n",
       "            background-color:  #64de7e;\n",
       "            color:  #000000;\n",
       "        }    #T_71d43304_54b6_11e9_b063_fa163e87fcdbrow3_col8 {\n",
       "            background-color:  #a2ecb2;\n",
       "            color:  #000000;\n",
       "        }    #T_71d43304_54b6_11e9_b063_fa163e87fcdbrow3_col9 {\n",
       "            background-color:  #fae0e1;\n",
       "            color:  #000000;\n",
       "        }    #T_71d43304_54b6_11e9_b063_fa163e87fcdbrow3_col10 {\n",
       "            background-color:  #64de7e;\n",
       "            color:  #000000;\n",
       "        }    #T_71d43304_54b6_11e9_b063_fa163e87fcdbrow3_col11 {\n",
       "            background-color:  #f3b8ba;\n",
       "            color:  #000000;\n",
       "        }    #T_71d43304_54b6_11e9_b063_fa163e87fcdbrow3_col12 {\n",
       "            background-color:  #f3b8ba;\n",
       "            color:  #000000;\n",
       "        }    #T_71d43304_54b6_11e9_b063_fa163e87fcdbrow3_col13 {\n",
       "            background-color:  #f3b8ba;\n",
       "            color:  #000000;\n",
       "        }    #T_71d43304_54b6_11e9_b063_fa163e87fcdbrow3_col14 {\n",
       "            background-color:  #f5c6c8;\n",
       "            color:  #000000;\n",
       "        }    #T_71d43304_54b6_11e9_b063_fa163e87fcdbrow3_col15 {\n",
       "            background-color:  #76e28d;\n",
       "            color:  #000000;\n",
       "        }    #T_71d43304_54b6_11e9_b063_fa163e87fcdbrow3_col16 {\n",
       "            background-color:  #f6c9ca;\n",
       "            color:  #000000;\n",
       "        }    #T_71d43304_54b6_11e9_b063_fa163e87fcdbrow3_col17 {\n",
       "            background-color:  #64de7e;\n",
       "            color:  #000000;\n",
       "        }    #T_71d43304_54b6_11e9_b063_fa163e87fcdbrow3_col18 {\n",
       "            background-color:  #f6cccd;\n",
       "            color:  #000000;\n",
       "        }    #T_71d43304_54b6_11e9_b063_fa163e87fcdbrow3_col19 {\n",
       "            background-color:  #f3b8ba;\n",
       "            color:  #000000;\n",
       "        }</style><table id=\"T_71d43304_54b6_11e9_b063_fa163e87fcdb\" ><thead>    <tr>        <th class=\"blank level0\" ></th>        <th class=\"col_heading level0 col0\" >0</th>        <th class=\"col_heading level0 col1\" >1</th>        <th class=\"col_heading level0 col2\" >2</th>        <th class=\"col_heading level0 col3\" >3</th>        <th class=\"col_heading level0 col4\" >4</th>        <th class=\"col_heading level0 col5\" >5</th>        <th class=\"col_heading level0 col6\" >6</th>        <th class=\"col_heading level0 col7\" >7</th>        <th class=\"col_heading level0 col8\" >8</th>        <th class=\"col_heading level0 col9\" >9</th>        <th class=\"col_heading level0 col10\" >10</th>        <th class=\"col_heading level0 col11\" >11</th>        <th class=\"col_heading level0 col12\" >12</th>        <th class=\"col_heading level0 col13\" >13</th>        <th class=\"col_heading level0 col14\" >14</th>        <th class=\"col_heading level0 col15\" >15</th>        <th class=\"col_heading level0 col16\" >16</th>        <th class=\"col_heading level0 col17\" >17</th>        <th class=\"col_heading level0 col18\" >18</th>        <th class=\"col_heading level0 col19\" >19</th>    </tr></thead><tbody>\n",
       "                <tr>\n",
       "                        <th id=\"T_71d43304_54b6_11e9_b063_fa163e87fcdblevel0_row0\" class=\"row_heading level0 row0\" >wv[\"dog\"]</th>\n",
       "                        <td id=\"T_71d43304_54b6_11e9_b063_fa163e87fcdbrow0_col0\" class=\"data row0 col0\" >0.0512695</td>\n",
       "                        <td id=\"T_71d43304_54b6_11e9_b063_fa163e87fcdbrow0_col1\" class=\"data row0 col1\" >-0.0223389</td>\n",
       "                        <td id=\"T_71d43304_54b6_11e9_b063_fa163e87fcdbrow0_col2\" class=\"data row0 col2\" >-0.172852</td>\n",
       "                        <td id=\"T_71d43304_54b6_11e9_b063_fa163e87fcdbrow0_col3\" class=\"data row0 col3\" >0.161133</td>\n",
       "                        <td id=\"T_71d43304_54b6_11e9_b063_fa163e87fcdbrow0_col4\" class=\"data row0 col4\" >-0.0844727</td>\n",
       "                        <td id=\"T_71d43304_54b6_11e9_b063_fa163e87fcdbrow0_col5\" class=\"data row0 col5\" >0.057373</td>\n",
       "                        <td id=\"T_71d43304_54b6_11e9_b063_fa163e87fcdbrow0_col6\" class=\"data row0 col6\" >0.0585938</td>\n",
       "                        <td id=\"T_71d43304_54b6_11e9_b063_fa163e87fcdbrow0_col7\" class=\"data row0 col7\" >-0.0825195</td>\n",
       "                        <td id=\"T_71d43304_54b6_11e9_b063_fa163e87fcdbrow0_col8\" class=\"data row0 col8\" >-0.0153809</td>\n",
       "                        <td id=\"T_71d43304_54b6_11e9_b063_fa163e87fcdbrow0_col9\" class=\"data row0 col9\" >-0.0634766</td>\n",
       "                        <td id=\"T_71d43304_54b6_11e9_b063_fa163e87fcdbrow0_col10\" class=\"data row0 col10\" >0.179688</td>\n",
       "                        <td id=\"T_71d43304_54b6_11e9_b063_fa163e87fcdbrow0_col11\" class=\"data row0 col11\" >-0.423828</td>\n",
       "                        <td id=\"T_71d43304_54b6_11e9_b063_fa163e87fcdbrow0_col12\" class=\"data row0 col12\" >-0.022583</td>\n",
       "                        <td id=\"T_71d43304_54b6_11e9_b063_fa163e87fcdbrow0_col13\" class=\"data row0 col13\" >-0.166016</td>\n",
       "                        <td id=\"T_71d43304_54b6_11e9_b063_fa163e87fcdbrow0_col14\" class=\"data row0 col14\" >-0.0251465</td>\n",
       "                        <td id=\"T_71d43304_54b6_11e9_b063_fa163e87fcdbrow0_col15\" class=\"data row0 col15\" >0.107422</td>\n",
       "                        <td id=\"T_71d43304_54b6_11e9_b063_fa163e87fcdbrow0_col16\" class=\"data row0 col16\" >-0.199219</td>\n",
       "                        <td id=\"T_71d43304_54b6_11e9_b063_fa163e87fcdbrow0_col17\" class=\"data row0 col17\" >0.15918</td>\n",
       "                        <td id=\"T_71d43304_54b6_11e9_b063_fa163e87fcdbrow0_col18\" class=\"data row0 col18\" >-0.1875</td>\n",
       "                        <td id=\"T_71d43304_54b6_11e9_b063_fa163e87fcdbrow0_col19\" class=\"data row0 col19\" >-0.120117</td>\n",
       "            </tr>\n",
       "            <tr>\n",
       "                        <th id=\"T_71d43304_54b6_11e9_b063_fa163e87fcdblevel0_row1\" class=\"row_heading level0 row1\" >wv[\"cat\"]</th>\n",
       "                        <td id=\"T_71d43304_54b6_11e9_b063_fa163e87fcdbrow1_col0\" class=\"data row1 col0\" >0.0123291</td>\n",
       "                        <td id=\"T_71d43304_54b6_11e9_b063_fa163e87fcdbrow1_col1\" class=\"data row1 col1\" >0.204102</td>\n",
       "                        <td id=\"T_71d43304_54b6_11e9_b063_fa163e87fcdbrow1_col2\" class=\"data row1 col2\" >-0.285156</td>\n",
       "                        <td id=\"T_71d43304_54b6_11e9_b063_fa163e87fcdbrow1_col3\" class=\"data row1 col3\" >0.216797</td>\n",
       "                        <td id=\"T_71d43304_54b6_11e9_b063_fa163e87fcdbrow1_col4\" class=\"data row1 col4\" >0.118164</td>\n",
       "                        <td id=\"T_71d43304_54b6_11e9_b063_fa163e87fcdbrow1_col5\" class=\"data row1 col5\" >0.0830078</td>\n",
       "                        <td id=\"T_71d43304_54b6_11e9_b063_fa163e87fcdbrow1_col6\" class=\"data row1 col6\" >0.0498047</td>\n",
       "                        <td id=\"T_71d43304_54b6_11e9_b063_fa163e87fcdbrow1_col7\" class=\"data row1 col7\" >-0.00952148</td>\n",
       "                        <td id=\"T_71d43304_54b6_11e9_b063_fa163e87fcdbrow1_col8\" class=\"data row1 col8\" >0.220703</td>\n",
       "                        <td id=\"T_71d43304_54b6_11e9_b063_fa163e87fcdbrow1_col9\" class=\"data row1 col9\" >-0.125977</td>\n",
       "                        <td id=\"T_71d43304_54b6_11e9_b063_fa163e87fcdbrow1_col10\" class=\"data row1 col10\" >0.0805664</td>\n",
       "                        <td id=\"T_71d43304_54b6_11e9_b063_fa163e87fcdbrow1_col11\" class=\"data row1 col11\" >-0.585938</td>\n",
       "                        <td id=\"T_71d43304_54b6_11e9_b063_fa163e87fcdbrow1_col12\" class=\"data row1 col12\" >-0.00445557</td>\n",
       "                        <td id=\"T_71d43304_54b6_11e9_b063_fa163e87fcdbrow1_col13\" class=\"data row1 col13\" >-0.296875</td>\n",
       "                        <td id=\"T_71d43304_54b6_11e9_b063_fa163e87fcdbrow1_col14\" class=\"data row1 col14\" >-0.0131226</td>\n",
       "                        <td id=\"T_71d43304_54b6_11e9_b063_fa163e87fcdbrow1_col15\" class=\"data row1 col15\" >-0.0834961</td>\n",
       "                        <td id=\"T_71d43304_54b6_11e9_b063_fa163e87fcdbrow1_col16\" class=\"data row1 col16\" >0.0505371</td>\n",
       "                        <td id=\"T_71d43304_54b6_11e9_b063_fa163e87fcdbrow1_col17\" class=\"data row1 col17\" >0.151367</td>\n",
       "                        <td id=\"T_71d43304_54b6_11e9_b063_fa163e87fcdbrow1_col18\" class=\"data row1 col18\" >-0.449219</td>\n",
       "                        <td id=\"T_71d43304_54b6_11e9_b063_fa163e87fcdbrow1_col19\" class=\"data row1 col19\" >-0.0135498</td>\n",
       "            </tr>\n",
       "            <tr>\n",
       "                        <th id=\"T_71d43304_54b6_11e9_b063_fa163e87fcdblevel0_row2\" class=\"row_heading level0 row2\" >wv[\"hat\"]</th>\n",
       "                        <td id=\"T_71d43304_54b6_11e9_b063_fa163e87fcdbrow2_col0\" class=\"data row2 col0\" >-0.124512</td>\n",
       "                        <td id=\"T_71d43304_54b6_11e9_b063_fa163e87fcdbrow2_col1\" class=\"data row2 col1\" >-0.0201416</td>\n",
       "                        <td id=\"T_71d43304_54b6_11e9_b063_fa163e87fcdbrow2_col2\" class=\"data row2 col2\" >-0.204102</td>\n",
       "                        <td id=\"T_71d43304_54b6_11e9_b063_fa163e87fcdbrow2_col3\" class=\"data row2 col3\" >-0.125</td>\n",
       "                        <td id=\"T_71d43304_54b6_11e9_b063_fa163e87fcdbrow2_col4\" class=\"data row2 col4\" >-0.168945</td>\n",
       "                        <td id=\"T_71d43304_54b6_11e9_b063_fa163e87fcdbrow2_col5\" class=\"data row2 col5\" >-0.120117</td>\n",
       "                        <td id=\"T_71d43304_54b6_11e9_b063_fa163e87fcdbrow2_col6\" class=\"data row2 col6\" >0.0629883</td>\n",
       "                        <td id=\"T_71d43304_54b6_11e9_b063_fa163e87fcdbrow2_col7\" class=\"data row2 col7\" >-0.113281</td>\n",
       "                        <td id=\"T_71d43304_54b6_11e9_b063_fa163e87fcdbrow2_col8\" class=\"data row2 col8\" >0.24707</td>\n",
       "                        <td id=\"T_71d43304_54b6_11e9_b063_fa163e87fcdbrow2_col9\" class=\"data row2 col9\" >0.130859</td>\n",
       "                        <td id=\"T_71d43304_54b6_11e9_b063_fa163e87fcdbrow2_col10\" class=\"data row2 col10\" >0.0300293</td>\n",
       "                        <td id=\"T_71d43304_54b6_11e9_b063_fa163e87fcdbrow2_col11\" class=\"data row2 col11\" >-0.104004</td>\n",
       "                        <td id=\"T_71d43304_54b6_11e9_b063_fa163e87fcdbrow2_col12\" class=\"data row2 col12\" >0.00320435</td>\n",
       "                        <td id=\"T_71d43304_54b6_11e9_b063_fa163e87fcdbrow2_col13\" class=\"data row2 col13\" >-0.191406</td>\n",
       "                        <td id=\"T_71d43304_54b6_11e9_b063_fa163e87fcdbrow2_col14\" class=\"data row2 col14\" >-0.523438</td>\n",
       "                        <td id=\"T_71d43304_54b6_11e9_b063_fa163e87fcdbrow2_col15\" class=\"data row2 col15\" >0.21582</td>\n",
       "                        <td id=\"T_71d43304_54b6_11e9_b063_fa163e87fcdbrow2_col16\" class=\"data row2 col16\" >-0.214844</td>\n",
       "                        <td id=\"T_71d43304_54b6_11e9_b063_fa163e87fcdbrow2_col17\" class=\"data row2 col17\" >0.0463867</td>\n",
       "                        <td id=\"T_71d43304_54b6_11e9_b063_fa163e87fcdbrow2_col18\" class=\"data row2 col18\" >0.136719</td>\n",
       "                        <td id=\"T_71d43304_54b6_11e9_b063_fa163e87fcdbrow2_col19\" class=\"data row2 col19\" >-0.209961</td>\n",
       "            </tr>\n",
       "            <tr>\n",
       "                        <th id=\"T_71d43304_54b6_11e9_b063_fa163e87fcdblevel0_row3\" class=\"row_heading level0 row3\" >wv[\"the\"]</th>\n",
       "                        <td id=\"T_71d43304_54b6_11e9_b063_fa163e87fcdbrow3_col0\" class=\"data row3 col0\" >0.0800781</td>\n",
       "                        <td id=\"T_71d43304_54b6_11e9_b063_fa163e87fcdbrow3_col1\" class=\"data row3 col1\" >0.10498</td>\n",
       "                        <td id=\"T_71d43304_54b6_11e9_b063_fa163e87fcdbrow3_col2\" class=\"data row3 col2\" >0.0498047</td>\n",
       "                        <td id=\"T_71d43304_54b6_11e9_b063_fa163e87fcdbrow3_col3\" class=\"data row3 col3\" >0.0534668</td>\n",
       "                        <td id=\"T_71d43304_54b6_11e9_b063_fa163e87fcdbrow3_col4\" class=\"data row3 col4\" >-0.0673828</td>\n",
       "                        <td id=\"T_71d43304_54b6_11e9_b063_fa163e87fcdbrow3_col5\" class=\"data row3 col5\" >-0.120605</td>\n",
       "                        <td id=\"T_71d43304_54b6_11e9_b063_fa163e87fcdbrow3_col6\" class=\"data row3 col6\" >0.0351562</td>\n",
       "                        <td id=\"T_71d43304_54b6_11e9_b063_fa163e87fcdbrow3_col7\" class=\"data row3 col7\" >-0.118652</td>\n",
       "                        <td id=\"T_71d43304_54b6_11e9_b063_fa163e87fcdbrow3_col8\" class=\"data row3 col8\" >0.0439453</td>\n",
       "                        <td id=\"T_71d43304_54b6_11e9_b063_fa163e87fcdbrow3_col9\" class=\"data row3 col9\" >0.0301514</td>\n",
       "                        <td id=\"T_71d43304_54b6_11e9_b063_fa163e87fcdbrow3_col10\" class=\"data row3 col10\" >-0.0568848</td>\n",
       "                        <td id=\"T_71d43304_54b6_11e9_b063_fa163e87fcdbrow3_col11\" class=\"data row3 col11\" >-0.0761719</td>\n",
       "                        <td id=\"T_71d43304_54b6_11e9_b063_fa163e87fcdbrow3_col12\" class=\"data row3 col12\" >0.0128784</td>\n",
       "                        <td id=\"T_71d43304_54b6_11e9_b063_fa163e87fcdbrow3_col13\" class=\"data row3 col13\" >0.0498047</td>\n",
       "                        <td id=\"T_71d43304_54b6_11e9_b063_fa163e87fcdbrow3_col14\" class=\"data row3 col14\" >-0.0849609</td>\n",
       "                        <td id=\"T_71d43304_54b6_11e9_b063_fa163e87fcdbrow3_col15\" class=\"data row3 col15\" >-0.0634766</td>\n",
       "                        <td id=\"T_71d43304_54b6_11e9_b063_fa163e87fcdbrow3_col16\" class=\"data row3 col16\" >0.00628662</td>\n",
       "                        <td id=\"T_71d43304_54b6_11e9_b063_fa163e87fcdbrow3_col17\" class=\"data row3 col17\" >-0.0432129</td>\n",
       "                        <td id=\"T_71d43304_54b6_11e9_b063_fa163e87fcdbrow3_col18\" class=\"data row3 col18\" >0.0202637</td>\n",
       "                        <td id=\"T_71d43304_54b6_11e9_b063_fa163e87fcdbrow3_col19\" class=\"data row3 col19\" >0.0133057</td>\n",
       "            </tr>\n",
       "    </tbody></table>"
      ],
      "text/plain": [
       "<pandas.io.formats.style.Styler at 0x7f217f4916a0>"
      ]
     },
     "execution_count": 8,
     "metadata": {},
     "output_type": "execute_result"
    }
   ],
   "source": [
    "import seaborn as sns    # for colors\n",
    "\n",
    "\n",
    "def heatmap(*args, **kwargs):    # this is just visualization\n",
    "    cm = sns.diverging_palette(133, 10, l=80, as_cmap=True)\n",
    "    df = DataFrame(*args, **kwargs)\n",
    "    return df.style.background_gradient(cmap=cm)\n",
    "\n",
    "\n",
    "words = ['dog', 'cat', 'hat', 'the']\n",
    "\n",
    "heatmap([en_wv[w][:20] for w in words], index=['wv[\"{}\"]'.format(w) for w in words])"
   ]
  },
  {
   "cell_type": "markdown",
   "metadata": {},
   "source": [
    "... maybe the similarities make more sense?"
   ]
  },
  {
   "cell_type": "code",
   "execution_count": 9,
   "metadata": {},
   "outputs": [
    {
     "name": "stdout",
     "output_type": "stream",
     "text": [
      "sim(dog,cat) = 0.76\n",
      "sim(dog,hat) = 0.20\n",
      "sim(dog,the) = 0.06\n"
     ]
    }
   ],
   "source": [
    "for a, b in [['dog', 'cat'], ['dog', 'hat'], ['dog', 'the']]:\n",
    "    print('sim({},{}) = {:.2f}'.format(a, b, cos(en_wv[a], en_wv[b])))"
   ]
  },
  {
   "cell_type": "markdown",
   "metadata": {},
   "source": [
    "Nice! Can we do that in Finnish?\n",
    "\n",
    "We'll use vectors created similarly on [http://bionlp.utu.fi/finnish-internet-parsebank.html](Finnish Internet Parsebank) texts."
   ]
  },
  {
   "cell_type": "code",
   "execution_count": 10,
   "metadata": {},
   "outputs": [
    {
     "name": "stdout",
     "output_type": "stream",
     "text": [
      "sim(koira,kissa) = 0.85\n",
      "sim(koira,hattu) = 0.31\n",
      "sim(koira,yksi) = 0.08\n"
     ]
    }
   ],
   "source": [
    "# This is where the word vectors are found on the server\n",
    "FI_WV_PATH = \"/course_data/textmine/wordvecs/pb34_wf_200_v2.bin\"\n",
    "\n",
    "\n",
    "fi_wv = KeyedVectors.load_word2vec_format(FI_WV_PATH, binary=True, limit=100000)\n",
    "\n",
    "for a, b in [['koira', 'kissa'], ['koira', 'hattu'], ['koira', 'yksi']]:\n",
    "    print('sim({},{}) = {:.2f}'.format(a, b, cos(fi_wv[a], fi_wv[b])))"
   ]
  },
  {
   "cell_type": "markdown",
   "metadata": {},
   "source": [
    "### Neighbours in vector space\n",
    "\n",
    "Looking for vectors most similar to a given input can find synonyms and closely related words:"
   ]
  },
  {
   "cell_type": "code",
   "execution_count": 11,
   "metadata": {},
   "outputs": [
    {
     "data": {
      "text/html": [
       "<style  type=\"text/css\" >\n",
       "</style><table id=\"T_71d43305_54b6_11e9_b063_fa163e87fcdb\" ><thead>    <tr>        <th class=\"col_heading level0 col0\" >word</th>        <th class=\"col_heading level0 col1\" >similarity</th>    </tr></thead><tbody>\n",
       "                <tr>\n",
       "                                <td id=\"T_71d43305_54b6_11e9_b063_fa163e87fcdbrow0_col0\" class=\"data row0 col0\" >dogs</td>\n",
       "                        <td id=\"T_71d43305_54b6_11e9_b063_fa163e87fcdbrow0_col1\" class=\"data row0 col1\" >0.868049</td>\n",
       "            </tr>\n",
       "            <tr>\n",
       "                                <td id=\"T_71d43305_54b6_11e9_b063_fa163e87fcdbrow1_col0\" class=\"data row1 col0\" >puppy</td>\n",
       "                        <td id=\"T_71d43305_54b6_11e9_b063_fa163e87fcdbrow1_col1\" class=\"data row1 col1\" >0.810643</td>\n",
       "            </tr>\n",
       "            <tr>\n",
       "                                <td id=\"T_71d43305_54b6_11e9_b063_fa163e87fcdbrow2_col0\" class=\"data row2 col0\" >pit_bull</td>\n",
       "                        <td id=\"T_71d43305_54b6_11e9_b063_fa163e87fcdbrow2_col1\" class=\"data row2 col1\" >0.780396</td>\n",
       "            </tr>\n",
       "            <tr>\n",
       "                                <td id=\"T_71d43305_54b6_11e9_b063_fa163e87fcdbrow3_col0\" class=\"data row3 col0\" >pooch</td>\n",
       "                        <td id=\"T_71d43305_54b6_11e9_b063_fa163e87fcdbrow3_col1\" class=\"data row3 col1\" >0.762738</td>\n",
       "            </tr>\n",
       "            <tr>\n",
       "                                <td id=\"T_71d43305_54b6_11e9_b063_fa163e87fcdbrow4_col0\" class=\"data row4 col0\" >cat</td>\n",
       "                        <td id=\"T_71d43305_54b6_11e9_b063_fa163e87fcdbrow4_col1\" class=\"data row4 col1\" >0.760946</td>\n",
       "            </tr>\n",
       "            <tr>\n",
       "                                <td id=\"T_71d43305_54b6_11e9_b063_fa163e87fcdbrow5_col0\" class=\"data row5 col0\" >golden_retriever</td>\n",
       "                        <td id=\"T_71d43305_54b6_11e9_b063_fa163e87fcdbrow5_col1\" class=\"data row5 col1\" >0.75009</td>\n",
       "            </tr>\n",
       "            <tr>\n",
       "                                <td id=\"T_71d43305_54b6_11e9_b063_fa163e87fcdbrow6_col0\" class=\"data row6 col0\" >German_shepherd</td>\n",
       "                        <td id=\"T_71d43305_54b6_11e9_b063_fa163e87fcdbrow6_col1\" class=\"data row6 col1\" >0.746517</td>\n",
       "            </tr>\n",
       "            <tr>\n",
       "                                <td id=\"T_71d43305_54b6_11e9_b063_fa163e87fcdbrow7_col0\" class=\"data row7 col0\" >Rottweiler</td>\n",
       "                        <td id=\"T_71d43305_54b6_11e9_b063_fa163e87fcdbrow7_col1\" class=\"data row7 col1\" >0.743761</td>\n",
       "            </tr>\n",
       "            <tr>\n",
       "                                <td id=\"T_71d43305_54b6_11e9_b063_fa163e87fcdbrow8_col0\" class=\"data row8 col0\" >beagle</td>\n",
       "                        <td id=\"T_71d43305_54b6_11e9_b063_fa163e87fcdbrow8_col1\" class=\"data row8 col1\" >0.741862</td>\n",
       "            </tr>\n",
       "            <tr>\n",
       "                                <td id=\"T_71d43305_54b6_11e9_b063_fa163e87fcdbrow9_col0\" class=\"data row9 col0\" >pup</td>\n",
       "                        <td id=\"T_71d43305_54b6_11e9_b063_fa163e87fcdbrow9_col1\" class=\"data row9 col1\" >0.740691</td>\n",
       "            </tr>\n",
       "    </tbody></table>"
      ],
      "text/plain": [
       "<pandas.io.formats.style.Styler at 0x7f217bbeb470>"
      ]
     },
     "execution_count": 11,
     "metadata": {},
     "output_type": "execute_result"
    }
   ],
   "source": [
    "def show_similar(wv, word):    # visualization\n",
    "    return DataFrame(wv.most_similar(word), columns=['word', 'similarity']).style.hide_index()\n",
    "\n",
    "\n",
    "show_similar(en_wv, 'dog')"
   ]
  },
  {
   "cell_type": "code",
   "execution_count": 12,
   "metadata": {},
   "outputs": [
    {
     "data": {
      "text/html": [
       "<style  type=\"text/css\" >\n",
       "</style><table id=\"T_71d43306_54b6_11e9_b063_fa163e87fcdb\" ><thead>    <tr>        <th class=\"col_heading level0 col0\" >word</th>        <th class=\"col_heading level0 col1\" >similarity</th>    </tr></thead><tbody>\n",
       "                <tr>\n",
       "                                <td id=\"T_71d43306_54b6_11e9_b063_fa163e87fcdbrow0_col0\" class=\"data row0 col0\" >pentu</td>\n",
       "                        <td id=\"T_71d43306_54b6_11e9_b063_fa163e87fcdbrow0_col1\" class=\"data row0 col1\" >0.894558</td>\n",
       "            </tr>\n",
       "            <tr>\n",
       "                                <td id=\"T_71d43306_54b6_11e9_b063_fa163e87fcdbrow1_col0\" class=\"data row1 col0\" >koirakin</td>\n",
       "                        <td id=\"T_71d43306_54b6_11e9_b063_fa163e87fcdbrow1_col1\" class=\"data row1 col1\" >0.860871</td>\n",
       "            </tr>\n",
       "            <tr>\n",
       "                                <td id=\"T_71d43306_54b6_11e9_b063_fa163e87fcdbrow2_col0\" class=\"data row2 col0\" >kissa</td>\n",
       "                        <td id=\"T_71d43306_54b6_11e9_b063_fa163e87fcdbrow2_col1\" class=\"data row2 col1\" >0.845947</td>\n",
       "            </tr>\n",
       "            <tr>\n",
       "                                <td id=\"T_71d43306_54b6_11e9_b063_fa163e87fcdbrow3_col0\" class=\"data row3 col0\" >koiruus</td>\n",
       "                        <td id=\"T_71d43306_54b6_11e9_b063_fa163e87fcdbrow3_col1\" class=\"data row3 col1\" >0.839777</td>\n",
       "            </tr>\n",
       "            <tr>\n",
       "                                <td id=\"T_71d43306_54b6_11e9_b063_fa163e87fcdbrow4_col0\" class=\"data row4 col0\" >hevonen</td>\n",
       "                        <td id=\"T_71d43306_54b6_11e9_b063_fa163e87fcdbrow4_col1\" class=\"data row4 col1\" >0.836254</td>\n",
       "            </tr>\n",
       "            <tr>\n",
       "                                <td id=\"T_71d43306_54b6_11e9_b063_fa163e87fcdbrow5_col0\" class=\"data row5 col0\" >kani</td>\n",
       "                        <td id=\"T_71d43306_54b6_11e9_b063_fa163e87fcdbrow5_col1\" class=\"data row5 col1\" >0.830166</td>\n",
       "            </tr>\n",
       "            <tr>\n",
       "                                <td id=\"T_71d43306_54b6_11e9_b063_fa163e87fcdbrow6_col0\" class=\"data row6 col0\" >marsu</td>\n",
       "                        <td id=\"T_71d43306_54b6_11e9_b063_fa163e87fcdbrow6_col1\" class=\"data row6 col1\" >0.795733</td>\n",
       "            </tr>\n",
       "            <tr>\n",
       "                                <td id=\"T_71d43306_54b6_11e9_b063_fa163e87fcdbrow7_col0\" class=\"data row7 col0\" >eläin</td>\n",
       "                        <td id=\"T_71d43306_54b6_11e9_b063_fa163e87fcdbrow7_col1\" class=\"data row7 col1\" >0.795119</td>\n",
       "            </tr>\n",
       "            <tr>\n",
       "                                <td id=\"T_71d43306_54b6_11e9_b063_fa163e87fcdbrow8_col0\" class=\"data row8 col0\" >ipana</td>\n",
       "                        <td id=\"T_71d43306_54b6_11e9_b063_fa163e87fcdbrow8_col1\" class=\"data row8 col1\" >0.792993</td>\n",
       "            </tr>\n",
       "            <tr>\n",
       "                                <td id=\"T_71d43306_54b6_11e9_b063_fa163e87fcdbrow9_col0\" class=\"data row9 col0\" >poni</td>\n",
       "                        <td id=\"T_71d43306_54b6_11e9_b063_fa163e87fcdbrow9_col1\" class=\"data row9 col1\" >0.77929</td>\n",
       "            </tr>\n",
       "    </tbody></table>"
      ],
      "text/plain": [
       "<pandas.io.formats.style.Styler at 0x7f21743331d0>"
      ]
     },
     "execution_count": 12,
     "metadata": {},
     "output_type": "execute_result"
    }
   ],
   "source": [
    "show_similar(fi_wv, 'koira')"
   ]
  },
  {
   "cell_type": "markdown",
   "metadata": {},
   "source": [
    "(not quite as good.)"
   ]
  },
  {
   "cell_type": "markdown",
   "metadata": {},
   "source": [
    "### Relations\n",
    "\n",
    "“*these representations are surprisingly good at capturing syntactic and semantic regularities in language*” (Mikolov et al. 2013)"
   ]
  },
  {
   "cell_type": "code",
   "execution_count": 13,
   "metadata": {},
   "outputs": [
    {
     "name": "stdout",
     "output_type": "stream",
     "text": [
      "king - man + woman ≈ queen (0.71)\n",
      "kuningas - mies + nainen ≈ kuningatar (0.76)\n"
     ]
    }
   ],
   "source": [
    "def analogy(wv, word, minus, plus):\n",
    "    word2, sim = wv.most_similar(positive=[word, plus], negative=[minus])[0]\n",
    "    print('{} - {} + {} ≈ {} ({:.2f})'.format(word, minus, plus, word2, sim))\n",
    "\n",
    "\n",
    "analogy(en_wv, 'king', 'man', 'woman')\n",
    "analogy(fi_wv, 'kuningas', 'mies', 'nainen')"
   ]
  },
  {
   "cell_type": "markdown",
   "metadata": {},
   "source": [
    "<img src=\"figs/wv_relations.png\" width=\"50%\">"
   ]
  },
  {
   "cell_type": "markdown",
   "metadata": {},
   "source": [
    "<div style=\"text-align:center; font-size:80%\">(figure from <a href=\"https://www.aclweb.org/anthology/N13-1090\">Mikolov et al. 2013</a>)</div>"
   ]
  },
  {
   "cell_type": "markdown",
   "metadata": {},
   "source": [
    "Also:"
   ]
  },
  {
   "cell_type": "code",
   "execution_count": 14,
   "metadata": {},
   "outputs": [
    {
     "name": "stdout",
     "output_type": "stream",
     "text": [
      "London - UK + Finland ≈ Helsinki (0.69)\n",
      "lager - Germany + Finland ≈ vodka (0.54)\n"
     ]
    }
   ],
   "source": [
    "analogy(en_wv, 'London', 'UK', 'Finland')\n",
    "analogy(en_wv, 'lager', 'Germany', 'Finland')"
   ]
  },
  {
   "cell_type": "markdown",
   "metadata": {},
   "source": [
    "It's far from perfect, though (esp. for Finnish!)"
   ]
  },
  {
   "cell_type": "code",
   "execution_count": 15,
   "metadata": {},
   "outputs": [
    {
     "name": "stdout",
     "output_type": "stream",
     "text": [
      "Lontoo - Englanti + Suomi ≈ Tukholma (0.58)\n",
      "lager - Germany + UK ≈ pub (0.57)\n"
     ]
    }
   ],
   "source": [
    "analogy(fi_wv, 'Lontoo', 'Englanti', 'Suomi')\n",
    "analogy(en_wv, 'lager', 'Germany', 'UK')"
   ]
  },
  {
   "cell_type": "markdown",
   "metadata": {},
   "source": [
    "(OK, that's probably enough silly word vector tricks.)"
   ]
  },
  {
   "cell_type": "markdown",
   "metadata": {},
   "source": [
    "### Recent work\n",
    "\n",
    "An enormous amount of work has been done on unsupervised learning of vector representations of text in recent years (partial listing):\n",
    "\n",
    "* word2vec ([Mikolov et al. 2013](https://arxiv.org/pdf/1301.3781.pdf)): https://github.com/tmikolov/word2vec\n",
    "* GloVe ([Pennington et al. 2014](https://nlp.stanford.edu/pubs/glove.pdf)): https://nlp.stanford.edu/projects/glove/\n",
    "* word2vecf ([Levy and Goldberg 2014](https://www.aclweb.org/anthology/P14-2050)): https://bitbucket.org/yoavgo/word2vecf\n",
    "* Skip-Thought ([Kiros et al. 2015](https://arxiv.org/abs/1506.06726)) https://github.com/ryankiros/skip-thoughts\n",
    "* FastText ([Joulin et al. 2016](https://arxiv.org/pdf/1607.01759.pdf)) https://fasttext.cc/\n",
    "* CoVe ([McCann et al. 2017](http://papers.nips.cc/paper/7209-learned-in-translation-contextualized-word-vectors.pdf)): https://github.com/salesforce/cove\n",
    "* ELMo ([Peters et al. 2018](https://aclweb.org/anthology/N18-1202)): https://allennlp.org/elmo\n",
    "* GPT ([Radford et al. 2018](https://s3-us-west-2.amazonaws.com/openai-assets/research-covers/language-unsupervised/language_understanding_paper.pdf)): https://github.com/openai/finetune-transformer-lm\n",
    "* BERT ([Devlin et al. 2018](https://arxiv.org/pdf/1810.04805.pdf)): https://github.com/google-research/bert\n",
    "* MT-DNN ([Liu et al. 2019](https://arxiv.org/pdf/1901.11504.pdf)): https://github.com/namisan/mt-dnn\n",
    "\n",
    "(Recent methods extended on the capabilities of word2vec in particular in accounting for context and representing longer spans of text.)"
   ]
  },
  {
   "cell_type": "markdown",
   "metadata": {},
   "source": [
    "# Dimensionality reduction"
   ]
  },
  {
   "cell_type": "markdown",
   "metadata": {},
   "source": [
    "High-dimensional data such as complex feature representations and word vectors presents a number of challenges:\n",
    "\n",
    "* Computational cost (memory and time)\n",
    "* Difficulties in learning and analysis (curse of dimensionality)\n",
    "* Humans can only really visualize data up to 3D\n",
    "\n",
    "*Dimensionality reduction* methods aim to represent data with fewer dimensions while preserving information.\n",
    "\n",
    "Example: let's say we're interested in understanding what these words look like in the vector space:"
   ]
  },
  {
   "cell_type": "code",
   "execution_count": 16,
   "metadata": {},
   "outputs": [],
   "source": [
    "en_words= [\n",
    "    \"dog\", \"cat\", \"computer\", \"monitor\",\n",
    "    \"eat\", \"drink\", \"walk\", \"run\",\n",
    "    \"one\", \"two\", \"1\", \"2\",\n",
    "    \"good\", \"bad\", \"ugly\",\n",
    "    \"happy\", \"unhappy\",\n",
    "    \"or\", \"what\", \"that\",\n",
    "    \"right\", \"very\", \"well\"\n",
    "]\n",
    "\n",
    "fi_words = [\n",
    "    \"koira\", \"kissa\", \"tietokone\", \"näyttö\",\n",
    "    \"syödä\", \"juoda\", \"kävellä\", \"juosta\",\n",
    "    \"yksi\", \"kaksi\", \"1\", \"2\",\n",
    "    \"hyvä\", \"paha\", \"ruma\",\n",
    "    \"onnellinen\", \"onneton\",\n",
    "    \"ja\", \"tai\", \"mitä\", \"että\",\n",
    "    \"oikein\", \"todella\",\"hyvin\"\n",
    "]"
   ]
  },
  {
   "cell_type": "markdown",
   "metadata": {},
   "source": [
    "(We'll first set up visualization)"
   ]
  },
  {
   "cell_type": "code",
   "execution_count": 17,
   "metadata": {},
   "outputs": [],
   "source": [
    "import matplotlib.pyplot as plt\n",
    "\n",
    "\n",
    "def plot_words(wv, words, vectors):\n",
    "    word_indices = [wv.vocab[w].index for w in words]\n",
    "    # Drop words with indices past number of vecs (allows for truncated vecs)\n",
    "    words = [words[i] for i, idx in enumerate(word_indices) if idx < len(vectors)]\n",
    "    word_indices = [idx for idx in word_indices if idx < len(vectors)]\n",
    "    plt.scatter(vectors[word_indices,0], vectors[word_indices,1])\n",
    "    for index, word in zip(word_indices, words):\n",
    "        plt.annotate(s=word, xy=vectors[index], xytext=vectors[index]+(0.01,0.005))"
   ]
  },
  {
   "cell_type": "markdown",
   "metadata": {},
   "source": [
    "Now, we can of course get 2D vectors by just discarding the rest of the dimensions:"
   ]
  },
  {
   "cell_type": "code",
   "execution_count": 18,
   "metadata": {},
   "outputs": [
    {
     "name": "stdout",
     "output_type": "stream",
     "text": [
      "(100000, 2)\n"
     ]
    },
    {
     "data": {
      "image/png": "[encoded data removed]",
      "text/plain": [
       "<matplotlib.figure.Figure at 0x7f217f4912e8>"
      ]
     },
     "metadata": {},
     "output_type": "display_data"
    }
   ],
   "source": [
    "en_first_2d = en_wv.vectors[:,:2]\n",
    "print(en_first_2d.shape)\n",
    "plot_words(en_wv, en_words, en_first_2d)"
   ]
  },
  {
   "cell_type": "code",
   "execution_count": 19,
   "metadata": {},
   "outputs": [
    {
     "data": {
      "image/png": "[encoded data removed]",
      "text/plain": [
       "<matplotlib.figure.Figure at 0x7f21722ee278>"
      ]
     },
     "metadata": {},
     "output_type": "display_data"
    }
   ],
   "source": [
    "fi_first_2d = fi_wv.vectors[:,:2]\n",
    "plot_words(fi_wv, fi_words, fi_first_2d)"
   ]
  },
  {
   "cell_type": "markdown",
   "metadata": {},
   "source": [
    "... but this doesn't make much sense: 99% of the information is just discarded, and there isn't anything special about the first two dimensions."
   ]
  },
  {
   "cell_type": "markdown",
   "metadata": {},
   "source": [
    "## Principal component analysis\n",
    "\n",
    "* General statistical analysis method, standard tool for data analysis in many fields\n",
    "* Fast and (comparatively) easy to understand: identify axes of highest variance and drop the rest\n",
    "* Convex objective: the result is always the same"
   ]
  },
  {
   "cell_type": "code",
   "execution_count": 20,
   "metadata": {},
   "outputs": [
    {
     "data": {
      "image/png": "[encoded data removed]",
      "text/plain": [
       "<matplotlib.figure.Figure at 0x7f21722707b8>"
      ]
     },
     "metadata": {},
     "output_type": "display_data"
    }
   ],
   "source": [
    "import sklearn.decomposition\n",
    "\n",
    "\n",
    "pca2 = sklearn.decomposition.PCA(2)\n",
    "\n",
    "en_vectors_pca2 = pca2.fit_transform(en_wv.vectors)\n",
    "plot_words(en_wv, en_words, en_vectors_pca2)"
   ]
  },
  {
   "cell_type": "code",
   "execution_count": 21,
   "metadata": {},
   "outputs": [
    {
     "data": {
      "image/png": "[encoded data removed]",
      "text/plain": [
       "<matplotlib.figure.Figure at 0x7f2172270860>"
      ]
     },
     "metadata": {},
     "output_type": "display_data"
    }
   ],
   "source": [
    "fi_vectors_pca2 = pca2.fit_transform(fi_wv.vectors)\n",
    "plot_words(fi_wv, fi_words, fi_vectors_pca2)"
   ]
  },
  {
   "cell_type": "markdown",
   "metadata": {},
   "source": [
    "This is a reasonable visualization, but it's still hard to make sense of the structure."
   ]
  },
  {
   "cell_type": "markdown",
   "metadata": {},
   "source": [
    "## t-SNE\n",
    "\n",
    "t-Distributed Stochastic Neighbor Embedding (t-SNE) ([van der Maaten and Hinton, 2008](https://lvdmaaten.github.io/publications/papers/JMLR_2008.pdf))\n",
    "\n",
    "* Designed specifically for visualization (reduction to 2D/3D)\n",
    "* Non-convex: re-running can product different results\n",
    "* Preserves local relationships (neighbors) but not global structure\n",
    "* Tends to work great in practice, but can be slow (PCA first can help)"
   ]
  },
  {
   "cell_type": "code",
   "execution_count": 22,
   "metadata": {},
   "outputs": [
    {
     "data": {
      "image/png": "[encoded data removed]",
      "text/plain": [
       "<matplotlib.figure.Figure at 0x7f21722c58d0>"
      ]
     },
     "metadata": {},
     "output_type": "display_data"
    }
   ],
   "source": [
    "from sklearn.manifold import TSNE\n",
    "\n",
    "\n",
    "def plot_all_words(words, vectors):\n",
    "    plt.scatter(vectors[:,0], vectors[:,1])\n",
    "    for i, word in enumerate(words):\n",
    "        plt.annotate(s=word, xy=vectors[i], xytext=vectors[i]+(0.01,0.005))\n",
    "\n",
    "\n",
    "# To reduce computational cost, we'll just work with the word vectors we're plotting\n",
    "en_word_indices = [en_wv.vocab[w].index for w in en_words]\n",
    "en_vectors_words = en_wv.vectors[en_word_indices]\n",
    "\n",
    "# For this small data, needed to tweak perplexity\n",
    "en_vectors_tsne = TSNE(perplexity=10.0, random_state=1234).fit_transform(en_vectors_words)\n",
    "plot_all_words(en_words, en_vectors_tsne)"
   ]
  },
  {
   "cell_type": "code",
   "execution_count": 23,
   "metadata": {},
   "outputs": [
    {
     "data": {
      "image/png": "[encoded data removed]",
      "text/plain": [
       "<matplotlib.figure.Figure at 0x7f216edf57f0>"
      ]
     },
     "metadata": {},
     "output_type": "display_data"
    }
   ],
   "source": [
    "fi_word_indices = [fi_wv.vocab[w].index for w in fi_words]\n",
    "fi_vectors_words = fi_wv.vectors[fi_word_indices]\n",
    "\n",
    "fi_vectors_tsne = TSNE(perplexity=10.0, random_state=1234).fit_transform(fi_vectors_words)\n",
    "plot_all_words(fi_words, fi_vectors_tsne)"
   ]
  },
  {
   "cell_type": "markdown",
   "metadata": {},
   "source": [
    "(Note: getting a better-looking visualization doesn't mean it's (more) correct!)"
   ]
  },
  {
   "cell_type": "markdown",
   "metadata": {},
   "source": [
    "---"
   ]
  },
  {
   "cell_type": "markdown",
   "metadata": {},
   "source": [
    "# Clustering\n",
    "\n",
    "Unsupervised classification: identify coherent groups (clusters) in data without the help of examples of correct grouping.\n",
    "\n",
    "* Hard clustering: assign each item to one cluster\n",
    "* Soft clustering - degree of belonging to a cluster\n",
    "* Hierarchical clustering - hierarchy of clusters, usually constructed bottom-to-top\n",
    "\n",
    "(Focus here on hard clustering.)"
   ]
  },
  {
   "cell_type": "markdown",
   "metadata": {},
   "source": [
    "<img src=\"figs/sklearn_cluster_comparison.png\" width=\"80%\">"
   ]
  },
  {
   "cell_type": "markdown",
   "metadata": {},
   "source": [
    "<div style=\"text-align:center; font-size:80%\">Illustration of clustering algorithms (figure from <a href=\"http://scikit-learn.org/stable/modules/clustering.html\">scikit-learn documentation</a>)</div>"
   ]
  },
  {
   "cell_type": "markdown",
   "metadata": {},
   "source": [
    "Depending on the clustering algorithm, we might need:\n",
    "\n",
    "* A similarity metric on the items being clustered (function or matrix)\n",
    "* A way to establish cluster centres\n",
    "* A way to measure between cluster distance\n",
    "* A way to measure cluster coherence\n",
    "\n",
    "A notable difference between clustering algorithms is whether they can work with a matrix of pairwise similarities between arbitrary objects, or if they require a vector representation of the data items."
   ]
  },
  {
   "cell_type": "markdown",
   "metadata": {},
   "source": [
    "## K-means\n",
    "\n",
    "* Simple and popular clustering algorithm operating on vectors\n",
    "* Requires number of clusters (k) to be specified in advance\n",
    "\n",
    "Iterative algorithm (sketch):\n",
    "\n",
    "1. Randomly identify k vectors as cluster centers\n",
    "2. Assign each vector to the nearest center\n",
    "3. Re-calculate cluster centers\n",
    "4. Repeat 2-3 until the assignment no longer changes.\n",
    "\n",
    "---"
   ]
  },
  {
   "cell_type": "markdown",
   "metadata": {},
   "source": [
    "<img src=\"https://upload.wikimedia.org/wikipedia/commons/e/ea/K-means_convergence.gif\" width=\"40%\">"
   ]
  },
  {
   "cell_type": "markdown",
   "metadata": {},
   "source": [
    "<div style=\"text-align:center; color:gray; font-size:80%\">(Figure from <a href=\"https://en.wikipedia.org/wiki/K-means_clustering#/media/File:K-means_convergence.gif\">Wikimedia Commons</a>)</div>"
   ]
  },
  {
   "cell_type": "markdown",
   "metadata": {},
   "source": [
    "---"
   ]
  },
  {
   "cell_type": "markdown",
   "metadata": {},
   "source": [
    "### Example: word vector clustering\n",
    "\n",
    "Word vectors can be clustered given a measure of their similarity.\n",
    "\n",
    "**Sidenote**: We would generally prefer cosine similarity but `sklearn` only supports Eucledian distance for K-means. We'll normalize the vectors to unit length, which makes these equivalent for K-means ($\\sqrt{\\sum (a_i b_i)^2} = \\sqrt{2-\\sum 2 a_i b_i}$ since $\\sum a_i^2 =\\sum b_i^2 = 1$)"
   ]
  },
  {
   "cell_type": "code",
   "execution_count": 24,
   "metadata": {},
   "outputs": [
    {
     "name": "stdout",
     "output_type": "stream",
     "text": [
      "1.00\n",
      "1.00\n"
     ]
    }
   ],
   "source": [
    "# init_sims(replace=True) normalizes word vectors\n",
    "en_wv.init_sims(replace=True)\n",
    "fi_wv.init_sims(replace=True)\n",
    "\n",
    "print('{:.2f}'.format(np.dot(en_wv['dog'],en_wv['dog'])))\n",
    "print('{:.2f}'.format(np.dot(fi_wv['koira'],fi_wv['koira'])))"
   ]
  },
  {
   "cell_type": "markdown",
   "metadata": {},
   "source": [
    "We'll use `MiniBatchKMeans` for clustering. This is a faster approximation of K-means."
   ]
  },
  {
   "cell_type": "code",
   "execution_count": 25,
   "metadata": {},
   "outputs": [
    {
     "name": "stdout",
     "output_type": "stream",
     "text": [
      "(100000, 20)\n",
      "[('koira', 6),\n",
      " ('kissa', 6),\n",
      " ('tietokone', 5),\n",
      " ('näyttö', 5),\n",
      " ('syödä', 19),\n",
      " ('juoda', 6),\n",
      " ('kävellä', 6),\n",
      " ('juosta', 6),\n",
      " ('yksi', 3),\n",
      " ('kaksi', 7),\n",
      " ('1', 7),\n",
      " ('2', 7),\n",
      " ('hyvä', 3),\n",
      " ('paha', 3),\n",
      " ('ruma', 3),\n",
      " ('onnellinen', 3),\n",
      " ('onneton', 3),\n",
      " ('ja', 12),\n",
      " ('tai', 2),\n",
      " ('mitä', 12),\n",
      " ('että', 12),\n",
      " ('oikein', 12),\n",
      " ('todella', 6),\n",
      " ('hyvin', 12)]\n"
     ]
    }
   ],
   "source": [
    "import sklearn.cluster\n",
    "\n",
    "from pprint import pprint as pretty_print\n",
    "\n",
    "\n",
    "k = sklearn.cluster.MiniBatchKMeans(batch_size=5000, n_clusters=20, random_state=1234)\n",
    "distances = k.fit_transform(fi_wv.vectors)\n",
    "\n",
    "print(distances.shape)\n",
    "\n",
    "pretty_print(list(zip(fi_words, k.labels_[fi_word_indices]))) # Cluster label for each word"
   ]
  },
  {
   "cell_type": "markdown",
   "metadata": {},
   "source": [
    "That's a bit hard to interpret, so let's see that with the words grouped into clusters:"
   ]
  },
  {
   "cell_type": "code",
   "execution_count": 26,
   "metadata": {},
   "outputs": [
    {
     "data": {
      "text/html": [
       "<style  type=\"text/css\" >\n",
       "</style><table id=\"T_7772c834_54b6_11e9_b063_fa163e87fcdb\" ><thead>    <tr>        <th class=\"col_heading level0 col0\" >label</th>        <th class=\"col_heading level0 col1\" >words</th>    </tr></thead><tbody>\n",
       "                <tr>\n",
       "                                <td id=\"T_7772c834_54b6_11e9_b063_fa163e87fcdbrow0_col0\" class=\"data row0 col0\" >2</td>\n",
       "                        <td id=\"T_7772c834_54b6_11e9_b063_fa163e87fcdbrow0_col1\" class=\"data row0 col1\" >['tai']</td>\n",
       "            </tr>\n",
       "            <tr>\n",
       "                                <td id=\"T_7772c834_54b6_11e9_b063_fa163e87fcdbrow1_col0\" class=\"data row1 col0\" >3</td>\n",
       "                        <td id=\"T_7772c834_54b6_11e9_b063_fa163e87fcdbrow1_col1\" class=\"data row1 col1\" >['yksi', 'hyvä', 'paha', 'ruma', 'onnellinen', 'onneton']</td>\n",
       "            </tr>\n",
       "            <tr>\n",
       "                                <td id=\"T_7772c834_54b6_11e9_b063_fa163e87fcdbrow2_col0\" class=\"data row2 col0\" >5</td>\n",
       "                        <td id=\"T_7772c834_54b6_11e9_b063_fa163e87fcdbrow2_col1\" class=\"data row2 col1\" >['tietokone', 'näyttö']</td>\n",
       "            </tr>\n",
       "            <tr>\n",
       "                                <td id=\"T_7772c834_54b6_11e9_b063_fa163e87fcdbrow3_col0\" class=\"data row3 col0\" >6</td>\n",
       "                        <td id=\"T_7772c834_54b6_11e9_b063_fa163e87fcdbrow3_col1\" class=\"data row3 col1\" >['koira', 'kissa', 'juoda', 'kävellä', 'juosta', 'todella']</td>\n",
       "            </tr>\n",
       "            <tr>\n",
       "                                <td id=\"T_7772c834_54b6_11e9_b063_fa163e87fcdbrow4_col0\" class=\"data row4 col0\" >7</td>\n",
       "                        <td id=\"T_7772c834_54b6_11e9_b063_fa163e87fcdbrow4_col1\" class=\"data row4 col1\" >['kaksi', '1', '2']</td>\n",
       "            </tr>\n",
       "            <tr>\n",
       "                                <td id=\"T_7772c834_54b6_11e9_b063_fa163e87fcdbrow5_col0\" class=\"data row5 col0\" >12</td>\n",
       "                        <td id=\"T_7772c834_54b6_11e9_b063_fa163e87fcdbrow5_col1\" class=\"data row5 col1\" >['ja', 'mitä', 'että', 'oikein', 'hyvin']</td>\n",
       "            </tr>\n",
       "            <tr>\n",
       "                                <td id=\"T_7772c834_54b6_11e9_b063_fa163e87fcdbrow6_col0\" class=\"data row6 col0\" >19</td>\n",
       "                        <td id=\"T_7772c834_54b6_11e9_b063_fa163e87fcdbrow6_col1\" class=\"data row6 col1\" >['syödä']</td>\n",
       "            </tr>\n",
       "    </tbody></table>"
      ],
      "text/plain": [
       "<pandas.io.formats.style.Styler at 0x7f217bbeba58>"
      ]
     },
     "execution_count": 26,
     "metadata": {},
     "output_type": "execute_result"
    }
   ],
   "source": [
    "from collections import defaultdict\n",
    "from pandas import DataFrame\n",
    "\n",
    "\n",
    "def group_by_label(words, labels):\n",
    "    grouped = defaultdict(list)\n",
    "    for word, label in zip(words, labels):\n",
    "            grouped[label].append(word)\n",
    "    return grouped\n",
    "\n",
    "\n",
    "def show_grouped(grouped):\n",
    "    return DataFrame(list(sorted(grouped.items())), columns=['label', 'words']).style.hide_index()\n",
    "\n",
    "\n",
    "grouped = group_by_label(fi_words, k.labels_[fi_word_indices])\n",
    "show_grouped(grouped)"
   ]
  },
  {
   "cell_type": "markdown",
   "metadata": {},
   "source": [
    "And the same for English:"
   ]
  },
  {
   "cell_type": "code",
   "execution_count": 27,
   "metadata": {},
   "outputs": [
    {
     "data": {
      "text/html": [
       "<style  type=\"text/css\" >\n",
       "</style><table id=\"T_7868533a_54b6_11e9_b063_fa163e87fcdb\" ><thead>    <tr>        <th class=\"col_heading level0 col0\" >label</th>        <th class=\"col_heading level0 col1\" >words</th>    </tr></thead><tbody>\n",
       "                <tr>\n",
       "                                <td id=\"T_7868533a_54b6_11e9_b063_fa163e87fcdbrow0_col0\" class=\"data row0 col0\" >0</td>\n",
       "                        <td id=\"T_7868533a_54b6_11e9_b063_fa163e87fcdbrow0_col1\" class=\"data row0 col1\" >['computer', '1', '2']</td>\n",
       "            </tr>\n",
       "            <tr>\n",
       "                                <td id=\"T_7868533a_54b6_11e9_b063_fa163e87fcdbrow1_col0\" class=\"data row1 col0\" >4</td>\n",
       "                        <td id=\"T_7868533a_54b6_11e9_b063_fa163e87fcdbrow1_col1\" class=\"data row1 col1\" >['dog']</td>\n",
       "            </tr>\n",
       "            <tr>\n",
       "                                <td id=\"T_7868533a_54b6_11e9_b063_fa163e87fcdbrow2_col0\" class=\"data row2 col0\" >6</td>\n",
       "                        <td id=\"T_7868533a_54b6_11e9_b063_fa163e87fcdbrow2_col1\" class=\"data row2 col1\" >['cat', 'eat', 'drink']</td>\n",
       "            </tr>\n",
       "            <tr>\n",
       "                                <td id=\"T_7868533a_54b6_11e9_b063_fa163e87fcdbrow3_col0\" class=\"data row3 col0\" >7</td>\n",
       "                        <td id=\"T_7868533a_54b6_11e9_b063_fa163e87fcdbrow3_col1\" class=\"data row3 col1\" >['monitor', 'happy', 'or', 'what', 'that', 'right']</td>\n",
       "            </tr>\n",
       "            <tr>\n",
       "                                <td id=\"T_7868533a_54b6_11e9_b063_fa163e87fcdbrow4_col0\" class=\"data row4 col0\" >9</td>\n",
       "                        <td id=\"T_7868533a_54b6_11e9_b063_fa163e87fcdbrow4_col1\" class=\"data row4 col1\" >['very', 'well']</td>\n",
       "            </tr>\n",
       "            <tr>\n",
       "                                <td id=\"T_7868533a_54b6_11e9_b063_fa163e87fcdbrow5_col0\" class=\"data row5 col0\" >12</td>\n",
       "                        <td id=\"T_7868533a_54b6_11e9_b063_fa163e87fcdbrow5_col1\" class=\"data row5 col1\" >['walk', 'run', 'one', 'two']</td>\n",
       "            </tr>\n",
       "            <tr>\n",
       "                                <td id=\"T_7868533a_54b6_11e9_b063_fa163e87fcdbrow6_col0\" class=\"data row6 col0\" >15</td>\n",
       "                        <td id=\"T_7868533a_54b6_11e9_b063_fa163e87fcdbrow6_col1\" class=\"data row6 col1\" >['good', 'bad', 'ugly', 'unhappy']</td>\n",
       "            </tr>\n",
       "    </tbody></table>"
      ],
      "text/plain": [
       "<pandas.io.formats.style.Styler at 0x7f216da0c5f8>"
      ]
     },
     "execution_count": 27,
     "metadata": {},
     "output_type": "execute_result"
    }
   ],
   "source": [
    "k = sklearn.cluster.MiniBatchKMeans(batch_size=5000, n_clusters=20, random_state=1234)\n",
    "distances = k.fit_transform(en_wv.vectors)\n",
    "\n",
    "\n",
    "grouped = group_by_label(en_words, k.labels_[en_word_indices])\n",
    "show_grouped(grouped)"
   ]
  },
  {
   "cell_type": "markdown",
   "metadata": {},
   "source": [
    "Some unexpected groupings there, but at least part of the expected structure is correct.\n",
    "\n",
    "The clusters above are built on 100K words, how about we try just with our example words? This makes it easier to pick an appropriate value of k:"
   ]
  },
  {
   "cell_type": "code",
   "execution_count": 28,
   "metadata": {},
   "outputs": [
    {
     "data": {
      "text/html": [
       "<style  type=\"text/css\" >\n",
       "</style><table id=\"T_7868533b_54b6_11e9_b063_fa163e87fcdb\" ><thead>    <tr>        <th class=\"col_heading level0 col0\" >label</th>        <th class=\"col_heading level0 col1\" >words</th>    </tr></thead><tbody>\n",
       "                <tr>\n",
       "                                <td id=\"T_7868533b_54b6_11e9_b063_fa163e87fcdbrow0_col0\" class=\"data row0 col0\" >0</td>\n",
       "                        <td id=\"T_7868533b_54b6_11e9_b063_fa163e87fcdbrow0_col1\" class=\"data row0 col1\" >['syödä', 'juoda', 'kävellä', 'juosta']</td>\n",
       "            </tr>\n",
       "            <tr>\n",
       "                                <td id=\"T_7868533b_54b6_11e9_b063_fa163e87fcdbrow1_col0\" class=\"data row1 col0\" >1</td>\n",
       "                        <td id=\"T_7868533b_54b6_11e9_b063_fa163e87fcdbrow1_col1\" class=\"data row1 col1\" >['koira', 'kissa', 'oikein', 'todella', 'hyvin']</td>\n",
       "            </tr>\n",
       "            <tr>\n",
       "                                <td id=\"T_7868533b_54b6_11e9_b063_fa163e87fcdbrow2_col0\" class=\"data row2 col0\" >2</td>\n",
       "                        <td id=\"T_7868533b_54b6_11e9_b063_fa163e87fcdbrow2_col1\" class=\"data row2 col1\" >['kaksi', '1', '2']</td>\n",
       "            </tr>\n",
       "            <tr>\n",
       "                                <td id=\"T_7868533b_54b6_11e9_b063_fa163e87fcdbrow3_col0\" class=\"data row3 col0\" >3</td>\n",
       "                        <td id=\"T_7868533b_54b6_11e9_b063_fa163e87fcdbrow3_col1\" class=\"data row3 col1\" >['onnellinen']</td>\n",
       "            </tr>\n",
       "            <tr>\n",
       "                                <td id=\"T_7868533b_54b6_11e9_b063_fa163e87fcdbrow4_col0\" class=\"data row4 col0\" >4</td>\n",
       "                        <td id=\"T_7868533b_54b6_11e9_b063_fa163e87fcdbrow4_col1\" class=\"data row4 col1\" >['ja', 'tai', 'mitä', 'että']</td>\n",
       "            </tr>\n",
       "            <tr>\n",
       "                                <td id=\"T_7868533b_54b6_11e9_b063_fa163e87fcdbrow5_col0\" class=\"data row5 col0\" >5</td>\n",
       "                        <td id=\"T_7868533b_54b6_11e9_b063_fa163e87fcdbrow5_col1\" class=\"data row5 col1\" >['tietokone', 'näyttö']</td>\n",
       "            </tr>\n",
       "            <tr>\n",
       "                                <td id=\"T_7868533b_54b6_11e9_b063_fa163e87fcdbrow6_col0\" class=\"data row6 col0\" >6</td>\n",
       "                        <td id=\"T_7868533b_54b6_11e9_b063_fa163e87fcdbrow6_col1\" class=\"data row6 col1\" >['yksi', 'hyvä', 'paha', 'ruma', 'onneton']</td>\n",
       "            </tr>\n",
       "    </tbody></table>"
      ],
      "text/plain": [
       "<pandas.io.formats.style.Styler at 0x7f216da0c780>"
      ]
     },
     "execution_count": 28,
     "metadata": {},
     "output_type": "execute_result"
    }
   ],
   "source": [
    "k = sklearn.cluster.MiniBatchKMeans(batch_size=5000, n_clusters=7, random_state=1234)\n",
    "distances = k.fit_transform(fi_wv.vectors[fi_word_indices])\n",
    "    \n",
    "grouped = group_by_label(fi_words, k.labels_)\n",
    "show_grouped(grouped)"
   ]
  },
  {
   "cell_type": "code",
   "execution_count": 29,
   "metadata": {},
   "outputs": [
    {
     "data": {
      "text/html": [
       "<style  type=\"text/css\" >\n",
       "</style><table id=\"T_7868533c_54b6_11e9_b063_fa163e87fcdb\" ><thead>    <tr>        <th class=\"col_heading level0 col0\" >label</th>        <th class=\"col_heading level0 col1\" >words</th>    </tr></thead><tbody>\n",
       "                <tr>\n",
       "                                <td id=\"T_7868533c_54b6_11e9_b063_fa163e87fcdbrow0_col0\" class=\"data row0 col0\" >0</td>\n",
       "                        <td id=\"T_7868533c_54b6_11e9_b063_fa163e87fcdbrow0_col1\" class=\"data row0 col1\" >['ugly', 'happy', 'unhappy', 'very', 'well']</td>\n",
       "            </tr>\n",
       "            <tr>\n",
       "                                <td id=\"T_7868533c_54b6_11e9_b063_fa163e87fcdbrow1_col0\" class=\"data row1 col0\" >1</td>\n",
       "                        <td id=\"T_7868533c_54b6_11e9_b063_fa163e87fcdbrow1_col1\" class=\"data row1 col1\" >['dog', 'cat', 'computer', 'monitor', 'or']</td>\n",
       "            </tr>\n",
       "            <tr>\n",
       "                                <td id=\"T_7868533c_54b6_11e9_b063_fa163e87fcdbrow2_col0\" class=\"data row2 col0\" >2</td>\n",
       "                        <td id=\"T_7868533c_54b6_11e9_b063_fa163e87fcdbrow2_col1\" class=\"data row2 col1\" >['one', 'two', '1', '2']</td>\n",
       "            </tr>\n",
       "            <tr>\n",
       "                                <td id=\"T_7868533c_54b6_11e9_b063_fa163e87fcdbrow3_col0\" class=\"data row3 col0\" >3</td>\n",
       "                        <td id=\"T_7868533c_54b6_11e9_b063_fa163e87fcdbrow3_col1\" class=\"data row3 col1\" >['walk', 'run']</td>\n",
       "            </tr>\n",
       "            <tr>\n",
       "                                <td id=\"T_7868533c_54b6_11e9_b063_fa163e87fcdbrow4_col0\" class=\"data row4 col0\" >4</td>\n",
       "                        <td id=\"T_7868533c_54b6_11e9_b063_fa163e87fcdbrow4_col1\" class=\"data row4 col1\" >['eat', 'drink']</td>\n",
       "            </tr>\n",
       "            <tr>\n",
       "                                <td id=\"T_7868533c_54b6_11e9_b063_fa163e87fcdbrow5_col0\" class=\"data row5 col0\" >5</td>\n",
       "                        <td id=\"T_7868533c_54b6_11e9_b063_fa163e87fcdbrow5_col1\" class=\"data row5 col1\" >['what', 'that', 'right']</td>\n",
       "            </tr>\n",
       "            <tr>\n",
       "                                <td id=\"T_7868533c_54b6_11e9_b063_fa163e87fcdbrow6_col0\" class=\"data row6 col0\" >6</td>\n",
       "                        <td id=\"T_7868533c_54b6_11e9_b063_fa163e87fcdbrow6_col1\" class=\"data row6 col1\" >['good', 'bad']</td>\n",
       "            </tr>\n",
       "    </tbody></table>"
      ],
      "text/plain": [
       "<pandas.io.formats.style.Styler at 0x7f216da0c978>"
      ]
     },
     "execution_count": 29,
     "metadata": {},
     "output_type": "execute_result"
    }
   ],
   "source": [
    "k = sklearn.cluster.MiniBatchKMeans(batch_size=5000, n_clusters=7, random_state=1234)\n",
    "distances=k.fit_transform(en_wv.vectors[en_word_indices])\n",
    "\n",
    "grouped = group_by_label(en_words, k.labels_)\n",
    "show_grouped(grouped)"
   ]
  },
  {
   "cell_type": "markdown",
   "metadata": {},
   "source": [
    "Not too bad given that the methods are told nothing about the words.\n",
    "\n",
    "---"
   ]
  }
 ],
 "metadata": {
  "kernelspec": {
   "display_name": "Python 3",
   "language": "python",
   "name": "python3"
  },
  "language_info": {
   "codemirror_mode": {
    "name": "ipython",
    "version": 3
   },
   "file_extension": ".py",
   "mimetype": "text/x-python",
   "name": "python",
   "nbconvert_exporter": "python",
   "pygments_lexer": "ipython3",
   "version": "3.5.2"
  }
 },
 "nbformat": 4,
 "nbformat_minor": 2
}
