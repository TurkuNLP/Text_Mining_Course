{
 "cells": [
  {
   "cell_type": "markdown",
   "metadata": {},
   "source": [
    "This is a simple reader for TAB-separated CoNLL-line formats such as CoNLL-U (https://universaldependencies.org/format.html)."
   ]
  },
  {
   "cell_type": "code",
   "execution_count": 5,
   "metadata": {},
   "outputs": [],
   "source": [
    "from logging import warning\n",
    "\n",
    "\n",
    "def conll_iter(path):\n",
    "    with open(path) as f:\n",
    "        sentence = []\n",
    "        for line in f:\n",
    "            line = line.rstrip('\\n')\n",
    "            if not line or line.isspace():\n",
    "                yield sentence\n",
    "                sentence = []\n",
    "            elif line.startswith('#'):\n",
    "                warning('discarding comment in {}: {}'.format(path, line))\n",
    "                continue\n",
    "            else:\n",
    "                sentence.append(line.split('\\t'))\n",
    "        if sentence:\n",
    "            warning('missing final newline in {}'.format(path))\n",
    "            yield sentence    # include anyway\n",
    "\n",
    "\n",
    "def read_conll(path):\n",
    "    return list(conll_iter(path))\n"
   ]
  }
 ],
 "metadata": {
  "kernelspec": {
   "display_name": "Python 3",
   "language": "python",
   "name": "python3"
  },
  "language_info": {
   "codemirror_mode": {
    "name": "ipython",
    "version": 3
   },
   "file_extension": ".py",
   "mimetype": "text/x-python",
   "name": "python",
   "nbconvert_exporter": "python",
   "pygments_lexer": "ipython3",
   "version": "3.7.2"
  }
 },
 "nbformat": 4,
 "nbformat_minor": 2
}
