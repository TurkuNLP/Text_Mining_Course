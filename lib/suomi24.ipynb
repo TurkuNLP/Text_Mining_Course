{
 "cells": [
  {
   "cell_type": "markdown",
   "metadata": {},
   "source": [
    "Reader for the [VRT](https://www.kielipankki.fi/development/korp/corpus-input-format/#VRT_file_format) (verticalized text) format used e.g. for the Suomi24 data."
   ]
  },
  {
   "cell_type": "code",
   "execution_count": 1,
   "metadata": {},
   "outputs": [
    {
     "name": "stdout",
     "output_type": "stream",
     "text": [
      "Document count: 12453\n",
      "Distinct topics: Yhteiskunta, Tori, Urheilu ja kuntoilu, Ryhmät, Ajoneuvot ja liikenne, Muoti ja kauneus, Ruoka ja juoma, Lemmikit, Tiede ja teknologia, MainPage, Paikkakunnat, Viihde ja kulttuuri, Työ ja opiskelu, Talous, Terveys, Harrastukset, Suhteet, Ajanviete, Suomi24, Perhe, Matkailu, Koti ja rakentaminen, Nuoret\n"
     ]
    }
   ],
   "source": [
    "import re\n",
    "txt_re=re.compile(r'^<text discussionarea=\"(.*?)\".*tid=\"([0-9]+?)\"',re.U)\n",
    "ignore_re=re.compile(r'^</?(text|sentence|paragraph)')\n",
    "\n",
    "\n",
    "def read_vrt(inp):\n",
    "    \"\"\"Function to read the Suomi24 VRT format\"\"\"\n",
    "    current_topic=None #topic name\n",
    "    current_tid=None #discussion thread number\n",
    "    words=[] #words in the discussion\n",
    "    for line in inp:\n",
    "        line=line.strip()\n",
    "        match=txt_re.match(line)\n",
    "        if match: #we have a new post\n",
    "            if match.group(2)!=current_tid and words:#...and it is not part of the current thread\n",
    "                yield current_topic, current_tid, words\n",
    "                words=[]\n",
    "            current_topic=match.group(1) #Pick groups out of the regular expression\n",
    "            current_tid=match.group(2)\n",
    "        if ignore_re.match(line):\n",
    "            continue\n",
    "        columns=line.split(u\"\\t\")\n",
    "        if not columns[1].isdigit(): #there seem to be few broken ones, skip\n",
    "            continue\n",
    "        words.append(columns[2].lower())\n",
    "    else: #for loop ran out of items\n",
    "        if words:\n",
    "            yield current_topic, current_tid, words\n",
    "\n",
    "topics=[] #list of strings\n",
    "topic_ids=[]\n",
    "texts=[] #list of strings\n",
    "with open(\"s24.vrt\", \"r\", encoding=\"utf-8\") as f:\n",
    "    for topic, tid, words in read_vrt(f):\n",
    "        topics.append(topic)\n",
    "        topic_ids.append(tid)\n",
    "        texts.append(u\" \".join(words))\n",
    "\n",
    "print(\"Document count:\", len(topics))\n",
    "print(\"Distinct topics:\", u\", \".join(set(topics)))"
   ]
  }
 ],
 "metadata": {
  "kernelspec": {
   "display_name": "Python 3",
   "language": "python",
   "name": "python3"
  },
  "language_info": {
   "codemirror_mode": {
    "name": "ipython",
    "version": 3
   },
   "file_extension": ".py",
   "mimetype": "text/x-python",
   "name": "python",
   "nbconvert_exporter": "python",
   "pygments_lexer": "ipython3",
   "version": "3.7.2"
  }
 },
 "nbformat": 4,
 "nbformat_minor": 2
}
