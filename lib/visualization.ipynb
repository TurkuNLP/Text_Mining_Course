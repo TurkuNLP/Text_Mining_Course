{
 "cells": [
  {
   "cell_type": "markdown",
   "metadata": {},
   "source": [
    "Nevermind this, just tweaking visuals for display"
   ]
  },
  {
   "cell_type": "code",
   "execution_count": 19,
   "metadata": {},
   "outputs": [],
   "source": [
    "from pandas import DataFrame\n",
    "\n",
    "\n",
    "table_styles = [\n",
    "    dict(selector=\"td\", props=[(\"text-align\", \"left\")]),\n",
    "    dict(selector=\"th\", props=[(\"text-align\", \"left\")]),\n",
    "]\n",
    "\n",
    "\n",
    "def show_table(*args, **kwargs):\n",
    "    t = DataFrame(*args, **kwargs).style\n",
    "    t = t.set_table_styles(table_styles)\n",
    "    t = t.hide_index()\n",
    "    return t\n",
    "\n",
    "\n",
    "def plot_barh(*args, **kwargs):\n",
    "    f = DataFrame(*args, **kwargs)\n",
    "    return f.plot.barh(legend=None)"
   ]
  }
 ],
 "metadata": {
  "kernelspec": {
   "display_name": "Python 3",
   "language": "python",
   "name": "python3"
  },
  "language_info": {
   "codemirror_mode": {
    "name": "ipython",
    "version": 3
   },
   "file_extension": ".py",
   "mimetype": "text/x-python",
   "name": "python",
   "nbconvert_exporter": "python",
   "pygments_lexer": "ipython3",
   "version": "3.7.2"
  }
 },
 "nbformat": 4,
 "nbformat_minor": 2
}
