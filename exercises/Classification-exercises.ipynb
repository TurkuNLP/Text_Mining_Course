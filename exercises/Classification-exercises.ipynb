{
 "cells": [
  {
   "cell_type": "markdown",
   "metadata": {},
   "source": [
    "# Classification exercises\n",
    "\n",
    "This is a modified, more compact version of the SVM text classification code from the classification notebook. You may wish to use this as a starting point for doing some of the exercises."
   ]
  },
  {
   "cell_type": "markdown",
   "metadata": {},
   "source": [
    "(This first piece of code just imports the necessary libraries.)"
   ]
  },
  {
   "cell_type": "code",
   "execution_count": null,
   "metadata": {},
   "outputs": [],
   "source": [
    "from pandas import read_csv\n",
    "from sklearn.model_selection import train_test_split\n",
    "from sklearn.feature_extraction.text import TfidfVectorizer\n",
    "from sklearn.svm import LinearSVC\n",
    "from sklearn.metrics import accuracy_score, confusion_matrix\n",
    "from eli5 import show_weights"
   ]
  },
  {
   "cell_type": "markdown",
   "metadata": {},
   "source": [
    "## Loading and splitting data"
   ]
  },
  {
   "cell_type": "code",
   "execution_count": null,
   "metadata": {},
   "outputs": [],
   "source": [
    "data = read_csv('../data/enron-spam/enron-spam-subjects.tsv', sep='\\t', names=('class', 'id', 'text'))\n",
    "data = data[['class', 'text']]    # drop IDs\n",
    "\n",
    "train_data, devel_and_test_data = train_test_split(data, test_size=0.4, random_state=1234)\n",
    "devel_data, test_data = train_test_split(devel_and_test_data, test_size=0.5, random_state=5678)\n",
    "\n",
    "train_Y, train_texts = train_data['class'], train_data['text']\n",
    "devel_Y, devel_texts = devel_data['class'], devel_data['text']\n",
    "test_Y, test_texts = test_data['class'], test_data['text']"
   ]
  },
  {
   "cell_type": "markdown",
   "metadata": {},
   "source": [
    "## Featurization and vectorization"
   ]
  },
  {
   "cell_type": "code",
   "execution_count": null,
   "metadata": {},
   "outputs": [],
   "source": [
    "space_tokenizer = lambda text: text.split()\n",
    "\n",
    "vectorizer = TfidfVectorizer(tokenizer=space_tokenizer, ngram_range=(1,2))\n",
    "vectorizer.fit(train_texts)\n",
    "\n",
    "train_X = vectorizer.transform(train_texts)\n",
    "devel_X = vectorizer.transform(devel_texts)\n",
    "test_X = vectorizer.transform(test_texts)"
   ]
  },
  {
   "cell_type": "markdown",
   "metadata": {},
   "source": [
    "## Training and prediction"
   ]
  },
  {
   "cell_type": "code",
   "execution_count": null,
   "metadata": {},
   "outputs": [],
   "source": [
    "%%time\n",
    "classifier = LinearSVC(\n",
    "    C=1.0,\n",
    "    class_weight=None,\n",
    "    max_iter=1000,\n",
    "    loss='squared_hinge'\n",
    ")\n",
    "classifier.fit(train_X, train_Y)"
   ]
  },
  {
   "cell_type": "code",
   "execution_count": null,
   "metadata": {},
   "outputs": [],
   "source": [
    "%%time\n",
    "pred_Y = classifier.predict(devel_X)"
   ]
  },
  {
   "cell_type": "markdown",
   "metadata": {},
   "source": [
    "## Evaluation and analysis"
   ]
  },
  {
   "cell_type": "code",
   "execution_count": null,
   "metadata": {},
   "outputs": [],
   "source": [
    "accuracy = accuracy_score(devel_Y, pred_Y)\n",
    "\n",
    "tn, fp, fn, tp = confusion_matrix(devel_Y, pred_Y, labels=['spam', 'ham']).ravel()\n",
    "precision = tp / (tp + fp)\n",
    "recall = tp / (tp + fn)\n",
    "f_score = 2 * precision * recall / (precision + recall)\n",
    "\n",
    "print('accuracy {:.2%}'.format(accuracy))\n",
    "print('precision {:.2%}, recall {:.2%}, f-score {:.2%}'.format(precision, recall, f_score))"
   ]
  },
  {
   "cell_type": "code",
   "execution_count": null,
   "metadata": {},
   "outputs": [],
   "source": [
    "show_weights(classifier, vec=vectorizer)"
   ]
  }
 ],
 "metadata": {
  "kernelspec": {
   "display_name": "Python 3",
   "language": "python",
   "name": "python3"
  },
  "language_info": {
   "codemirror_mode": {
    "name": "ipython",
    "version": 3
   },
   "file_extension": ".py",
   "mimetype": "text/x-python",
   "name": "python",
   "nbconvert_exporter": "python",
   "pygments_lexer": "ipython3",
   "version": "3.7.2"
  }
 },
 "nbformat": 4,
 "nbformat_minor": 2
}
