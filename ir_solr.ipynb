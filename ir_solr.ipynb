{
 "cells": [
  {
   "cell_type": "markdown",
   "metadata": {
    "deletable": true,
    "editable": true,
    "id": "wTNi6DatMH0-"
   },
   "source": [
    "# Real search engine\n",
    "\n",
    "* Upgrade from our toy example to something real\n",
    "* Test an industry-grade search engine\n",
    "* Useful skill to have:\n",
    "  * Work with own corpora - powerful search for free\n",
    "  * Custom search and indexing\n",
    "  * Very often needed in the data science industry (surprisingly many projects boil down to setting up custom search)\n",
    "* The purpose of this lecture is to give a *very* quick idea on how to set up custom search engine\n",
    "* There is no time to go to any detail, but it is meant to inspire\n",
    "\n",
    "# Which one?\n",
    "\n",
    "* Apache Solr\n",
    "* Elasticsearch\n",
    "* Vespa.ai\n",
    "* These are the main contestants on the playground\n",
    "* We will go with Apache Solr for no very strong reason, the main principles apply to all of them\n",
    "* These are engines (the backend) not interfaces (frontend)\n",
    "  \n",
    "## Solr\n",
    "\n",
    "* Apache project\n",
    "* Search **engine** - not so much the interface\n",
    "  1. Index data\n",
    "  2. Query via HTTP API\n",
    "  3. Collect results in various formats\n",
    "  4. Use them any way you need"
   ]
  },
  {
   "cell_type": "markdown",
   "metadata": {
    "deletable": true,
    "editable": true,
    "id": "YbwfEZA9MH1B"
   },
   "source": [
    "# Installing Solr\n",
    "\n",
    "* For what it is, installing Solr is surprisingly easy\n",
    "* Google \"solr download\" and download the latest version (a single .tgz which you unpack)\n",
    "* Once unpacked, you can use it as follows:"
   ]
  },
  {
   "cell_type": "code",
   "execution_count": null,
   "metadata": {
    "deletable": true,
    "editable": true,
    "id": "-RJnpEoZMH1F",
    "outputId": "4c46d8d2-7b26-47b7-fe94-bcb5d97944ca"
   },
   "outputs": [],
   "source": [
    "# Tells solr to start and listen on port 8983 (the default)\n",
    "bin/solr start \n",
    "\n",
    "# Tells solr to stop\n",
    "bin/solr stop"
   ]
  },
  {
   "cell_type": "markdown",
   "metadata": {
    "deletable": true,
    "editable": true,
    "id": "MkDF6J4HMH1G"
   },
   "source": [
    "* After start, you can go to http://127.0.0.1:8983"
   ]
  },
  {
   "cell_type": "markdown",
   "metadata": {
    "deletable": true,
    "editable": true,
    "id": "1_LpgpW0MH1I"
   },
   "source": [
    "# Practical problem\n",
    "\n",
    "* Solr is quite impossible to run in the Colab environment\n",
    "* You can run it locally\n",
    "* Watch the video of the lecture to see how\n",
    "\n",
    "# Solr cores\n",
    "\n",
    "* Data stored in *cores*\n",
    "* One core - one dataset\n",
    "* (collections of cores not covered here)"
   ]
  },
  {
   "cell_type": "markdown",
   "metadata": {
    "deletable": true,
    "editable": true,
    "id": "Evx9Sc4eMH1I"
   },
   "source": [
    "# Creating a core \n",
    "\n",
    "* Cores are like projects for Solr\n",
    "* One instance of Solr can have multiple cores running simultaneously\n",
    "* Each core has its own data\n"
   ]
  },
  {
   "cell_type": "code",
   "execution_count": null,
   "metadata": {
    "deletable": true,
    "editable": true,
    "id": "8S66VsjAMH1J",
    "tags": []
   },
   "outputs": [],
   "source": [
    "bin/solr create_core -c mytest"
   ]
  },
  {
   "cell_type": "markdown",
   "metadata": {
    "deletable": true,
    "editable": true,
    "id": "enPEkC-mMH1J"
   },
   "source": [
    "http://127.0.0.1:8983/solr/#/mytest"
   ]
  },
  {
   "cell_type": "markdown",
   "metadata": {
    "deletable": true,
    "editable": true,
    "id": "WEUZLlFrMH1J"
   },
   "source": [
    "# Adding data\n",
    "\n",
    "* bin/post -c mytest /dir/with/data\n",
    "* .... wait for a while, kill, and commit\n",
    "* curl http://127.0.0.1:8983/solr/mytest/update?commit=true\n",
    "* ...and enjoy the result..."
   ]
  },
  {
   "cell_type": "markdown",
   "metadata": {
    "deletable": true,
    "editable": true,
    "id": "2riuW6g9MH1K"
   },
   "source": [
    "# Adding data programmatically\n",
    "\n",
    "* Let's try to index Wiki Quotes\n",
    "* Do so programmatically to have full control\n",
    "* And use that to learn a bit about the query language\n"
   ]
  },
  {
   "cell_type": "markdown",
   "metadata": {
    "deletable": true,
    "editable": true,
    "id": "nIZaluwPMH1M"
   },
   "source": [
    "# Indexing data with Solr\n",
    "\n",
    "* Using the data we extracted from wikidumps\n",
    "* Each document will have a title and content\n",
    "* Indexing principles:\n",
    "  * Each document is one python dictionary, field names are keys\n",
    "  * ..."
   ]
  },
  {
   "cell_type": "code",
   "execution_count": null,
   "metadata": {
    "deletable": true,
    "editable": true,
    "id": "iZMQgP9EMH1M"
   },
   "outputs": [],
   "source": [
    "# Same as in the basic IR lecture\n",
    "!wget -O fiwiki.xml.bz2 https://www.dropbox.com/s/r82qnfdj1encx1z/fiwiki-20181001-corpus.xml.bz2?dl=1\n",
    "!wget -nc -O xml2txt.pl https://www.dropbox.com/s/p3ta9spzfviovk0/xml2txt.pl?dl=1\n",
    "!bzcat fiwiki.xml.bz2 | perl xml2txt.pl -articles /dev/stdin /dev/stdout  | head -n 100000 | tqdm | gzip > fiwiki.txt.gz\n"
   ]
  },
  {
   "cell_type": "code",
   "execution_count": 4,
   "metadata": {
    "deletable": true,
    "editable": true,
    "id": "_jZAN-zrMH1M",
    "outputId": "78cae2ac-f6a6-44e8-d324-309f66aca0fb"
   },
   "outputs": [
    {
     "name": "stdout",
     "output_type": "stream",
     "text": [
      "<article name=\"Amsterdam\">\n",
      "Amsterdam on Alankomaiden pääkaupunki. Amsterdam on väkiluvultaan Alankomaiden suurin kaupunki, huhtikuun alussa 2006 siellä asui 743 905 asukasta eli noin joka 20. hollantilainen asuu Amsterdamissa. Yhteensä Amsterdamissa ja sitä ympäröivällä kaupunkialueella asuu noin 1 450 000 ihmistä eli vajaa kymmenesosa Alankomaiden asukkaista. Amsterdam sijaitsee Amstelin suistossa IJsselmeerin rannalla Alankomaiden Pohjois-Hollannin provinssissa. Vaikka Amsterdam on Alankomaiden perustuslain mukaan maan pääkaupunki, sijaitsevat niin kuningashuone, hallitus, parlamentti kuin korkein oikeuskin Haagissa.Maantiede ja ilmasto\n",
      "Amsterdam sijaitsee tasaisella alankoalueella, ja osa siitä on merenpinnan tason alapuolella. Kaupunki on IJsselmeeriin kuuluvan IJ’n etelärannalla. Amsteljoki virtaa kaupungin läpi. Vauraus johti myös taiteen ja luonnontieteen kehitykseen. Rembrandt, Frans Hals, Vermeer ja Paulus Potter vaikuttivat siihen aikaan, ja heidän työnsä olivat erittäin kysyttyjä vauraamman väestönosan keskuudessa.\n",
      "1700-luvulla Amsterdamista tuli maailman suurin pankkikeskus, mutta kulta-aika oli loppumassa. Todellinen rappio alkoi Ison-Britannian tuhottua maan laivaston sodassa vuonna 1780. Myös Yhdistynyt Itä-Intian kauppakomppania (VOC) teki vararikon vuonna 1791. Neljä vuotta myöhemmin Napoleon valloitti maan ja se oli taas vieraan vallassa.\n",
      "1800-luvulla tilanne Amsterdamissa parani, kun Ranskan valta oli alkanut heiketä. Vuosisadan loppupuolella Amsterdamiin perustettiin suuria puistoja ja museoita, ja elintaso kohosi huomattavasti.\n",
      "Alankomaat pysyi ensimmäisen maailmansodan puolueettomana. 1900-luvun alussa ponnistelut keskittyivät lähinnä maankuivaukseen, jolla pyrittiin lisäämään maataloutta ja elintilaa. Toisessa maailmansodassa maa kuitenkin vallattiin vuonna 1940 ja Amsterdamin juutalaisia vietiin keskitysleireihin, joista he eivät ikinä palanneet. Väestö alkoi nähdä nälkää, kun elintarvikkeiden ja polttoaineen jakelu lopetettiin. Maa vapautettiin vasta vuonna 1945.\n",
      "Toisen maailmansodan jälkeen Amsterdamin suvaitsevaisuus houkutteli paljon hippejä ja muita vaihtoehtokulttuurien edustajia. Kun kaupungin vanhoja rakennuksia oltiin purkamassa, aiheutti tämä suuren vastalausemyrskyn. Näin ollen esimerkiksi Jordaanin alue säästyi. Sittemmin Amsterdamista on kehittynyt yksi maailman suosituimmista kaupunkimatkakohteista, johtuen varmasti historiallisesta keskustasta ja ainutlaatuisesta taidehistoriasta. Nykypäivänä amsterdamilaisten huolenaiheena on ilmaston lämpenemisestä johtuva vedenpinnan nousu, joka uhkaa nousta kriittiselle tasolle. Alankomaissa on tehtävä paljon töitä sen eteen.Hallinto\n",
      "Amsterdamia johtaa muiden Alankomaiden kuntien tapaan valtuusto. Amsterdamin kaupunginvaltuustoon valitaan edustajat neljän vuoden välein. Siihen kuuluu 45 jäsentä. Valtuusto puolestaan valitsee keskuudestaan 6–8 raatimiestä raatimieskollegioon, joka esittelee ja toimeenpanee valtuuston päätökset. Valtuusto voi kuitenkin myös hylätä kollegion päätökset. Pormestari on sekä kaupunginvaltuuston että raatimieskollegion puheenjohtaja, mutta hänellä ei ole äänioikeutta valtuustossa.\n",
      "Kaupunginosien määrää on Amsterdamissa vähennetty 1900-luvun lopulta alkaen. Vielä vuonna 1990 niitä oli 16, mutta vuoden 2010 liitoksen jälkeen enää seitsemän. Viimeisimpänä asukasluvultaan pieni Westpoort siirrettiin suoraan keskushallinnon alaisuuteen. Amsterdamin kaupunginosat ovat:\n",
      "Amsterdam-Centrum\n",
      "Amsterdam-Noord\n",
      "Amsterdam Nieuw-West\n",
      "Amsterdam-Oost\n",
      "Amsterdam-West\n",
      "Amsterdam-Zuid\n",
      "Amsterdam ZuidoostTalous\n",
      "Amsterdamin talous perustuu palveluihin, ja vain kymmenesosa työskentelee valmistusteollisuudesta. Kaikista työpaikoista noin viidennes on kiinni kansainvälisessä kaupassa ja liikenteessä. Muita merkittäviä palvelualoja ovat pankki- ja vakuutusala, terveys-, kulttuuri- ja yhteiskunnalliset palvelut sekä matkailu. Amsterdam on kansainvälisen rahatalouden keskus, ja kaupungissa on muun muassa pörssi ja useiden kansainvälisten pankkien toimistoja.\n",
      "Amsterdamin teollisuuslaitokset ovat monipuolisia, vaikka niiden osuus taloudesta on pienentynyt koko ajan. Amsterdamissa on muun muassa laivanrakennusta, öljynjalostusta, ruoan jalostusta ja timanttien hiontaa.Liikenne\n",
      "Amsterdam on yksi pyöräily-ystävällisimmistä suurkaupungeista koko maailmassa ja se on pyöräilykulttuurin keskus. Vuonna 2011 Amsterdamissa oli arviolta yli 900 000 polkupyörää. Pyörävarkaudet ovat yleisiä; Amsterdamissa varastettiin vuonna 2005 noin 54 000 polkupyörää. Laajan pyörätieverkon ja kaupungin pienen koon takia pyöräily on suurimmalle osalle kaupunkilaisista helpoin tapa liikkua paikasta toiseen. Autojen parkkimaksut kerätään parkkirahastoon ja kunnan liikennerahastoon, joita käytetään autoilun vähentämiseen ja autoilun päästöjen vähentämiseen.\n",
      "Julkinen liikenne Amsterdamissa koostuu lähinnä bussi- ja raitiovaunuverkosta. Jotkut vesikulkuneuvot ovat myös vuokrattavissa. Kaupungissa on myös useita ilmaisia lauttayhteyksiä Amstel-joen yli.\n",
      "Lentoasema\n",
      "Vajaan 18 kilometrin etäisyydellä Amsterdamista sijaitsee Schipholin lentoasema. Se on Hollannin suurin ja matkustajamäärillä mitattuna Euroopan viidenneksi suurin lentoasema. Sen kautta kulki vuonna 2007 yli 47 miljoonaa matkustajaa. Lentoasema on kotikenttä. Lentokenttä on seitsemän metriä merenpinnan alapuolella.Väestö\n",
      "Vuonna 2015 Amsterdamissa oli Alankomaiden tilastokeskuksen mukaan 821 752 asukasta. Suurkaupunkialueella asui 1 313 889 ihmistä. Kaupungin väkiluku on ollut kasvussa 1990-luvun alun jälkeen. Vuonna 1990 Amsterdamissa asui noin 695 000 ihmistä. Sitä ennen väkimäärä oli kuitenkin laskenut usean vuosikymmenen ajan, sillä vuonna 1960 kaupungissa asui noin 870 000 ihmistä.\n",
      "Amsterdamin väestönkasvu on seurausta syntyvyydestä ja maahanmuuttajista. Noin puolet kaupungin asukkaista on syntyperäisiä alankomaalaisia. Kaupunkiin on tullut paljon siirtolaisia Alankomaiden entisistä siirtomaista, kuten Indonesiasta, Surinamista ja entisen Alankomaiden Antillien saarilta. Lisäksi kaupungissa on paljon vierastyöläisiä sekä turvapaikanhakijoita. Asukkaista kolmasosa on tullut Euroopan ulkopuolelta.Kulttuuri\n",
      "Amsterdam on pienuudestaan huolimatta merkittävä kulttuurikaupunki. Arkkitehtuuri on kaupungissa ainutlaatuista kanaalien hallitessa kaupunkikuvaa. Kaupungissa on useita merkittäviä museoita, muun muassa useita Rembrandtin töitä sisältävä valtionmuseo Rijksmuseum, Vincent van Goghin tuotantoon keskittyvä Van Gogh Museum sekä juutalaisvainojen ajoista kertova Anne Frankin talo.\n",
      "Kaupungissa toimii yksi maailman kuuluisimmista orkestereista, Concertgebouw-orkesteri, joka esiintyy Museumpleinin kupeessa sijaitsevassa Concertgebouw-konserttitalossa. Bimhuis (lähellä keskusrautatieasemaa) keskittyy jazz- sekä improvisoituun musiikkiin. Leidseplein on yksi yöelämän keskuksista, ja sen ympäristössä sijaitsevat Melkweg ja Paradiso ovat areenoita monien eri alojen esiintyjille.\n",
      "Kaupunki on kuuluisa monia vuosisatoja vanhasta suvaitsevaisuuden perinteestä ja siitä onkin muodostunut eurooppalaisen vapaamielisyyden vertauskuva. Prostituutio on laillista, ja punaisten lyhtyjen alue ( ), kannabistuotteita myyvät coffee shopit ja monipuolinen yöelämä (baareja ja kahviloita yhteensä noin 1 500) houkuttelevat runsaasti turisteja. Alankomaat ovat kuitenkin päättäneet rajoittaa kannabiksen käyttöä kahviloiden ottaessa käyttöön niin sanotut klubikortit, joita voidaan myöntää vain täysi-ikäisille hollantilaisille.\n",
      "Monumentteja ja rakennuksia\n",
      "Amsterdamin maaperä on huokoista suota. Kovaa hiekkamaata on vasta noin 13 metrin syvyydessä. 1600-luvulta alkaen talot tuettiin paaluttamalla niiden perustukset hiekkamaahan asti. Osa näistä puisista paaluista on mädäntynyt, jolloin talo saattaa vähitellen vajota. Turistikin havaitsee, että vanhat talot voivat olla hiukan vinossa. Vinouden syyksi on esitetty myös tahallista vinoon rakentamista, sillä kanavaan päin kaltevaan taloon voitiin nostaa tavaraa vinssillä helpommin. Tähän viittaa se, että vuonna 1565 määrättiin, että talojen kaltevuus saa olla enintään 1:25.\n",
      "Merkittäviä rakennuksia ja monumentteja:\n",
      "Koninklijk Paleis, kuninkaanlinna\n",
      "Schreierstoren, kyyneltentorni, joka on kaupunginmuurin säilynyt osa\n",
      "tuulimylly De Gooyer\n",
      "Trippenhuis, asekauppiassuvun talo\n",
      "Tiede- ja tekniikkakeskus NEMO, joka esittelee tieteen saavutuksia maallikoille\n",
      "Homomonument, joka on maailman ensimmäinen homoseksuaaleille omistettu muistomerkki, pystytetty toisen maailmansodan homoseksuaalivainojen muistoksi\n",
      "Museoita\n",
      "Amsterdams Historisch Museum\n",
      "Anne Frankin talo\n",
      "Joods Historisch Museum\n",
      "\n",
      "gzip: stdout: Broken pipe\n"
     ]
    }
   ],
   "source": [
    "! zcat fiwiki.txt.gz | head -n 40"
   ]
  },
  {
   "cell_type": "code",
   "execution_count": 5,
   "metadata": {},
   "outputs": [
    {
     "name": "stdout",
     "output_type": "stream",
     "text": [
      "<article name=\"Amsterdam\"> Amsterdam on Alankomaiden pääkaupunki. Amsterdam on väkiluvultaan Alankomaiden suurin kaupunki, huhtikuun alussa 2006 siellä asui 743 905 asukasta eli noin joka 20. hollantilainen asuu Amsterdamissa. Yhteensä Amsterdamissa ja sitä ympäröivällä kaupunkialueella asuu noin 1 450 000 ihmistä eli vajaa kymmenesosa Alankomaiden asukkaista. Amsterdam sijaitsee Amstelin suistossa IJsselmeerin rannalla Alankomaiden Pohjois-Hollannin provinssissa. Vaikka Amsterdam on Alankomaiden perustuslain mukaan maan pääkaupunki, sijaitsevat niin kuningashuone, hallitus, parlamentti kuin korkein oikeuskin Haagissa.Maantiede ja ilmasto Amsterdam sijaitsee tasaisella alankoalueella, ja osa siitä on merenpinnan tason alapuolella. Kaupunki on IJsselmeeriin kuuluvan IJ’n etelärannalla. Amsteljoki virtaa kaupungin läpi. Vauraus johti myös taiteen ja luonnontieteen kehitykseen. Rembrandt, Frans Hals, Vermeer ja Paulus Potter vaikuttivat siihen aikaan, ja heidän työnsä olivat erittäin kysyttyjä vauraamman väestönosan keskuudessa. 1700-luvulla Amsterdamista tuli maailman suurin pankkikeskus, mutta kulta-aika oli loppumassa. Todellinen rappio alkoi Ison-Britannian tuhottua maan laivaston sodassa vuonna 1780. Myös Yhdistynyt Itä-Intian kauppakomppania (VOC) teki vararikon vuonna 1791. Neljä vuotta myöhemmin Napoleon valloitti maan ja se oli taas vieraan vallassa. 1800-luvulla tilanne Amsterdamissa parani, kun Ranskan valta oli alkanut heiketä. Vuosisadan loppupuolella Amsterdamiin perustettiin suuria puistoja ja museoita, ja elintaso kohosi huomattavasti. Alankomaat pysyi ensimmäisen maailmansodan puolueettomana. 1900-luvun alussa ponnistelut keskittyivät lähinnä maankuivaukseen, jolla pyrittiin lisäämään maataloutta ja elintilaa. Toisessa maailmansodassa maa kuitenkin vallattiin vuonna 1940 ja Amsterdamin juutalaisia vietiin keskitysleireihin, joista he eivät ikinä palanneet. Väestö alkoi nähdä nälkää, kun elintarvikkeiden ja polttoaineen jakelu lopetettiin. Maa vapautettiin vasta vuonna 1945. Toisen maailmansodan jälkeen Amsterdamin suvaitsevaisuus houkutteli paljon hippejä ja muita vaihtoehtokulttuurien edustajia. Kun kaupungin vanhoja rakennuksia oltiin purkamassa, aiheutti tämä suuren vastalausemyrskyn. Näin ollen esimerkiksi Jordaanin alue säästyi. Sittemmin Amsterdamista on kehittynyt yksi maailman suosituimmista kaupunkimatkakohteista, johtuen varmasti historiallisesta keskustasta ja ainutlaatuisesta taidehistoriasta. Nykypäivänä amsterdamilaisten huolenaiheena on ilmaston lämpenemisestä johtuva vedenpinnan nousu, joka uhkaa nousta kriittiselle tasolle. Alankomaissa on tehtävä paljon töitä sen eteen.Hallinto Amsterdamia johtaa muiden Alankomaiden kuntien tapaan valtuusto. Amsterdamin kaupunginvaltuustoon valitaan edustajat neljän vuoden välein. Siihen kuuluu 45 jäsentä. Valtuusto puolestaan valitsee keskuudestaan 6–8 raatimiestä raatimieskollegioon, joka esittelee ja toimeenpanee valtuuston päätökset. Valtuusto voi kuitenkin myös hylätä kollegion päätökset. Pormestari on sekä kaupunginvaltuuston että raatimieskollegion puheenjohtaja, mutta hänellä ei ole äänioikeutta valtuustossa. Kaupunginosien määrää on Amsterdamissa vähennetty 1900-luvun lopulta alkaen. Vielä vuonna 1990 niitä oli 16, mutta vuoden 2010 liitoksen jälkeen enää seitsemän. Viimeisimpänä asukasluvultaan pieni Westpoort siirrettiin suoraan keskushallinnon alaisuuteen. Amsterdamin kaupunginosat ovat: Amsterdam-Centrum Amsterdam-Noord Amsterdam Nieuw-West Amsterdam-Oost Amsterdam-West Amsterdam-Zuid Amsterdam ZuidoostTalous Amsterdamin talous perustuu palveluihin, ja vain kymmenesosa työskentelee valmistusteollisuudesta. Kaikista työpaikoista noin viidennes on kiinni kansainvälisessä kaupassa ja liikenteessä. Muita merkittäviä palvelualoja ovat pankki- ja vakuutusala, terveys-, kulttuuri- ja yhteiskunnalliset palvelut sekä matkailu. Amsterdam on kansainvälisen rahatalouden keskus, ja kaupungissa on muun muassa pörssi ja useiden kansainvälisten pankkien toimistoja. Amsterdamin teollisuuslaitokset ovat monipuolisia, vaikka niiden osuus taloudesta on pienentynyt koko ajan. Amsterdamissa on muun muassa laivanrakennusta, öljynjalostusta, ruoan jalostusta ja timanttien hiontaa.Liikenne Amsterdam on yksi pyöräily-ystävällisimmistä suurkaupungeista koko maailmassa ja se on pyöräilykulttuurin keskus. Vuonna 2011 Amsterdamissa oli arviolta yli 900 000 polkupyörää. Pyörävarkaudet ovat yleisiä; Amsterdamissa varastettiin vuonna 2005 noin 54 000 polkupyörää. Laajan pyörätieverkon ja kaupungin pienen koon takia pyöräily on suurimmalle osalle kaupunkilaisista helpoin tapa liikkua paikasta toiseen. Autojen parkkimaksut kerätään parkkirahastoon ja kunnan liikennerahastoon, joita käytetään autoilun vähentämiseen ja autoilun päästöjen vähentämiseen. Julkinen liikenne Amsterdamissa koostuu lähinnä bussi- ja raitiovaunuverkosta. Jotkut vesikulkuneuvot ovat myös vuokrattavissa. Kaupungissa on myös useita ilmaisia lauttayhteyksiä Amstel-joen yli. Lentoasema Vajaan 18 kilometrin etäisyydellä Amsterdamista sijaitsee Schipholin lentoasema. Se on Hollannin suurin ja matkustajamäärillä mitattuna Euroopan viidenneksi suurin lentoasema. Sen kautta kulki vuonna 2007 yli 47 miljoonaa matkustajaa. Lentoasema on kotikenttä. Lentokenttä on seitsemän metriä merenpinnan alapuolella.Väestö Vuonna 2015 Amsterdamissa oli Alankomaiden tilastokeskuksen mukaan 821 752 asukasta. Suurkaupunkialueella asui 1 313 889 ihmistä. Kaupungin väkiluku on ollut kasvussa 1990-luvun alun jälkeen. Vuonna 1990 Amsterdamissa asui noin 695 000 ihmistä. Sitä ennen väkimäärä oli kuitenkin laskenut usean vuosikymmenen ajan, sillä vuonna 1960 kaupungissa asui noin 870 000 ihmistä. Amsterdamin väestönkasvu on seurausta syntyvyydestä ja maahanmuuttajista. Noin puolet kaupungin asukkaista on syntyperäisiä alankomaalaisia. Kaupunkiin on tullut paljon siirtolaisia Alankomaiden entisistä siirtomaista, kuten Indonesiasta, Surinamista ja entisen Alankomaiden Antillien saarilta. Lisäksi kaupungissa on paljon vierastyöläisiä sekä turvapaikanhakijoita. Asukkaista kolmasosa on tullut Euroopan ulkopuolelta.Kulttuuri Amsterdam on pienuudestaan huolimatta merkittävä kulttuurikaupunki. Arkkitehtuuri on kaupungissa ainutlaatuista kanaalien hallitessa kaupunkikuvaa. Kaupungissa on useita merkittäviä museoita, muun muassa useita Rembrandtin töitä sisältävä valtionmuseo Rijksmuseum, Vincent van Goghin tuotantoon keskittyvä Van Gogh Museum sekä juutalaisvainojen ajoista kertova Anne Frankin talo. Kaupungissa toimii yksi maailman kuuluisimmista orkestereista, Concertgebouw-orkesteri, joka esiintyy Museumpleinin kupeessa sijaitsevassa Concertgebouw-konserttitalossa. Bimhuis (lähellä keskusrautatieasemaa) keskittyy jazz- sekä improvisoituun musiikkiin. Leidseplein on yksi yöelämän keskuksista, ja sen ympäristössä sijaitsevat Melkweg ja Paradiso ovat areenoita monien eri alojen esiintyjille. Kaupunki on kuuluisa monia vuosisatoja vanhasta suvaitsevaisuuden perinteestä ja siitä onkin muodostunut eurooppalaisen vapaamielisyyden vertauskuva. Prostituutio on laillista, ja punaisten lyhtyjen alue ( ), kannabistuotteita myyvät coffee shopit ja monipuolinen yöelämä (baareja ja kahviloita yhteensä noin 1 500) houkuttelevat runsaasti turisteja. Alankomaat ovat kuitenkin päättäneet rajoittaa kannabiksen käyttöä kahviloiden ottaessa käyttöön niin sanotut klubikortit, joita voidaan myöntää vain täysi-ikäisille hollantilaisille. Monumentteja ja rakennuksia Amsterdamin maaperä on huokoista suota. Kovaa hiekkamaata on vasta noin 13 metrin syvyydessä. 1600-luvulta alkaen talot tuettiin paaluttamalla niiden perustukset hiekkamaahan asti. Osa näistä puisista paaluista on mädäntynyt, jolloin talo saattaa vähitellen vajota. Turistikin havaitsee, että vanhat talot voivat olla hiukan vinossa. Vinouden syyksi on esitetty myös tahallista vinoon rakentamista, sillä kanavaan päin kaltevaan taloon voitiin nostaa tavaraa vinssillä helpommin. Tähän viittaa se, että vuonna 1565 määrättiin, että talojen kaltevuus saa olla enintään 1:25. Merkittäviä rakennuksia ja monumentteja: Koninklijk Paleis, kuninkaanlinna Schreierstoren, kyyneltentorni, joka on kaupunginmuurin säilynyt osa tuulimylly De Gooyer Trippenhuis, asekauppiassuvun talo Tiede- ja tekniikkakeskus NEMO, joka esittelee tieteen saavutuksia maallikoille Homomonument, joka on maailman ensimmäinen homoseksuaaleille omistettu muistomerkki, pystytetty toisen maailmansodan homoseksuaalivainojen muistoksi Museoita Amsterdams Historisch Museum Anne Frankin talo Joods Historisch Museum Madame Tussauds Netherlands Filmmuseum Rijksmuseum Stedelijk Museum Van Gogh Museum Puistoja Oosterpark VondelparkUrheilu Amsterdamissa pidettiin kesäolympialaiset 1928. Nykyään Amsterdamissa järjestetään vuosittain Amsterdamin maraton. Kaupungissa järjestetään myös useita rullalautailukilpailuja. Kaupungin tunnetuin jalkapalloseura on AFC Ajax. Amsterdamissa on myös muun muassa jääkiekko- ja baseballjoukkueet. Lisäksi kaupungissa on kolme maahockeyseuraa. </article>\n"
     ]
    }
   ],
   "source": [
    "import gzip\n",
    "def articles(gzipfile,max_articles=1000):\n",
    "    \"\"\"A function to yield documents, one at a time\"\"\"\n",
    "    with gzip.open(gzipfile,\"rt\") as f:\n",
    "        article=[]\n",
    "        for line in f:\n",
    "            line=line.strip()\n",
    "            article.append(line)\n",
    "            if line==\"</article>\":\n",
    "                yield \" \".join(article)\n",
    "                max_articles-=1\n",
    "                if max_articles==0:\n",
    "                    break\n",
    "                article=[]\n",
    "\n",
    "for x in articles(\"fiwiki.txt.gz\"):\n",
    "    print(x)\n",
    "    break"
   ]
  },
  {
   "cell_type": "markdown",
   "metadata": {},
   "source": [
    "# Import data to Solr\n",
    "\n",
    "* This can be done in many ways\n",
    "* The pysolr library is easy\n",
    "* Remember to pip install it"
   ]
  },
  {
   "cell_type": "code",
   "execution_count": 8,
   "metadata": {
    "deletable": true,
    "editable": true,
    "id": "7NBo_0BkMH1N",
    "outputId": "7c60c8ec-9002-41ae-808e-1bd342646e39"
   },
   "outputs": [],
   "source": [
    "!pip install pysolr"
   ]
  },
  {
   "cell_type": "code",
   "execution_count": 10,
   "metadata": {
    "deletable": true,
    "editable": true,
    "id": "7NBo_0BkMH1N",
    "outputId": "7c60c8ec-9002-41ae-808e-1bd342646e39"
   },
   "outputs": [
    {
     "data": {
      "text/plain": [
       "'<?xml version=\"1.0\" encoding=\"UTF-8\"?>\\n<response>\\n\\n<lst name=\"responseHeader\">\\n  <int name=\"status\">0</int>\\n  <int name=\"QTime\">890</int>\\n</lst>\\n</response>\\n'"
      ]
     },
     "execution_count": 10,
     "metadata": {},
     "output_type": "execute_result"
    }
   ],
   "source": [
    "import pysolr\n",
    "\n",
    "# Connecting to solr\n",
    "solr = pysolr.Solr(\"http://localhost:8983/solr/mytest\") #<--- note the core name here\n",
    "\n",
    "for docid,wikipage in enumerate(articles(\"fiwiki.txt.gz\",2000)):\n",
    "    document_dict={\"id\":docid,\"article_txt_fi\":wikipage}\n",
    "    solr.add(document_dict) #this would be **much** faster if you add a list of documents at once\n",
    "solr.commit() #commit every now and then, no need to commit after every add()"
   ]
  },
  {
   "cell_type": "markdown",
   "metadata": {},
   "source": [
    "# Why did we name the field article_txt_fi\n",
    "\n",
    "* Anything ending with \\_txt_fi is understood by Solr as \"Finnish text\" in the default configuration\n",
    "* These so called \"dynamic fields\" make testing and quick prototyping a breeze\n",
    "* The field's definition can be inspected under Schema / Field / Load Term Info\n",
    "  * There we see the exact processing done at indexing time and at query time\n",
    "\n",
    "\n",
    "# Query\n",
    "\n",
    "* In the default configuration, there is no \"nice\" google-style user interface (unfortunately)\n",
    "* The admin interface's query function will have to do for now\n",
    "* There are different query parsers in Solr, but let us try the default one:\n",
    "  * df (default field) is article_txt_fi\n",
    "  * select \"hl\" (highlight)\n",
    "  * \"hl.fl\" is article_txt_fi\n",
    "  * the query itself goes under \"q\""
   ]
  },
  {
   "cell_type": "markdown",
   "metadata": {
    "deletable": true,
    "editable": true,
    "id": "9Tc6rxLoMH1O"
   },
   "source": [
    "# Just a handful of the many query types you can post\n",
    "\n",
    "* Amsterdam\n",
    "* Amsterdam kaupunki (same as Amsterdam OR kaupunki)\n",
    "* Am*dam\n",
    "* Amsterdam?\n",
    "* Amstrdam~0.8\n",
    "* \"Amsterdam siirtokunta\"\n",
    "* +Amsterdam -Hollanti -Alankomaat\n",
    "* \"Amsterdam Rotterdam\"~5\n",
    "\n",
    "\n",
    "https://solr.apache.org/guide/8_8/the-standard-query-parser.html\n"
   ]
  },
  {
   "cell_type": "code",
   "execution_count": 29,
   "metadata": {},
   "outputs": [
    {
     "name": "stdout",
     "output_type": "stream",
     "text": [
      "{'id': 'efa4045b-af63-482a-a424-3120e14e7a56', 'article_txt_fi': '<article name=\"Amsterdam\"> Amsterdam on Alankomaiden pääkaupunki. Amsterdam on väkiluvultaan Alankomaiden suurin kaupunki, huhtikuun alussa 2006 siellä asui 743 905 asukasta eli noin joka 20. hollantilainen asuu Amsterdamissa. Yhteensä Amsterdamissa ja sitä ympäröivällä kaupunkialueella asuu noin 1 450 000 ihmistä eli vajaa kymmenesosa Alankomaiden asukkaista. Amsterdam sijaitsee Amstelin suistossa IJsselmeerin rannalla Alankomaiden Pohjois-Hollannin provinssissa. Vaikka Amsterdam on Alankomaiden perustuslain mukaan maan pääkaupunki, sijaitsevat niin kuningashuone, hallitus, parlamentti kuin korkein oikeuskin Haagissa.Maantiede ja ilmasto Amsterdam sijaitsee tasaisella alankoalueella, ja osa siitä on merenpinnan tason alapuolella. Kaupunki on IJsselmeeriin kuuluvan IJ’n etelärannalla. Amsteljoki virtaa kaupungin läpi. Vauraus johti myös taiteen ja luonnontieteen kehitykseen. Rembrandt, Frans Hals, Vermeer ja Paulus Potter vaikuttivat siihen aikaan, ja heidän työnsä olivat erittäin kysyttyjä vauraamman väestönosan keskuudessa. 1700-luvulla Amsterdamista tuli maailman suurin pankkikeskus, mutta kulta-aika oli loppumassa. Todellinen rappio alkoi Ison-Britannian tuhottua maan laivaston sodassa vuonna 1780. Myös Yhdistynyt Itä-Intian kauppakomppania (VOC) teki vararikon vuonna 1791. Neljä vuotta myöhemmin Napoleon valloitti maan ja se oli taas vieraan vallassa. 1800-luvulla tilanne Amsterdamissa parani, kun Ranskan valta oli alkanut heiketä. Vuosisadan loppupuolella Amsterdamiin perustettiin suuria puistoja ja museoita, ja elintaso kohosi huomattavasti. Alankomaat pysyi ensimmäisen maailmansodan puolueettomana. 1900-luvun alussa ponnistelut keskittyivät lähinnä maankuivaukseen, jolla pyrittiin lisäämään maataloutta ja elintilaa. Toisessa maailmansodassa maa kuitenkin vallattiin vuonna 1940 ja Amsterdamin juutalaisia vietiin keskitysleireihin, joista he eivät ikinä palanneet. Väestö alkoi nähdä nälkää, kun elintarvikkeiden ja polttoaineen jakelu lopetettiin. Maa vapautettiin vasta vuonna 1945. Toisen maailmansodan jälkeen Amsterdamin suvaitsevaisuus houkutteli paljon hippejä ja muita vaihtoehtokulttuurien edustajia. Kun kaupungin vanhoja rakennuksia oltiin purkamassa, aiheutti tämä suuren vastalausemyrskyn. Näin ollen esimerkiksi Jordaanin alue säästyi. Sittemmin Amsterdamista on kehittynyt yksi maailman suosituimmista kaupunkimatkakohteista, johtuen varmasti historiallisesta keskustasta ja ainutlaatuisesta taidehistoriasta. Nykypäivänä amsterdamilaisten huolenaiheena on ilmaston lämpenemisestä johtuva vedenpinnan nousu, joka uhkaa nousta kriittiselle tasolle. Alankomaissa on tehtävä paljon töitä sen eteen.Hallinto Amsterdamia johtaa muiden Alankomaiden kuntien tapaan valtuusto. Amsterdamin kaupunginvaltuustoon valitaan edustajat neljän vuoden välein. Siihen kuuluu 45 jäsentä. Valtuusto puolestaan valitsee keskuudestaan 6–8 raatimiestä raatimieskollegioon, joka esittelee ja toimeenpanee valtuuston päätökset. Valtuusto voi kuitenkin myös hylätä kollegion päätökset. Pormestari on sekä kaupunginvaltuuston että raatimieskollegion puheenjohtaja, mutta hänellä ei ole äänioikeutta valtuustossa. Kaupunginosien määrää on Amsterdamissa vähennetty 1900-luvun lopulta alkaen. Vielä vuonna 1990 niitä oli 16, mutta vuoden 2010 liitoksen jälkeen enää seitsemän. Viimeisimpänä asukasluvultaan pieni Westpoort siirrettiin suoraan keskushallinnon alaisuuteen. Amsterdamin kaupunginosat ovat: Amsterdam-Centrum Amsterdam-Noord Amsterdam Nieuw-West Amsterdam-Oost Amsterdam-West Amsterdam-Zuid Amsterdam ZuidoostTalous Amsterdamin talous perustuu palveluihin, ja vain kymmenesosa työskentelee valmistusteollisuudesta. Kaikista työpaikoista noin viidennes on kiinni kansainvälisessä kaupassa ja liikenteessä. Muita merkittäviä palvelualoja ovat pankki- ja vakuutusala, terveys-, kulttuuri- ja yhteiskunnalliset palvelut sekä matkailu. Amsterdam on kansainvälisen rahatalouden keskus, ja kaupungissa on muun muassa pörssi ja useiden kansainvälisten pankkien toimistoja. Amsterdamin teollisuuslaitokset ovat monipuolisia, vaikka niiden osuus taloudesta on pienentynyt koko ajan. Amsterdamissa on muun muassa laivanrakennusta, öljynjalostusta, ruoan jalostusta ja timanttien hiontaa.Liikenne Amsterdam on yksi pyöräily-ystävällisimmistä suurkaupungeista koko maailmassa ja se on pyöräilykulttuurin keskus. Vuonna 2011 Amsterdamissa oli arviolta yli 900 000 polkupyörää. Pyörävarkaudet ovat yleisiä; Amsterdamissa varastettiin vuonna 2005 noin 54 000 polkupyörää. Laajan pyörätieverkon ja kaupungin pienen koon takia pyöräily on suurimmalle osalle kaupunkilaisista helpoin tapa liikkua paikasta toiseen. Autojen parkkimaksut kerätään parkkirahastoon ja kunnan liikennerahastoon, joita käytetään autoilun vähentämiseen ja autoilun päästöjen vähentämiseen. Julkinen liikenne Amsterdamissa koostuu lähinnä bussi- ja raitiovaunuverkosta. Jotkut vesikulkuneuvot ovat myös vuokrattavissa. Kaupungissa on myös useita ilmaisia lauttayhteyksiä Amstel-joen yli. Lentoasema Vajaan 18 kilometrin etäisyydellä Amsterdamista sijaitsee Schipholin lentoasema. Se on Hollannin suurin ja matkustajamäärillä mitattuna Euroopan viidenneksi suurin lentoasema. Sen kautta kulki vuonna 2007 yli 47 miljoonaa matkustajaa. Lentoasema on kotikenttä. Lentokenttä on seitsemän metriä merenpinnan alapuolella.Väestö Vuonna 2015 Amsterdamissa oli Alankomaiden tilastokeskuksen mukaan 821 752 asukasta. Suurkaupunkialueella asui 1 313 889 ihmistä. Kaupungin väkiluku on ollut kasvussa 1990-luvun alun jälkeen. Vuonna 1990 Amsterdamissa asui noin 695 000 ihmistä. Sitä ennen väkimäärä oli kuitenkin laskenut usean vuosikymmenen ajan, sillä vuonna 1960 kaupungissa asui noin 870 000 ihmistä. Amsterdamin väestönkasvu on seurausta syntyvyydestä ja maahanmuuttajista. Noin puolet kaupungin asukkaista on syntyperäisiä alankomaalaisia. Kaupunkiin on tullut paljon siirtolaisia Alankomaiden entisistä siirtomaista, kuten Indonesiasta, Surinamista ja entisen Alankomaiden Antillien saarilta. Lisäksi kaupungissa on paljon vierastyöläisiä sekä turvapaikanhakijoita. Asukkaista kolmasosa on tullut Euroopan ulkopuolelta.Kulttuuri Amsterdam on pienuudestaan huolimatta merkittävä kulttuurikaupunki. Arkkitehtuuri on kaupungissa ainutlaatuista kanaalien hallitessa kaupunkikuvaa. Kaupungissa on useita merkittäviä museoita, muun muassa useita Rembrandtin töitä sisältävä valtionmuseo Rijksmuseum, Vincent van Goghin tuotantoon keskittyvä Van Gogh Museum sekä juutalaisvainojen ajoista kertova Anne Frankin talo. Kaupungissa toimii yksi maailman kuuluisimmista orkestereista, Concertgebouw-orkesteri, joka esiintyy Museumpleinin kupeessa sijaitsevassa Concertgebouw-konserttitalossa. Bimhuis (lähellä keskusrautatieasemaa) keskittyy jazz- sekä improvisoituun musiikkiin. Leidseplein on yksi yöelämän keskuksista, ja sen ympäristössä sijaitsevat Melkweg ja Paradiso ovat areenoita monien eri alojen esiintyjille. Kaupunki on kuuluisa monia vuosisatoja vanhasta suvaitsevaisuuden perinteestä ja siitä onkin muodostunut eurooppalaisen vapaamielisyyden vertauskuva. Prostituutio on laillista, ja punaisten lyhtyjen alue ( ), kannabistuotteita myyvät coffee shopit ja monipuolinen yöelämä (baareja ja kahviloita yhteensä noin 1 500) houkuttelevat runsaasti turisteja. Alankomaat ovat kuitenkin päättäneet rajoittaa kannabiksen käyttöä kahviloiden ottaessa käyttöön niin sanotut klubikortit, joita voidaan myöntää vain täysi-ikäisille hollantilaisille. Monumentteja ja rakennuksia Amsterdamin maaperä on huokoista suota. Kovaa hiekkamaata on vasta noin 13 metrin syvyydessä. 1600-luvulta alkaen talot tuettiin paaluttamalla niiden perustukset hiekkamaahan asti. Osa näistä puisista paaluista on mädäntynyt, jolloin talo saattaa vähitellen vajota. Turistikin havaitsee, että vanhat talot voivat olla hiukan vinossa. Vinouden syyksi on esitetty myös tahallista vinoon rakentamista, sillä kanavaan päin kaltevaan taloon voitiin nostaa tavaraa vinssillä helpommin. Tähän viittaa se, että vuonna 1565 määrättiin, että talojen kaltevuus saa olla enintään 1:25. Merkittäviä rakennuksia ja monumentteja: Koninklijk Paleis, kuninkaanlinna Schreierstoren, kyyneltentorni, joka on kaupunginmuurin säilynyt osa tuulimylly De Gooyer Trippenhuis, asekauppiassuvun talo Tiede- ja tekniikkakeskus NEMO, joka esittelee tieteen saavutuksia maallikoille Homomonument, joka on maailman ensimmäinen homoseksuaaleille omistettu muistomerkki, pystytetty toisen maailmansodan homoseksuaalivainojen muistoksi Museoita Amsterdams Historisch Museum Anne Frankin talo Joods Historisch Museum Madame Tussauds Netherlands Filmmuseum Rijksmuseum Stedelijk Museum Van Gogh Museum Puistoja Oosterpark VondelparkUrheilu Amsterdamissa pidettiin kesäolympialaiset 1928. Nykyään Amsterdamissa järjestetään vuosittain Amsterdamin maraton. Kaupungissa järjestetään myös useita rullalautailukilpailuja. Kaupungin tunnetuin jalkapalloseura on AFC Ajax. Amsterdamissa on myös muun muassa jääkiekko- ja baseballjoukkueet. Lisäksi kaupungissa on kolme maahockeyseuraa. </article>', '_version_': 1693244653131792384}\n",
      "{'efa4045b-af63-482a-a424-3120e14e7a56': {'article_txt_fi': ['<article name=\"<em>Amsterdam</em>\"> <em>Amsterdam</em> on Alankomaiden pääkaupunki. <em>Amsterdam</em> on väkiluvultaan']}, '0': {'article_txt_fi': ['<article name=\"<em>Amsterdam</em>\"> <em>Amsterdam</em> on Alankomaiden pääkaupunki. <em>Amsterdam</em> on väkiluvultaan']}, 'cb349ef1-0b4b-45a9-ad92-27cdc4f6e06c': {'article_txt_fi': ['. Valtioilla saattaa olla useita pääkaupunkeja, kuten Alankomailla (<em>Amsterdam</em>, Haag), Bolivialla (La Paz, Sucre']}, '673': {'article_txt_fi': ['. Valtioilla saattaa olla useita pääkaupunkeja, kuten Alankomailla (<em>Amsterdam</em>, Haag), Bolivialla (La Paz, Sucre']}, '4ba16784-2383-4f46-822a-c42923dfedc5': {'article_txt_fi': [' <em>Amsterdamin</em> ranskalaisten valloitukselta määräämällä patoluukut avattaviksi ja päästämällä tulvan <em>kaupunkiin</em>']}, '1953': {'article_txt_fi': [' <em>Amsterdamin</em> ranskalaisten valloitukselta määräämällä patoluukut avattaviksi ja päästämällä tulvan <em>kaupunkiin</em>']}, '8a59ce84-daba-4042-8df1-a01c00970747': {'article_txt_fi': [' on EU:n kolmanneksi kallein <em>kaupunki</em> mitattuna menoilla asukasta kohti. Bryssel on virallisesti']}, '86': {'article_txt_fi': [' on EU:n kolmanneksi kallein <em>kaupunki</em> mitattuna menoilla asukasta kohti. Bryssel on virallisesti']}, '2a79fba8-62cc-49d9-ac5f-bbbe474d18e1': {'article_txt_fi': [' liikkumaan, on 6 215 kilometriä. Satamia ovat <em>Amsterdam</em>, IJmuiden, Moerdijk, Rotterdam, Terneuzen']}, '5': {'article_txt_fi': [' liikkumaan, on 6 215 kilometriä. Satamia ovat <em>Amsterdam</em>, IJmuiden, Moerdijk, Rotterdam, Terneuzen']}}\n"
     ]
    }
   ],
   "source": [
    "# Search is as easy as indexing\n",
    "\n",
    "params={\"hl\":\"true\", \"hl.fl\":\"article_txt_fi\",\"df\":\"article_txt_fi\"}\n",
    "results=solr.search(\"Amsterdam kaupunki\",**params)\n",
    "#dir(results)\n",
    "for d in results.docs:\n",
    "    print(d)\n",
    "    break\n",
    "print(results.highlighting)\n",
    "    \n"
   ]
  },
  {
   "cell_type": "code",
   "execution_count": null,
   "metadata": {},
   "outputs": [],
   "source": []
  }
 ],
 "metadata": {
  "colab": {
   "name": "04_solr.ipynb",
   "provenance": []
  },
  "kernelspec": {
   "display_name": "Python 3",
   "language": "python",
   "name": "python3"
  },
  "language_info": {
   "codemirror_mode": {
    "name": "ipython",
    "version": 3
   },
   "file_extension": ".py",
   "mimetype": "text/x-python",
   "name": "python",
   "nbconvert_exporter": "python",
   "pygments_lexer": "ipython3",
   "version": "3.8.6"
  }
 },
 "nbformat": 4,
 "nbformat_minor": 4
}
