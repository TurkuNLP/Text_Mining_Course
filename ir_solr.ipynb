{
  "nbformat": 4,
  "nbformat_minor": 0,
  "metadata": {
    "kernelspec": {
      "display_name": "Python 3",
      "language": "python",
      "name": "python3"
    },
    "language_info": {
      "codemirror_mode": {
        "name": "ipython",
        "version": 3
      },
      "file_extension": ".py",
      "mimetype": "text/x-python",
      "name": "python",
      "nbconvert_exporter": "python",
      "pygments_lexer": "ipython3",
      "version": "3.5.2"
    },
    "colab": {
      "name": "04_solr.ipynb",
      "provenance": []
    }
  },
  "cells": [
    {
      "cell_type": "markdown",
      "metadata": {
        "deletable": true,
        "editable": true,
        "id": "wTNi6DatMH0-"
      },
      "source": [
        "# Real search engine\n",
        "\n",
        "* Upgrade from our toy example to something real\n",
        "* Test an industry-grade search engine\n",
        "* Useful skill to have:\n",
        "  * Work with own corpora - powerful search for free\n",
        "  * Custom search and indexing\n",
        "  * Very often needed in the data science industry\n",
        "\n",
        "# Which one?\n",
        "\n",
        "* Apache Solr\n",
        "* Elasticsearch\n",
        "* Vespa.ai\n",
        "* These are the main contestants on the playground\n",
        "* We will go with Apache Solr for no strong reason, the main principles apply to all of them\n",
        "* These are engines (the backend) not interfaces (frontend)\n",
        "  \n",
        "## Solr\n",
        "\n",
        "* Apache project\n",
        "* Search **engine** - not so much the interface\n",
        "  1. Index data\n",
        "  2. Query via HTTP API\n",
        "  3. Collect results in various formats\n",
        "  4. Use them any way you need"
      ]
    },
    {
      "cell_type": "markdown",
      "metadata": {
        "deletable": true,
        "editable": true,
        "id": "YbwfEZA9MH1B"
      },
      "source": [
        "# Installing Solr\n",
        "\n",
        "* For what it is, installing Solr is surprisingly easy\n",
        "* Google \"solr download\" and download the latest version (a single .tgz which you unpack)\n",
        "* Once unpacked, you can start it as follows:"
      ]
    },
    {
      "cell_type": "code",
      "metadata": {
        "deletable": true,
        "editable": true,
        "id": "-RJnpEoZMH1F",
        "outputId": "4c46d8d2-7b26-47b7-fe94-bcb5d97944ca"
      },
      "source": [
        "# Tells solr to start in foreground and listen on port 8983 (the default)\n",
        "# foreground -> occupies the command line and is killed when you exit it (please use!)\n",
        "# background -> releases the command line, doesn't get killed when you exit it -> not what we want!\n",
        "bin/solr start"
      ],
      "execution_count": null,
      "outputs": [
        {
          "output_type": "stream",
          "text": [
            "2017-03-13 11:02:47.824 INFO  (main) [   ] o.e.j.s.Server jetty-9.3.14.v20161028\n",
            "2017-03-13 11:02:48.168 INFO  (main) [   ] o.a.s.s.SolrDispatchFilter  ___      _       Welcome to Apache Solr™ version 6.4.2\n",
            "2017-03-13 11:02:48.168 INFO  (main) [   ] o.a.s.s.SolrDispatchFilter / __| ___| |_ _   Starting in standalone mode on port 16667\n",
            "2017-03-13 11:02:48.168 INFO  (main) [   ] o.a.s.s.SolrDispatchFilter \\__ \\/ _ \\ | '_|  Install dir: /home/ginter/IR_Course/solr-6.4.2\n",
            "2017-03-13 11:02:48.189 INFO  (main) [   ] o.a.s.s.SolrDispatchFilter |___/\\___/_|_|    Start time: 2017-03-13T11:02:48.172Z\n",
            "2017-03-13 11:02:48.209 INFO  (main) [   ] o.a.s.c.SolrResourceLoader Using system property solr.solr.home: /home/ginter/IR_Course/solr-6.4.2/server/solr\n",
            "2017-03-13 11:02:48.217 INFO  (main) [   ] o.a.s.c.SolrXmlConfig Loading container configuration from /home/ginter/IR_Course/solr-6.4.2/server/solr/solr.xml\n",
            "2017-03-13 11:02:48.598 INFO  (main) [   ] o.a.s.u.UpdateShardHandler Creating UpdateShardHandler HTTP client with params: socketTimeout=600000&connTimeout=60000&retry=true\n",
            "2017-03-13 11:02:48.659 INFO  (main) [   ] o.a.s.c.CorePropertiesLocator Found 0 core definitions underneath /home/ginter/IR_Course/solr-6.4.2/server/solr\n",
            "2017-03-13 11:02:48.759 INFO  (main) [   ] o.e.j.s.Server Started @1440ms\n",
            "2017-03-13 11:54:09.426 INFO  (Thread-0) [   ] o.a.s.c.CoreContainer Shutting down CoreContainer instance=1990160809\n",
            "2017-03-13 11:54:09.428 INFO  (Thread-0) [   ] o.a.s.m.SolrMetricManager Closing metric reporters for: solr.node\n"
          ],
          "name": "stdout"
        }
      ]
    },
    {
      "cell_type": "markdown",
      "metadata": {
        "collapsed": true,
        "deletable": true,
        "editable": true,
        "id": "MkDF6J4HMH1G"
      },
      "source": [
        "* After start, I can visit solr at http://127.0.0.1:8983"
      ]
    },
    {
      "cell_type": "markdown",
      "metadata": {
        "deletable": true,
        "editable": true,
        "id": "1_LpgpW0MH1I"
      },
      "source": [
        "# Practical problem:\n",
        "\n",
        "* Solr is quite impossible to run in the Colab environment\n",
        "* You can run it locally\n",
        "* Watch the video of the lecture to see how\n",
        "\n",
        "# Solr cores\n",
        "\n",
        "* Data stored in *cores*\n",
        "* One core - one dataset\n",
        "* (collections of cores not covered here)"
      ]
    },
    {
      "cell_type": "markdown",
      "metadata": {
        "deletable": true,
        "editable": true,
        "id": "Evx9Sc4eMH1I"
      },
      "source": [
        "# Creating a core \n",
        "\n",
        "* Cores are like projects for Solr\n",
        "* One instance of Solr can have multiple cores running simultaneously\n",
        "* Each core has its own data\n"
      ]
    },
    {
      "cell_type": "code",
      "metadata": {
        "collapsed": true,
        "deletable": true,
        "editable": true,
        "id": "8S66VsjAMH1J"
      },
      "source": [
        "bin/solr create_core -c mytest"
      ],
      "execution_count": null,
      "outputs": []
    },
    {
      "cell_type": "markdown",
      "metadata": {
        "deletable": true,
        "editable": true,
        "id": "enPEkC-mMH1J"
      },
      "source": [
        "http://127.0.0.1:8983/solr/#/mytest"
      ]
    },
    {
      "cell_type": "markdown",
      "metadata": {
        "deletable": true,
        "editable": true,
        "id": "WEUZLlFrMH1J"
      },
      "source": [
        "# Adding data\n",
        "\n",
        "* bin/post -c mytest /dir/with/data\n",
        "* .... wait for a while, kill\n",
        "* curl http://127.0.0.1:8983/solr/mytest/update?commit=true\n",
        "* ...and enjoy the result..."
      ]
    },
    {
      "cell_type": "markdown",
      "metadata": {
        "deletable": true,
        "editable": true,
        "id": "2riuW6g9MH1K"
      },
      "source": [
        "# Adding data #2\n",
        "\n",
        "* Let's try to index Wiki Quotes\n",
        "* Do so programmatically to have full control\n",
        "* And use that to learn a bit about the query language\n"
      ]
    },
    {
      "cell_type": "code",
      "metadata": {
        "collapsed": true,
        "deletable": true,
        "editable": true,
        "id": "Wxrpm_PSMH1L"
      },
      "source": [
        "# Assuming we are now in the solr-6.4.2 directory\n",
        "bin/solr create_core -p 16667 -c ir_course -d ~/example_config#ir_course will be the name of the core, change it to whatever you want"
      ],
      "execution_count": null,
      "outputs": []
    },
    {
      "cell_type": "markdown",
      "metadata": {
        "deletable": true,
        "editable": true,
        "id": "OAWeUX6EMH1L"
      },
      "source": [
        "* and now we are ready to index data to our core"
      ]
    },
    {
      "cell_type": "markdown",
      "metadata": {
        "deletable": true,
        "editable": true,
        "id": "nIZaluwPMH1M"
      },
      "source": [
        "# Indexing data with Solr\n",
        "\n",
        "* Using the data we extracted from wikidumps\n",
        "* Each document will have a title and a quote"
      ]
    },
    {
      "cell_type": "markdown",
      "metadata": {
        "deletable": true,
        "editable": true,
        "id": "iZMQgP9EMH1M"
      },
      "source": [
        "Reminder of what our data looked like"
      ]
    },
    {
      "cell_type": "code",
      "metadata": {
        "deletable": true,
        "editable": true,
        "id": "_jZAN-zrMH1M",
        "outputId": "78cae2ac-f6a6-44e8-d324-309f66aca0fb"
      },
      "source": [
        "cat extracted.txt | head -n 50"
      ],
      "execution_count": null,
      "outputs": [
        {
          "output_type": "stream",
          "text": [
            "\r\n",
            "\r\n",
            "###C:Title:Main Page\r\n",
            "\r\n",
            "\r\n",
            "\r\n",
            "\r\n",
            " \r\n",
            "\r\n",
            " \r\n",
            "\r\n",
            "\r\n",
            "\r\n",
            "###C:Start Section\r\n",
            "Wikiquote's sister projects\r\n",
            "\r\n",
            "###C:Start Section\r\n",
            "Wikiquote languages\r\n",
            "\r\n",
            "\r\n",
            "###C:Title:Albert Einstein\r\n",
            "A hundred times every day I remind myself that my inner and outer life are based on the labors of other men, living and dead, and that I must exert myself in order to give in the same measure as I have received and am still receiving...\r\n",
            "A happy man is too satisfied with the present to dwell too much on the future.\r\n",
            "Albert Einstein (14 March 1879 – 18 April 1955) was a theoretical physicist who published the special and general theories of relativity and contributed in other areas of physics. He won the Nobel Prize in physics for his explanation of the photoelectric effect.\r\n",
            "See also\r\n",
            "Albert Einstein and politics\r\n",
            "\r\n",
            "###C:Start Section\r\n",
            "Quotes\r\n",
            "Unthinking respect for authority is the greatest enemy of truth.\r\n",
            "\r\n",
            "###C:Start Section\r\n",
            "1890s\r\n",
            " Un homme heureux est trop content de la présence [du présent] pour penser beaucoup à l'avenir. \r\n",
            " A happy man is too satisfied with the present to dwell too much on the future.\r\n",
            " From \"Mes Projets d'Avenir\", a French essay written at age 17 for a school exam (18 September 1896). The Collected Papers of Albert Einstein Vol. 1 (1987) Doc. 22.\r\n",
            "\r\n",
            "###C:Start Section\r\n",
            "1900s\r\n",
            "Einstein (right) with friends Conrad Habicht and Maurice Solovine, ca. 1903\r\n",
            "The mass of a body is a measure of its energy content.\r\n",
            "Autoritätsdusel ist der größte Feind der Wahrheit.\r\n",
            "Unthinking respect for authority is the greatest enemy of truth.\r\n",
            "Letter to Jost Winteler (1901), quoted in The Private Lives of Albert Einstein by Roger Highfield and Paul Carter (1993),  p. 79. Einstein had been annoyed that Paul Drude, editor of Annalen der Physik, had dismissed out of hand some criticisms Einstein made of Drude's electron theory of metals.\r\n",
            "Lieber Habicht! / Es herrscht ein weihevolles Stillschweigen zwischen uns, so daß es mir fast wie eine sündige Entweihung vorkommt, wenn ich es jetzt durch ein wenig bedeutsames Gepappel unterbreche... / Was machen Sie denn, Sie eingefrorener Walfisch, Sie getrocknetes, eingebüchstes Stück Seele...?\r\n",
            "Dear Habicht, / Such a solemn air of silence has descended between us that I almost feel as if I am committing a sacrilege when I break it now with some inconsequential babble... / What are you up to, you frozen whale, you smoked, dried, canned piece of soul...?\r\n",
            "Opening of a letter to his friend Conrad Habicht in which he describes his four revolutionary Annus Mirabilis papers (18 or 25 May 1905)  Doc. 27\r\n",
            "E = mc²\r\n",
            "The equivalence of mass and energy was originally expressed by the equation m = L/c², which easily translates into the far more well known E = mc² in  Does the Inertia of a Body Depend Upon Its Energy Content? published in the Annalen der Physik (27 September 1905) : \"If a body gives off the energy L in the form of radiation, its mass diminishes by L/c².\"\r\n",
            "In a later statement explaining the ideas expressed by this equation, Einstein summarized: \"It followed from the special theory of relativity that mass and energy are both but different manifestations of the same thing — a somewhat unfamiliar conception for the average mind. Furthermore, the equation E = mc², in which energy is put equal to mass, multiplied by the square of the velocity of light, showed that very small amounts of mass may be converted into a very large amount of energy and vice versa. The mass and energy were in fact equivalent, according to the formula mentioned before. This was demonstrated by Cockcroft and Walton in 1932, experimentally.\" \r\n",
            "cat: write error: Broken pipe\r\n"
          ],
          "name": "stdout"
        }
      ]
    },
    {
      "cell_type": "code",
      "metadata": {
        "deletable": true,
        "editable": true,
        "id": "7NBo_0BkMH1N",
        "outputId": "7c60c8ec-9002-41ae-808e-1bd342646e39"
      },
      "source": [
        "import pysolr\n",
        "\n",
        "def get_quote(filename):\n",
        "    with open(filename, \"r\") as text_file:\n",
        "        iterator = iter(text_file) #An iterator to go through the lines\n",
        "        for line in iterator:\n",
        "            if line.startswith(\"###\"):\n",
        "                ## Title lines that have more than 2 :'s  are quotes that we don't want, e.g. C:Title:User:X\n",
        "                if \"Title\" in line and line.count(\":\") == 2: \n",
        "                    title = line.split(\":\")[-1].strip()\n",
        "                elif \"Title\" in line:\n",
        "                    # No title for the quotes we don't want, so we can easily skip them all\n",
        "                    title = \"\"\n",
        "                else:\n",
        "                    # Skipping one extra line if no Title in the ### line, e.g. C:Start Section, as the next line is not a quote\n",
        "                    next(iterator)\n",
        "            # Skipping empty lines, lines that are too short and all lines when we don't have a title set\n",
        "            elif not line or len(line) < 20 or not title: \n",
        "                continue\n",
        "            else:\n",
        "                # Yielding a quote and a title for it\n",
        "                yield (line.strip(), title)\n",
        "\n",
        "if __name__ == \"__main__\":\n",
        "\n",
        "    # Connecting to solr\n",
        "    solr = pysolr.Solr(\"http://localhost:8983/solr/ir_course\")\n",
        "\n",
        "    quotes = []\n",
        "    for line, title in get_quote(\"extracted.txt\"):\n",
        "        quotes.append({\"source\" : title, \"text\": line})\n",
        "        \n",
        "    print(\"Example quote:\", quotes[0])\n",
        "    print(\"Indexing quotes...\")\n",
        "    solr.add(quotes)\n",
        "    print(\"%d quotes indexed to Solr.\" % len(quotes))\n",
        "\n"
      ],
      "execution_count": null,
      "outputs": [
        {
          "output_type": "stream",
          "text": [
            "Example quote: {'text': 'A hundred times every day I remind myself that my inner and outer life are based on the labors of other men, living and dead, and that I must exert myself in order to give in the same measure as I have received and am still receiving...', 'source': 'Albert Einstein'}\n",
            "Indexing quotes...\n",
            "91713 quotes indexed to Solr.\n"
          ],
          "name": "stdout"
        }
      ]
    },
    {
      "cell_type": "markdown",
      "metadata": {
        "collapsed": true,
        "deletable": true,
        "editable": true,
        "id": "9Tc6rxLoMH1O"
      },
      "source": [
        "# ...now that we have some real data...\n",
        "\n",
        "* http://www.solrtutorial.com/solr-query-syntax.html\n",
        "* text:cat\n",
        "* text:dep*tion\n",
        "* text:dog*\n",
        "* text:dog?\n",
        "* text:deprivation~\n",
        "* text:bitter~0.7\n",
        "* text:\"salt and\"\n",
        "* text:\"cat dog\"~7 http://evex.utu.fi/solr/ir_course/browse?q=text%3A%22cat+dog%22~7\n",
        "* text:\"dog AND (cat OR fish))\"\n",
        "* +text:cat -text:dog\n",
        "* +text:cat +source:Hamlet\n"
      ]
    }
  ]
}