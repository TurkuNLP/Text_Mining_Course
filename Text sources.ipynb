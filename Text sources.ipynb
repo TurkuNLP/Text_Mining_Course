{
 "cells": [
  {
   "cell_type": "markdown",
   "metadata": {},
   "source": [
    "# Where to get text data in quantities\n",
    "\n",
    "These are just a handful of selected examples of typical sources of text for various purposes. We will use some of these in the course.\n",
    "\n",
    "## Medical research articles\n",
    "\n",
    "* 1.2 million full text research articles http://www.ncbi.nlm.nih.gov/pmc/tools/openftlist/\n",
    "* 16+ milion article abstracts http://www.ncbi.nlm.nih.gov/pubmed\n",
    "\n",
    "## Web crawl data\n",
    "\n",
    "* www.commoncrawl.org\n",
    "* 106TB of crawled web content from 1.3 billion pages\n",
    "* You can download it at no cost (other than buying a lot of hard drives)\n",
    "* You can process it at the Amazon cloud\n",
    "\n",
    "## Full archive of Suomi24.fi discussions\n",
    "\n",
    "* Yay! Who wouldn't want that kind of stuff!\n",
    "* [Download here](http://metashare.csc.fi/repository/browse/the-suomi-24-corpus/b4db73da85ce11e4912c005056be118ea699d93902fa49d69b0f4d1e692dd5f1/)\n",
    "* Can be used for research purposes\n",
    "* Is of great interest to sociologists etc! - but they need text mining to help\n",
    "\n",
    "## Finnish Internet Parsebank\n",
    "\n",
    "* About 3.7 billion tokens (words and punctuation) of Finnish crawled on the Internet\n",
    "* Can be used for research purposes\n",
    "* [here](http://bionlp.utu.fi/finnish-internet-parsebank.html)\n",
    "\n",
    "## Focused crawl of a net forum\n",
    "\n",
    "* We will show you an example of how to grab hundreds of thousands of messages from futisforum and extract the text from them\n",
    "* Complements the Suomi24 data\n",
    "* A great source of data for a narrow domain\n",
    "\n",
    "## Wikipedia\n",
    "\n",
    "* https://dumps.wikimedia.org/\n",
    "* Dumps of wikipedia data\n",
    "* About 40 million tokens for Finnish last time I looked\n",
    "* We will show you how to extract the text out of these\n",
    "\n",
    "## Google Ngrams\n",
    "\n",
    "* https://books.google.com/ngrams\n",
    "* Snippets of 5 tokens and their counts extracted from Google books\n",
    "* Available for download\n",
    "\n",
    "# Legality of this all\n",
    "\n",
    "* Finnish copyright law highly restrictive\n",
    "* No \"fair use\" despite popular belief\n",
    "* Before you go ahead and start making money by your new text mining skills, do talk to a lawyer\n",
    "* Personal use for own purposes seems to be okay in the opinion of many (this is not a legal advice)\n"
   ]
  }
 ],
 "metadata": {
  "kernelspec": {
   "display_name": "Python 2",
   "language": "python",
   "name": "python2"
  },
  "language_info": {
   "codemirror_mode": {
    "name": "ipython",
    "version": 2
   },
   "file_extension": ".py",
   "mimetype": "text/x-python",
   "name": "python",
   "nbconvert_exporter": "python",
   "pygments_lexer": "ipython2",
   "version": "2.7.5+"
  }
 },
 "nbformat": 4,
 "nbformat_minor": 0
}
