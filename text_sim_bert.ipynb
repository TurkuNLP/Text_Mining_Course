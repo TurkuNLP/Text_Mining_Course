{
  "nbformat": 4,
  "nbformat_minor": 0,
  "metadata": {
    "colab": {
      "name": "text_sim_bert.ipynb",
      "provenance": [],
      "collapsed_sections": [],
      "authorship_tag": "ABX9TyONAQN2f1EbIsHw7a0xrRM0",
      "include_colab_link": true
    },
    "kernelspec": {
      "name": "python3",
      "display_name": "Python 3"
    },
    "accelerator": "GPU",
    "widgets": {
      "application/vnd.jupyter.widget-state+json": {
        "3bc64ddd15f94813a2a9fd32970b43c3": {
          "model_module": "@jupyter-widgets/controls",
          "model_name": "HBoxModel",
          "state": {
            "_view_name": "HBoxView",
            "_dom_classes": [],
            "_model_name": "HBoxModel",
            "_view_module": "@jupyter-widgets/controls",
            "_model_module_version": "1.5.0",
            "_view_count": null,
            "_view_module_version": "1.5.0",
            "box_style": "",
            "layout": "IPY_MODEL_0be4c832d6e348859e3faa6ed028b706",
            "_model_module": "@jupyter-widgets/controls",
            "children": [
              "IPY_MODEL_bbedf628b9cd4d49b292d884921cb3a3",
              "IPY_MODEL_b0f1fe5255724bf89fdc2c9a4d098fde"
            ]
          }
        },
        "0be4c832d6e348859e3faa6ed028b706": {
          "model_module": "@jupyter-widgets/base",
          "model_name": "LayoutModel",
          "state": {
            "_view_name": "LayoutView",
            "grid_template_rows": null,
            "right": null,
            "justify_content": null,
            "_view_module": "@jupyter-widgets/base",
            "overflow": null,
            "_model_module_version": "1.2.0",
            "_view_count": null,
            "flex_flow": null,
            "width": null,
            "min_width": null,
            "border": null,
            "align_items": null,
            "bottom": null,
            "_model_module": "@jupyter-widgets/base",
            "top": null,
            "grid_column": null,
            "overflow_y": null,
            "overflow_x": null,
            "grid_auto_flow": null,
            "grid_area": null,
            "grid_template_columns": null,
            "flex": null,
            "_model_name": "LayoutModel",
            "justify_items": null,
            "grid_row": null,
            "max_height": null,
            "align_content": null,
            "visibility": null,
            "align_self": null,
            "height": null,
            "min_height": null,
            "padding": null,
            "grid_auto_rows": null,
            "grid_gap": null,
            "max_width": null,
            "order": null,
            "_view_module_version": "1.2.0",
            "grid_template_areas": null,
            "object_position": null,
            "object_fit": null,
            "grid_auto_columns": null,
            "margin": null,
            "display": null,
            "left": null
          }
        },
        "bbedf628b9cd4d49b292d884921cb3a3": {
          "model_module": "@jupyter-widgets/controls",
          "model_name": "FloatProgressModel",
          "state": {
            "_view_name": "ProgressView",
            "style": "IPY_MODEL_cd2f8335afd447dd9a3d50d98e31b1af",
            "_dom_classes": [],
            "description": "Downloading: 100%",
            "_model_name": "FloatProgressModel",
            "bar_style": "success",
            "max": 424343,
            "_view_module": "@jupyter-widgets/controls",
            "_model_module_version": "1.5.0",
            "value": 424343,
            "_view_count": null,
            "_view_module_version": "1.5.0",
            "orientation": "horizontal",
            "min": 0,
            "description_tooltip": null,
            "_model_module": "@jupyter-widgets/controls",
            "layout": "IPY_MODEL_139aa48323a14f07bac04ed684d65e96"
          }
        },
        "b0f1fe5255724bf89fdc2c9a4d098fde": {
          "model_module": "@jupyter-widgets/controls",
          "model_name": "HTMLModel",
          "state": {
            "_view_name": "HTMLView",
            "style": "IPY_MODEL_18cabc40c3444c77b0408590ccda73e7",
            "_dom_classes": [],
            "description": "",
            "_model_name": "HTMLModel",
            "placeholder": "​",
            "_view_module": "@jupyter-widgets/controls",
            "_model_module_version": "1.5.0",
            "value": " 424k/424k [00:00&lt;00:00, 4.36MB/s]",
            "_view_count": null,
            "_view_module_version": "1.5.0",
            "description_tooltip": null,
            "_model_module": "@jupyter-widgets/controls",
            "layout": "IPY_MODEL_7c030000a8d4482e885f580befc93e6a"
          }
        },
        "cd2f8335afd447dd9a3d50d98e31b1af": {
          "model_module": "@jupyter-widgets/controls",
          "model_name": "ProgressStyleModel",
          "state": {
            "_view_name": "StyleView",
            "_model_name": "ProgressStyleModel",
            "description_width": "initial",
            "_view_module": "@jupyter-widgets/base",
            "_model_module_version": "1.5.0",
            "_view_count": null,
            "_view_module_version": "1.2.0",
            "bar_color": null,
            "_model_module": "@jupyter-widgets/controls"
          }
        },
        "139aa48323a14f07bac04ed684d65e96": {
          "model_module": "@jupyter-widgets/base",
          "model_name": "LayoutModel",
          "state": {
            "_view_name": "LayoutView",
            "grid_template_rows": null,
            "right": null,
            "justify_content": null,
            "_view_module": "@jupyter-widgets/base",
            "overflow": null,
            "_model_module_version": "1.2.0",
            "_view_count": null,
            "flex_flow": null,
            "width": null,
            "min_width": null,
            "border": null,
            "align_items": null,
            "bottom": null,
            "_model_module": "@jupyter-widgets/base",
            "top": null,
            "grid_column": null,
            "overflow_y": null,
            "overflow_x": null,
            "grid_auto_flow": null,
            "grid_area": null,
            "grid_template_columns": null,
            "flex": null,
            "_model_name": "LayoutModel",
            "justify_items": null,
            "grid_row": null,
            "max_height": null,
            "align_content": null,
            "visibility": null,
            "align_self": null,
            "height": null,
            "min_height": null,
            "padding": null,
            "grid_auto_rows": null,
            "grid_gap": null,
            "max_width": null,
            "order": null,
            "_view_module_version": "1.2.0",
            "grid_template_areas": null,
            "object_position": null,
            "object_fit": null,
            "grid_auto_columns": null,
            "margin": null,
            "display": null,
            "left": null
          }
        },
        "18cabc40c3444c77b0408590ccda73e7": {
          "model_module": "@jupyter-widgets/controls",
          "model_name": "DescriptionStyleModel",
          "state": {
            "_view_name": "StyleView",
            "_model_name": "DescriptionStyleModel",
            "description_width": "",
            "_view_module": "@jupyter-widgets/base",
            "_model_module_version": "1.5.0",
            "_view_count": null,
            "_view_module_version": "1.2.0",
            "_model_module": "@jupyter-widgets/controls"
          }
        },
        "7c030000a8d4482e885f580befc93e6a": {
          "model_module": "@jupyter-widgets/base",
          "model_name": "LayoutModel",
          "state": {
            "_view_name": "LayoutView",
            "grid_template_rows": null,
            "right": null,
            "justify_content": null,
            "_view_module": "@jupyter-widgets/base",
            "overflow": null,
            "_model_module_version": "1.2.0",
            "_view_count": null,
            "flex_flow": null,
            "width": null,
            "min_width": null,
            "border": null,
            "align_items": null,
            "bottom": null,
            "_model_module": "@jupyter-widgets/base",
            "top": null,
            "grid_column": null,
            "overflow_y": null,
            "overflow_x": null,
            "grid_auto_flow": null,
            "grid_area": null,
            "grid_template_columns": null,
            "flex": null,
            "_model_name": "LayoutModel",
            "justify_items": null,
            "grid_row": null,
            "max_height": null,
            "align_content": null,
            "visibility": null,
            "align_self": null,
            "height": null,
            "min_height": null,
            "padding": null,
            "grid_auto_rows": null,
            "grid_gap": null,
            "max_width": null,
            "order": null,
            "_view_module_version": "1.2.0",
            "grid_template_areas": null,
            "object_position": null,
            "object_fit": null,
            "grid_auto_columns": null,
            "margin": null,
            "display": null,
            "left": null
          }
        },
        "d2c56a811cd843bb80bde0ca1d009632": {
          "model_module": "@jupyter-widgets/controls",
          "model_name": "HBoxModel",
          "state": {
            "_view_name": "HBoxView",
            "_dom_classes": [],
            "_model_name": "HBoxModel",
            "_view_module": "@jupyter-widgets/controls",
            "_model_module_version": "1.5.0",
            "_view_count": null,
            "_view_module_version": "1.5.0",
            "box_style": "",
            "layout": "IPY_MODEL_84634cf8f9474a439f989f66460847c3",
            "_model_module": "@jupyter-widgets/controls",
            "children": [
              "IPY_MODEL_759e08342c0b41af8c7b5033d9b7e54e",
              "IPY_MODEL_0112d51731df46f597e70577426a3c3b"
            ]
          }
        },
        "84634cf8f9474a439f989f66460847c3": {
          "model_module": "@jupyter-widgets/base",
          "model_name": "LayoutModel",
          "state": {
            "_view_name": "LayoutView",
            "grid_template_rows": null,
            "right": null,
            "justify_content": null,
            "_view_module": "@jupyter-widgets/base",
            "overflow": null,
            "_model_module_version": "1.2.0",
            "_view_count": null,
            "flex_flow": null,
            "width": null,
            "min_width": null,
            "border": null,
            "align_items": null,
            "bottom": null,
            "_model_module": "@jupyter-widgets/base",
            "top": null,
            "grid_column": null,
            "overflow_y": null,
            "overflow_x": null,
            "grid_auto_flow": null,
            "grid_area": null,
            "grid_template_columns": null,
            "flex": null,
            "_model_name": "LayoutModel",
            "justify_items": null,
            "grid_row": null,
            "max_height": null,
            "align_content": null,
            "visibility": null,
            "align_self": null,
            "height": null,
            "min_height": null,
            "padding": null,
            "grid_auto_rows": null,
            "grid_gap": null,
            "max_width": null,
            "order": null,
            "_view_module_version": "1.2.0",
            "grid_template_areas": null,
            "object_position": null,
            "object_fit": null,
            "grid_auto_columns": null,
            "margin": null,
            "display": null,
            "left": null
          }
        },
        "759e08342c0b41af8c7b5033d9b7e54e": {
          "model_module": "@jupyter-widgets/controls",
          "model_name": "FloatProgressModel",
          "state": {
            "_view_name": "ProgressView",
            "style": "IPY_MODEL_491e8aab43014d9d984e2416ee6d31b8",
            "_dom_classes": [],
            "description": "Downloading: 100%",
            "_model_name": "FloatProgressModel",
            "bar_style": "success",
            "max": 433,
            "_view_module": "@jupyter-widgets/controls",
            "_model_module_version": "1.5.0",
            "value": 433,
            "_view_count": null,
            "_view_module_version": "1.5.0",
            "orientation": "horizontal",
            "min": 0,
            "description_tooltip": null,
            "_model_module": "@jupyter-widgets/controls",
            "layout": "IPY_MODEL_2520c8c8b5b0437abade8489f8d9badb"
          }
        },
        "0112d51731df46f597e70577426a3c3b": {
          "model_module": "@jupyter-widgets/controls",
          "model_name": "HTMLModel",
          "state": {
            "_view_name": "HTMLView",
            "style": "IPY_MODEL_767220f4361544058401774873682901",
            "_dom_classes": [],
            "description": "",
            "_model_name": "HTMLModel",
            "placeholder": "​",
            "_view_module": "@jupyter-widgets/controls",
            "_model_module_version": "1.5.0",
            "value": " 433/433 [00:00&lt;00:00, 868B/s]",
            "_view_count": null,
            "_view_module_version": "1.5.0",
            "description_tooltip": null,
            "_model_module": "@jupyter-widgets/controls",
            "layout": "IPY_MODEL_00c612766d3c40c19e3863dde0c7e0ed"
          }
        },
        "491e8aab43014d9d984e2416ee6d31b8": {
          "model_module": "@jupyter-widgets/controls",
          "model_name": "ProgressStyleModel",
          "state": {
            "_view_name": "StyleView",
            "_model_name": "ProgressStyleModel",
            "description_width": "initial",
            "_view_module": "@jupyter-widgets/base",
            "_model_module_version": "1.5.0",
            "_view_count": null,
            "_view_module_version": "1.2.0",
            "bar_color": null,
            "_model_module": "@jupyter-widgets/controls"
          }
        },
        "2520c8c8b5b0437abade8489f8d9badb": {
          "model_module": "@jupyter-widgets/base",
          "model_name": "LayoutModel",
          "state": {
            "_view_name": "LayoutView",
            "grid_template_rows": null,
            "right": null,
            "justify_content": null,
            "_view_module": "@jupyter-widgets/base",
            "overflow": null,
            "_model_module_version": "1.2.0",
            "_view_count": null,
            "flex_flow": null,
            "width": null,
            "min_width": null,
            "border": null,
            "align_items": null,
            "bottom": null,
            "_model_module": "@jupyter-widgets/base",
            "top": null,
            "grid_column": null,
            "overflow_y": null,
            "overflow_x": null,
            "grid_auto_flow": null,
            "grid_area": null,
            "grid_template_columns": null,
            "flex": null,
            "_model_name": "LayoutModel",
            "justify_items": null,
            "grid_row": null,
            "max_height": null,
            "align_content": null,
            "visibility": null,
            "align_self": null,
            "height": null,
            "min_height": null,
            "padding": null,
            "grid_auto_rows": null,
            "grid_gap": null,
            "max_width": null,
            "order": null,
            "_view_module_version": "1.2.0",
            "grid_template_areas": null,
            "object_position": null,
            "object_fit": null,
            "grid_auto_columns": null,
            "margin": null,
            "display": null,
            "left": null
          }
        },
        "767220f4361544058401774873682901": {
          "model_module": "@jupyter-widgets/controls",
          "model_name": "DescriptionStyleModel",
          "state": {
            "_view_name": "StyleView",
            "_model_name": "DescriptionStyleModel",
            "description_width": "",
            "_view_module": "@jupyter-widgets/base",
            "_model_module_version": "1.5.0",
            "_view_count": null,
            "_view_module_version": "1.2.0",
            "_model_module": "@jupyter-widgets/controls"
          }
        },
        "00c612766d3c40c19e3863dde0c7e0ed": {
          "model_module": "@jupyter-widgets/base",
          "model_name": "LayoutModel",
          "state": {
            "_view_name": "LayoutView",
            "grid_template_rows": null,
            "right": null,
            "justify_content": null,
            "_view_module": "@jupyter-widgets/base",
            "overflow": null,
            "_model_module_version": "1.2.0",
            "_view_count": null,
            "flex_flow": null,
            "width": null,
            "min_width": null,
            "border": null,
            "align_items": null,
            "bottom": null,
            "_model_module": "@jupyter-widgets/base",
            "top": null,
            "grid_column": null,
            "overflow_y": null,
            "overflow_x": null,
            "grid_auto_flow": null,
            "grid_area": null,
            "grid_template_columns": null,
            "flex": null,
            "_model_name": "LayoutModel",
            "justify_items": null,
            "grid_row": null,
            "max_height": null,
            "align_content": null,
            "visibility": null,
            "align_self": null,
            "height": null,
            "min_height": null,
            "padding": null,
            "grid_auto_rows": null,
            "grid_gap": null,
            "max_width": null,
            "order": null,
            "_view_module_version": "1.2.0",
            "grid_template_areas": null,
            "object_position": null,
            "object_fit": null,
            "grid_auto_columns": null,
            "margin": null,
            "display": null,
            "left": null
          }
        },
        "7729ca6066a94dca9bed834451bb3a9a": {
          "model_module": "@jupyter-widgets/controls",
          "model_name": "HBoxModel",
          "state": {
            "_view_name": "HBoxView",
            "_dom_classes": [],
            "_model_name": "HBoxModel",
            "_view_module": "@jupyter-widgets/controls",
            "_model_module_version": "1.5.0",
            "_view_count": null,
            "_view_module_version": "1.5.0",
            "box_style": "",
            "layout": "IPY_MODEL_bb9839e71a184951b8746f2adb6870ae",
            "_model_module": "@jupyter-widgets/controls",
            "children": [
              "IPY_MODEL_3799771d5a704b6e99c03d500270869e",
              "IPY_MODEL_9ceb108592e946ab9dd485fffc834296"
            ]
          }
        },
        "bb9839e71a184951b8746f2adb6870ae": {
          "model_module": "@jupyter-widgets/base",
          "model_name": "LayoutModel",
          "state": {
            "_view_name": "LayoutView",
            "grid_template_rows": null,
            "right": null,
            "justify_content": null,
            "_view_module": "@jupyter-widgets/base",
            "overflow": null,
            "_model_module_version": "1.2.0",
            "_view_count": null,
            "flex_flow": null,
            "width": null,
            "min_width": null,
            "border": null,
            "align_items": null,
            "bottom": null,
            "_model_module": "@jupyter-widgets/base",
            "top": null,
            "grid_column": null,
            "overflow_y": null,
            "overflow_x": null,
            "grid_auto_flow": null,
            "grid_area": null,
            "grid_template_columns": null,
            "flex": null,
            "_model_name": "LayoutModel",
            "justify_items": null,
            "grid_row": null,
            "max_height": null,
            "align_content": null,
            "visibility": null,
            "align_self": null,
            "height": null,
            "min_height": null,
            "padding": null,
            "grid_auto_rows": null,
            "grid_gap": null,
            "max_width": null,
            "order": null,
            "_view_module_version": "1.2.0",
            "grid_template_areas": null,
            "object_position": null,
            "object_fit": null,
            "grid_auto_columns": null,
            "margin": null,
            "display": null,
            "left": null
          }
        },
        "3799771d5a704b6e99c03d500270869e": {
          "model_module": "@jupyter-widgets/controls",
          "model_name": "FloatProgressModel",
          "state": {
            "_view_name": "ProgressView",
            "style": "IPY_MODEL_57594a67285343749c6d4752d4ee9bd7",
            "_dom_classes": [],
            "description": "Downloading: 100%",
            "_model_name": "FloatProgressModel",
            "bar_style": "success",
            "max": 500709232,
            "_view_module": "@jupyter-widgets/controls",
            "_model_module_version": "1.5.0",
            "value": 500709232,
            "_view_count": null,
            "_view_module_version": "1.5.0",
            "orientation": "horizontal",
            "min": 0,
            "description_tooltip": null,
            "_model_module": "@jupyter-widgets/controls",
            "layout": "IPY_MODEL_81b54df72ca140498b154e19cbe0b37c"
          }
        },
        "9ceb108592e946ab9dd485fffc834296": {
          "model_module": "@jupyter-widgets/controls",
          "model_name": "HTMLModel",
          "state": {
            "_view_name": "HTMLView",
            "style": "IPY_MODEL_ecf11c804aa446c396cd9f31f09c1bc9",
            "_dom_classes": [],
            "description": "",
            "_model_name": "HTMLModel",
            "placeholder": "​",
            "_view_module": "@jupyter-widgets/controls",
            "_model_module_version": "1.5.0",
            "value": " 501M/501M [01:25&lt;00:00, 5.85MB/s]",
            "_view_count": null,
            "_view_module_version": "1.5.0",
            "description_tooltip": null,
            "_model_module": "@jupyter-widgets/controls",
            "layout": "IPY_MODEL_b0936373a9ba47c6b614a7fa3092da84"
          }
        },
        "57594a67285343749c6d4752d4ee9bd7": {
          "model_module": "@jupyter-widgets/controls",
          "model_name": "ProgressStyleModel",
          "state": {
            "_view_name": "StyleView",
            "_model_name": "ProgressStyleModel",
            "description_width": "initial",
            "_view_module": "@jupyter-widgets/base",
            "_model_module_version": "1.5.0",
            "_view_count": null,
            "_view_module_version": "1.2.0",
            "bar_color": null,
            "_model_module": "@jupyter-widgets/controls"
          }
        },
        "81b54df72ca140498b154e19cbe0b37c": {
          "model_module": "@jupyter-widgets/base",
          "model_name": "LayoutModel",
          "state": {
            "_view_name": "LayoutView",
            "grid_template_rows": null,
            "right": null,
            "justify_content": null,
            "_view_module": "@jupyter-widgets/base",
            "overflow": null,
            "_model_module_version": "1.2.0",
            "_view_count": null,
            "flex_flow": null,
            "width": null,
            "min_width": null,
            "border": null,
            "align_items": null,
            "bottom": null,
            "_model_module": "@jupyter-widgets/base",
            "top": null,
            "grid_column": null,
            "overflow_y": null,
            "overflow_x": null,
            "grid_auto_flow": null,
            "grid_area": null,
            "grid_template_columns": null,
            "flex": null,
            "_model_name": "LayoutModel",
            "justify_items": null,
            "grid_row": null,
            "max_height": null,
            "align_content": null,
            "visibility": null,
            "align_self": null,
            "height": null,
            "min_height": null,
            "padding": null,
            "grid_auto_rows": null,
            "grid_gap": null,
            "max_width": null,
            "order": null,
            "_view_module_version": "1.2.0",
            "grid_template_areas": null,
            "object_position": null,
            "object_fit": null,
            "grid_auto_columns": null,
            "margin": null,
            "display": null,
            "left": null
          }
        },
        "ecf11c804aa446c396cd9f31f09c1bc9": {
          "model_module": "@jupyter-widgets/controls",
          "model_name": "DescriptionStyleModel",
          "state": {
            "_view_name": "StyleView",
            "_model_name": "DescriptionStyleModel",
            "description_width": "",
            "_view_module": "@jupyter-widgets/base",
            "_model_module_version": "1.5.0",
            "_view_count": null,
            "_view_module_version": "1.2.0",
            "_model_module": "@jupyter-widgets/controls"
          }
        },
        "b0936373a9ba47c6b614a7fa3092da84": {
          "model_module": "@jupyter-widgets/base",
          "model_name": "LayoutModel",
          "state": {
            "_view_name": "LayoutView",
            "grid_template_rows": null,
            "right": null,
            "justify_content": null,
            "_view_module": "@jupyter-widgets/base",
            "overflow": null,
            "_model_module_version": "1.2.0",
            "_view_count": null,
            "flex_flow": null,
            "width": null,
            "min_width": null,
            "border": null,
            "align_items": null,
            "bottom": null,
            "_model_module": "@jupyter-widgets/base",
            "top": null,
            "grid_column": null,
            "overflow_y": null,
            "overflow_x": null,
            "grid_auto_flow": null,
            "grid_area": null,
            "grid_template_columns": null,
            "flex": null,
            "_model_name": "LayoutModel",
            "justify_items": null,
            "grid_row": null,
            "max_height": null,
            "align_content": null,
            "visibility": null,
            "align_self": null,
            "height": null,
            "min_height": null,
            "padding": null,
            "grid_auto_rows": null,
            "grid_gap": null,
            "max_width": null,
            "order": null,
            "_view_module_version": "1.2.0",
            "grid_template_areas": null,
            "object_position": null,
            "object_fit": null,
            "grid_auto_columns": null,
            "margin": null,
            "display": null,
            "left": null
          }
        }
      }
    }
  },
  "cells": [
    {
      "cell_type": "markdown",
      "metadata": {
        "id": "view-in-github",
        "colab_type": "text"
      },
      "source": [
        "<a href=\"https://colab.research.google.com/github/TurkuNLP/Text_Mining_Course/blob/master/text_sim_bert.ipynb\" target=\"_parent\"><img src=\"https://colab.research.google.com/assets/colab-badge.svg\" alt=\"Open In Colab\"/></a>"
      ]
    },
    {
      "cell_type": "markdown",
      "metadata": {
        "id": "Y1c4TskcyW4s"
      },
      "source": [
        "# Text similarity / neural models\n",
        "\n",
        "* TF-IDF does not take into account semantic similarity / paraphrasing\n",
        "* Paraphrase: same meaning, different wording\n",
        "* Low lexical overlap (different wording) means erroneously low TF-IDF similarity\n",
        "* In the ideal case, one would capture meaning regardless of wording\n",
        "* This is ongoing research, no silver bullet solutions, but steady progress in this direction can be observed!"
      ]
    },
    {
      "cell_type": "markdown",
      "metadata": {
        "id": "GTRHl9noy4sv"
      },
      "source": [
        "# BERT -based similarity\n",
        "\n",
        "* The BERT model can be seen as a device to turn input text into dense vector representation\n",
        "* We will see it does not capture paraphrasing all that well, but we can use it as a suitable model to learn how to manipulate embeddings produced by neural models and gain intuition into the model's out-of-the-box capabilities\n"
      ]
    },
    {
      "cell_type": "code",
      "metadata": {
        "colab": {
          "base_uri": "https://localhost:8080/"
        },
        "id": "W6ak2sMnmdEJ",
        "outputId": "c0fb96b2-b386-4ce5-bccb-300e799d1b6e"
      },
      "source": [
        "!wget http://dl.turkunlp.org/textual-data-analysis-course-data/hs_yle_spring_2020.json.gz"
      ],
      "execution_count": 1,
      "outputs": [
        {
          "output_type": "stream",
          "text": [
            "--2021-03-09 20:15:35--  http://dl.turkunlp.org/textual-data-analysis-course-data/hs_yle_spring_2020.json.gz\n",
            "Resolving dl.turkunlp.org (dl.turkunlp.org)... 195.148.30.23\n",
            "Connecting to dl.turkunlp.org (dl.turkunlp.org)|195.148.30.23|:80... connected.\n",
            "HTTP request sent, awaiting response... 200 OK\n",
            "Length: 20590829 (20M) [application/octet-stream]\n",
            "Saving to: ‘hs_yle_spring_2020.json.gz’\n",
            "\n",
            "hs_yle_spring_2020. 100%[===================>]  19.64M  6.99MB/s    in 2.8s    \n",
            "\n",
            "2021-03-09 20:15:38 (6.99 MB/s) - ‘hs_yle_spring_2020.json.gz’ saved [20590829/20590829]\n",
            "\n"
          ],
          "name": "stdout"
        }
      ]
    },
    {
      "cell_type": "code",
      "metadata": {
        "id": "I3MPtvZwWR4L"
      },
      "source": [
        "import json\n",
        "import gzip\n",
        "from pprint import pprint  #pprint is prettyprint\n",
        "\n",
        "with gzip.open(\"hs_yle_spring_2020.json.gz\") as f:\n",
        "    news_data=json.load(f)\n"
      ],
      "execution_count": 2,
      "outputs": []
    },
    {
      "cell_type": "code",
      "metadata": {
        "colab": {
          "base_uri": "https://localhost:8080/"
        },
        "id": "FhcACaWoaEnY",
        "outputId": "e69a0df6-1036-4e3f-ea77-3039a077c035"
      },
      "source": [
        "yle=news_data[\"2020\"][\"01\"][\"yle-text\"]\n",
        "hs=news_data[\"2020\"][\"01\"][\"hs-text\"]\n",
        "\n",
        "#Let us split the data into sentences...\n",
        "!pip3 install ufal.udpipe\n"
      ],
      "execution_count": 3,
      "outputs": [
        {
          "output_type": "stream",
          "text": [
            "Collecting ufal.udpipe\n",
            "\u001b[?25l  Downloading https://files.pythonhosted.org/packages/e5/72/2b8b9dc7c80017c790bb3308bbad34b57accfed2ac2f1f4ab252ff4e9cb2/ufal.udpipe-1.2.0.3.tar.gz (304kB)\n",
            "\r\u001b[K     |█                               | 10kB 17.5MB/s eta 0:00:01\r\u001b[K     |██▏                             | 20kB 23.0MB/s eta 0:00:01\r\u001b[K     |███▎                            | 30kB 20.6MB/s eta 0:00:01\r\u001b[K     |████▎                           | 40kB 23.6MB/s eta 0:00:01\r\u001b[K     |█████▍                          | 51kB 24.4MB/s eta 0:00:01\r\u001b[K     |██████▌                         | 61kB 26.1MB/s eta 0:00:01\r\u001b[K     |███████▌                        | 71kB 17.8MB/s eta 0:00:01\r\u001b[K     |████████▋                       | 81kB 18.9MB/s eta 0:00:01\r\u001b[K     |█████████▊                      | 92kB 17.8MB/s eta 0:00:01\r\u001b[K     |██████████▊                     | 102kB 17.7MB/s eta 0:00:01\r\u001b[K     |███████████▉                    | 112kB 17.7MB/s eta 0:00:01\r\u001b[K     |█████████████                   | 122kB 17.7MB/s eta 0:00:01\r\u001b[K     |██████████████                  | 133kB 17.7MB/s eta 0:00:01\r\u001b[K     |███████████████                 | 143kB 17.7MB/s eta 0:00:01\r\u001b[K     |████████████████▏               | 153kB 17.7MB/s eta 0:00:01\r\u001b[K     |█████████████████▎              | 163kB 17.7MB/s eta 0:00:01\r\u001b[K     |██████████████████▎             | 174kB 17.7MB/s eta 0:00:01\r\u001b[K     |███████████████████▍            | 184kB 17.7MB/s eta 0:00:01\r\u001b[K     |████████████████████▌           | 194kB 17.7MB/s eta 0:00:01\r\u001b[K     |█████████████████████▌          | 204kB 17.7MB/s eta 0:00:01\r\u001b[K     |██████████████████████▋         | 215kB 17.7MB/s eta 0:00:01\r\u001b[K     |███████████████████████▊        | 225kB 17.7MB/s eta 0:00:01\r\u001b[K     |████████████████████████▉       | 235kB 17.7MB/s eta 0:00:01\r\u001b[K     |█████████████████████████▉      | 245kB 17.7MB/s eta 0:00:01\r\u001b[K     |███████████████████████████     | 256kB 17.7MB/s eta 0:00:01\r\u001b[K     |████████████████████████████    | 266kB 17.7MB/s eta 0:00:01\r\u001b[K     |█████████████████████████████   | 276kB 17.7MB/s eta 0:00:01\r\u001b[K     |██████████████████████████████▏ | 286kB 17.7MB/s eta 0:00:01\r\u001b[K     |███████████████████████████████▎| 296kB 17.7MB/s eta 0:00:01\r\u001b[K     |████████████████████████████████| 307kB 17.7MB/s \n",
            "\u001b[?25hBuilding wheels for collected packages: ufal.udpipe\n",
            "  Building wheel for ufal.udpipe (setup.py) ... \u001b[?25l\u001b[?25hdone\n",
            "  Created wheel for ufal.udpipe: filename=ufal.udpipe-1.2.0.3-cp37-cp37m-linux_x86_64.whl size=5626553 sha256=ed98775a1b7dac63ddba3dcaa6f82ed5f6a2d3636ba117cccb2259cedaf68a08\n",
            "  Stored in directory: /root/.cache/pip/wheels/0c/9d/db/6d3404c33da5b7adb6c6972853efb6a27649d3ba15f7e9bebb\n",
            "Successfully built ufal.udpipe\n",
            "Installing collected packages: ufal.udpipe\n",
            "Successfully installed ufal.udpipe-1.2.0.3\n"
          ],
          "name": "stdout"
        }
      ]
    },
    {
      "cell_type": "code",
      "metadata": {
        "colab": {
          "base_uri": "https://localhost:8080/"
        },
        "id": "twEy-s5ob4jD",
        "outputId": "5432ee87-1de7-4a19-f6a9-dcb9c7ab2644"
      },
      "source": [
        "!wget -nc -O fi_model.udpipe https://lindat.mff.cuni.cz/repository/xmlui/bitstream/handle/11234/1-3131/finnish-tdt-ud-2.5-191206.udpipe?sequence=25&isAllowed=y\n"
      ],
      "execution_count": 4,
      "outputs": [
        {
          "output_type": "stream",
          "text": [
            "--2021-03-09 20:18:32--  https://lindat.mff.cuni.cz/repository/xmlui/bitstream/handle/11234/1-3131/finnish-tdt-ud-2.5-191206.udpipe?sequence=25\n",
            "Resolving lindat.mff.cuni.cz (lindat.mff.cuni.cz)... 195.113.20.140\n",
            "Connecting to lindat.mff.cuni.cz (lindat.mff.cuni.cz)|195.113.20.140|:443... connected.\n",
            "HTTP request sent, awaiting response... 200 OK\n",
            "Length: 21613253 (21M) [application/octet-stream]\n",
            "Saving to: ‘fi_model.udpipe’\n",
            "\n",
            "fi_model.udpipe     100%[===================>]  20.61M  15.4MB/s    in 1.3s    \n",
            "\n",
            "2021-03-09 20:18:34 (15.4 MB/s) - ‘fi_model.udpipe’ saved [21613253/21613253]\n",
            "\n"
          ],
          "name": "stdout"
        }
      ]
    },
    {
      "cell_type": "code",
      "metadata": {
        "id": "RckXtAZ-cIzb"
      },
      "source": [
        "import ufal.udpipe as udpipe\n",
        "\n",
        "model = udpipe.Model.load(\"fi_model.udpipe\")\n",
        "pipeline = udpipe.Pipeline(model,\"tokenize\",\"none\",\"none\",\"horizontal\")\n"
      ],
      "execution_count": 5,
      "outputs": []
    },
    {
      "cell_type": "code",
      "metadata": {
        "colab": {
          "base_uri": "https://localhost:8080/"
        },
        "id": "Y1_sdC2hcccl",
        "outputId": "98d1a95e-7485-4bd7-be90-a19c52509993"
      },
      "source": [
        "print(pipeline.process(yle[0][\"text\"]))"
      ],
      "execution_count": 6,
      "outputs": [
        {
          "output_type": "stream",
          "text": [
            "Helsingin Kansalaistorin juhlat sujuivat mallikkaasti – poliisi torui muualla kaupungissa nuoria rakettien ampumisesta ihmisiä päin Helsingin Kansalaistorille oli kerääntynyt juhlimaan vuoden vaihtumista arviolta 85 000 ihmistä .\n",
            "Helsingin poliisi kertoo saaneensa kymmeniä ilmoituksia ilotulitteiden väärinkäytöksistä ympäri kaupunkia .\n",
            "Poliisin johtokeskuksesta kerrottiin yöllä , että poliisi oli saanut iltakymmeneen mennessä kymmeniä ilmoituksia väärinkäytöksistä .\n",
            "Poliisin mukaan nuorisoporukat ovat ampuneet ilotulitteita ihmisiä , autoja ja rakennuksia päin .\n",
            "Ilotulitteita ammuttiin myös sellaisilla alueilla , missä niiden ampuminen on kiellettyä .\n",
            "Kansalaistorilla noin 85 000 ihmistä Helsingin kansalaistorilla järjestettiin musiikkia ja ilotulituksen sisältävä uudenvuoden juhla .\n",
            "Järjestäjän arvion mukaan Kansalaistorille oli kerääntynyt juhlimaan vuoden vaihtumista arviolta 85 000 ihmistä .\n",
            "Juhlinta sujui mallikkaasti , eikä poliisin tietoon tullut juhlapaikalta ilmoituksia vakavammista levottomuuksista tai väärinkäytöksistä .\n",
            "Kansalaistorilla uuden vuosikymmenen vaihtumista tähdittivät kansainvälistä uraa luonut Alma , kotimaiset räppärit Pyhimys ja Gasellit sekä lasten suosikki Pikku Papun Orkesteri & Blind Gut Company .\n",
            "Yleisöä tanssitti myös DJ Windows95man .\n",
            "Katso Kansalaistorin konsertin tallenne :\n",
            "\n"
          ],
          "name": "stdout"
        }
      ]
    },
    {
      "cell_type": "code",
      "metadata": {
        "colab": {
          "base_uri": "https://localhost:8080/"
        },
        "id": "IQOR-aLQcyK1",
        "outputId": "69d9342e-530a-4582-ff20-5d3f275294dc"
      },
      "source": [
        "import tqdm\n",
        "for d in tqdm.tqdm(yle[:len(yle)//4]):\n",
        "    d[\"segmented\"]=pipeline.process(d[\"text\"]).strip().split(\"\\n\")[:4]\n",
        "for d in tqdm.tqdm(hs[:len(hs)//4]):\n",
        "    d[\"segmented\"]=pipeline.process(d[\"text\"]).strip().split(\"\\n\")[:4]"
      ],
      "execution_count": 7,
      "outputs": [
        {
          "output_type": "stream",
          "text": [
            "100%|██████████| 480/480 [00:08<00:00, 53.58it/s]\n",
            "100%|██████████| 1770/1770 [00:31<00:00, 56.52it/s]\n"
          ],
          "name": "stderr"
        }
      ]
    },
    {
      "cell_type": "code",
      "metadata": {
        "colab": {
          "base_uri": "https://localhost:8080/"
        },
        "id": "SDkz6jfXdZVW",
        "outputId": "e1b63d0f-4a55-497d-8748-13c7459f0bdf"
      },
      "source": [
        "print(yle[0][\"segmented\"])"
      ],
      "execution_count": 9,
      "outputs": [
        {
          "output_type": "stream",
          "text": [
            "['Helsingin Kansalaistorin juhlat sujuivat mallikkaasti – poliisi torui muualla kaupungissa nuoria rakettien ampumisesta ihmisiä päin Helsingin Kansalaistorille oli kerääntynyt juhlimaan vuoden vaihtumista arviolta 85\\xa0000 ihmistä .', 'Helsingin poliisi kertoo saaneensa kymmeniä ilmoituksia ilotulitteiden väärinkäytöksistä ympäri kaupunkia .', 'Poliisin johtokeskuksesta kerrottiin yöllä , että poliisi oli saanut iltakymmeneen mennessä kymmeniä ilmoituksia väärinkäytöksistä .', 'Poliisin mukaan nuorisoporukat ovat ampuneet ilotulitteita ihmisiä , autoja ja rakennuksia päin .']\n"
          ],
          "name": "stdout"
        }
      ]
    },
    {
      "cell_type": "code",
      "metadata": {
        "colab": {
          "base_uri": "https://localhost:8080/"
        },
        "id": "qDbvbFvUe76d",
        "outputId": "72f2b350-2433-4e0f-e5f8-e44bad8f6d4d"
      },
      "source": [
        "all_sentences=[]\n",
        "for d in yle:\n",
        "    all_sentences.extend(d.get(\"segmented\",[]))\n",
        "for d in hs:\n",
        "    all_sentences.extend(d.get(\"segmented\",[]))\n",
        "unique_sentences=list(set(all_sentences))\n",
        "unique_sentences.sort()\n",
        "print(\"All unique sentences\",len(unique_sentences))\n",
        "for s in unique_sentences[:10]:\n",
        "    print(s)"
      ],
      "execution_count": 17,
      "outputs": [
        {
          "output_type": "stream",
          "text": [
            "All unique sentences 5331\n",
            "\n",
            "\" Ei työssäkäyvän ihmisen talous siihen kaadu \"\n",
            "\" Esimiehet pyörisivät yksin töissä ilman työntekijöitä \"\n",
            "\" Hankitaan vain kirjoja , jotka ovat saaneet megakohun aikaan \"\n",
            "\" Huolestunut vihje voi tulla pankista tai kaupan kassalta \"\n",
            "\" Huono yhteistyö ei ole laitonta , se on vain hankalaa \"\n",
            "\" Iskujen tarkoituksena ei ollut tappaa USA:n sotilaita , mutta operaatio amerikkalaisjoukkojen pois ajamiseksi jatkuu \"\n",
            "\" Juoksi keittiöön ja nappasi leipäveitsen käteen \" – vartijat joutuvat yhä useammin turvaamaan kotihoidon työntekijöiden kotikäyntejä\n",
            "\" Lasten ja vanhempien mielikuvitus on laiskistunut \" – 8 vinkkiä lumettomiin lomapäiviin\n",
            "\" Menestystarina on auennut \"\n"
          ],
          "name": "stdout"
        }
      ]
    },
    {
      "cell_type": "code",
      "metadata": {
        "colab": {
          "base_uri": "https://localhost:8080/"
        },
        "id": "nVOt-7HBfscz",
        "outputId": "78e9ef3b-81be-4228-839a-425332a754cf"
      },
      "source": [
        "!pip3 install transformers\n",
        "import transformers"
      ],
      "execution_count": 11,
      "outputs": [
        {
          "output_type": "stream",
          "text": [
            "Collecting transformers\n",
            "\u001b[?25l  Downloading https://files.pythonhosted.org/packages/f9/54/5ca07ec9569d2f232f3166de5457b63943882f7950ddfcc887732fc7fb23/transformers-4.3.3-py3-none-any.whl (1.9MB)\n",
            "\r\u001b[K     |▏                               | 10kB 22.3MB/s eta 0:00:01\r\u001b[K     |▍                               | 20kB 30.2MB/s eta 0:00:01\r\u001b[K     |▌                               | 30kB 26.6MB/s eta 0:00:01\r\u001b[K     |▊                               | 40kB 30.1MB/s eta 0:00:01\r\u001b[K     |▉                               | 51kB 28.2MB/s eta 0:00:01\r\u001b[K     |█                               | 61kB 30.3MB/s eta 0:00:01\r\u001b[K     |█▏                              | 71kB 19.7MB/s eta 0:00:01\r\u001b[K     |█▍                              | 81kB 20.6MB/s eta 0:00:01\r\u001b[K     |█▌                              | 92kB 19.8MB/s eta 0:00:01\r\u001b[K     |█▊                              | 102kB 19.6MB/s eta 0:00:01\r\u001b[K     |██                              | 112kB 19.6MB/s eta 0:00:01\r\u001b[K     |██                              | 122kB 19.6MB/s eta 0:00:01\r\u001b[K     |██▎                             | 133kB 19.6MB/s eta 0:00:01\r\u001b[K     |██▍                             | 143kB 19.6MB/s eta 0:00:01\r\u001b[K     |██▋                             | 153kB 19.6MB/s eta 0:00:01\r\u001b[K     |██▊                             | 163kB 19.6MB/s eta 0:00:01\r\u001b[K     |███                             | 174kB 19.6MB/s eta 0:00:01\r\u001b[K     |███                             | 184kB 19.6MB/s eta 0:00:01\r\u001b[K     |███▎                            | 194kB 19.6MB/s eta 0:00:01\r\u001b[K     |███▌                            | 204kB 19.6MB/s eta 0:00:01\r\u001b[K     |███▋                            | 215kB 19.6MB/s eta 0:00:01\r\u001b[K     |███▉                            | 225kB 19.6MB/s eta 0:00:01\r\u001b[K     |████                            | 235kB 19.6MB/s eta 0:00:01\r\u001b[K     |████▏                           | 245kB 19.6MB/s eta 0:00:01\r\u001b[K     |████▎                           | 256kB 19.6MB/s eta 0:00:01\r\u001b[K     |████▌                           | 266kB 19.6MB/s eta 0:00:01\r\u001b[K     |████▋                           | 276kB 19.6MB/s eta 0:00:01\r\u001b[K     |████▉                           | 286kB 19.6MB/s eta 0:00:01\r\u001b[K     |█████                           | 296kB 19.6MB/s eta 0:00:01\r\u001b[K     |█████▏                          | 307kB 19.6MB/s eta 0:00:01\r\u001b[K     |█████▍                          | 317kB 19.6MB/s eta 0:00:01\r\u001b[K     |█████▌                          | 327kB 19.6MB/s eta 0:00:01\r\u001b[K     |█████▊                          | 337kB 19.6MB/s eta 0:00:01\r\u001b[K     |█████▉                          | 348kB 19.6MB/s eta 0:00:01\r\u001b[K     |██████                          | 358kB 19.6MB/s eta 0:00:01\r\u001b[K     |██████▏                         | 368kB 19.6MB/s eta 0:00:01\r\u001b[K     |██████▍                         | 378kB 19.6MB/s eta 0:00:01\r\u001b[K     |██████▋                         | 389kB 19.6MB/s eta 0:00:01\r\u001b[K     |██████▊                         | 399kB 19.6MB/s eta 0:00:01\r\u001b[K     |███████                         | 409kB 19.6MB/s eta 0:00:01\r\u001b[K     |███████                         | 419kB 19.6MB/s eta 0:00:01\r\u001b[K     |███████▎                        | 430kB 19.6MB/s eta 0:00:01\r\u001b[K     |███████▍                        | 440kB 19.6MB/s eta 0:00:01\r\u001b[K     |███████▋                        | 450kB 19.6MB/s eta 0:00:01\r\u001b[K     |███████▊                        | 460kB 19.6MB/s eta 0:00:01\r\u001b[K     |████████                        | 471kB 19.6MB/s eta 0:00:01\r\u001b[K     |████████▏                       | 481kB 19.6MB/s eta 0:00:01\r\u001b[K     |████████▎                       | 491kB 19.6MB/s eta 0:00:01\r\u001b[K     |████████▌                       | 501kB 19.6MB/s eta 0:00:01\r\u001b[K     |████████▋                       | 512kB 19.6MB/s eta 0:00:01\r\u001b[K     |████████▉                       | 522kB 19.6MB/s eta 0:00:01\r\u001b[K     |█████████                       | 532kB 19.6MB/s eta 0:00:01\r\u001b[K     |█████████▏                      | 542kB 19.6MB/s eta 0:00:01\r\u001b[K     |█████████▎                      | 552kB 19.6MB/s eta 0:00:01\r\u001b[K     |█████████▌                      | 563kB 19.6MB/s eta 0:00:01\r\u001b[K     |█████████▊                      | 573kB 19.6MB/s eta 0:00:01\r\u001b[K     |█████████▉                      | 583kB 19.6MB/s eta 0:00:01\r\u001b[K     |██████████                      | 593kB 19.6MB/s eta 0:00:01\r\u001b[K     |██████████▏                     | 604kB 19.6MB/s eta 0:00:01\r\u001b[K     |██████████▍                     | 614kB 19.6MB/s eta 0:00:01\r\u001b[K     |██████████▌                     | 624kB 19.6MB/s eta 0:00:01\r\u001b[K     |██████████▊                     | 634kB 19.6MB/s eta 0:00:01\r\u001b[K     |██████████▉                     | 645kB 19.6MB/s eta 0:00:01\r\u001b[K     |███████████                     | 655kB 19.6MB/s eta 0:00:01\r\u001b[K     |███████████▎                    | 665kB 19.6MB/s eta 0:00:01\r\u001b[K     |███████████▍                    | 675kB 19.6MB/s eta 0:00:01\r\u001b[K     |███████████▋                    | 686kB 19.6MB/s eta 0:00:01\r\u001b[K     |███████████▊                    | 696kB 19.6MB/s eta 0:00:01\r\u001b[K     |████████████                    | 706kB 19.6MB/s eta 0:00:01\r\u001b[K     |████████████                    | 716kB 19.6MB/s eta 0:00:01\r\u001b[K     |████████████▎                   | 727kB 19.6MB/s eta 0:00:01\r\u001b[K     |████████████▍                   | 737kB 19.6MB/s eta 0:00:01\r\u001b[K     |████████████▋                   | 747kB 19.6MB/s eta 0:00:01\r\u001b[K     |████████████▉                   | 757kB 19.6MB/s eta 0:00:01\r\u001b[K     |█████████████                   | 768kB 19.6MB/s eta 0:00:01\r\u001b[K     |█████████████▏                  | 778kB 19.6MB/s eta 0:00:01\r\u001b[K     |█████████████▎                  | 788kB 19.6MB/s eta 0:00:01\r\u001b[K     |█████████████▌                  | 798kB 19.6MB/s eta 0:00:01\r\u001b[K     |█████████████▋                  | 808kB 19.6MB/s eta 0:00:01\r\u001b[K     |█████████████▉                  | 819kB 19.6MB/s eta 0:00:01\r\u001b[K     |██████████████                  | 829kB 19.6MB/s eta 0:00:01\r\u001b[K     |██████████████▏                 | 839kB 19.6MB/s eta 0:00:01\r\u001b[K     |██████████████▍                 | 849kB 19.6MB/s eta 0:00:01\r\u001b[K     |██████████████▌                 | 860kB 19.6MB/s eta 0:00:01\r\u001b[K     |██████████████▊                 | 870kB 19.6MB/s eta 0:00:01\r\u001b[K     |██████████████▉                 | 880kB 19.6MB/s eta 0:00:01\r\u001b[K     |███████████████                 | 890kB 19.6MB/s eta 0:00:01\r\u001b[K     |███████████████▏                | 901kB 19.6MB/s eta 0:00:01\r\u001b[K     |███████████████▍                | 911kB 19.6MB/s eta 0:00:01\r\u001b[K     |███████████████▌                | 921kB 19.6MB/s eta 0:00:01\r\u001b[K     |███████████████▊                | 931kB 19.6MB/s eta 0:00:01\r\u001b[K     |████████████████                | 942kB 19.6MB/s eta 0:00:01\r\u001b[K     |████████████████                | 952kB 19.6MB/s eta 0:00:01\r\u001b[K     |████████████████▎               | 962kB 19.6MB/s eta 0:00:01\r\u001b[K     |████████████████▍               | 972kB 19.6MB/s eta 0:00:01\r\u001b[K     |████████████████▋               | 983kB 19.6MB/s eta 0:00:01\r\u001b[K     |████████████████▊               | 993kB 19.6MB/s eta 0:00:01\r\u001b[K     |█████████████████               | 1.0MB 19.6MB/s eta 0:00:01\r\u001b[K     |█████████████████               | 1.0MB 19.6MB/s eta 0:00:01\r\u001b[K     |█████████████████▎              | 1.0MB 19.6MB/s eta 0:00:01\r\u001b[K     |█████████████████▍              | 1.0MB 19.6MB/s eta 0:00:01\r\u001b[K     |█████████████████▋              | 1.0MB 19.6MB/s eta 0:00:01\r\u001b[K     |█████████████████▉              | 1.1MB 19.6MB/s eta 0:00:01\r\u001b[K     |██████████████████              | 1.1MB 19.6MB/s eta 0:00:01\r\u001b[K     |██████████████████▏             | 1.1MB 19.6MB/s eta 0:00:01\r\u001b[K     |██████████████████▎             | 1.1MB 19.6MB/s eta 0:00:01\r\u001b[K     |██████████████████▌             | 1.1MB 19.6MB/s eta 0:00:01\r\u001b[K     |██████████████████▋             | 1.1MB 19.6MB/s eta 0:00:01\r\u001b[K     |██████████████████▉             | 1.1MB 19.6MB/s eta 0:00:01\r\u001b[K     |███████████████████             | 1.1MB 19.6MB/s eta 0:00:01\r\u001b[K     |███████████████████▏            | 1.1MB 19.6MB/s eta 0:00:01\r\u001b[K     |███████████████████▍            | 1.1MB 19.6MB/s eta 0:00:01\r\u001b[K     |███████████████████▌            | 1.2MB 19.6MB/s eta 0:00:01\r\u001b[K     |███████████████████▊            | 1.2MB 19.6MB/s eta 0:00:01\r\u001b[K     |███████████████████▉            | 1.2MB 19.6MB/s eta 0:00:01\r\u001b[K     |████████████████████            | 1.2MB 19.6MB/s eta 0:00:01\r\u001b[K     |████████████████████▏           | 1.2MB 19.6MB/s eta 0:00:01\r\u001b[K     |████████████████████▍           | 1.2MB 19.6MB/s eta 0:00:01\r\u001b[K     |████████████████████▌           | 1.2MB 19.6MB/s eta 0:00:01\r\u001b[K     |████████████████████▊           | 1.2MB 19.6MB/s eta 0:00:01\r\u001b[K     |█████████████████████           | 1.2MB 19.6MB/s eta 0:00:01\r\u001b[K     |█████████████████████           | 1.2MB 19.6MB/s eta 0:00:01\r\u001b[K     |█████████████████████▎          | 1.3MB 19.6MB/s eta 0:00:01\r\u001b[K     |█████████████████████▍          | 1.3MB 19.6MB/s eta 0:00:01\r\u001b[K     |█████████████████████▋          | 1.3MB 19.6MB/s eta 0:00:01\r\u001b[K     |█████████████████████▊          | 1.3MB 19.6MB/s eta 0:00:01\r\u001b[K     |██████████████████████          | 1.3MB 19.6MB/s eta 0:00:01\r\u001b[K     |██████████████████████          | 1.3MB 19.6MB/s eta 0:00:01\r\u001b[K     |██████████████████████▎         | 1.3MB 19.6MB/s eta 0:00:01\r\u001b[K     |██████████████████████▌         | 1.3MB 19.6MB/s eta 0:00:01\r\u001b[K     |██████████████████████▋         | 1.3MB 19.6MB/s eta 0:00:01\r\u001b[K     |██████████████████████▉         | 1.4MB 19.6MB/s eta 0:00:01\r\u001b[K     |███████████████████████         | 1.4MB 19.6MB/s eta 0:00:01\r\u001b[K     |███████████████████████▏        | 1.4MB 19.6MB/s eta 0:00:01\r\u001b[K     |███████████████████████▎        | 1.4MB 19.6MB/s eta 0:00:01\r\u001b[K     |███████████████████████▌        | 1.4MB 19.6MB/s eta 0:00:01\r\u001b[K     |███████████████████████▋        | 1.4MB 19.6MB/s eta 0:00:01\r\u001b[K     |███████████████████████▉        | 1.4MB 19.6MB/s eta 0:00:01\r\u001b[K     |████████████████████████        | 1.4MB 19.6MB/s eta 0:00:01\r\u001b[K     |████████████████████████▏       | 1.4MB 19.6MB/s eta 0:00:01\r\u001b[K     |████████████████████████▍       | 1.4MB 19.6MB/s eta 0:00:01\r\u001b[K     |████████████████████████▌       | 1.5MB 19.6MB/s eta 0:00:01\r\u001b[K     |████████████████████████▊       | 1.5MB 19.6MB/s eta 0:00:01\r\u001b[K     |████████████████████████▉       | 1.5MB 19.6MB/s eta 0:00:01\r\u001b[K     |█████████████████████████       | 1.5MB 19.6MB/s eta 0:00:01\r\u001b[K     |█████████████████████████▏      | 1.5MB 19.6MB/s eta 0:00:01\r\u001b[K     |█████████████████████████▍      | 1.5MB 19.6MB/s eta 0:00:01\r\u001b[K     |█████████████████████████▋      | 1.5MB 19.6MB/s eta 0:00:01\r\u001b[K     |█████████████████████████▊      | 1.5MB 19.6MB/s eta 0:00:01\r\u001b[K     |██████████████████████████      | 1.5MB 19.6MB/s eta 0:00:01\r\u001b[K     |██████████████████████████      | 1.5MB 19.6MB/s eta 0:00:01\r\u001b[K     |██████████████████████████▎     | 1.6MB 19.6MB/s eta 0:00:01\r\u001b[K     |██████████████████████████▍     | 1.6MB 19.6MB/s eta 0:00:01\r\u001b[K     |██████████████████████████▋     | 1.6MB 19.6MB/s eta 0:00:01\r\u001b[K     |██████████████████████████▊     | 1.6MB 19.6MB/s eta 0:00:01\r\u001b[K     |███████████████████████████     | 1.6MB 19.6MB/s eta 0:00:01\r\u001b[K     |███████████████████████████▏    | 1.6MB 19.6MB/s eta 0:00:01\r\u001b[K     |███████████████████████████▎    | 1.6MB 19.6MB/s eta 0:00:01\r\u001b[K     |███████████████████████████▌    | 1.6MB 19.6MB/s eta 0:00:01\r\u001b[K     |███████████████████████████▋    | 1.6MB 19.6MB/s eta 0:00:01\r\u001b[K     |███████████████████████████▉    | 1.6MB 19.6MB/s eta 0:00:01\r\u001b[K     |████████████████████████████    | 1.7MB 19.6MB/s eta 0:00:01\r\u001b[K     |████████████████████████████▏   | 1.7MB 19.6MB/s eta 0:00:01\r\u001b[K     |████████████████████████████▎   | 1.7MB 19.6MB/s eta 0:00:01\r\u001b[K     |████████████████████████████▌   | 1.7MB 19.6MB/s eta 0:00:01\r\u001b[K     |████████████████████████████▊   | 1.7MB 19.6MB/s eta 0:00:01\r\u001b[K     |████████████████████████████▉   | 1.7MB 19.6MB/s eta 0:00:01\r\u001b[K     |█████████████████████████████   | 1.7MB 19.6MB/s eta 0:00:01\r\u001b[K     |█████████████████████████████▏  | 1.7MB 19.6MB/s eta 0:00:01\r\u001b[K     |█████████████████████████████▍  | 1.7MB 19.6MB/s eta 0:00:01\r\u001b[K     |█████████████████████████████▌  | 1.8MB 19.6MB/s eta 0:00:01\r\u001b[K     |█████████████████████████████▊  | 1.8MB 19.6MB/s eta 0:00:01\r\u001b[K     |█████████████████████████████▉  | 1.8MB 19.6MB/s eta 0:00:01\r\u001b[K     |██████████████████████████████  | 1.8MB 19.6MB/s eta 0:00:01\r\u001b[K     |██████████████████████████████▎ | 1.8MB 19.6MB/s eta 0:00:01\r\u001b[K     |██████████████████████████████▍ | 1.8MB 19.6MB/s eta 0:00:01\r\u001b[K     |██████████████████████████████▋ | 1.8MB 19.6MB/s eta 0:00:01\r\u001b[K     |██████████████████████████████▊ | 1.8MB 19.6MB/s eta 0:00:01\r\u001b[K     |███████████████████████████████ | 1.8MB 19.6MB/s eta 0:00:01\r\u001b[K     |███████████████████████████████ | 1.8MB 19.6MB/s eta 0:00:01\r\u001b[K     |███████████████████████████████▎| 1.9MB 19.6MB/s eta 0:00:01\r\u001b[K     |███████████████████████████████▍| 1.9MB 19.6MB/s eta 0:00:01\r\u001b[K     |███████████████████████████████▋| 1.9MB 19.6MB/s eta 0:00:01\r\u001b[K     |███████████████████████████████▉| 1.9MB 19.6MB/s eta 0:00:01\r\u001b[K     |████████████████████████████████| 1.9MB 19.6MB/s eta 0:00:01\r\u001b[K     |████████████████████████████████| 1.9MB 19.6MB/s \n",
            "\u001b[?25hRequirement already satisfied: numpy>=1.17 in /usr/local/lib/python3.7/dist-packages (from transformers) (1.19.5)\n",
            "Requirement already satisfied: requests in /usr/local/lib/python3.7/dist-packages (from transformers) (2.23.0)\n",
            "Requirement already satisfied: tqdm>=4.27 in /usr/local/lib/python3.7/dist-packages (from transformers) (4.41.1)\n",
            "Requirement already satisfied: regex!=2019.12.17 in /usr/local/lib/python3.7/dist-packages (from transformers) (2019.12.20)\n",
            "Requirement already satisfied: packaging in /usr/local/lib/python3.7/dist-packages (from transformers) (20.9)\n",
            "Collecting tokenizers<0.11,>=0.10.1\n",
            "\u001b[?25l  Downloading https://files.pythonhosted.org/packages/71/23/2ddc317b2121117bf34dd00f5b0de194158f2a44ee2bf5e47c7166878a97/tokenizers-0.10.1-cp37-cp37m-manylinux2010_x86_64.whl (3.2MB)\n",
            "\u001b[K     |████████████████████████████████| 3.2MB 47.6MB/s \n",
            "\u001b[?25hRequirement already satisfied: importlib-metadata; python_version < \"3.8\" in /usr/local/lib/python3.7/dist-packages (from transformers) (3.7.0)\n",
            "Collecting sacremoses\n",
            "\u001b[?25l  Downloading https://files.pythonhosted.org/packages/7d/34/09d19aff26edcc8eb2a01bed8e98f13a1537005d31e95233fd48216eed10/sacremoses-0.0.43.tar.gz (883kB)\n",
            "\u001b[K     |████████████████████████████████| 890kB 52.9MB/s \n",
            "\u001b[?25hRequirement already satisfied: filelock in /usr/local/lib/python3.7/dist-packages (from transformers) (3.0.12)\n",
            "Requirement already satisfied: urllib3!=1.25.0,!=1.25.1,<1.26,>=1.21.1 in /usr/local/lib/python3.7/dist-packages (from requests->transformers) (1.24.3)\n",
            "Requirement already satisfied: chardet<4,>=3.0.2 in /usr/local/lib/python3.7/dist-packages (from requests->transformers) (3.0.4)\n",
            "Requirement already satisfied: certifi>=2017.4.17 in /usr/local/lib/python3.7/dist-packages (from requests->transformers) (2020.12.5)\n",
            "Requirement already satisfied: idna<3,>=2.5 in /usr/local/lib/python3.7/dist-packages (from requests->transformers) (2.10)\n",
            "Requirement already satisfied: pyparsing>=2.0.2 in /usr/local/lib/python3.7/dist-packages (from packaging->transformers) (2.4.7)\n",
            "Requirement already satisfied: typing-extensions>=3.6.4; python_version < \"3.8\" in /usr/local/lib/python3.7/dist-packages (from importlib-metadata; python_version < \"3.8\"->transformers) (3.7.4.3)\n",
            "Requirement already satisfied: zipp>=0.5 in /usr/local/lib/python3.7/dist-packages (from importlib-metadata; python_version < \"3.8\"->transformers) (3.4.1)\n",
            "Requirement already satisfied: six in /usr/local/lib/python3.7/dist-packages (from sacremoses->transformers) (1.15.0)\n",
            "Requirement already satisfied: click in /usr/local/lib/python3.7/dist-packages (from sacremoses->transformers) (7.1.2)\n",
            "Requirement already satisfied: joblib in /usr/local/lib/python3.7/dist-packages (from sacremoses->transformers) (1.0.1)\n",
            "Building wheels for collected packages: sacremoses\n",
            "  Building wheel for sacremoses (setup.py) ... \u001b[?25l\u001b[?25hdone\n",
            "  Created wheel for sacremoses: filename=sacremoses-0.0.43-cp37-none-any.whl size=893262 sha256=b023853e1efbc1e4cc27fbfa183da4a202dfa788eb17ee60a4aee05ad4268eef\n",
            "  Stored in directory: /root/.cache/pip/wheels/29/3c/fd/7ce5c3f0666dab31a50123635e6fb5e19ceb42ce38d4e58f45\n",
            "Successfully built sacremoses\n",
            "Installing collected packages: tokenizers, sacremoses, transformers\n",
            "Successfully installed sacremoses-0.0.43 tokenizers-0.10.1 transformers-4.3.3\n"
          ],
          "name": "stdout"
        }
      ]
    },
    {
      "cell_type": "code",
      "metadata": {
        "colab": {
          "base_uri": "https://localhost:8080/",
          "height": 66,
          "referenced_widgets": [
            "3bc64ddd15f94813a2a9fd32970b43c3",
            "0be4c832d6e348859e3faa6ed028b706",
            "bbedf628b9cd4d49b292d884921cb3a3",
            "b0f1fe5255724bf89fdc2c9a4d098fde",
            "cd2f8335afd447dd9a3d50d98e31b1af",
            "139aa48323a14f07bac04ed684d65e96",
            "18cabc40c3444c77b0408590ccda73e7",
            "7c030000a8d4482e885f580befc93e6a"
          ]
        },
        "id": "swMU0yfUf7mO",
        "outputId": "683063ed-1fc1-41a1-9f85-e0aed7ffd39d"
      },
      "source": [
        "bert_tokenizer=transformers.BertTokenizer.from_pretrained(\"TurkuNLP/bert-base-finnish-cased-v1\")"
      ],
      "execution_count": 12,
      "outputs": [
        {
          "output_type": "display_data",
          "data": {
            "application/vnd.jupyter.widget-view+json": {
              "model_id": "3bc64ddd15f94813a2a9fd32970b43c3",
              "version_minor": 0,
              "version_major": 2
            },
            "text/plain": [
              "HBox(children=(FloatProgress(value=0.0, description='Downloading', max=424343.0, style=ProgressStyle(descripti…"
            ]
          },
          "metadata": {
            "tags": []
          }
        },
        {
          "output_type": "stream",
          "text": [
            "\n"
          ],
          "name": "stdout"
        }
      ]
    },
    {
      "cell_type": "code",
      "metadata": {
        "id": "pZ4oEFAkght8"
      },
      "source": [
        "sents_tokenized=bert_tokenizer(unique_sentences,padding=True,truncation=True,return_tensors=\"pt\")"
      ],
      "execution_count": 15,
      "outputs": []
    },
    {
      "cell_type": "code",
      "metadata": {
        "colab": {
          "base_uri": "https://localhost:8080/"
        },
        "id": "NEiQKLZhhAcV",
        "outputId": "7a4317e3-cd2d-4695-d94a-84910901571a"
      },
      "source": [
        "print(list(sents_tokenized.keys()))\n",
        "print(sents_tokenized[\"input_ids\"].shape)"
      ],
      "execution_count": 18,
      "outputs": [
        {
          "output_type": "stream",
          "text": [
            "['input_ids', 'token_type_ids', 'attention_mask']\n",
            "torch.Size([5331, 125])\n"
          ],
          "name": "stdout"
        }
      ]
    },
    {
      "cell_type": "code",
      "metadata": {
        "id": "SSrA9OX0jhKC"
      },
      "source": [
        "import torch\n",
        "ds=torch.utils.data.TensorDataset(sents_tokenized[\"input_ids\"],sents_tokenized[\"token_type_ids\"],sents_tokenized[\"attention_mask\"])\n",
        "batched_ds=torch.utils.data.DataLoader(ds,batch_size=8)"
      ],
      "execution_count": 19,
      "outputs": []
    },
    {
      "cell_type": "code",
      "metadata": {
        "colab": {
          "base_uri": "https://localhost:8080/"
        },
        "id": "6FcTezfZj7lp",
        "outputId": "7542d36e-c6ad-4ca6-8eaf-59e5303565cd"
      },
      "source": [
        "for item in batched_ds:\n",
        "    print(item)\n",
        "    break"
      ],
      "execution_count": 20,
      "outputs": [
        {
          "output_type": "stream",
          "text": [
            "[tensor([[  102,   103,     0,     0,     0,     0,     0,     0,     0,     0,\n",
            "             0,     0,     0,     0,     0,     0,     0,     0,     0,     0,\n",
            "             0,     0,     0,     0,     0,     0,     0,     0,     0,     0,\n",
            "             0,     0,     0,     0,     0,     0,     0,     0,     0,     0,\n",
            "             0,     0,     0,     0,     0,     0,     0,     0,     0,     0,\n",
            "             0,     0,     0,     0,     0,     0,     0,     0,     0,     0,\n",
            "             0,     0,     0,     0,     0,     0,     0,     0,     0,     0,\n",
            "             0,     0,     0,     0,     0,     0,     0,     0,     0,     0,\n",
            "             0,     0,     0,     0,     0,     0,     0,     0,     0,     0,\n",
            "             0,     0,     0,     0,     0,     0,     0,     0,     0,     0,\n",
            "             0,     0,     0,     0,     0,     0,     0,     0,     0,     0,\n",
            "             0,     0,     0,     0,     0,     0,     0,     0,     0,     0,\n",
            "             0,     0,     0,     0,     0],\n",
            "        [  102,   245,   771, 36387,   660,  2272,  2429,   891, 20551, 50015,\n",
            "           245,   103,     0,     0,     0,     0,     0,     0,     0,     0,\n",
            "             0,     0,     0,     0,     0,     0,     0,     0,     0,     0,\n",
            "             0,     0,     0,     0,     0,     0,     0,     0,     0,     0,\n",
            "             0,     0,     0,     0,     0,     0,     0,     0,     0,     0,\n",
            "             0,     0,     0,     0,     0,     0,     0,     0,     0,     0,\n",
            "             0,     0,     0,     0,     0,     0,     0,     0,     0,     0,\n",
            "             0,     0,     0,     0,     0,     0,     0,     0,     0,     0,\n",
            "             0,     0,     0,     0,     0,     0,     0,     0,     0,     0,\n",
            "             0,     0,     0,     0,     0,     0,     0,     0,     0,     0,\n",
            "             0,     0,     0,     0,     0,     0,     0,     0,     0,     0,\n",
            "             0,     0,     0,     0,     0,     0,     0,     0,     0,     0,\n",
            "             0,     0,     0,     0,     0],\n",
            "        [  102,   245,  2412,  7575,  5974,  7657,  4966,  1537,  4438,  1155,\n",
            "         10746,   245,   103,     0,     0,     0,     0,     0,     0,     0,\n",
            "             0,     0,     0,     0,     0,     0,     0,     0,     0,     0,\n",
            "             0,     0,     0,     0,     0,     0,     0,     0,     0,     0,\n",
            "             0,     0,     0,     0,     0,     0,     0,     0,     0,     0,\n",
            "             0,     0,     0,     0,     0,     0,     0,     0,     0,     0,\n",
            "             0,     0,     0,     0,     0,     0,     0,     0,     0,     0,\n",
            "             0,     0,     0,     0,     0,     0,     0,     0,     0,     0,\n",
            "             0,     0,     0,     0,     0,     0,     0,     0,     0,     0,\n",
            "             0,     0,     0,     0,     0,     0,     0,     0,     0,     0,\n",
            "             0,     0,     0,     0,     0,     0,     0,     0,     0,     0,\n",
            "             0,     0,     0,     0,     0,     0,     0,     0,     0,     0,\n",
            "             0,     0,     0,     0,     0],\n",
            "        [  102,   245, 35644,   274,   478,  9713,   119,   683,   339,  4239,\n",
            "         17607,  1922,   138,  1539,   245,   103,     0,     0,     0,     0,\n",
            "             0,     0,     0,     0,     0,     0,     0,     0,     0,     0,\n",
            "             0,     0,     0,     0,     0,     0,     0,     0,     0,     0,\n",
            "             0,     0,     0,     0,     0,     0,     0,     0,     0,     0,\n",
            "             0,     0,     0,     0,     0,     0,     0,     0,     0,     0,\n",
            "             0,     0,     0,     0,     0,     0,     0,     0,     0,     0,\n",
            "             0,     0,     0,     0,     0,     0,     0,     0,     0,     0,\n",
            "             0,     0,     0,     0,     0,     0,     0,     0,     0,     0,\n",
            "             0,     0,     0,     0,     0,     0,     0,     0,     0,     0,\n",
            "             0,     0,     0,     0,     0,     0,     0,     0,     0,     0,\n",
            "             0,     0,     0,     0,     0,     0,     0,     0,     0,     0,\n",
            "             0,     0,     0,     0,     0],\n",
            "        [  102,   245, 11547,  1193,   930, 40614,   326,  1770, 35044,   337,\n",
            "          4457,  9030,   942,   245,   103,     0,     0,     0,     0,     0,\n",
            "             0,     0,     0,     0,     0,     0,     0,     0,     0,     0,\n",
            "             0,     0,     0,     0,     0,     0,     0,     0,     0,     0,\n",
            "             0,     0,     0,     0,     0,     0,     0,     0,     0,     0,\n",
            "             0,     0,     0,     0,     0,     0,     0,     0,     0,     0,\n",
            "             0,     0,     0,     0,     0,     0,     0,     0,     0,     0,\n",
            "             0,     0,     0,     0,     0,     0,     0,     0,     0,     0,\n",
            "             0,     0,     0,     0,     0,     0,     0,     0,     0,     0,\n",
            "             0,     0,     0,     0,     0,     0,     0,     0,     0,     0,\n",
            "             0,     0,     0,     0,     0,     0,     0,     0,     0,     0,\n",
            "             0,     0,     0,     0,     0,     0,     0,     0,     0,     0,\n",
            "             0,     0,     0,     0,     0],\n",
            "        [  102,   245, 22815,  2813,   193,   257, 19643,   119,   199,   145,\n",
            "           478, 11251,   245,   103,     0,     0,     0,     0,     0,     0,\n",
            "             0,     0,     0,     0,     0,     0,     0,     0,     0,     0,\n",
            "             0,     0,     0,     0,     0,     0,     0,     0,     0,     0,\n",
            "             0,     0,     0,     0,     0,     0,     0,     0,     0,     0,\n",
            "             0,     0,     0,     0,     0,     0,     0,     0,     0,     0,\n",
            "             0,     0,     0,     0,     0,     0,     0,     0,     0,     0,\n",
            "             0,     0,     0,     0,     0,     0,     0,     0,     0,     0,\n",
            "             0,     0,     0,     0,     0,     0,     0,     0,     0,     0,\n",
            "             0,     0,     0,     0,     0,     0,     0,     0,     0,     0,\n",
            "             0,     0,     0,     0,     0,     0,     0,     0,     0,     0,\n",
            "             0,     0,     0,     0,     0,     0,     0,     0,     0,     0,\n",
            "             0,     0,     0,     0,     0],\n",
            "        [  102,   245, 24465,   333,  6561,   193,   512,  8841,  3805,   236,\n",
            "           143, 19298,   119,   304, 19462, 14591, 13764,  1127,  1939,  1930,\n",
            "          3513,   245,   103,     0,     0,     0,     0,     0,     0,     0,\n",
            "             0,     0,     0,     0,     0,     0,     0,     0,     0,     0,\n",
            "             0,     0,     0,     0,     0,     0,     0,     0,     0,     0,\n",
            "             0,     0,     0,     0,     0,     0,     0,     0,     0,     0,\n",
            "             0,     0,     0,     0,     0,     0,     0,     0,     0,     0,\n",
            "             0,     0,     0,     0,     0,     0,     0,     0,     0,     0,\n",
            "             0,     0,     0,     0,     0,     0,     0,     0,     0,     0,\n",
            "             0,     0,     0,     0,     0,     0,     0,     0,     0,     0,\n",
            "             0,     0,     0,     0,     0,     0,     0,     0,     0,     0,\n",
            "             0,     0,     0,     0,     0,     0,     0,     0,     0,     0,\n",
            "             0,     0,     0,     0,     0],\n",
            "        [  102,   245, 38979, 50007, 31220,   142, 16869, 14086,   659, 10842,\n",
            "          7985,   245,   405, 47103,  7037,  2431,  8886, 34326, 25237,  8426,\n",
            "          9352, 50016,   281,  3094,   103,     0,     0,     0,     0,     0,\n",
            "             0,     0,     0,     0,     0,     0,     0,     0,     0,     0,\n",
            "             0,     0,     0,     0,     0,     0,     0,     0,     0,     0,\n",
            "             0,     0,     0,     0,     0,     0,     0,     0,     0,     0,\n",
            "             0,     0,     0,     0,     0,     0,     0,     0,     0,     0,\n",
            "             0,     0,     0,     0,     0,     0,     0,     0,     0,     0,\n",
            "             0,     0,     0,     0,     0,     0,     0,     0,     0,     0,\n",
            "             0,     0,     0,     0,     0,     0,     0,     0,     0,     0,\n",
            "             0,     0,     0,     0,     0,     0,     0,     0,     0,     0,\n",
            "             0,     0,     0,     0,     0,     0,     0,     0,     0,     0,\n",
            "             0,     0,     0,     0,     0]]), tensor([[0, 0, 0, 0, 0, 0, 0, 0, 0, 0, 0, 0, 0, 0, 0, 0, 0, 0, 0, 0, 0, 0, 0, 0,\n",
            "         0, 0, 0, 0, 0, 0, 0, 0, 0, 0, 0, 0, 0, 0, 0, 0, 0, 0, 0, 0, 0, 0, 0, 0,\n",
            "         0, 0, 0, 0, 0, 0, 0, 0, 0, 0, 0, 0, 0, 0, 0, 0, 0, 0, 0, 0, 0, 0, 0, 0,\n",
            "         0, 0, 0, 0, 0, 0, 0, 0, 0, 0, 0, 0, 0, 0, 0, 0, 0, 0, 0, 0, 0, 0, 0, 0,\n",
            "         0, 0, 0, 0, 0, 0, 0, 0, 0, 0, 0, 0, 0, 0, 0, 0, 0, 0, 0, 0, 0, 0, 0, 0,\n",
            "         0, 0, 0, 0, 0],\n",
            "        [0, 0, 0, 0, 0, 0, 0, 0, 0, 0, 0, 0, 0, 0, 0, 0, 0, 0, 0, 0, 0, 0, 0, 0,\n",
            "         0, 0, 0, 0, 0, 0, 0, 0, 0, 0, 0, 0, 0, 0, 0, 0, 0, 0, 0, 0, 0, 0, 0, 0,\n",
            "         0, 0, 0, 0, 0, 0, 0, 0, 0, 0, 0, 0, 0, 0, 0, 0, 0, 0, 0, 0, 0, 0, 0, 0,\n",
            "         0, 0, 0, 0, 0, 0, 0, 0, 0, 0, 0, 0, 0, 0, 0, 0, 0, 0, 0, 0, 0, 0, 0, 0,\n",
            "         0, 0, 0, 0, 0, 0, 0, 0, 0, 0, 0, 0, 0, 0, 0, 0, 0, 0, 0, 0, 0, 0, 0, 0,\n",
            "         0, 0, 0, 0, 0],\n",
            "        [0, 0, 0, 0, 0, 0, 0, 0, 0, 0, 0, 0, 0, 0, 0, 0, 0, 0, 0, 0, 0, 0, 0, 0,\n",
            "         0, 0, 0, 0, 0, 0, 0, 0, 0, 0, 0, 0, 0, 0, 0, 0, 0, 0, 0, 0, 0, 0, 0, 0,\n",
            "         0, 0, 0, 0, 0, 0, 0, 0, 0, 0, 0, 0, 0, 0, 0, 0, 0, 0, 0, 0, 0, 0, 0, 0,\n",
            "         0, 0, 0, 0, 0, 0, 0, 0, 0, 0, 0, 0, 0, 0, 0, 0, 0, 0, 0, 0, 0, 0, 0, 0,\n",
            "         0, 0, 0, 0, 0, 0, 0, 0, 0, 0, 0, 0, 0, 0, 0, 0, 0, 0, 0, 0, 0, 0, 0, 0,\n",
            "         0, 0, 0, 0, 0],\n",
            "        [0, 0, 0, 0, 0, 0, 0, 0, 0, 0, 0, 0, 0, 0, 0, 0, 0, 0, 0, 0, 0, 0, 0, 0,\n",
            "         0, 0, 0, 0, 0, 0, 0, 0, 0, 0, 0, 0, 0, 0, 0, 0, 0, 0, 0, 0, 0, 0, 0, 0,\n",
            "         0, 0, 0, 0, 0, 0, 0, 0, 0, 0, 0, 0, 0, 0, 0, 0, 0, 0, 0, 0, 0, 0, 0, 0,\n",
            "         0, 0, 0, 0, 0, 0, 0, 0, 0, 0, 0, 0, 0, 0, 0, 0, 0, 0, 0, 0, 0, 0, 0, 0,\n",
            "         0, 0, 0, 0, 0, 0, 0, 0, 0, 0, 0, 0, 0, 0, 0, 0, 0, 0, 0, 0, 0, 0, 0, 0,\n",
            "         0, 0, 0, 0, 0],\n",
            "        [0, 0, 0, 0, 0, 0, 0, 0, 0, 0, 0, 0, 0, 0, 0, 0, 0, 0, 0, 0, 0, 0, 0, 0,\n",
            "         0, 0, 0, 0, 0, 0, 0, 0, 0, 0, 0, 0, 0, 0, 0, 0, 0, 0, 0, 0, 0, 0, 0, 0,\n",
            "         0, 0, 0, 0, 0, 0, 0, 0, 0, 0, 0, 0, 0, 0, 0, 0, 0, 0, 0, 0, 0, 0, 0, 0,\n",
            "         0, 0, 0, 0, 0, 0, 0, 0, 0, 0, 0, 0, 0, 0, 0, 0, 0, 0, 0, 0, 0, 0, 0, 0,\n",
            "         0, 0, 0, 0, 0, 0, 0, 0, 0, 0, 0, 0, 0, 0, 0, 0, 0, 0, 0, 0, 0, 0, 0, 0,\n",
            "         0, 0, 0, 0, 0],\n",
            "        [0, 0, 0, 0, 0, 0, 0, 0, 0, 0, 0, 0, 0, 0, 0, 0, 0, 0, 0, 0, 0, 0, 0, 0,\n",
            "         0, 0, 0, 0, 0, 0, 0, 0, 0, 0, 0, 0, 0, 0, 0, 0, 0, 0, 0, 0, 0, 0, 0, 0,\n",
            "         0, 0, 0, 0, 0, 0, 0, 0, 0, 0, 0, 0, 0, 0, 0, 0, 0, 0, 0, 0, 0, 0, 0, 0,\n",
            "         0, 0, 0, 0, 0, 0, 0, 0, 0, 0, 0, 0, 0, 0, 0, 0, 0, 0, 0, 0, 0, 0, 0, 0,\n",
            "         0, 0, 0, 0, 0, 0, 0, 0, 0, 0, 0, 0, 0, 0, 0, 0, 0, 0, 0, 0, 0, 0, 0, 0,\n",
            "         0, 0, 0, 0, 0],\n",
            "        [0, 0, 0, 0, 0, 0, 0, 0, 0, 0, 0, 0, 0, 0, 0, 0, 0, 0, 0, 0, 0, 0, 0, 0,\n",
            "         0, 0, 0, 0, 0, 0, 0, 0, 0, 0, 0, 0, 0, 0, 0, 0, 0, 0, 0, 0, 0, 0, 0, 0,\n",
            "         0, 0, 0, 0, 0, 0, 0, 0, 0, 0, 0, 0, 0, 0, 0, 0, 0, 0, 0, 0, 0, 0, 0, 0,\n",
            "         0, 0, 0, 0, 0, 0, 0, 0, 0, 0, 0, 0, 0, 0, 0, 0, 0, 0, 0, 0, 0, 0, 0, 0,\n",
            "         0, 0, 0, 0, 0, 0, 0, 0, 0, 0, 0, 0, 0, 0, 0, 0, 0, 0, 0, 0, 0, 0, 0, 0,\n",
            "         0, 0, 0, 0, 0],\n",
            "        [0, 0, 0, 0, 0, 0, 0, 0, 0, 0, 0, 0, 0, 0, 0, 0, 0, 0, 0, 0, 0, 0, 0, 0,\n",
            "         0, 0, 0, 0, 0, 0, 0, 0, 0, 0, 0, 0, 0, 0, 0, 0, 0, 0, 0, 0, 0, 0, 0, 0,\n",
            "         0, 0, 0, 0, 0, 0, 0, 0, 0, 0, 0, 0, 0, 0, 0, 0, 0, 0, 0, 0, 0, 0, 0, 0,\n",
            "         0, 0, 0, 0, 0, 0, 0, 0, 0, 0, 0, 0, 0, 0, 0, 0, 0, 0, 0, 0, 0, 0, 0, 0,\n",
            "         0, 0, 0, 0, 0, 0, 0, 0, 0, 0, 0, 0, 0, 0, 0, 0, 0, 0, 0, 0, 0, 0, 0, 0,\n",
            "         0, 0, 0, 0, 0]]), tensor([[1, 1, 0, 0, 0, 0, 0, 0, 0, 0, 0, 0, 0, 0, 0, 0, 0, 0, 0, 0, 0, 0, 0, 0,\n",
            "         0, 0, 0, 0, 0, 0, 0, 0, 0, 0, 0, 0, 0, 0, 0, 0, 0, 0, 0, 0, 0, 0, 0, 0,\n",
            "         0, 0, 0, 0, 0, 0, 0, 0, 0, 0, 0, 0, 0, 0, 0, 0, 0, 0, 0, 0, 0, 0, 0, 0,\n",
            "         0, 0, 0, 0, 0, 0, 0, 0, 0, 0, 0, 0, 0, 0, 0, 0, 0, 0, 0, 0, 0, 0, 0, 0,\n",
            "         0, 0, 0, 0, 0, 0, 0, 0, 0, 0, 0, 0, 0, 0, 0, 0, 0, 0, 0, 0, 0, 0, 0, 0,\n",
            "         0, 0, 0, 0, 0],\n",
            "        [1, 1, 1, 1, 1, 1, 1, 1, 1, 1, 1, 1, 0, 0, 0, 0, 0, 0, 0, 0, 0, 0, 0, 0,\n",
            "         0, 0, 0, 0, 0, 0, 0, 0, 0, 0, 0, 0, 0, 0, 0, 0, 0, 0, 0, 0, 0, 0, 0, 0,\n",
            "         0, 0, 0, 0, 0, 0, 0, 0, 0, 0, 0, 0, 0, 0, 0, 0, 0, 0, 0, 0, 0, 0, 0, 0,\n",
            "         0, 0, 0, 0, 0, 0, 0, 0, 0, 0, 0, 0, 0, 0, 0, 0, 0, 0, 0, 0, 0, 0, 0, 0,\n",
            "         0, 0, 0, 0, 0, 0, 0, 0, 0, 0, 0, 0, 0, 0, 0, 0, 0, 0, 0, 0, 0, 0, 0, 0,\n",
            "         0, 0, 0, 0, 0],\n",
            "        [1, 1, 1, 1, 1, 1, 1, 1, 1, 1, 1, 1, 1, 0, 0, 0, 0, 0, 0, 0, 0, 0, 0, 0,\n",
            "         0, 0, 0, 0, 0, 0, 0, 0, 0, 0, 0, 0, 0, 0, 0, 0, 0, 0, 0, 0, 0, 0, 0, 0,\n",
            "         0, 0, 0, 0, 0, 0, 0, 0, 0, 0, 0, 0, 0, 0, 0, 0, 0, 0, 0, 0, 0, 0, 0, 0,\n",
            "         0, 0, 0, 0, 0, 0, 0, 0, 0, 0, 0, 0, 0, 0, 0, 0, 0, 0, 0, 0, 0, 0, 0, 0,\n",
            "         0, 0, 0, 0, 0, 0, 0, 0, 0, 0, 0, 0, 0, 0, 0, 0, 0, 0, 0, 0, 0, 0, 0, 0,\n",
            "         0, 0, 0, 0, 0],\n",
            "        [1, 1, 1, 1, 1, 1, 1, 1, 1, 1, 1, 1, 1, 1, 1, 1, 0, 0, 0, 0, 0, 0, 0, 0,\n",
            "         0, 0, 0, 0, 0, 0, 0, 0, 0, 0, 0, 0, 0, 0, 0, 0, 0, 0, 0, 0, 0, 0, 0, 0,\n",
            "         0, 0, 0, 0, 0, 0, 0, 0, 0, 0, 0, 0, 0, 0, 0, 0, 0, 0, 0, 0, 0, 0, 0, 0,\n",
            "         0, 0, 0, 0, 0, 0, 0, 0, 0, 0, 0, 0, 0, 0, 0, 0, 0, 0, 0, 0, 0, 0, 0, 0,\n",
            "         0, 0, 0, 0, 0, 0, 0, 0, 0, 0, 0, 0, 0, 0, 0, 0, 0, 0, 0, 0, 0, 0, 0, 0,\n",
            "         0, 0, 0, 0, 0],\n",
            "        [1, 1, 1, 1, 1, 1, 1, 1, 1, 1, 1, 1, 1, 1, 1, 0, 0, 0, 0, 0, 0, 0, 0, 0,\n",
            "         0, 0, 0, 0, 0, 0, 0, 0, 0, 0, 0, 0, 0, 0, 0, 0, 0, 0, 0, 0, 0, 0, 0, 0,\n",
            "         0, 0, 0, 0, 0, 0, 0, 0, 0, 0, 0, 0, 0, 0, 0, 0, 0, 0, 0, 0, 0, 0, 0, 0,\n",
            "         0, 0, 0, 0, 0, 0, 0, 0, 0, 0, 0, 0, 0, 0, 0, 0, 0, 0, 0, 0, 0, 0, 0, 0,\n",
            "         0, 0, 0, 0, 0, 0, 0, 0, 0, 0, 0, 0, 0, 0, 0, 0, 0, 0, 0, 0, 0, 0, 0, 0,\n",
            "         0, 0, 0, 0, 0],\n",
            "        [1, 1, 1, 1, 1, 1, 1, 1, 1, 1, 1, 1, 1, 1, 0, 0, 0, 0, 0, 0, 0, 0, 0, 0,\n",
            "         0, 0, 0, 0, 0, 0, 0, 0, 0, 0, 0, 0, 0, 0, 0, 0, 0, 0, 0, 0, 0, 0, 0, 0,\n",
            "         0, 0, 0, 0, 0, 0, 0, 0, 0, 0, 0, 0, 0, 0, 0, 0, 0, 0, 0, 0, 0, 0, 0, 0,\n",
            "         0, 0, 0, 0, 0, 0, 0, 0, 0, 0, 0, 0, 0, 0, 0, 0, 0, 0, 0, 0, 0, 0, 0, 0,\n",
            "         0, 0, 0, 0, 0, 0, 0, 0, 0, 0, 0, 0, 0, 0, 0, 0, 0, 0, 0, 0, 0, 0, 0, 0,\n",
            "         0, 0, 0, 0, 0],\n",
            "        [1, 1, 1, 1, 1, 1, 1, 1, 1, 1, 1, 1, 1, 1, 1, 1, 1, 1, 1, 1, 1, 1, 1, 0,\n",
            "         0, 0, 0, 0, 0, 0, 0, 0, 0, 0, 0, 0, 0, 0, 0, 0, 0, 0, 0, 0, 0, 0, 0, 0,\n",
            "         0, 0, 0, 0, 0, 0, 0, 0, 0, 0, 0, 0, 0, 0, 0, 0, 0, 0, 0, 0, 0, 0, 0, 0,\n",
            "         0, 0, 0, 0, 0, 0, 0, 0, 0, 0, 0, 0, 0, 0, 0, 0, 0, 0, 0, 0, 0, 0, 0, 0,\n",
            "         0, 0, 0, 0, 0, 0, 0, 0, 0, 0, 0, 0, 0, 0, 0, 0, 0, 0, 0, 0, 0, 0, 0, 0,\n",
            "         0, 0, 0, 0, 0],\n",
            "        [1, 1, 1, 1, 1, 1, 1, 1, 1, 1, 1, 1, 1, 1, 1, 1, 1, 1, 1, 1, 1, 1, 1, 1,\n",
            "         1, 0, 0, 0, 0, 0, 0, 0, 0, 0, 0, 0, 0, 0, 0, 0, 0, 0, 0, 0, 0, 0, 0, 0,\n",
            "         0, 0, 0, 0, 0, 0, 0, 0, 0, 0, 0, 0, 0, 0, 0, 0, 0, 0, 0, 0, 0, 0, 0, 0,\n",
            "         0, 0, 0, 0, 0, 0, 0, 0, 0, 0, 0, 0, 0, 0, 0, 0, 0, 0, 0, 0, 0, 0, 0, 0,\n",
            "         0, 0, 0, 0, 0, 0, 0, 0, 0, 0, 0, 0, 0, 0, 0, 0, 0, 0, 0, 0, 0, 0, 0, 0,\n",
            "         0, 0, 0, 0, 0]])]\n"
          ],
          "name": "stdout"
        }
      ]
    },
    {
      "cell_type": "code",
      "metadata": {
        "colab": {
          "base_uri": "https://localhost:8080/",
          "height": 115,
          "referenced_widgets": [
            "d2c56a811cd843bb80bde0ca1d009632",
            "84634cf8f9474a439f989f66460847c3",
            "759e08342c0b41af8c7b5033d9b7e54e",
            "0112d51731df46f597e70577426a3c3b",
            "491e8aab43014d9d984e2416ee6d31b8",
            "2520c8c8b5b0437abade8489f8d9badb",
            "767220f4361544058401774873682901",
            "00c612766d3c40c19e3863dde0c7e0ed",
            "7729ca6066a94dca9bed834451bb3a9a",
            "bb9839e71a184951b8746f2adb6870ae",
            "3799771d5a704b6e99c03d500270869e",
            "9ceb108592e946ab9dd485fffc834296",
            "57594a67285343749c6d4752d4ee9bd7",
            "81b54df72ca140498b154e19cbe0b37c",
            "ecf11c804aa446c396cd9f31f09c1bc9",
            "b0936373a9ba47c6b614a7fa3092da84"
          ]
        },
        "id": "cqhq1qOgkp_q",
        "outputId": "38b11b10-efb0-4bc9-8466-1934b5c4ac0f"
      },
      "source": [
        "model=transformers.BertModel.from_pretrained(\"TurkuNLP/bert-base-finnish-cased-v1\")"
      ],
      "execution_count": 21,
      "outputs": [
        {
          "output_type": "display_data",
          "data": {
            "application/vnd.jupyter.widget-view+json": {
              "model_id": "d2c56a811cd843bb80bde0ca1d009632",
              "version_minor": 0,
              "version_major": 2
            },
            "text/plain": [
              "HBox(children=(FloatProgress(value=0.0, description='Downloading', max=433.0, style=ProgressStyle(description_…"
            ]
          },
          "metadata": {
            "tags": []
          }
        },
        {
          "output_type": "stream",
          "text": [
            "\n"
          ],
          "name": "stdout"
        },
        {
          "output_type": "display_data",
          "data": {
            "application/vnd.jupyter.widget-view+json": {
              "model_id": "7729ca6066a94dca9bed834451bb3a9a",
              "version_minor": 0,
              "version_major": 2
            },
            "text/plain": [
              "HBox(children=(FloatProgress(value=0.0, description='Downloading', max=500709232.0, style=ProgressStyle(descri…"
            ]
          },
          "metadata": {
            "tags": []
          }
        },
        {
          "output_type": "stream",
          "text": [
            "\n"
          ],
          "name": "stdout"
        }
      ]
    },
    {
      "cell_type": "code",
      "metadata": {
        "colab": {
          "base_uri": "https://localhost:8080/"
        },
        "id": "DqbN7qKClDzJ",
        "outputId": "bbab33c7-54e5-4d58-8622-d3030958d433"
      },
      "source": [
        "model=model.cuda() #move to GPU (you need to run the notebook on a GPU-accelerated instance, or else this crashes!)\n",
        "model.eval()\n",
        "all_vectors=[]\n",
        "with torch.no_grad():\n",
        "    for input_ids,token_type_ids,att_mask in tqdm.tqdm(batched_ds):\n",
        "        input_ids=input_ids.cuda()\n",
        "        token_type_ids=token_type_ids.cuda()\n",
        "        att_mask=att_mask.cuda()\n",
        "        model_out=model(input_ids=input_ids,token_type_ids=token_type_ids,attention_mask=att_mask)\n",
        "        all_vectors.append(model_out.pooler_output.cpu())\n"
      ],
      "execution_count": 24,
      "outputs": [
        {
          "output_type": "stream",
          "text": [
            "100%|██████████| 667/667 [00:38<00:00, 17.44it/s]\n"
          ],
          "name": "stderr"
        }
      ]
    },
    {
      "cell_type": "code",
      "metadata": {
        "colab": {
          "base_uri": "https://localhost:8080/"
        },
        "id": "8GDIB3oYrMG1",
        "outputId": "541f8179-4b61-4fbd-cd50-08ac6d8b92e1"
      },
      "source": [
        "embedded=torch.vstack(all_vectors).numpy()\n",
        "print(embedded.shape)\n",
        "#...and now we are in a familiar territory"
      ],
      "execution_count": 30,
      "outputs": [
        {
          "output_type": "stream",
          "text": [
            "(5331, 768)\n"
          ],
          "name": "stdout"
        }
      ]
    },
    {
      "cell_type": "code",
      "metadata": {
        "colab": {
          "base_uri": "https://localhost:8080/"
        },
        "id": "oxJd2oZv3ort",
        "outputId": "5d5d9740-a7e3-4be5-a2ac-e09916b79769"
      },
      "source": [
        "#2) Compare\n",
        "import sklearn.metrics.pairwise as pairwise\n",
        "\n",
        "sent_sims=pairwise.cosine_similarity(embedded) #can it be made any easier than this?!\n",
        "print(sent_sims.shape) #we now have all YLE-vs-HS cosine similarities :)\n"
      ],
      "execution_count": 31,
      "outputs": [
        {
          "output_type": "stream",
          "text": [
            "(5331, 5331)\n"
          ],
          "name": "stdout"
        }
      ]
    },
    {
      "cell_type": "code",
      "metadata": {
        "colab": {
          "base_uri": "https://localhost:8080/"
        },
        "id": "_hMLO6DX58K9",
        "outputId": "d74e7cff-f234-41c3-f4e1-6b07c7b8579c"
      },
      "source": [
        "#3) Pick most similar\n",
        "# \n",
        "# This is easy, in the end, but needs some amount of numpy magic ;)\n",
        "\n",
        "import numpy as np\n",
        "sorted_indices=np.argsort(-sent_sims)[:,1:2] #we cannot take the first, because that would be the sentence itself :D\n",
        "# argsort (argument sort, gives indices rather than sorted values)\n",
        "# sort is always ascending but we want descending, the solution is to sort -yle_hs_sims\n",
        "# [:,:1] means \"take all rows and the first column\" but do keep as a 2-dim array  [:,0] would produce a 1-dim array\n",
        "print(\"Sorted_indices shape\",sorted_indices.shape) #as many rows as there are YLE articles, and the index of the most similar HS article\n",
        "print(\"First ten sorted indices\",sorted_indices[:10])\n",
        "\n",
        "#But now we want to see the YLE articles that have the highest correspondence to any HS article\n",
        "#for that we need to sort again. For that, we also need the scores!\n",
        "scores=np.take_along_axis(sent_sims,sorted_indices,-1)  #pick values from yle_hs_sims using the sorted_indices, on the last axis (does your head spin?)\n",
        "print(\"scores.shape\",scores.shape)\n",
        "scores_sorted_indices=np.argsort(-scores.flatten()) #We need to flatten before sort or else the 2nd dimension (which has only one element) will get sorted\n",
        "#this is now indices to YLE texts sorted in descending order by their similarity to any HS article\n",
        "\n"
      ],
      "execution_count": 34,
      "outputs": [
        {
          "output_type": "stream",
          "text": [
            "Sorted_indices shape (5331, 1)\n",
            "First ten sorted indices [[3013]\n",
            " [   2]\n",
            " [   1]\n",
            " [   5]\n",
            " [   7]\n",
            " [   1]\n",
            " [5329]\n",
            " [5111]\n",
            " [  32]\n",
            " [  13]]\n",
            "scores.shape (5331, 1)\n"
          ],
          "name": "stdout"
        }
      ]
    },
    {
      "cell_type": "code",
      "metadata": {
        "colab": {
          "base_uri": "https://localhost:8080/"
        },
        "id": "YbL2h7y7EJBr",
        "outputId": "ccf429bf-e0e7-4644-cba3-c266347f1f49"
      },
      "source": [
        "#4) Inspect!\n",
        "\n",
        "#Can we convince ourselves this works?\n",
        "for i in scores_sorted_indices[:100]: #first 100 sentences\n",
        "    #Which is the corresponding one?\n",
        "    j=sorted_indices[i][0] #so which is the HS index? look it up in sorted_indices, and since that is a 2-dim array, pick the first column (numpy arrays can be head-spinning experience)\n",
        "    print(\"------------------------------------------\")\n",
        "    print(\"yle_i\",yle_i,\"hs_i\",hs_i) #now we know which row (YLE) and column (HS) we are referring to\n",
        "    sim=yle_hs_sims[yle_i,hs_i] #this is the similarity\n",
        "    print(\"Sim\",sim)\n",
        "    print(\"*********** YLE\")\n",
        "    print(yle_texts[yle_i][:500]) #this is the YLE article, first 500 chars\n",
        "    print(\"*********** HS\")\n",
        "    print(hs_texts[hs_i][:500]) #...and this is the HS article, first 500 chars\n",
        "    print(\"------------------------------------------\")\n",
        "    print()"
      ],
      "execution_count": 37,
      "outputs": [
        {
          "output_type": "stream",
          "text": [
            "------------------------------------------\n",
            "yle_i 1290 hs_i 4710\n",
            "Sim 0.975945391128141\n",
            "*********** YLE\n",
            "Helsingin Laakson sairaalan lääkärit pelkäävät potilasturvallisuuden vaarantuvan lääkäripulan vuoksi – myös osastojen sulkeminen vaihtoehtona\n",
            "\"Nyt olemme kriisitilanteessa\", lääkärit sanovat. Lääkäreistä on vajetta ympäri Suomen.\n",
            "Helsingin Laakson sairaalan lääkärit ovat erittäin huolissaan sairaalan pitkään jatkuneesta ja yhä pahenevasta lääkäripulasta.\n",
            "Lääkärien mukaan potilasturvallisuus on vaarantunut toistuvasti.\n",
            "Laakson sairaalan lääkärit ovat lähestyneet Helsingin kaupunkia ja myös työsuo\n",
            "*********** HS\n",
            "Helsingin Laakson sairaalan lääkärit ovat erittäin huolissaan sairaalan pitkään jatkuneesta ja yhä pahenevasta lääkäripulasta.\n",
            "Lääkärien mukaan potilasturvallisuus on vaarantunut toistuvasti.\n",
            "Laakson sairaalan lääkärit ovat lähestyneet Helsingin kaupunkia ja myös työsuojelua kirjelmillä, joissa kerrotaan lääkäripulan vaikutuksista.\n",
            "”Tämän seurauksena me apulaisylilääkärit ja osastonlääkärit olemme jo parin vuoden ajan tehneet työtä jaksamisemme äärirajoilla, ja nyt olemme kriisitilanteessa”, lää\n",
            "------------------------------------------\n",
            "\n",
            "------------------------------------------\n",
            "yle_i 341 hs_i 1385\n",
            "Sim 0.9704408252866435\n",
            "*********** YLE\n",
            "Sakot saanut tuomari: Axl Smithin uhrien nimien paljastuminen oli inhimillinen virhe\n",
            "Tuomari oli itse salannut uhrien nimet rikoksen arkaluontoisuuden takia, mutta nimiä jäi näkyviin.\n",
            "Korkein oikeus (KKO) alkoi torstaina käsitellä juontaja Axl Smithin salakatseluoikeudenkäynnin tuomarin tekemää virhettä. Helsingin käräjäoikeuden tuomari tuomittiin sakkoihin viime vuoden huhtikuussa, sillä tuomioon oli jäänyt näkyviin salakatselun uhrien nimiä.\n",
            "Tuomari oli itse päättänyt salata nimet asian arkalu\n",
            "*********** HS\n",
            "Korkein oikeus (KKO) alkoi torstaina käsitellä juontaja Axl Smithin salakatseluoikeudenkäynnin tuomarin tekemää virhettä. Helsingin käräjäoikeuden tuomari tuomittiin sakkoihin viime vuoden huhtikuussa, sillä tuomioon oli jäänyt näkyviin salakatselun uhrien nimiä.\n",
            "Tuomari oli itse päättänyt salata nimet asian arkaluontoisuuden takia. Uhrien nimiä päätyi ainakin useiden tiedotusvälineiden edustajien tietoon.\n",
            "Salakatselujutussa oli 29 uhria. Smith oli kuvannut seksin aikana useita naisia muun muass\n",
            "------------------------------------------\n",
            "\n",
            "------------------------------------------\n",
            "yle_i 1675 hs_i 6281\n",
            "Sim 0.9659482129144448\n",
            "*********** YLE\n",
            "Elinkeinoelämän luottamus lähitulevaisuuteen laski viime kuussa – kuluttajien luottamus pysyi ennallaan\n",
            "Luvuissa ei näy vielä koronaviruksen vaikutus.\n",
            "Teollisuusyritysten luottamus lähitulevaisuuteen nousi helmikuussa, kertoo Elinkeinoelämän keskusliitto. Luottamusindikaattorissa ei kuitenkaan näy vielä juuri koronaviruksen vaikutusta.\n",
            "Luottamus oli helmikuussa yhä alle pitkän aikavälin keskiarvon. EK arvioi, että käänne huonompaan on ollut nopea ja virus on nyt suurin uhka globaalille taloudell\n",
            "*********** HS\n",
            "Kuluttajien luottamus pysyi helmikuussa liki ennallaan, kertoo Tilastokeskus. Luottamusindikaattorin pisteluku oli –4,5, kun se oli tammikuussa –4,6 ja joulukuussa –4,2.\n",
            "Kuluttajien arviot oman talouden nykytilasta ja lähitulevaisuudesta heikkenivät helmikuussa tammikuuhun verrattuna. Odotukset Suomen talouden lähitulevaisuudesta pysyivät ennallaan, mutta arviot rahankäytöstä kestokulutustavaroihin nousivat jonkin verran.\n",
            "Oman rahatilanteensa kuluttajat arvioivat helmikuussa varsin hyväksi. Kulu\n",
            "------------------------------------------\n",
            "\n",
            "------------------------------------------\n",
            "yle_i 13 hs_i 83\n",
            "Sim 0.9601583902372642\n",
            "*********** YLE\n",
            "Valtio-omisteisten yhtiöiden hallituspalkkiot nousevat ensimmäistä kertaa vuosiin – pelkona on, ettei huippuosaajia muuten löydy\n",
            "Korotusehdotusten tekemistä on vaikeuttanut se, että hallitus ei ole vieläkään päässyt yksimielisyyteen omistajaohjauksen periaatepäätöksestä.\n",
            "Valtio-omisteisten yhtiöiden hallituspalkkiot ovat nousemassa ensimmäistä kertaa vuosiin. Palkkiot ovat jääneet merkittävästi jälkeen markkinatasosta, ja pelkona on, että se vaikeuttaa kansainvälisten osaajien rekrytoimista.\n",
            "Val\n",
            "*********** HS\n",
            "Valtio-omisteisten yhtiöiden hallituspalkkiot ovat nousemassa ensimmäistä kertaa vuosiin. Palkkiot ovat jääneet merkittävästi jälkeen markkinatasosta ja pelkona on, että se vaikeuttaa kansainvälisten osaajien rekrytoimista.\n",
            "Valtion omistajaohjausosaston osastopäällikkö Kimmo Viertola kertoo STT:lle, että hallituspalkkioiden jäädytys on tarkoitus lopettaa, mutta korotukset ovat maltillisia.\n",
            "”Jäädytys on tarpeen lopettaa, jotta myös jatkossa saadaan kansainvälisiä osaajia kiinnostumaan yhtiöistä. \n",
            "------------------------------------------\n",
            "\n",
            "------------------------------------------\n",
            "yle_i 406 hs_i 1591\n",
            "Sim 0.9597350054196988\n",
            "*********** YLE\n",
            "Syyttäjä: Mies yritti murhata poliisin keittiöveitsellä viime kesänä Kuopiossa, partio onnistui kuitenkin puolustautumaan\n",
            "Veitsenisku lävisti oven, jonka taakse poliisi perääntyi.\n",
            "Syyttäjä vaatii Pohjois-Savon käräjäoikeudessa vankeutta miehelle, joka yritti syyttäjän mukaan murhata poliisin keittiöveitsellä viime kesänä.\n",
            "Poliisipartio oli tullut miehen asunnolle häiriökäyttäytymisestä tehdyn hätäkeskusilmoituksen perusteella.\n",
            "Syyttäjän mukaan mies otti asunnon eteisessä käteensä kookkaan keitti\n",
            "*********** HS\n",
            "Syyttäjä vaatii Pohjois-Savon käräjäoikeudessa vankeutta miehelle, joka yritti syyttäjän mukaan murhata poliisin keittiöveitsellä viime kesänä. Poliisipartio oli tullut miehen asunnolle häiriökäyttäytymisestä tehdyn hätäkeskusilmoituksen perusteella.\n",
            "Syyttäjän mukaan mies otti asunnon eteisessä käteensä kookkaan keittiöveitsen ja kohotti sen lyöntiasentoon, mutta poliisi ehti potkaista miestä vatsaan. Mies seurasi potkusta huolimatta toista poliisia veitsi kädessään ja löi veitsellä vielä uudell\n",
            "------------------------------------------\n",
            "\n"
          ],
          "name": "stdout"
        }
      ]
    },
    {
      "cell_type": "markdown",
      "metadata": {
        "id": "1F5APN0OESyV"
      },
      "source": [
        "# That worked like charm!"
      ]
    }
  ]
}