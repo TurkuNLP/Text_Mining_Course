{
  "nbformat": 4,
  "nbformat_minor": 0,
  "metadata": {
    "colab": {
      "name": "text_sim_bert.ipynb",
      "provenance": [],
      "collapsed_sections": [],
      "authorship_tag": "ABX9TyPW4mvxznYGHK2Dn3AoAKUb",
      "include_colab_link": true
    },
    "kernelspec": {
      "name": "python3",
      "display_name": "Python 3"
    },
    "accelerator": "GPU"
  },
  "cells": [
    {
      "cell_type": "markdown",
      "metadata": {
        "id": "view-in-github",
        "colab_type": "text"
      },
      "source": [
        "<a href=\"https://colab.research.google.com/github/TurkuNLP/Text_Mining_Course/blob/master/text_sim_bert.ipynb\" target=\"_parent\"><img src=\"https://colab.research.google.com/assets/colab-badge.svg\" alt=\"Open In Colab\"/></a>"
      ]
    },
    {
      "cell_type": "markdown",
      "metadata": {
        "id": "Y1c4TskcyW4s"
      },
      "source": [
        "Note! Run this notebook with GPU acceleration!\n",
        "\n",
        "# Text similarity / neural models\n",
        "\n",
        "* TF-IDF does not take into account semantic similarity / paraphrasing\n",
        "* Paraphrase: same meaning, different wording\n",
        "* Low lexical overlap (different wording) means erroneously low TF-IDF similarity\n",
        "* In the ideal case, one would capture meaning regardless of wording\n",
        "* This is ongoing research, no silver bullet solutions, but steady progress in this direction can be observed!"
      ]
    },
    {
      "cell_type": "markdown",
      "metadata": {
        "id": "GTRHl9noy4sv"
      },
      "source": [
        "# BERT -based similarity\n",
        "\n",
        "* The BERT model can be seen as a device to turn input text into dense vector representation\n",
        "* We will see it does not capture paraphrasing all that well, but we can use it as a suitable model to learn how to manipulate embeddings produced by neural models and gain intuition into the model's out-of-the-box capabilities\n",
        "* Let us test the BERT model on sentences from news and see what it can do\n"
      ]
    },
    {
      "cell_type": "code",
      "metadata": {
        "colab": {
          "base_uri": "https://localhost:8080/"
        },
        "id": "W6ak2sMnmdEJ",
        "outputId": "c0fb96b2-b386-4ce5-bccb-300e799d1b6e"
      },
      "source": [
        "!wget http://dl.turkunlp.org/textual-data-analysis-course-data/hs_yle_spring_2020.json.gz"
      ],
      "execution_count": 1,
      "outputs": [
        {
          "output_type": "stream",
          "text": [
            "--2021-03-09 20:15:35--  http://dl.turkunlp.org/textual-data-analysis-course-data/hs_yle_spring_2020.json.gz\n",
            "Resolving dl.turkunlp.org (dl.turkunlp.org)... 195.148.30.23\n",
            "Connecting to dl.turkunlp.org (dl.turkunlp.org)|195.148.30.23|:80... connected.\n",
            "HTTP request sent, awaiting response... 200 OK\n",
            "Length: 20590829 (20M) [application/octet-stream]\n",
            "Saving to: ‘hs_yle_spring_2020.json.gz’\n",
            "\n",
            "hs_yle_spring_2020. 100%[===================>]  19.64M  6.99MB/s    in 2.8s    \n",
            "\n",
            "2021-03-09 20:15:38 (6.99 MB/s) - ‘hs_yle_spring_2020.json.gz’ saved [20590829/20590829]\n",
            "\n"
          ],
          "name": "stdout"
        }
      ]
    },
    {
      "cell_type": "code",
      "metadata": {
        "id": "I3MPtvZwWR4L"
      },
      "source": [
        "import json\n",
        "import gzip\n",
        "from pprint import pprint  #pprint is prettyprint\n",
        "\n",
        "with gzip.open(\"hs_yle_spring_2020.json.gz\") as f:\n",
        "    news_data=json.load(f)\n"
      ],
      "execution_count": 37,
      "outputs": []
    },
    {
      "cell_type": "code",
      "metadata": {
        "id": "FhcACaWoaEnY"
      },
      "source": [
        "yle=news_data[\"2020\"][\"01\"][\"yle-text\"]\n",
        "hs=news_data[\"2020\"][\"01\"][\"hs-text\"]\n",
        "\n"
      ],
      "execution_count": 38,
      "outputs": []
    },
    {
      "cell_type": "markdown",
      "metadata": {
        "id": "DsM6niWPu3co"
      },
      "source": [
        "# Preprocess data with Udpipe\n",
        "\n",
        "* We need to split the data into sentences\n",
        "* This is covered in the Intro to NLP course [here](https://colab.research.google.com/github/TurkuNLP/intro-to-nlp/blob/master/basic_nlp.ipynb) so see that notebook for further details if and as needed"
      ]
    },
    {
      "cell_type": "code",
      "metadata": {
        "colab": {
          "base_uri": "https://localhost:8080/"
        },
        "id": "yaoIqwgtuboL",
        "outputId": "5f305df7-91fe-4e18-87bf-f3ccef0930bd"
      },
      "source": [
        "!pip3 install ufal.udpipe"
      ],
      "execution_count": 39,
      "outputs": [
        {
          "output_type": "stream",
          "text": [
            "Requirement already satisfied: ufal.udpipe in /usr/local/lib/python3.7/dist-packages (1.2.0.3)\n"
          ],
          "name": "stdout"
        }
      ]
    },
    {
      "cell_type": "code",
      "metadata": {
        "colab": {
          "base_uri": "https://localhost:8080/"
        },
        "id": "twEy-s5ob4jD",
        "outputId": "a3a1bcb9-62c2-4ba8-8833-9c03862e9c31"
      },
      "source": [
        "# Download the model\n",
        "# Download link can be found from Udpipe's \"Models\" page, this picks the Finnish model, but there are models for many more languages\n",
        "!wget -nc -O fi_model.udpipe https://lindat.mff.cuni.cz/repository/xmlui/bitstream/handle/11234/1-3131/finnish-tdt-ud-2.5-191206.udpipe?sequence=25&isAllowed=y\n"
      ],
      "execution_count": 42,
      "outputs": [
        {
          "output_type": "stream",
          "text": [
            "File ‘fi_model.udpipe’ already there; not retrieving.\n"
          ],
          "name": "stdout"
        }
      ]
    },
    {
      "cell_type": "code",
      "metadata": {
        "id": "RckXtAZ-cIzb"
      },
      "source": [
        "#Build a pipeline which tokenizes and sentence-splits text, returning one sentence per line\n",
        "import ufal.udpipe as udpipe\n",
        "\n",
        "model = udpipe.Model.load(\"fi_model.udpipe\")\n",
        "pipeline = udpipe.Pipeline(model,\"tokenize\",\"none\",\"none\",\"horizontal\")\n"
      ],
      "execution_count": 43,
      "outputs": []
    },
    {
      "cell_type": "code",
      "metadata": {
        "colab": {
          "base_uri": "https://localhost:8080/"
        },
        "id": "Y1_sdC2hcccl",
        "outputId": "3aae227d-c8f5-41fe-fcca-4aa0e25485cb"
      },
      "source": [
        "print(pipeline.process(yle[0][\"text\"]))"
      ],
      "execution_count": 45,
      "outputs": [
        {
          "output_type": "stream",
          "text": [
            "Helsingin Kansalaistorin juhlat sujuivat mallikkaasti – poliisi torui muualla kaupungissa nuoria rakettien ampumisesta ihmisiä päin Helsingin Kansalaistorille oli kerääntynyt juhlimaan vuoden vaihtumista arviolta 85 000 ihmistä .\n",
            "Helsingin poliisi kertoo saaneensa kymmeniä ilmoituksia ilotulitteiden väärinkäytöksistä ympäri kaupunkia .\n",
            "Poliisin johtokeskuksesta kerrottiin yöllä , että poliisi oli saanut iltakymmeneen mennessä kymmeniä ilmoituksia väärinkäytöksistä .\n",
            "Poliisin mukaan nuorisoporukat ovat ampuneet ilotulitteita ihmisiä , autoja ja rakennuksia päin .\n",
            "Ilotulitteita ammuttiin myös sellaisilla alueilla , missä niiden ampuminen on kiellettyä .\n",
            "Kansalaistorilla noin 85 000 ihmistä Helsingin kansalaistorilla järjestettiin musiikkia ja ilotulituksen sisältävä uudenvuoden juhla .\n",
            "Järjestäjän arvion mukaan Kansalaistorille oli kerääntynyt juhlimaan vuoden vaihtumista arviolta 85 000 ihmistä .\n",
            "Juhlinta sujui mallikkaasti , eikä poliisin tietoon tullut juhlapaikalta ilmoituksia vakavammista levottomuuksista tai väärinkäytöksistä .\n",
            "Kansalaistorilla uuden vuosikymmenen vaihtumista tähdittivät kansainvälistä uraa luonut Alma , kotimaiset räppärit Pyhimys ja Gasellit sekä lasten suosikki Pikku Papun Orkesteri & Blind Gut Company .\n",
            "Yleisöä tanssitti myös DJ Windows95man .\n",
            "Katso Kansalaistorin konsertin tallenne :\n",
            "\n"
          ],
          "name": "stdout"
        }
      ]
    },
    {
      "cell_type": "markdown",
      "metadata": {
        "id": "OtChXb94wEp6"
      },
      "source": [
        "* We need to save time a bit, so we cannot process all data\n",
        "* Let us pick sentences from the first 25% of YLE and first 25% of HS in Feb 2020\n",
        "* Further, let us pick the first five sentences of every article only\n",
        "* This is simply to keep the sentence count manageable"
      ]
    },
    {
      "cell_type": "code",
      "metadata": {
        "colab": {
          "base_uri": "https://localhost:8080/"
        },
        "id": "IQOR-aLQcyK1",
        "outputId": "0c8453ba-6f5e-474b-b47e-d9c361a245f1"
      },
      "source": [
        "import tqdm #progress bar\n",
        "for d in tqdm.tqdm(yle[:len(yle)//4]):\n",
        "    d[\"segmented\"]=pipeline.process(d[\"text\"]).strip().split(\"\\n\")[:5]\n",
        "for d in tqdm.tqdm(hs[:len(hs)//4]):\n",
        "    d[\"segmented\"]=pipeline.process(d[\"text\"]).strip().split(\"\\n\")[:5]"
      ],
      "execution_count": 46,
      "outputs": [
        {
          "output_type": "stream",
          "text": [
            "100%|██████████| 480/480 [00:08<00:00, 57.41it/s]\n",
            "100%|██████████| 1770/1770 [00:29<00:00, 60.81it/s]\n"
          ],
          "name": "stderr"
        }
      ]
    },
    {
      "cell_type": "code",
      "metadata": {
        "colab": {
          "base_uri": "https://localhost:8080/"
        },
        "id": "SDkz6jfXdZVW",
        "outputId": "af477670-ac2e-44d3-c042-ab1cc8ee1b9f"
      },
      "source": [
        "print(yle[0][\"segmented\"])"
      ],
      "execution_count": 47,
      "outputs": [
        {
          "output_type": "stream",
          "text": [
            "['Helsingin Kansalaistorin juhlat sujuivat mallikkaasti – poliisi torui muualla kaupungissa nuoria rakettien ampumisesta ihmisiä päin Helsingin Kansalaistorille oli kerääntynyt juhlimaan vuoden vaihtumista arviolta 85\\xa0000 ihmistä .', 'Helsingin poliisi kertoo saaneensa kymmeniä ilmoituksia ilotulitteiden väärinkäytöksistä ympäri kaupunkia .', 'Poliisin johtokeskuksesta kerrottiin yöllä , että poliisi oli saanut iltakymmeneen mennessä kymmeniä ilmoituksia väärinkäytöksistä .', 'Poliisin mukaan nuorisoporukat ovat ampuneet ilotulitteita ihmisiä , autoja ja rakennuksia päin .', 'Ilotulitteita ammuttiin myös sellaisilla alueilla , missä niiden ampuminen on kiellettyä .']\n"
          ],
          "name": "stdout"
        }
      ]
    },
    {
      "cell_type": "markdown",
      "metadata": {
        "id": "ImIAQgGWwl62"
      },
      "source": [
        "* Now we can build a list of all unique sentences\n",
        "* We will simply pour together YLE and HS, and not worry about anything else\n",
        "* Let's keep things simple..."
      ]
    },
    {
      "cell_type": "code",
      "metadata": {
        "colab": {
          "base_uri": "https://localhost:8080/"
        },
        "id": "qDbvbFvUe76d",
        "outputId": "f0cb305a-a709-450c-cb60-51c3f9b88967"
      },
      "source": [
        "all_sentences=[]\n",
        "for d in yle:\n",
        "    all_sentences.extend(d.get(\"segmented\",[])) #I use .get() because only 1/4 of the dictionaries have been segmented\n",
        "for d in hs:\n",
        "    all_sentences.extend(d.get(\"segmented\",[]))\n",
        "print(\"All sentences\",len(all_sentences))\n",
        "unique_sentences=list(set(all_sentences)) #make the sentences unique\n",
        "unique_sentences.sort()\n",
        "print(\"All unique sentences\",len(unique_sentences))\n",
        "for s in unique_sentences[:10]:\n",
        "    print(s)"
      ],
      "execution_count": 48,
      "outputs": [
        {
          "output_type": "stream",
          "text": [
            "All sentences 10633\n",
            "All unique sentences 6597\n",
            "\n",
            "\" Ei työssäkäyvän ihmisen talous siihen kaadu \"\n",
            "\" Esimiehet pyörisivät yksin töissä ilman työntekijöitä \"\n",
            "\" Hankitaan vain kirjoja , jotka ovat saaneet megakohun aikaan \"\n",
            "\" Huolestunut vihje voi tulla pankista tai kaupan kassalta \"\n",
            "\" Huono yhteistyö ei ole laitonta , se on vain hankalaa \"\n",
            "\" Iskujen tarkoituksena ei ollut tappaa USA:n sotilaita , mutta operaatio amerikkalaisjoukkojen pois ajamiseksi jatkuu \"\n",
            "\" Juoksi keittiöön ja nappasi leipäveitsen käteen \" – vartijat joutuvat yhä useammin turvaamaan kotihoidon työntekijöiden kotikäyntejä\n",
            "\" Lasten ja vanhempien mielikuvitus on laiskistunut \" – 8 vinkkiä lumettomiin lomapäiviin\n",
            "\" Menestystarina on auennut \"\n"
          ],
          "name": "stdout"
        }
      ]
    },
    {
      "cell_type": "markdown",
      "metadata": {
        "id": "1nAqMtGVxGCg"
      },
      "source": [
        "# BERT model in practice\n",
        "\n",
        "* Running the model is somewhat involved, even though in the end, it is actually only few lines of python :)\n",
        "* Hang on!\n",
        "* We will use the Huggingface Transformers library to run the model"
      ]
    },
    {
      "cell_type": "code",
      "metadata": {
        "colab": {
          "base_uri": "https://localhost:8080/"
        },
        "id": "nVOt-7HBfscz",
        "outputId": "76579689-014f-469a-d349-088532effa43"
      },
      "source": [
        "!pip3 install transformers\n",
        "import transformers"
      ],
      "execution_count": 49,
      "outputs": [
        {
          "output_type": "stream",
          "text": [
            "Requirement already satisfied: transformers in /usr/local/lib/python3.7/dist-packages (4.3.3)\n",
            "Requirement already satisfied: numpy>=1.17 in /usr/local/lib/python3.7/dist-packages (from transformers) (1.19.5)\n",
            "Requirement already satisfied: packaging in /usr/local/lib/python3.7/dist-packages (from transformers) (20.9)\n",
            "Requirement already satisfied: requests in /usr/local/lib/python3.7/dist-packages (from transformers) (2.23.0)\n",
            "Requirement already satisfied: filelock in /usr/local/lib/python3.7/dist-packages (from transformers) (3.0.12)\n",
            "Requirement already satisfied: tqdm>=4.27 in /usr/local/lib/python3.7/dist-packages (from transformers) (4.41.1)\n",
            "Requirement already satisfied: tokenizers<0.11,>=0.10.1 in /usr/local/lib/python3.7/dist-packages (from transformers) (0.10.1)\n",
            "Requirement already satisfied: regex!=2019.12.17 in /usr/local/lib/python3.7/dist-packages (from transformers) (2019.12.20)\n",
            "Requirement already satisfied: importlib-metadata; python_version < \"3.8\" in /usr/local/lib/python3.7/dist-packages (from transformers) (3.7.0)\n",
            "Requirement already satisfied: sacremoses in /usr/local/lib/python3.7/dist-packages (from transformers) (0.0.43)\n",
            "Requirement already satisfied: pyparsing>=2.0.2 in /usr/local/lib/python3.7/dist-packages (from packaging->transformers) (2.4.7)\n",
            "Requirement already satisfied: chardet<4,>=3.0.2 in /usr/local/lib/python3.7/dist-packages (from requests->transformers) (3.0.4)\n",
            "Requirement already satisfied: certifi>=2017.4.17 in /usr/local/lib/python3.7/dist-packages (from requests->transformers) (2020.12.5)\n",
            "Requirement already satisfied: urllib3!=1.25.0,!=1.25.1,<1.26,>=1.21.1 in /usr/local/lib/python3.7/dist-packages (from requests->transformers) (1.24.3)\n",
            "Requirement already satisfied: idna<3,>=2.5 in /usr/local/lib/python3.7/dist-packages (from requests->transformers) (2.10)\n",
            "Requirement already satisfied: typing-extensions>=3.6.4; python_version < \"3.8\" in /usr/local/lib/python3.7/dist-packages (from importlib-metadata; python_version < \"3.8\"->transformers) (3.7.4.3)\n",
            "Requirement already satisfied: zipp>=0.5 in /usr/local/lib/python3.7/dist-packages (from importlib-metadata; python_version < \"3.8\"->transformers) (3.4.1)\n",
            "Requirement already satisfied: click in /usr/local/lib/python3.7/dist-packages (from sacremoses->transformers) (7.1.2)\n",
            "Requirement already satisfied: six in /usr/local/lib/python3.7/dist-packages (from sacremoses->transformers) (1.15.0)\n",
            "Requirement already satisfied: joblib in /usr/local/lib/python3.7/dist-packages (from sacremoses->transformers) (1.0.1)\n"
          ],
          "name": "stdout"
        }
      ]
    },
    {
      "cell_type": "markdown",
      "metadata": {
        "id": "7Qug--CCxjY3"
      },
      "source": [
        "# BERT tokenization\n",
        "\n",
        "* BERT does (and needs!) own sub-word tokenization\n",
        "* When applying it to data, you need the correct tokenizer for the language you use and for the model you will use\n",
        "* A large number of models are [easily available and distributed by Huggingface](https://huggingface.co/transformers/pretrained_models.html)\n",
        "* Conveniently, the Finnish BERT model has been added by TurkuNLP :)\n"
      ]
    },
    {
      "cell_type": "code",
      "metadata": {
        "id": "swMU0yfUf7mO"
      },
      "source": [
        "bert_tokenizer=transformers.BertTokenizer.from_pretrained(\"TurkuNLP/bert-base-finnish-cased-v1\")"
      ],
      "execution_count": 50,
      "outputs": []
    },
    {
      "cell_type": "markdown",
      "metadata": {
        "id": "KF54BGwtyS-A"
      },
      "source": [
        "* [Documentation](https://huggingface.co/transformers/main_classes/tokenizer.html#transformers.PreTrainedTokenizer.__call__)\n",
        "* The tokenizer receives list of sentences, and returns everything needed to run the BERT model on the data\n",
        "   * input token IDs\n",
        "   * token type IDs\n",
        "   * attention mask\n",
        "* We will also ask it to:\n",
        "   * truncate the data to maximum length BERT can accept (512 tokens per sequence)\n",
        "   * pad the data to rectangular shape (add zeros to sentences shorter than the longest one)\n",
        "   * return the data directly as torch tensors which we will need (correspond to numpy's ndarray)\n",
        "\n",
        "\n"
      ]
    },
    {
      "cell_type": "code",
      "metadata": {
        "id": "pZ4oEFAkght8"
      },
      "source": [
        "sents_tokenized=bert_tokenizer(unique_sentences,padding=True,truncation=True,return_tensors=\"pt\")"
      ],
      "execution_count": 51,
      "outputs": []
    },
    {
      "cell_type": "code",
      "metadata": {
        "colab": {
          "base_uri": "https://localhost:8080/"
        },
        "id": "NEiQKLZhhAcV",
        "outputId": "8f1bf8f5-0736-4315-8982-8f4ede377690"
      },
      "source": [
        "print(\"Tokenizer output:\",list(sents_tokenized.keys()))\n",
        "print(\"input_ids shape:\",sents_tokenized[\"input_ids\"].shape)"
      ],
      "execution_count": 53,
      "outputs": [
        {
          "output_type": "stream",
          "text": [
            "Tokenizer output: ['input_ids', 'token_type_ids', 'attention_mask']\n",
            "input_ids shape: torch.Size([6597, 136])\n"
          ],
          "name": "stdout"
        }
      ]
    },
    {
      "cell_type": "markdown",
      "metadata": {
        "id": "ZXp66sLazjSQ"
      },
      "source": [
        "* We have 6597 input sentences\n",
        "* The longest one is 136 tokens long\n",
        "* Now we need to batch the data for the model, i.e. chop it to batches of a handful of sentences at a time which will be processed at once"
      ]
    },
    {
      "cell_type": "code",
      "metadata": {
        "id": "SSrA9OX0jhKC"
      },
      "source": [
        "import torch\n",
        "\n",
        "#1) dataset is something which gives individual examples, TensorDatasets gives the rows of the tensors in the tokenizer output\n",
        "ds=torch.utils.data.TensorDataset(sents_tokenized[\"input_ids\"],sents_tokenized[\"token_type_ids\"],sents_tokenized[\"attention_mask\"])\n",
        "#2) DataLoader can take the TensorDataset and batch it for us (it can do plenty of other things too!)\n",
        "batched_ds=torch.utils.data.DataLoader(ds,batch_size=20)"
      ],
      "execution_count": 54,
      "outputs": []
    },
    {
      "cell_type": "code",
      "metadata": {
        "colab": {
          "base_uri": "https://localhost:8080/"
        },
        "id": "6FcTezfZj7lp",
        "outputId": "c1cdcc20-4158-4dda-c722-188f85312f2b"
      },
      "source": [
        "#item should be one batch now\n",
        "for item in batched_ds:\n",
        "    print(item)\n",
        "    break\n",
        "\n",
        "print(\"item[0] shape\",item[0].shape)\n",
        "print(\"item[1] shape\",item[1].shape)\n",
        "print(\"item[2] shape\",item[2].shape)"
      ],
      "execution_count": 57,
      "outputs": [
        {
          "output_type": "stream",
          "text": [
            "[tensor([[  102,   103,     0,  ...,     0,     0,     0],\n",
            "        [  102,   245,   771,  ...,     0,     0,     0],\n",
            "        [  102,   245,  2412,  ...,     0,     0,     0],\n",
            "        ...,\n",
            "        [  102,   348, 27617,  ...,     0,     0,     0],\n",
            "        [  102,   348, 27617,  ...,     0,     0,     0],\n",
            "        [  102,   348, 27617,  ...,     0,     0,     0]]), tensor([[0, 0, 0,  ..., 0, 0, 0],\n",
            "        [0, 0, 0,  ..., 0, 0, 0],\n",
            "        [0, 0, 0,  ..., 0, 0, 0],\n",
            "        ...,\n",
            "        [0, 0, 0,  ..., 0, 0, 0],\n",
            "        [0, 0, 0,  ..., 0, 0, 0],\n",
            "        [0, 0, 0,  ..., 0, 0, 0]]), tensor([[1, 1, 0,  ..., 0, 0, 0],\n",
            "        [1, 1, 1,  ..., 0, 0, 0],\n",
            "        [1, 1, 1,  ..., 0, 0, 0],\n",
            "        ...,\n",
            "        [1, 1, 1,  ..., 0, 0, 0],\n",
            "        [1, 1, 1,  ..., 0, 0, 0],\n",
            "        [1, 1, 1,  ..., 0, 0, 0]])]\n",
            "item[0] shape torch.Size([20, 136])\n",
            "item[1] shape torch.Size([20, 136])\n",
            "item[2] shape torch.Size([20, 136])\n"
          ],
          "name": "stdout"
        }
      ]
    },
    {
      "cell_type": "markdown",
      "metadata": {
        "id": "e4om3GUM01Ur"
      },
      "source": [
        "* We have all ready on the input side\n",
        "* Now we can load the model and push it onto the GPU"
      ]
    },
    {
      "cell_type": "code",
      "metadata": {
        "id": "cqhq1qOgkp_q"
      },
      "source": [
        "model=transformers.BertModel.from_pretrained(\"TurkuNLP/bert-base-finnish-cased-v1\")\n",
        "model=model.cuda() #moves the model onto GPU\n",
        "model=model.eval() #tells the model it will not be training, it will be used to simply process input\n"
      ],
      "execution_count": 60,
      "outputs": []
    },
    {
      "cell_type": "markdown",
      "metadata": {
        "id": "7dlJLi2t3irl"
      },
      "source": [
        "* Now we push every batch of data through the model\n",
        "* Harvest the pooler output which is a single vector representing the whole sentence"
      ]
    },
    {
      "cell_type": "code",
      "metadata": {
        "colab": {
          "base_uri": "https://localhost:8080/"
        },
        "id": "DqbN7qKClDzJ",
        "outputId": "6bb71b8e-b064-4ebc-96a8-f6d8b33e8701"
      },
      "source": [
        "all_vectors=[] #store the model outputs here for all batches\n",
        "with torch.no_grad(): #this tells torch to not collect gradient data, conserves memory big time!\n",
        "    for input_ids,token_type_ids,att_mask in tqdm.tqdm(batched_ds): #each batch is composed of input_ids, token_type_ids, attention mask\n",
        "        input_ids=input_ids.cuda() #move data onto GPU since the model is there too\n",
        "        token_type_ids=token_type_ids.cuda() #...\n",
        "        att_mask=att_mask.cuda() #...\n",
        "        model_out=model(input_ids=input_ids,token_type_ids=token_type_ids,attention_mask=att_mask) #run the model\n",
        "        all_vectors.append(model_out.pooler_output.cpu()) #move the pooler output back to CPU and store it\n"
      ],
      "execution_count": 61,
      "outputs": [
        {
          "output_type": "stream",
          "text": [
            "100%|██████████| 330/330 [00:56<00:00,  5.86it/s]\n"
          ],
          "name": "stderr"
        }
      ]
    },
    {
      "cell_type": "code",
      "metadata": {
        "colab": {
          "base_uri": "https://localhost:8080/"
        },
        "id": "8GDIB3oYrMG1",
        "outputId": "ecb06093-f292-4791-8d36-8cf107f4c236"
      },
      "source": [
        "# Combines all of the individual batches into a single tensor\n",
        "embedded=torch.vstack(all_vectors).numpy()\n",
        "print(embedded.shape)"
      ],
      "execution_count": 62,
      "outputs": [
        {
          "output_type": "stream",
          "text": [
            "(6597, 768)\n"
          ],
          "name": "stdout"
        }
      ]
    },
    {
      "cell_type": "markdown",
      "metadata": {
        "id": "G45aQKI35ct-"
      },
      "source": [
        "* At this point, we are on a familiar territory\n",
        "* We have a matrix with as many rows as we have \"documents\" and each row is a vector which represents the document\n",
        "* These vectors are 768 long and dense\n",
        "* Other than that, it is exactly as what we had from the TfidfVectorizer\n",
        "* So we can re-use the code to calculate the nearest documents with very few modifications\n",
        "* Below is mostly copied code:"
      ]
    },
    {
      "cell_type": "code",
      "metadata": {
        "colab": {
          "base_uri": "https://localhost:8080/"
        },
        "id": "oxJd2oZv3ort",
        "outputId": "6e1bb388-a2ee-40b8-98fe-75e3ec6b6c3b"
      },
      "source": [
        "#2) Compare\n",
        "import sklearn.metrics.pairwise as pairwise\n",
        "\n",
        "sent_sims=pairwise.cosine_similarity(embedded) \n",
        "print(sent_sims.shape) #we now have all-vs-all cosine similarities of the BERT sentence embeddings\n"
      ],
      "execution_count": 63,
      "outputs": [
        {
          "output_type": "stream",
          "text": [
            "(6597, 6597)\n"
          ],
          "name": "stdout"
        }
      ]
    },
    {
      "cell_type": "code",
      "metadata": {
        "colab": {
          "base_uri": "https://localhost:8080/"
        },
        "id": "_hMLO6DX58K9",
        "outputId": "43a312e8-c492-4fd8-a7eb-97d8ec935f7e"
      },
      "source": [
        "#3) Pick most similar\n",
        "# code unchanged except for the 1:2 slice\n",
        "\n",
        "import numpy as np\n",
        "sorted_indices=np.argsort(-sent_sims)[:,1:2] #we cannot take the first, because that would be the sentence itself! (this was [:,:1] previously)\n",
        "# argsort (argument sort, gives indices rather than sorted values)\n",
        "# sort is always ascending but we want descending, the solution is to sort -sent_sims\n",
        "# [:,1:2] means \"take all rows and the second column\" but do keep as a 2-dim array\n",
        "print(\"Sorted_indices shape\",sorted_indices.shape) #as many rows as there are YLE articles, and the index of the most similar HS article\n",
        "\n",
        "#But now we want to see the sentences that have the highest correspondence to any other sentence\n",
        "#for that we need to sort again. For that, we also need the scores!\n",
        "scores=np.take_along_axis(sent_sims,sorted_indices,-1)  #pick values from sent_sims using the sorted_indices, on the last axis (does your head spin?)\n",
        "print(\"scores.shape\",scores.shape)\n",
        "scores_sorted_indices=np.argsort(-scores.flatten()) #We need to flatten before sort or else the 2nd dimension (which has only one element) will get sorted\n",
        "#this is now indices to unique_sentences sorted in descending order by their similarity to any other sentence\n",
        "\n"
      ],
      "execution_count": 64,
      "outputs": [
        {
          "output_type": "stream",
          "text": [
            "Sorted_indices shape (6597, 1)\n",
            "scores.shape (6597, 1)\n"
          ],
          "name": "stdout"
        }
      ]
    },
    {
      "cell_type": "code",
      "metadata": {
        "colab": {
          "base_uri": "https://localhost:8080/"
        },
        "id": "YbL2h7y7EJBr",
        "outputId": "0d0b349d-4ef2-4a65-f20c-a4b3f4d64244"
      },
      "source": [
        "#4) Inspect!\n",
        "\n",
        "#Can we convince ourselves this works?\n",
        "for i in scores_sorted_indices[:100]: #first 100 sentences\n",
        "    #Which is the corresponding one?\n",
        "    j=sorted_indices[i][0] #so which is the HS index? look it up in sorted_indices, and since that is a 2-dim array, pick the first column (numpy arrays can be head-spinning experience)\n",
        "    print(\"------------------------------------------\")\n",
        "    print(\"i\",i,\"j\",j) #now we know which row and column we are referring to\n",
        "    sim=sent_sims[i,j] #this is the similarity\n",
        "    print(\"Sim\",sim)\n",
        "    print(\"*********** \")\n",
        "    print(unique_sentences[i]) #this is the first one\n",
        "    print(\"*********** \")\n",
        "    print(unique_sentences[j]) #...and this is the second one\n",
        "    print(\"------------------------------------------\")\n",
        "    print()"
      ],
      "execution_count": 65,
      "outputs": [
        {
          "output_type": "stream",
          "text": [
            "------------------------------------------\n",
            "i 6288 j 6287\n",
            "Sim 1.0000002\n",
            "*********** \n",
            "Yli 160-sivuinen julkaisu ilmestyy paperisena aika­kaus­lehtenä sekä näköis­lehtenä Helsingin Sanomien verkko­sivuilla .\n",
            "*********** \n",
            "Yli 160-sivuinen julkaisu ilmestyy paperisena aikakauslehtenä sekä näköislehtenä Helsingin Sanomien verkkosivuilla .\n",
            "------------------------------------------\n",
            "\n",
            "------------------------------------------\n",
            "i 6287 j 6287\n",
            "Sim 1.0000002\n",
            "*********** \n",
            "Yli 160-sivuinen julkaisu ilmestyy paperisena aikakauslehtenä sekä näköislehtenä Helsingin Sanomien verkkosivuilla .\n",
            "*********** \n",
            "Yli 160-sivuinen julkaisu ilmestyy paperisena aikakauslehtenä sekä näköislehtenä Helsingin Sanomien verkkosivuilla .\n",
            "------------------------------------------\n",
            "\n",
            "------------------------------------------\n",
            "i 3317 j 3318\n",
            "Sim 1.0000001\n",
            "*********** \n",
            "Näköislehti on luettavissa kaikille HS:n tilaajille , joilla on digitaalinen lukuoikeus .\n",
            "*********** \n",
            "Näköis­lehti on luettavissa kaikille HS:n tilaajille , joilla on digitaalinen luku­oikeus .\n",
            "------------------------------------------\n",
            "\n",
            "------------------------------------------\n",
            "i 3318 j 3318\n",
            "Sim 1.0000001\n",
            "*********** \n",
            "Näköis­lehti on luettavissa kaikille HS:n tilaajille , joilla on digitaalinen luku­oikeus .\n",
            "*********** \n",
            "Näköis­lehti on luettavissa kaikille HS:n tilaajille , joilla on digitaalinen luku­oikeus .\n",
            "------------------------------------------\n",
            "\n",
            "------------------------------------------\n",
            "i 4547 j 4548\n",
            "Sim 1.0\n",
            "*********** \n",
            "Suom .\n",
            "*********** \n",
            "Suom.\n",
            "------------------------------------------\n",
            "\n",
            "------------------------------------------\n",
            "i 4548 j 4548\n",
            "Sim 1.0\n",
            "*********** \n",
            "Suom.\n",
            "*********** \n",
            "Suom.\n",
            "------------------------------------------\n",
            "\n",
            "------------------------------------------\n",
            "i 5675 j 5676\n",
            "Sim 0.9999999\n",
            "*********** \n",
            "Val di Fiemme Suomalainen Jussi Prykäri on merkittävässä roolissa , kun Tour de Skin voitot ratkaistaan sunnuntaina Alpe Cermisin loppunousussa .\n",
            "*********** \n",
            "Val di Fiemme Suomalainen Jussi Prykäri on merkittävässä roolissa , kun Tour de Skin voitot ratkaistaan sunnuntaina­ Alpe Cermisin loppunousussa­ .\n",
            "------------------------------------------\n",
            "\n",
            "------------------------------------------\n",
            "i 5676 j 5676\n",
            "Sim 0.9999999\n",
            "*********** \n",
            "Val di Fiemme Suomalainen Jussi Prykäri on merkittävässä roolissa , kun Tour de Skin voitot ratkaistaan sunnuntaina­ Alpe Cermisin loppunousussa­ .\n",
            "*********** \n",
            "Val di Fiemme Suomalainen Jussi Prykäri on merkittävässä roolissa , kun Tour de Skin voitot ratkaistaan sunnuntaina­ Alpe Cermisin loppunousussa­ .\n",
            "------------------------------------------\n",
            "\n",
            "------------------------------------------\n",
            "i 6173 j 6172\n",
            "Sim 0.99999964\n",
            "*********** \n",
            "Yhdysvaltain puolustusministeriö vahvistaa tiedotteellaan , että iskun teki Yhdysvallat , ja käskyn antoi presidentti Donald Trump.\n",
            "*********** \n",
            "Yhdysvaltain puolustusministeriö vahvistaa tiedotteellaan , että iskun teki Yhdysvallat , ja käskyn antoi presidentti Donald Trump .\n",
            "------------------------------------------\n",
            "\n",
            "------------------------------------------\n",
            "i 6172 j 6172\n",
            "Sim 0.99999964\n",
            "*********** \n",
            "Yhdysvaltain puolustusministeriö vahvistaa tiedotteellaan , että iskun teki Yhdysvallat , ja käskyn antoi presidentti Donald Trump .\n",
            "*********** \n",
            "Yhdysvaltain puolustusministeriö vahvistaa tiedotteellaan , että iskun teki Yhdysvallat , ja käskyn antoi presidentti Donald Trump .\n",
            "------------------------------------------\n",
            "\n",
            "------------------------------------------\n",
            "i 924 j 924\n",
            "Sim 0.99999964\n",
            "*********** \n",
            "Hakukohteita ensimmäisessä yhteishaussa on 265 ja opiskelupaikkoja on tarjolla noin 4 700 .\n",
            "*********** \n",
            "Hakukohteita ensimmäisessä yhteishaussa on 265 ja opiskelupaikkoja on tarjolla noin 4 700 .\n",
            "------------------------------------------\n",
            "\n",
            "------------------------------------------\n",
            "i 923 j 924\n",
            "Sim 0.99999964\n",
            "*********** \n",
            "Hakukohteita ensimmäisessä yhteishaussa on 265 ja opiskelupaikkoja on tarjolla noin 4 700 .\n",
            "*********** \n",
            "Hakukohteita ensimmäisessä yhteishaussa on 265 ja opiskelupaikkoja on tarjolla noin 4 700 .\n",
            "------------------------------------------\n",
            "\n",
            "------------------------------------------\n",
            "i 3888 j 3887\n",
            "Sim 0.9999995\n",
            "*********** \n",
            "Prykäri on Val di Fiemmessä hiihdettävien Tourin kolmen viimeisen­ osakilpailun tekninen asiantuntija eli Td ( technical delegate­ ) .\n",
            "*********** \n",
            "Prykäri on Val di Fiemmessä hiihdettävien Tourin kolmen viimeisen osakilpailun tekninen asiantuntija eli Td ( technical delegate ) .\n",
            "------------------------------------------\n",
            "\n",
            "------------------------------------------\n",
            "i 3887 j 3887\n",
            "Sim 0.9999995\n",
            "*********** \n",
            "Prykäri on Val di Fiemmessä hiihdettävien Tourin kolmen viimeisen osakilpailun tekninen asiantuntija eli Td ( technical delegate ) .\n",
            "*********** \n",
            "Prykäri on Val di Fiemmessä hiihdettävien Tourin kolmen viimeisen osakilpailun tekninen asiantuntija eli Td ( technical delegate ) .\n",
            "------------------------------------------\n",
            "\n",
            "------------------------------------------\n",
            "i 6561 j 6559\n",
            "Sim 0.9999833\n",
            "*********** \n",
            "” Suunnittelemme jakavamme aikamme Yhdistyneessä kuningaskunnassa ja Pohjois-Amerikkassa .\n",
            "*********** \n",
            "” Suunnittelemme jakavamme aikamme Yhdistyneessa kuningaskunnassa ja Pohjois-Amerikkassa .\n",
            "------------------------------------------\n",
            "\n",
            "------------------------------------------\n",
            "i 6559 j 6561\n",
            "Sim 0.9999833\n",
            "*********** \n",
            "” Suunnittelemme jakavamme aikamme Yhdistyneessa kuningaskunnassa ja Pohjois-Amerikkassa .\n",
            "*********** \n",
            "” Suunnittelemme jakavamme aikamme Yhdistyneessä kuningaskunnassa ja Pohjois-Amerikkassa .\n",
            "------------------------------------------\n",
            "\n",
            "------------------------------------------\n",
            "i 157 j 158\n",
            "Sim 0.9999647\n",
            "*********** \n",
            "Ainakin 40 ihmistä on kuollut ja yli 200 loukkaantunut väentungoksessa , kun sadattuhannet ihmiset ovat pakkautuneet Yhdysvaltain ilmaiskussa kuolleen iranilaiskomentajan hautajaismenoihin tämän kotikaupungissa Kermanissa .\n",
            "*********** \n",
            "Ainakin 50 ihmistä on kuollut ja yli 200 loukkaantunut väentungoksessa , kun sadattuhannet ihmiset ovat pakkautuneet Yhdysvaltain ilmaiskussa kuolleen iranilaiskomentajan hautajaismenoihin tämän kotikaupungissa Kermanissa .\n",
            "------------------------------------------\n",
            "\n",
            "------------------------------------------\n",
            "i 158 j 157\n",
            "Sim 0.9999647\n",
            "*********** \n",
            "Ainakin 50 ihmistä on kuollut ja yli 200 loukkaantunut väentungoksessa , kun sadattuhannet ihmiset ovat pakkautuneet Yhdysvaltain ilmaiskussa kuolleen iranilaiskomentajan hautajaismenoihin tämän kotikaupungissa Kermanissa .\n",
            "*********** \n",
            "Ainakin 40 ihmistä on kuollut ja yli 200 loukkaantunut väentungoksessa , kun sadattuhannet ihmiset ovat pakkautuneet Yhdysvaltain ilmaiskussa kuolleen iranilaiskomentajan hautajaismenoihin tämän kotikaupungissa Kermanissa .\n",
            "------------------------------------------\n",
            "\n",
            "------------------------------------------\n",
            "i 4675 j 4674\n",
            "Sim 0.9996999\n",
            "*********** \n",
            "Suomi on tappiolla lukemin 0–4 ottelun avauserässä .\n",
            "*********** \n",
            "Suomi on tappiolla lukemin 0–3 ottelun avauserässä .\n",
            "------------------------------------------\n",
            "\n",
            "------------------------------------------\n",
            "i 4674 j 4675\n",
            "Sim 0.9996999\n",
            "*********** \n",
            "Suomi on tappiolla lukemin 0–3 ottelun avauserässä .\n",
            "*********** \n",
            "Suomi on tappiolla lukemin 0–4 ottelun avauserässä .\n",
            "------------------------------------------\n",
            "\n",
            "------------------------------------------\n",
            "i 5728 j 5729\n",
            "Sim 0.99965703\n",
            "*********** \n",
            "Vanhemmat aloittivat huijaamisen vuonna 2014 , kun he kävivät lääkärissä ja esittivät , että perheen isä oli menettänyt näkökykynsä 90 prosenttisesti .\n",
            "*********** \n",
            "Vanhemmat aloittivat huijaamisen vuonna 2014 , kun he kävivät lääkärissä ja esittivät , että perheen isä oli menettänyt näkökykynsä 90-prosenttisesti .\n",
            "------------------------------------------\n",
            "\n",
            "------------------------------------------\n",
            "i 5729 j 5728\n",
            "Sim 0.99965703\n",
            "*********** \n",
            "Vanhemmat aloittivat huijaamisen vuonna 2014 , kun he kävivät lääkärissä ja esittivät , että perheen isä oli menettänyt näkökykynsä 90-prosenttisesti .\n",
            "*********** \n",
            "Vanhemmat aloittivat huijaamisen vuonna 2014 , kun he kävivät lääkärissä ja esittivät , että perheen isä oli menettänyt näkökykynsä 90 prosenttisesti .\n",
            "------------------------------------------\n",
            "\n",
            "------------------------------------------\n",
            "i 5616 j 5615\n",
            "Sim 0.99963903\n",
            "*********** \n",
            "Uutistoimistot pohjasivat tietonsa kirjeeseen , jonka prikaatinkenraali William Seely oli niiden mukaan allekirjoittanut ja joka olisi lähetetty Irakin puolustusministeriölle .\n",
            "*********** \n",
            "Uutistoimistot pohjasivat tietonsa kirjeeseen , jonka prikaatikenraali William Seely oli niiden mukaan allekirjoittanut ja joka olisi lähetetty Irakin puolustusministeriölle .\n",
            "------------------------------------------\n",
            "\n",
            "------------------------------------------\n",
            "i 5615 j 5616\n",
            "Sim 0.99963903\n",
            "*********** \n",
            "Uutistoimistot pohjasivat tietonsa kirjeeseen , jonka prikaatikenraali William Seely oli niiden mukaan allekirjoittanut ja joka olisi lähetetty Irakin puolustusministeriölle .\n",
            "*********** \n",
            "Uutistoimistot pohjasivat tietonsa kirjeeseen , jonka prikaatinkenraali William Seely oli niiden mukaan allekirjoittanut ja joka olisi lähetetty Irakin puolustusministeriölle .\n",
            "------------------------------------------\n",
            "\n",
            "------------------------------------------\n",
            "i 2698 j 2697\n",
            "Sim 0.99960995\n",
            "*********** \n",
            "Maavoimien operaatiopäällikkö , prikaatinkenraali Rami Saari kertoo HS:lle olleensa yhteydessä Erbiliin aamuyöstä keskiviikkona .\n",
            "*********** \n",
            "Maavoimien operaatiopäällikkö , prikaatikenraali Rami Saari kertoo HS:lle olleensa yhteydessä Erbiliin aamuyöstä keskiviikkona .\n",
            "------------------------------------------\n",
            "\n",
            "------------------------------------------\n",
            "i 2697 j 2698\n",
            "Sim 0.99960995\n",
            "*********** \n",
            "Maavoimien operaatiopäällikkö , prikaatikenraali Rami Saari kertoo HS:lle olleensa yhteydessä Erbiliin aamuyöstä keskiviikkona .\n",
            "*********** \n",
            "Maavoimien operaatiopäällikkö , prikaatinkenraali Rami Saari kertoo HS:lle olleensa yhteydessä Erbiliin aamuyöstä keskiviikkona .\n",
            "------------------------------------------\n",
            "\n",
            "------------------------------------------\n",
            "i 4619 j 4618\n",
            "Sim 0.99960566\n",
            "*********** \n",
            "Suomen maavoimien operaatiopäällikkö prikaatikenraali Rami Saari uskoo , että koulutustoiminnalla on käytännön edellytykset jatkua , mikäli näin päätetään .\n",
            "*********** \n",
            "Suomen maavoimien operaatiopäällikkö , prikaatikenraali Rami Saari uskoo , että koulutustoiminnalla on käytännön edellytykset jatkua , mikäli näin päätetään .\n",
            "------------------------------------------\n",
            "\n",
            "------------------------------------------\n",
            "i 4618 j 4619\n",
            "Sim 0.99960566\n",
            "*********** \n",
            "Suomen maavoimien operaatiopäällikkö , prikaatikenraali Rami Saari uskoo , että koulutustoiminnalla on käytännön edellytykset jatkua , mikäli näin päätetään .\n",
            "*********** \n",
            "Suomen maavoimien operaatiopäällikkö prikaatikenraali Rami Saari uskoo , että koulutustoiminnalla on käytännön edellytykset jatkua , mikäli näin päätetään .\n",
            "------------------------------------------\n",
            "\n",
            "------------------------------------------\n",
            "i 4495 j 4494\n",
            "Sim 0.99960506\n",
            "*********** \n",
            "Suleiman on erittäin vaikutusvaltainen henkilö , jota HS luonnehti syyskuisessa henkilökuvassaan ” Lähi-idän merkittävimmäksi henkilöksi . ”\n",
            "*********** \n",
            "Suleiman on erittäin vaikutusvaltainen henkilö , jota HS luonnehti syyskuisessa henkilökuvassaan ” Lähi-Idän merkittävimmäksi henkilöksi . ”\n",
            "------------------------------------------\n",
            "\n",
            "------------------------------------------\n",
            "i 4494 j 4495\n",
            "Sim 0.99960506\n",
            "*********** \n",
            "Suleiman on erittäin vaikutusvaltainen henkilö , jota HS luonnehti syyskuisessa henkilökuvassaan ” Lähi-Idän merkittävimmäksi henkilöksi . ”\n",
            "*********** \n",
            "Suleiman on erittäin vaikutusvaltainen henkilö , jota HS luonnehti syyskuisessa henkilökuvassaan ” Lähi-idän merkittävimmäksi henkilöksi . ”\n",
            "------------------------------------------\n",
            "\n",
            "------------------------------------------\n",
            "i 6291 j 157\n",
            "Sim 0.99952\n",
            "*********** \n",
            "Yli kolmekymmentä ihmistä on kuollut ja lähes 200 loukkaantunut väentungoksessa , kun sadattuhannet ihmiset ovat pakkautuneet Yhdysvaltain ilmaiskussa kuolleen iranilaiskomentajan hautajaismenoihin tämän kotikaupungissa Kermanissa .\n",
            "*********** \n",
            "Ainakin 40 ihmistä on kuollut ja yli 200 loukkaantunut väentungoksessa , kun sadattuhannet ihmiset ovat pakkautuneet Yhdysvaltain ilmaiskussa kuolleen iranilaiskomentajan hautajaismenoihin tämän kotikaupungissa Kermanissa .\n",
            "------------------------------------------\n",
            "\n",
            "------------------------------------------\n",
            "i 1020 j 1019\n",
            "Sim 0.9995192\n",
            "*********** \n",
            "Helsingin keskustassa vuoden loppupuolella kiertänyt valkoinen Volkswagen lisävalolla ja sinisillä teippauksilla muistuttaa erehdyttävästi poliisiautoa .\n",
            "*********** \n",
            "Helsingin keskustassa vuoden loppupuolella kiertänyt valkoinen Volkswagen lisävalolla ja mustilla teippauksilla muistuttaa erehdyttävästi poliisiautoa .\n",
            "------------------------------------------\n",
            "\n",
            "------------------------------------------\n",
            "i 1019 j 1020\n",
            "Sim 0.9995192\n",
            "*********** \n",
            "Helsingin keskustassa vuoden loppupuolella kiertänyt valkoinen Volkswagen lisävalolla ja mustilla teippauksilla muistuttaa erehdyttävästi poliisiautoa .\n",
            "*********** \n",
            "Helsingin keskustassa vuoden loppupuolella kiertänyt valkoinen Volkswagen lisävalolla ja sinisillä teippauksilla muistuttaa erehdyttävästi poliisiautoa .\n",
            "------------------------------------------\n",
            "\n",
            "------------------------------------------\n",
            "i 154 j 155\n",
            "Sim 0.99948466\n",
            "*********** \n",
            "Ainakin 18 ihmistä on kuollut tulvissa Indonesian pääkaupungissa Jakartassa .\n",
            "*********** \n",
            "Ainakin 21 ihmistä on kuollut tulvissa Indonesian pääkaupungissa Jakartassa .\n",
            "------------------------------------------\n",
            "\n",
            "------------------------------------------\n",
            "i 155 j 154\n",
            "Sim 0.99948466\n",
            "*********** \n",
            "Ainakin 21 ihmistä on kuollut tulvissa Indonesian pääkaupungissa Jakartassa .\n",
            "*********** \n",
            "Ainakin 18 ihmistä on kuollut tulvissa Indonesian pääkaupungissa Jakartassa .\n",
            "------------------------------------------\n",
            "\n",
            "------------------------------------------\n",
            "i 4512 j 4513\n",
            "Sim 0.9994807\n",
            "*********** \n",
            "Suleimani on erittäin vaikutusvaltainen henkilö , jota HS luonnehti kesäkuisessa henkilökuvassaan ” Lähi-idän merkittävimmäksi henkilöksi . ”\n",
            "*********** \n",
            "Suleimani on erittäin vaikutusvaltainen henkilö , jota HS luonnehti syyskuisessa henkilökuvassaan ” Lähi-idän merkittävimmäksi henkilöksi . ”\n",
            "------------------------------------------\n",
            "\n",
            "------------------------------------------\n",
            "i 4513 j 4512\n",
            "Sim 0.9994807\n",
            "*********** \n",
            "Suleimani on erittäin vaikutusvaltainen henkilö , jota HS luonnehti syyskuisessa henkilökuvassaan ” Lähi-idän merkittävimmäksi henkilöksi . ”\n",
            "*********** \n",
            "Suleimani on erittäin vaikutusvaltainen henkilö , jota HS luonnehti kesäkuisessa henkilökuvassaan ” Lähi-idän merkittävimmäksi henkilöksi . ”\n",
            "------------------------------------------\n",
            "\n",
            "------------------------------------------\n",
            "i 6560 j 6561\n",
            "Sim 0.9994485\n",
            "*********** \n",
            "” Suunnittelemme jakavamme aikamme Yhdistyneessä kuningaskunnassa ja Pohjois-Amerikassa .\n",
            "*********** \n",
            "” Suunnittelemme jakavamme aikamme Yhdistyneessä kuningaskunnassa ja Pohjois-Amerikkassa .\n",
            "------------------------------------------\n",
            "\n",
            "------------------------------------------\n",
            "i 6244 j 6245\n",
            "Sim 0.9994131\n",
            "*********** \n",
            "Yksi ihminen on kuollut ja ainakin kaksi loukkaantunut Ranskassa Pariisin lähellä tapahtuneessa hyökkäyksessä , kertovat uutistoimistot .\n",
            "*********** \n",
            "Yksi ihminen on kuollut ja kaksi loukkaantunut Ranskassa Pariisin lähellä tapahtuneessa hyökkäyksessä , kertovat uutistoimistot .\n",
            "------------------------------------------\n",
            "\n",
            "------------------------------------------\n",
            "i 6245 j 6244\n",
            "Sim 0.9994131\n",
            "*********** \n",
            "Yksi ihminen on kuollut ja kaksi loukkaantunut Ranskassa Pariisin lähellä tapahtuneessa hyökkäyksessä , kertovat uutistoimistot .\n",
            "*********** \n",
            "Yksi ihminen on kuollut ja ainakin kaksi loukkaantunut Ranskassa Pariisin lähellä tapahtuneessa hyökkäyksessä , kertovat uutistoimistot .\n",
            "------------------------------------------\n",
            "\n",
            "------------------------------------------\n",
            "i 261 j 260\n",
            "Sim 0.999406\n",
            "*********** \n",
            "Anez nousi maan johtoon sen jälkeen kun pitkäaikainen presidentti Evo Morales syrjäytettiin marraskuussa ja tämä pakeni Meksikoon .\n",
            "*********** \n",
            "Anez nousi maan johtoon sen jälkeen , kun pitkäaikainen presidentti Evo Morales syrjäytettiin marraskuussa ja tämä pakeni Meksikoon .\n",
            "------------------------------------------\n",
            "\n",
            "------------------------------------------\n",
            "i 260 j 261\n",
            "Sim 0.999406\n",
            "*********** \n",
            "Anez nousi maan johtoon sen jälkeen , kun pitkäaikainen presidentti Evo Morales syrjäytettiin marraskuussa ja tämä pakeni Meksikoon .\n",
            "*********** \n",
            "Anez nousi maan johtoon sen jälkeen kun pitkäaikainen presidentti Evo Morales syrjäytettiin marraskuussa ja tämä pakeni Meksikoon .\n",
            "------------------------------------------\n",
            "\n",
            "------------------------------------------\n",
            "i 77 j 6291\n",
            "Sim 0.9993607\n",
            "*********** \n",
            "35 ihmistä on kuollut ja lähes 50 loukkaantunut väentungoksessa , kun sadattuhannet ihmiset ovat pakkautuneet Yhdysvaltain ilmaiskussa kuolleen iranilaiskomentajan hautajaismenoihin tämän kotikaupungissa Kermanissa .\n",
            "*********** \n",
            "Yli kolmekymmentä ihmistä on kuollut ja lähes 200 loukkaantunut väentungoksessa , kun sadattuhannet ihmiset ovat pakkautuneet Yhdysvaltain ilmaiskussa kuolleen iranilaiskomentajan hautajaismenoihin tämän kotikaupungissa Kermanissa .\n",
            "------------------------------------------\n",
            "\n",
            "------------------------------------------\n",
            "i 627 j 629\n",
            "Sim 0.99934626\n",
            "*********** \n",
            "Elokuva- ja televisioalan Golden Globe -palkinnot jaetaan tänään Los Angelesissa aamuyöllä Suomen aikaa .\n",
            "*********** \n",
            "Elokuva- ja tv-alan Golden Globe -palkinnot jaetaan tänään Los Angelesissa aamuyöllä Suomen aikaa .\n",
            "------------------------------------------\n",
            "\n",
            "------------------------------------------\n",
            "i 629 j 627\n",
            "Sim 0.99934626\n",
            "*********** \n",
            "Elokuva- ja tv-alan Golden Globe -palkinnot jaetaan tänään Los Angelesissa aamuyöllä Suomen aikaa .\n",
            "*********** \n",
            "Elokuva- ja televisioalan Golden Globe -palkinnot jaetaan tänään Los Angelesissa aamuyöllä Suomen aikaa .\n",
            "------------------------------------------\n",
            "\n",
            "------------------------------------------\n",
            "i 411 j 410\n",
            "Sim 0.999343\n",
            "*********** \n",
            "Autoja valmistavan Nissanin hallituksen entinen puheenjohtaja Carlos\n",
            "*********** \n",
            "Autoja valmistavan Nissanin entinen hallituksen puheenjohtaja Carlos\n",
            "------------------------------------------\n",
            "\n",
            "------------------------------------------\n",
            "i 410 j 411\n",
            "Sim 0.999343\n",
            "*********** \n",
            "Autoja valmistavan Nissanin entinen hallituksen puheenjohtaja Carlos\n",
            "*********** \n",
            "Autoja valmistavan Nissanin hallituksen entinen puheenjohtaja Carlos\n",
            "------------------------------------------\n",
            "\n",
            "------------------------------------------\n",
            "i 5427 j 5418\n",
            "Sim 0.99934185\n",
            "*********** \n",
            "Tänään torstainaHS:n Menokone löysi tälle päivälle 6 maksutonta menoa .\n",
            "*********** \n",
            "Tänään keskiviikkonaHS:n Menokone löysi tälle päivälle 6 maksutonta menoa .\n",
            "------------------------------------------\n",
            "\n",
            "------------------------------------------\n",
            "i 5418 j 5427\n",
            "Sim 0.99934185\n",
            "*********** \n",
            "Tänään keskiviikkonaHS:n Menokone löysi tälle päivälle 6 maksutonta menoa .\n",
            "*********** \n",
            "Tänään torstainaHS:n Menokone löysi tälle päivälle 6 maksutonta menoa .\n",
            "------------------------------------------\n",
            "\n",
            "------------------------------------------\n",
            "i 4652 j 4651\n",
            "Sim 0.9993253\n",
            "*********** \n",
            "Suomessa käytiin elokuvissa vuonna 2019 hivenen ahkerammin kuin edellisenä vuonna , selviää Suomen Filmikamarin kokoamista tilastoista .\n",
            "*********** \n",
            "Suomessa käytiin elokuvissa vuonna 2019 hivenen ahkerammin kuin edellisenä vuonna , selviää Filmikamarin kokoamista tilastoista .\n",
            "------------------------------------------\n",
            "\n",
            "------------------------------------------\n",
            "i 4651 j 4652\n",
            "Sim 0.9993253\n",
            "*********** \n",
            "Suomessa käytiin elokuvissa vuonna 2019 hivenen ahkerammin kuin edellisenä vuonna , selviää Filmikamarin kokoamista tilastoista .\n",
            "*********** \n",
            "Suomessa käytiin elokuvissa vuonna 2019 hivenen ahkerammin kuin edellisenä vuonna , selviää Suomen Filmikamarin kokoamista tilastoista .\n",
            "------------------------------------------\n",
            "\n",
            "------------------------------------------\n",
            "i 2229 j 2228\n",
            "Sim 0.99929214\n",
            "*********** \n",
            "Kunnioitamme edelleen velvollisuuksiamme kuningatarta , kansainyhteisöä ja tukijoitamme kohtaan ” , prinssi ja herttuatar kertovat Instagram-tilillään .\n",
            "*********** \n",
            "Kunnioitamme edelleen velvollisuuksiamme kuningatarta , Kansainyhteisöä ja tukijoitamme kohtaan ” , prinssi ja herttuatar kertovat Instagram-tilillään .\n",
            "------------------------------------------\n",
            "\n",
            "------------------------------------------\n",
            "i 2228 j 2229\n",
            "Sim 0.99929214\n",
            "*********** \n",
            "Kunnioitamme edelleen velvollisuuksiamme kuningatarta , Kansainyhteisöä ja tukijoitamme kohtaan ” , prinssi ja herttuatar kertovat Instagram-tilillään .\n",
            "*********** \n",
            "Kunnioitamme edelleen velvollisuuksiamme kuningatarta , kansainyhteisöä ja tukijoitamme kohtaan ” , prinssi ja herttuatar kertovat Instagram-tilillään .\n",
            "------------------------------------------\n",
            "\n",
            "------------------------------------------\n",
            "i 1235 j 1234\n",
            "Sim 0.9992737\n",
            "*********** \n",
            "Hätäkeskukset vastasivat uudenvuodenaaton iltakuuden ja uudenvuodenpäivän iltakuuden välillä yhteensä 19 315 hätäpuheluun .\n",
            "*********** \n",
            "Hätäkeskukset vastasivat uudenvuoden aatonaaton iltakuuden ja uudenvuodenpäivän iltakuuden välillä yhteensä 19 315 hätäpuheluun .\n",
            "------------------------------------------\n",
            "\n",
            "------------------------------------------\n",
            "i 1234 j 1235\n",
            "Sim 0.9992737\n",
            "*********** \n",
            "Hätäkeskukset vastasivat uudenvuoden aatonaaton iltakuuden ja uudenvuodenpäivän iltakuuden välillä yhteensä 19 315 hätäpuheluun .\n",
            "*********** \n",
            "Hätäkeskukset vastasivat uudenvuodenaaton iltakuuden ja uudenvuodenpäivän iltakuuden välillä yhteensä 19 315 hätäpuheluun .\n",
            "------------------------------------------\n",
            "\n",
            "------------------------------------------\n",
            "i 2298 j 2299\n",
            "Sim 0.9992401\n",
            "*********** \n",
            "Kyse on tiettävästi suurimmasta Suomessa koskaan tehdystä kokaiinitakavarikosta .\n",
            "*********** \n",
            "Kyse on tiettävästi suurimmasta koskaan Suomessa tehdystä kokaiinitakavarikosta .\n",
            "------------------------------------------\n",
            "\n",
            "------------------------------------------\n",
            "i 2299 j 2298\n",
            "Sim 0.9992401\n",
            "*********** \n",
            "Kyse on tiettävästi suurimmasta koskaan Suomessa tehdystä kokaiinitakavarikosta .\n",
            "*********** \n",
            "Kyse on tiettävästi suurimmasta Suomessa koskaan tehdystä kokaiinitakavarikosta .\n",
            "------------------------------------------\n",
            "\n",
            "------------------------------------------\n",
            "i 1089 j 1090\n",
            "Sim 0.99906623\n",
            "*********** \n",
            "Historian valossa sananvapaus on aina jäänyt voitolle , sanoo tutkija ja tietokirjailija , entinen Kansalliskirjaston ylihoitaja Kai Ekholm .\n",
            "*********** \n",
            "Historian valossa sananvapaus on aina jäänyt voitolle , sanoo tutkija ja tietokirjailija , entinen Kansalliskirjaston ylikirjastonhoitaja Kai Ekholm .\n",
            "------------------------------------------\n",
            "\n",
            "------------------------------------------\n",
            "i 1090 j 1089\n",
            "Sim 0.99906623\n",
            "*********** \n",
            "Historian valossa sananvapaus on aina jäänyt voitolle , sanoo tutkija ja tietokirjailija , entinen Kansalliskirjaston ylikirjastonhoitaja Kai Ekholm .\n",
            "*********** \n",
            "Historian valossa sananvapaus on aina jäänyt voitolle , sanoo tutkija ja tietokirjailija , entinen Kansalliskirjaston ylihoitaja Kai Ekholm .\n",
            "------------------------------------------\n",
            "\n",
            "------------------------------------------\n",
            "i 5452 j 5453\n",
            "Sim 0.99899626\n",
            "*********** \n",
            "Tšekin Trinecissä pelattavan ottelun voittajalle todennäköisin vastustaja lauantain välierissä on Kanada .\n",
            "*********** \n",
            "Tšekin Trinecissä pelattavan ottelun voittajalle todennäköisin vastustaja lauantain välierässä on Kanada .\n",
            "------------------------------------------\n",
            "\n",
            "------------------------------------------\n",
            "i 5453 j 5452\n",
            "Sim 0.99899626\n",
            "*********** \n",
            "Tšekin Trinecissä pelattavan ottelun voittajalle todennäköisin vastustaja lauantain välierässä on Kanada .\n",
            "*********** \n",
            "Tšekin Trinecissä pelattavan ottelun voittajalle todennäköisin vastustaja lauantain välierissä on Kanada .\n",
            "------------------------------------------\n",
            "\n",
            "------------------------------------------\n",
            "i 341 j 342\n",
            "Sim 0.99889994\n",
            "*********** \n",
            "Asiasta kertovat uutistoimistot AP , AFP ja Reuters viitaten iranilaisen tv-kanavan tietoihin .\n",
            "*********** \n",
            "Asiasta kertovat uutistoimistot AP ja Reuters viitaten iranilaisen tv-kanavan tietoihin .\n",
            "------------------------------------------\n",
            "\n",
            "------------------------------------------\n",
            "i 342 j 341\n",
            "Sim 0.99889994\n",
            "*********** \n",
            "Asiasta kertovat uutistoimistot AP ja Reuters viitaten iranilaisen tv-kanavan tietoihin .\n",
            "*********** \n",
            "Asiasta kertovat uutistoimistot AP , AFP ja Reuters viitaten iranilaisen tv-kanavan tietoihin .\n",
            "------------------------------------------\n",
            "\n",
            "------------------------------------------\n",
            "i 4677 j 4676\n",
            "Sim 0.9988328\n",
            "*********** \n",
            "Suomi on tappiolla lukemin 0–5 ottelun toisessa erässä .\n",
            "*********** \n",
            "Suomi on tappiolla lukemin 0–5 ottelun kolmannessa erässä .\n",
            "------------------------------------------\n",
            "\n",
            "------------------------------------------\n",
            "i 4676 j 4677\n",
            "Sim 0.9988328\n",
            "*********** \n",
            "Suomi on tappiolla lukemin 0–5 ottelun kolmannessa erässä .\n",
            "*********** \n",
            "Suomi on tappiolla lukemin 0–5 ottelun toisessa erässä .\n",
            "------------------------------------------\n",
            "\n",
            "------------------------------------------\n",
            "i 123 j 124\n",
            "Sim 0.998826\n",
            "*********** \n",
            "Aapo Häkkisen arkistolöytö , Joachim Adolf Hassen ( 1699–1783 ) vakava ooppera Irene , joka soi nyt ensi kertaa vuoden 1738 jälkeen , osoittautui yleisön täydelleen hullaannuttaneeksi teokseksi .\n",
            "*********** \n",
            "Aapo Häkkisen arkistolöytö , Johann Adolf Hassen ( 1699–1783 ) vakava ooppera Irene , joka soi nyt ensi kertaa vuoden 1738 jälkeen , osoittautui yleisön täydelleen hullaannuttaneeksi teokseksi .\n",
            "------------------------------------------\n",
            "\n",
            "------------------------------------------\n",
            "i 124 j 123\n",
            "Sim 0.998826\n",
            "*********** \n",
            "Aapo Häkkisen arkistolöytö , Johann Adolf Hassen ( 1699–1783 ) vakava ooppera Irene , joka soi nyt ensi kertaa vuoden 1738 jälkeen , osoittautui yleisön täydelleen hullaannuttaneeksi teokseksi .\n",
            "*********** \n",
            "Aapo Häkkisen arkistolöytö , Joachim Adolf Hassen ( 1699–1783 ) vakava ooppera Irene , joka soi nyt ensi kertaa vuoden 1738 jälkeen , osoittautui yleisön täydelleen hullaannuttaneeksi teokseksi .\n",
            "------------------------------------------\n",
            "\n",
            "------------------------------------------\n",
            "i 6509 j 6510\n",
            "Sim 0.9985458\n",
            "*********** \n",
            "” Noin kello 17.30 ( GMT 22.30 ) 7. tammikuuta Iran laukaisi yli kymmenen ballistista ohjusta Yhdysvaltain armeijaa ja liittouman joukkoja vastaan Irakissa ” , Yhdysvaltain puolustusministerin edustaja kertoi tiedotteessa .\n",
            "*********** \n",
            "” Noin kello 17.30 ( GMT 22.30 ) 7. tammikuuta Iran laukaisi yli kymmenen ballistista ohjusta Yhdysvaltain armeijaa ja liittouman joukkoja vastaan Irakissa ” , puolustusministerin edustaja kertoi tiedotteessa .\n",
            "------------------------------------------\n",
            "\n",
            "------------------------------------------\n",
            "i 6510 j 6509\n",
            "Sim 0.9985458\n",
            "*********** \n",
            "” Noin kello 17.30 ( GMT 22.30 ) 7. tammikuuta Iran laukaisi yli kymmenen ballistista ohjusta Yhdysvaltain armeijaa ja liittouman joukkoja vastaan Irakissa ” , puolustusministerin edustaja kertoi tiedotteessa .\n",
            "*********** \n",
            "” Noin kello 17.30 ( GMT 22.30 ) 7. tammikuuta Iran laukaisi yli kymmenen ballistista ohjusta Yhdysvaltain armeijaa ja liittouman joukkoja vastaan Irakissa ” , Yhdysvaltain puolustusministerin edustaja kertoi tiedotteessa .\n",
            "------------------------------------------\n",
            "\n",
            "------------------------------------------\n",
            "i 167 j 168\n",
            "Sim 0.99848646\n",
            "*********** \n",
            "Ainakin satojen tuhansien iranilaisten odotettiin osallistuvan saattueisiin , joissa marttyyriksi julistetun Suleimanin ruumista kuljetetaan paikasta toiseen ennen tiistain hautajaisia .\n",
            "*********** \n",
            "Ainakin satojentuhansien iranilaisten odotettiin osallistuvan saattueisiin , joissa marttyyriksi julistetun Suleimanin ruumista kuljetetaan paikasta toiseen ennen tiistain hautajaisia .\n",
            "------------------------------------------\n",
            "\n",
            "------------------------------------------\n",
            "i 168 j 167\n",
            "Sim 0.99848646\n",
            "*********** \n",
            "Ainakin satojentuhansien iranilaisten odotettiin osallistuvan saattueisiin , joissa marttyyriksi julistetun Suleimanin ruumista kuljetetaan paikasta toiseen ennen tiistain hautajaisia .\n",
            "*********** \n",
            "Ainakin satojen tuhansien iranilaisten odotettiin osallistuvan saattueisiin , joissa marttyyriksi julistetun Suleimanin ruumista kuljetetaan paikasta toiseen ennen tiistain hautajaisia .\n",
            "------------------------------------------\n",
            "\n",
            "------------------------------------------\n",
            "i 3524 j 3525\n",
            "Sim 0.99847245\n",
            "*********** \n",
            "Paikallisen BFM-televisiokanavan tietojen mukaan mies puukotti neljää ihmistä , joista kahden tila on kriittinen .\n",
            "*********** \n",
            "Paikallisen BFM-televisiokanavan tietojen mukaan mies puukotti yhteensä neljää ihmistä , joista kahden tila on kriittinen .\n",
            "------------------------------------------\n",
            "\n",
            "------------------------------------------\n",
            "i 3525 j 3524\n",
            "Sim 0.99847245\n",
            "*********** \n",
            "Paikallisen BFM-televisiokanavan tietojen mukaan mies puukotti yhteensä neljää ihmistä , joista kahden tila on kriittinen .\n",
            "*********** \n",
            "Paikallisen BFM-televisiokanavan tietojen mukaan mies puukotti neljää ihmistä , joista kahden tila on kriittinen .\n",
            "------------------------------------------\n",
            "\n",
            "------------------------------------------\n",
            "i 2512 j 2513\n",
            "Sim 0.99841166\n",
            "*********** \n",
            "Libanon on saanut Interpolilta kansainvälisen pidätysmääräyksen Carlos Ghosnista , uutistoimisto Reuters kertoi torstaina .\n",
            "*********** \n",
            "Libanon on vastaanottanut Interpolilta kansainvälisen pidätysmääräyksen Carlos Ghosnista , uutistoimisto Reuters kertoi torstaina .\n",
            "------------------------------------------\n",
            "\n",
            "------------------------------------------\n",
            "i 2513 j 2512\n",
            "Sim 0.99841166\n",
            "*********** \n",
            "Libanon on vastaanottanut Interpolilta kansainvälisen pidätysmääräyksen Carlos Ghosnista , uutistoimisto Reuters kertoi torstaina .\n",
            "*********** \n",
            "Libanon on saanut Interpolilta kansainvälisen pidätysmääräyksen Carlos Ghosnista , uutistoimisto Reuters kertoi torstaina .\n",
            "------------------------------------------\n",
            "\n",
            "------------------------------------------\n",
            "i 6090 j 6091\n",
            "Sim 0.9983867\n",
            "*********** \n",
            "Yhdysvallat on todennäköisesti jo pidempään pohtinut iranilaisen sotilas- ja tiedustelujohtajan Qassem Suleimanin tappamista .\n",
            "*********** \n",
            "Yhdysvallat on todennäköisesti jo pitkään pohtinut iranilaisen sotilas- ja tiedustelujohtajan Qassim Suleimanin tappamista .\n",
            "------------------------------------------\n",
            "\n",
            "------------------------------------------\n",
            "i 6091 j 6090\n",
            "Sim 0.9983867\n",
            "*********** \n",
            "Yhdysvallat on todennäköisesti jo pitkään pohtinut iranilaisen sotilas- ja tiedustelujohtajan Qassim Suleimanin tappamista .\n",
            "*********** \n",
            "Yhdysvallat on todennäköisesti jo pidempään pohtinut iranilaisen sotilas- ja tiedustelujohtajan Qassem Suleimanin tappamista .\n",
            "------------------------------------------\n",
            "\n",
            "------------------------------------------\n",
            "i 1121 j 1120\n",
            "Sim 0.99834305\n",
            "*********** \n",
            "Huumeet löytyivät kontista , joka oli tullut Brasiliasta Vuosaaren sataman kautta Espoon Kiloon .\n",
            "*********** \n",
            "Huumeet löytyivät kontista , joka oli tullut Brasiliasta Hollannin ja Vuosaaren sataman kautta Espoon Kiloon .\n",
            "------------------------------------------\n",
            "\n",
            "------------------------------------------\n",
            "i 1120 j 1121\n",
            "Sim 0.99834305\n",
            "*********** \n",
            "Huumeet löytyivät kontista , joka oli tullut Brasiliasta Hollannin ja Vuosaaren sataman kautta Espoon Kiloon .\n",
            "*********** \n",
            "Huumeet löytyivät kontista , joka oli tullut Brasiliasta Vuosaaren sataman kautta Espoon Kiloon .\n",
            "------------------------------------------\n",
            "\n",
            "------------------------------------------\n",
            "i 4505 j 4504\n",
            "Sim 0.9983069\n",
            "*********** \n",
            "Suleimani kuoli varhain perjantaiaamuna ilmaiskussa Bagdadin lentokentällä .\n",
            "*********** \n",
            "Suleimani kuoli varhain perjantaiaamuna ilmaiskussa Bagdadin lentokentälle .\n",
            "------------------------------------------\n",
            "\n",
            "------------------------------------------\n",
            "i 4504 j 4505\n",
            "Sim 0.9983069\n",
            "*********** \n",
            "Suleimani kuoli varhain perjantaiaamuna ilmaiskussa Bagdadin lentokentälle .\n",
            "*********** \n",
            "Suleimani kuoli varhain perjantaiaamuna ilmaiskussa Bagdadin lentokentällä .\n",
            "------------------------------------------\n",
            "\n",
            "------------------------------------------\n",
            "i 1114 j 1115\n",
            "Sim 0.99825084\n",
            "*********** \n",
            "Huomisen 4 ilmaista tapahtumaa on listattu jutun lopussa .\n",
            "*********** \n",
            "Huomisen 6 ilmaista tapahtumaa on listattu jutun lopussa .\n",
            "------------------------------------------\n",
            "\n",
            "------------------------------------------\n",
            "i 1115 j 1114\n",
            "Sim 0.99825084\n",
            "*********** \n",
            "Huomisen 6 ilmaista tapahtumaa on listattu jutun lopussa .\n",
            "*********** \n",
            "Huomisen 4 ilmaista tapahtumaa on listattu jutun lopussa .\n",
            "------------------------------------------\n",
            "\n",
            "------------------------------------------\n",
            "i 5020 j 5021\n",
            "Sim 0.99821985\n",
            "*********** \n",
            "Tiedonannon mukaan on selvää , että ohjukset laukaistiin Iranista ja ne tähdättiin nimenomaan Ain al-Asadin ja Erbilin sotilastukikohtiin .\n",
            "*********** \n",
            "Tiedonannon mukaan on selvää , että ohjukset laukaistiin Iranista ja oli tähdätty nimenomaan Ain al-Asadin ja Erbilin sotilastukikohtiin .\n",
            "------------------------------------------\n",
            "\n",
            "------------------------------------------\n",
            "i 5021 j 5020\n",
            "Sim 0.99821985\n",
            "*********** \n",
            "Tiedonannon mukaan on selvää , että ohjukset laukaistiin Iranista ja oli tähdätty nimenomaan Ain al-Asadin ja Erbilin sotilastukikohtiin .\n",
            "*********** \n",
            "Tiedonannon mukaan on selvää , että ohjukset laukaistiin Iranista ja ne tähdättiin nimenomaan Ain al-Asadin ja Erbilin sotilastukikohtiin .\n",
            "------------------------------------------\n",
            "\n",
            "------------------------------------------\n",
            "i 2895 j 2894\n",
            "Sim 0.9981917\n",
            "*********** \n",
            "Mitäpä jos äänestäjän äänen arvo painotettaisiin elinajanodotteen perusteella eli nuoremmilla olisi enemmän valtaa kuin vanhemmilla .\n",
            "*********** \n",
            "Mitäpä jos äänestäjän äänen arvo painotettaisiin elinajanodotteen perusteella , eli nuoremmilla olisi enemmän valtaa kuin vanhemmilla .\n",
            "------------------------------------------\n",
            "\n",
            "------------------------------------------\n",
            "i 2894 j 2895\n",
            "Sim 0.9981917\n",
            "*********** \n",
            "Mitäpä jos äänestäjän äänen arvo painotettaisiin elinajanodotteen perusteella , eli nuoremmilla olisi enemmän valtaa kuin vanhemmilla .\n",
            "*********** \n",
            "Mitäpä jos äänestäjän äänen arvo painotettaisiin elinajanodotteen perusteella eli nuoremmilla olisi enemmän valtaa kuin vanhemmilla .\n",
            "------------------------------------------\n",
            "\n",
            "------------------------------------------\n",
            "i 5474 j 5472\n",
            "Sim 0.99813676\n",
            "*********** \n",
            "Ukrainalainen lentokone , jonka kyydissä on ollut ainakin 160 ihmistä , on pudonnut noustuaan Iranin pääkaupungissa Teheranissa sijaitsevalta lentokentältä , kertoo muun muassa uutistoimisto Reuters viitaten iranilaisten uutistoimistojen Farsin ja Irnan kertomaan .\n",
            "*********** \n",
            "Ukrainalainen lentokone , jonka kyydissä oli yli 170 ihmistä , on pudonnut noustuaan Iranin pääkaupungissa Teheranissa sijaitsevalta lentokentältä , kertoo muun muassa uutistoimisto Reuters viitaten iranilaisten uutistoimistojen Farsin ja Irnan kertomaan .\n",
            "------------------------------------------\n",
            "\n",
            "------------------------------------------\n",
            "i 5472 j 5474\n",
            "Sim 0.99813676\n",
            "*********** \n",
            "Ukrainalainen lentokone , jonka kyydissä oli yli 170 ihmistä , on pudonnut noustuaan Iranin pääkaupungissa Teheranissa sijaitsevalta lentokentältä , kertoo muun muassa uutistoimisto Reuters viitaten iranilaisten uutistoimistojen Farsin ja Irnan kertomaan .\n",
            "*********** \n",
            "Ukrainalainen lentokone , jonka kyydissä on ollut ainakin 160 ihmistä , on pudonnut noustuaan Iranin pääkaupungissa Teheranissa sijaitsevalta lentokentältä , kertoo muun muassa uutistoimisto Reuters viitaten iranilaisten uutistoimistojen Farsin ja Irnan kertomaan .\n",
            "------------------------------------------\n",
            "\n",
            "------------------------------------------\n",
            "i 474 j 475\n",
            "Sim 0.9980824\n",
            "*********** \n",
            "Britannian prinssi , Sussexin herttua Harry ja hänen vaimonsa herttuatar Meghan kertoivat keskiviikkona astuvansa sivuun Britannian kuninkaallisen hovin sisäpiiristä .\n",
            "*********** \n",
            "Britannian prinssi Harry ja hänen vaimonsa Sussexin herttuatar Meghan kertoivat keskiviikkona astuvansa sivuun Britannian kuninkaallisen hovin sisäpiiristä .\n",
            "------------------------------------------\n",
            "\n",
            "------------------------------------------\n",
            "i 475 j 474\n",
            "Sim 0.9980824\n",
            "*********** \n",
            "Britannian prinssi Harry ja hänen vaimonsa Sussexin herttuatar Meghan kertoivat keskiviikkona astuvansa sivuun Britannian kuninkaallisen hovin sisäpiiristä .\n",
            "*********** \n",
            "Britannian prinssi , Sussexin herttua Harry ja hänen vaimonsa herttuatar Meghan kertoivat keskiviikkona astuvansa sivuun Britannian kuninkaallisen hovin sisäpiiristä .\n",
            "------------------------------------------\n",
            "\n",
            "------------------------------------------\n",
            "i 5370 j 5373\n",
            "Sim 0.9980646\n",
            "*********** \n",
            "Tämä juttu julkaistiin alun perin joulukuussa .\n",
            "*********** \n",
            "Tämä juttu julkaistiin alun perin marraskuussa .\n",
            "------------------------------------------\n",
            "\n",
            "------------------------------------------\n",
            "i 5373 j 5370\n",
            "Sim 0.9980646\n",
            "*********** \n",
            "Tämä juttu julkaistiin alun perin marraskuussa .\n",
            "*********** \n",
            "Tämä juttu julkaistiin alun perin joulukuussa .\n",
            "------------------------------------------\n",
            "\n",
            "------------------------------------------\n",
            "i 3358 j 3357\n",
            "Sim 0.99803627\n",
            "*********** \n",
            "Oikeuskansleri ei ryhdy toimenpiteisiin liittyen ulkoministeri Pekka Haavistosta ( vihr. ) tehtyihin kanteluihin al-Hol-asiassa .\n",
            "*********** \n",
            "Oikeuskansleri ei ryhdy toimenpiteisiin liittyen ulkoministeri Pekka Haavistosta ( vihr ) tehtyihin kanteluihin al-Hol-asiassa .\n",
            "------------------------------------------\n",
            "\n",
            "------------------------------------------\n",
            "i 3357 j 3358\n",
            "Sim 0.99803627\n",
            "*********** \n",
            "Oikeuskansleri ei ryhdy toimenpiteisiin liittyen ulkoministeri Pekka Haavistosta ( vihr ) tehtyihin kanteluihin al-Hol-asiassa .\n",
            "*********** \n",
            "Oikeuskansleri ei ryhdy toimenpiteisiin liittyen ulkoministeri Pekka Haavistosta ( vihr. ) tehtyihin kanteluihin al-Hol-asiassa .\n",
            "------------------------------------------\n",
            "\n",
            "------------------------------------------\n",
            "i 5419 j 5426\n",
            "Sim 0.99800634\n",
            "*********** \n",
            "Tänään maanantainaHS:n Menokone löysi tälle päivälle 4 maksutonta menoa .\n",
            "*********** \n",
            "Tänään torstainaHS:n Menokone löysi tälle päivälle 3 maksutonta menoa .\n",
            "------------------------------------------\n",
            "\n",
            "------------------------------------------\n",
            "i 5426 j 5419\n",
            "Sim 0.99800634\n",
            "*********** \n",
            "Tänään torstainaHS:n Menokone löysi tälle päivälle 3 maksutonta menoa .\n",
            "*********** \n",
            "Tänään maanantainaHS:n Menokone löysi tälle päivälle 4 maksutonta menoa .\n",
            "------------------------------------------\n",
            "\n",
            "------------------------------------------\n",
            "i 1683 j 1682\n",
            "Sim 0.99796444\n",
            "*********** \n",
            "Järjestön mukaan isku olisi kuitenkin komentajan sijasta osunut lääkintämiehistä koostuneeseen saattueeseen , kertoo uutistoimisto Reuters .\n",
            "*********** \n",
            "Järjestön mukaan isku olisi komentajan sijasta osunut lääkintämiehistä koostuneeseen saattueeseen , kertoo uutistoimisto Reuters .\n",
            "------------------------------------------\n",
            "\n",
            "------------------------------------------\n",
            "i 1682 j 1683\n",
            "Sim 0.99796444\n",
            "*********** \n",
            "Järjestön mukaan isku olisi komentajan sijasta osunut lääkintämiehistä koostuneeseen saattueeseen , kertoo uutistoimisto Reuters .\n",
            "*********** \n",
            "Järjestön mukaan isku olisi kuitenkin komentajan sijasta osunut lääkintämiehistä koostuneeseen saattueeseen , kertoo uutistoimisto Reuters .\n",
            "------------------------------------------\n",
            "\n",
            "------------------------------------------\n",
            "i 3890 j 3889\n",
            "Sim 0.9979568\n",
            "*********** \n",
            "Prykäri on toiminut samassa tehtävässä laskelmiensa mukaan 5–6 Tourilla , mutta nyt käsillä on aivan uusi haaste .\n",
            "*********** \n",
            "Prykäri on toiminut samassa tehtävässä laskelmiensa mukaan 5–6 Tourilla , mutta nyt edessä on aivan uusi haaste .\n",
            "------------------------------------------\n",
            "\n"
          ],
          "name": "stdout"
        }
      ]
    },
    {
      "cell_type": "markdown",
      "metadata": {
        "id": "1F5APN0OESyV"
      },
      "source": [
        "# That worked like charm!\n",
        "\n",
        "* try also going deeper into the sentence list perhaps `[1000:1100]` etc...\n",
        "* Below is the BERT-specific code to show that, in the end, it is not all that much of code to master\n",
        "* Using deep learning models is made easy!"
      ]
    },
    {
      "cell_type": "code",
      "metadata": {
        "id": "bi7k6xpR7Ux2"
      },
      "source": [
        "bert_tokenizer=transformers.BertTokenizer.from_pretrained(\"TurkuNLP/bert-base-finnish-cased-v1\")\n",
        "sents_tokenized=bert_tokenizer(unique_sentences,padding=True,truncation=True,return_tensors=\"pt\")\n",
        "\n",
        "ds=torch.utils.data.TensorDataset(sents_tokenized[\"input_ids\"],sents_tokenized[\"token_type_ids\"],sents_tokenized[\"attention_mask\"])\n",
        "batched_ds=torch.utils.data.DataLoader(ds,batch_size=20)\n",
        "\n",
        "model=transformers.BertModel.from_pretrained(\"TurkuNLP/bert-base-finnish-cased-v1\")\n",
        "model=model.cuda() #moves the model onto GPU\n",
        "model=model.eval() #tells the model it will not be training, it will be used to simply process input\n",
        "\n",
        "all_vectors=[] #store the model outputs here for all batches\n",
        "with torch.no_grad(): #this tells torch to not collect gradient data, conserves memory big time!\n",
        "    for input_ids,token_type_ids,att_mask in tqdm.tqdm(batched_ds): #each batch is composed of input_ids, token_type_ids, attention mask\n",
        "        input_ids=input_ids.cuda() #move data onto GPU since the model is there too\n",
        "        token_type_ids=token_type_ids.cuda() #...\n",
        "        att_mask=att_mask.cuda() #...\n",
        "        model_out=model(input_ids=input_ids,token_type_ids=token_type_ids,attention_mask=att_mask) #run the model\n",
        "        all_vectors.append(model_out.pooler_output.cpu()) #move the pooler output back to CPU and store it\n",
        "\n",
        "embedded=torch.vstack(all_vectors).numpy()"
      ],
      "execution_count": null,
      "outputs": []
    }
  ]
}