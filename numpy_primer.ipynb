{
  "nbformat": 4,
  "nbformat_minor": 0,
  "metadata": {
    "colab": {
      "name": "numpy_primer.ipynb",
      "provenance": [],
      "authorship_tag": "ABX9TyMXaUUorTVOya78crUj14qw",
      "include_colab_link": true
    },
    "kernelspec": {
      "name": "python3",
      "display_name": "Python 3"
    },
    "language_info": {
      "name": "python"
    }
  },
  "cells": [
    {
      "cell_type": "markdown",
      "metadata": {
        "id": "view-in-github",
        "colab_type": "text"
      },
      "source": [
        "<a href=\"https://colab.research.google.com/github/TurkuNLP/Text_Mining_Course/blob/master/numpy_primer.ipynb\" target=\"_parent\"><img src=\"https://colab.research.google.com/assets/colab-badge.svg\" alt=\"Open In Colab\"/></a>"
      ]
    },
    {
      "cell_type": "markdown",
      "metadata": {
        "id": "Ueip4VWsm2_9"
      },
      "source": [
        "# Small numpy primer\n",
        "\n",
        "* This notebook tries to collect some basic tips for numpy, staying within the area needed for this course"
      ]
    },
    {
      "cell_type": "markdown",
      "metadata": {
        "id": "czpMeK1QnEI-"
      },
      "source": [
        "# ndarray\n",
        "\n",
        "* `ndarray` is n-dimensional array\n",
        "* you will meet it in very many different places throughout this course\n",
        "* when working with `torch` and `tensorflow` when we switch over to deep learning, the corresponding concept there will be that of \"tensor\"\n"
      ]
    },
    {
      "cell_type": "code",
      "metadata": {
        "id": "Wn3stydcl-Ip"
      },
      "source": [
        "import numpy as np"
      ],
      "execution_count": 2,
      "outputs": []
    },
    {
      "cell_type": "code",
      "metadata": {
        "colab": {
          "base_uri": "https://localhost:8080/"
        },
        "id": "-UykBYsBnslR",
        "outputId": "2015690b-5fe2-46af-f88f-d13a65d45ace"
      },
      "source": [
        "# this is a small 2D array as a normal python list, a 3x3 matrix if you will\n",
        "M=[[0,1,2],[3,4,5],[6,7,8]]\n",
        "D=np.asarray(M) #now we turn it into numpy's array\n",
        "print(\"Type of D:\", type(D))\n",
        "print(\"D itself:\\n\",D)"
      ],
      "execution_count": 6,
      "outputs": [
        {
          "output_type": "stream",
          "text": [
            "Type of D: <class 'numpy.ndarray'>\n",
            "D itself:\n",
            " [[0 1 2]\n",
            " [3 4 5]\n",
            " [6 7 8]]\n"
          ],
          "name": "stdout"
        }
      ]
    },
    {
      "cell_type": "code",
      "metadata": {
        "id": "cDrF7uGcLd8U"
      },
      "source": [
        "#Here is a 3-dimensional array\n",
        "D3=np.asarray([[[1],[2]],[[3],[4]]])\n"
      ],
      "execution_count": 16,
      "outputs": []
    },
    {
      "cell_type": "markdown",
      "metadata": {
        "id": "95SQltEOoYPr"
      },
      "source": [
        "## shape\n",
        "\n",
        "* Shape is an important property, it tells you how many dimensions the array has, and how large they are\n",
        "* Our array D is 3x3, meaning it has two dimensions and each is 3 elements long\n",
        "* Array D3 is 2x2x1, meaning it has three dimensions, the dimensions 0 and 1 are 2 elements long and the dimension 2 is 1 element long\n",
        "* You can think of these as n-dimensional tables\n",
        "* A 2D matrix is simply a special case of an ndarray where the number of dimensions is 2\n",
        "* A vector is simply a special case of an ndarray where the number of dimensions is 1"
      ]
    },
    {
      "cell_type": "code",
      "metadata": {
        "colab": {
          "base_uri": "https://localhost:8080/"
        },
        "id": "mczyIR5Lord8",
        "outputId": "7ba2eaa3-c457-45ed-94ee-bca72fa28884"
      },
      "source": [
        "#You can ask for shape through an attribute .shape, you get back a tuple\n",
        "print(\"D.shape\",D.shape)\n",
        "print(\"D3.shape\",D3.shape)"
      ],
      "execution_count": 17,
      "outputs": [
        {
          "output_type": "stream",
          "text": [
            "D.shape (3, 3)\n",
            "D3.shape (2, 2, 1)\n"
          ],
          "name": "stdout"
        }
      ]
    },
    {
      "cell_type": "markdown",
      "metadata": {
        "id": "dS8w3phhNHPm"
      },
      "source": [
        "## Beware of singleton dimensions\n",
        "\n",
        "* Often you get caught in the difference between shapes (1,N) and (N,) because both look like a vector\n",
        "* You might also think of it so that `[[1]]` is not the same as `[1]` which is not the same as `1`"
      ]
    },
    {
      "cell_type": "code",
      "metadata": {
        "colab": {
          "base_uri": "https://localhost:8080/"
        },
        "id": "7GWdrYE-Mp41",
        "outputId": "57dd7f1c-db05-4cac-da00-edcabe078ade"
      },
      "source": [
        "print(\"A (1,4) ndarray:\", np.array([[1,2,3,4]]))\n",
        "print(\"A (4,) ndarray:\", np.array([1,2,3,4]))"
      ],
      "execution_count": 19,
      "outputs": [
        {
          "output_type": "stream",
          "text": [
            "A (1,4) ndarray: [[1 2 3 4]]\n",
            "A (4,) ndarray: [1 2 3 4]\n"
          ],
          "name": "stdout"
        }
      ]
    },
    {
      "cell_type": "markdown",
      "metadata": {
        "id": "O7xAwrM1Np8s"
      },
      "source": [
        ""
      ]
    },
    {
      "cell_type": "markdown",
      "metadata": {
        "id": "AalrVbsPo1j6"
      },
      "source": [
        "## Elementary slicing\n",
        "\n",
        "* Slicing in numpy arrays is a science in its own right, but its basic functionality is not super-complex\n",
        "* You can slice a number of dimensions at once, going from left to right"
      ]
    },
    {
      "cell_type": "code",
      "metadata": {
        "colab": {
          "base_uri": "https://localhost:8080/"
        },
        "id": "Ne7CPTPaf5Ya",
        "outputId": "40d6836c-cbd5-46d4-d36a-f31ba686d52a"
      },
      "source": [
        "D"
      ],
      "execution_count": 25,
      "outputs": [
        {
          "output_type": "execute_result",
          "data": {
            "text/plain": [
              "array([[0, 1, 2],\n",
              "       [3, 4, 5],\n",
              "       [6, 7, 8]])"
            ]
          },
          "metadata": {
            "tags": []
          },
          "execution_count": 25
        }
      ]
    },
    {
      "cell_type": "code",
      "metadata": {
        "colab": {
          "base_uri": "https://localhost:8080/"
        },
        "id": "3AdQ_YpAftwX",
        "outputId": "497ea428-4ee8-47b4-de58-a7b879033bed"
      },
      "source": [
        "D[0]"
      ],
      "execution_count": 23,
      "outputs": [
        {
          "output_type": "execute_result",
          "data": {
            "text/plain": [
              "array([0, 1, 2])"
            ]
          },
          "metadata": {
            "tags": []
          },
          "execution_count": 23
        }
      ]
    },
    {
      "cell_type": "code",
      "metadata": {
        "colab": {
          "base_uri": "https://localhost:8080/"
        },
        "id": "hwdxRyLQf0-x",
        "outputId": "f92e3335-c446-495c-bcb4-5937187c297d"
      },
      "source": [
        "D[0,0]"
      ],
      "execution_count": 24,
      "outputs": [
        {
          "output_type": "execute_result",
          "data": {
            "text/plain": [
              "0"
            ]
          },
          "metadata": {
            "tags": []
          },
          "execution_count": 24
        }
      ]
    },
    {
      "cell_type": "code",
      "metadata": {
        "colab": {
          "base_uri": "https://localhost:8080/"
        },
        "id": "n_1FJbGggMzW",
        "outputId": "d7bec7f4-1ae2-4840-dc49-9b2fd02a1bfe"
      },
      "source": [
        "#You can do ranges as usual, in all dimensions\n",
        "D[0:2,0:2] #first two elements on the first dimension, first two elements on the second dimension"
      ],
      "execution_count": 28,
      "outputs": [
        {
          "output_type": "execute_result",
          "data": {
            "text/plain": [
              "array([[0, 1],\n",
              "       [3, 4]])"
            ]
          },
          "metadata": {
            "tags": []
          },
          "execution_count": 28
        }
      ]
    },
    {
      "cell_type": "code",
      "metadata": {
        "colab": {
          "base_uri": "https://localhost:8080/"
        },
        "id": "vd9ANETTgrKF",
        "outputId": "dc361062-9614-4186-fe8d-c2d941d348fa"
      },
      "source": [
        "#Note the difference between the slice and index in the following:\n",
        "\n",
        "D[0:1,:2] #Because 0:1 is a slice, even though it is 1-long, it will produce 1-long dimension"
      ],
      "execution_count": 30,
      "outputs": [
        {
          "output_type": "execute_result",
          "data": {
            "text/plain": [
              "array([[0, 1]])"
            ]
          },
          "metadata": {
            "tags": []
          },
          "execution_count": 30
        }
      ]
    },
    {
      "cell_type": "code",
      "metadata": {
        "colab": {
          "base_uri": "https://localhost:8080/"
        },
        "id": "21xtHMiUg53i",
        "outputId": "f3b17415-29dc-4157-8e16-f39225fd9227"
      },
      "source": [
        "D[0,:2]  #Because 0 is an index, it will select the row and not result in a 1-long dimension"
      ],
      "execution_count": 31,
      "outputs": [
        {
          "output_type": "execute_result",
          "data": {
            "text/plain": [
              "array([0, 1])"
            ]
          },
          "metadata": {
            "tags": []
          },
          "execution_count": 31
        }
      ]
    },
    {
      "cell_type": "markdown",
      "metadata": {
        "id": "IANILyLuhXGf"
      },
      "source": [
        "## Singleton dimensions\n",
        "\n",
        "* Sometimes you need add a singleton dimension to match the expected dimensionality\n",
        "* Sometimes you need to drop it\n",
        "* squeeze/expand_dims\n",
        "* You can add/remove these singleton dimensions easily, because they are only a matter of interpretation of the data"
      ]
    },
    {
      "cell_type": "code",
      "metadata": {
        "colab": {
          "base_uri": "https://localhost:8080/"
        },
        "id": "Tt6wjNUohmJ3",
        "outputId": "15e0050a-322d-45a1-8daa-0b175b494ff5"
      },
      "source": [
        "D[:1,:] #shorthand writing for [0:1,0:3], you don't need to say the start if it is 0 and you don't need to say end if it is, well, end"
      ],
      "execution_count": 32,
      "outputs": [
        {
          "output_type": "execute_result",
          "data": {
            "text/plain": [
              "array([[0, 1]])"
            ]
          },
          "metadata": {
            "tags": []
          },
          "execution_count": 32
        }
      ]
    },
    {
      "cell_type": "code",
      "metadata": {
        "colab": {
          "base_uri": "https://localhost:8080/"
        },
        "id": "QmFeCdiChva6",
        "outputId": "de2684c3-a85b-40d0-b7cd-e8b5e74a792e"
      },
      "source": [
        "D_sliced=D[:1,:]\n",
        "D_sliced.shape #here you see the singleton first dimension"
      ],
      "execution_count": 33,
      "outputs": [
        {
          "output_type": "execute_result",
          "data": {
            "text/plain": [
              "(1, 3)"
            ]
          },
          "metadata": {
            "tags": []
          },
          "execution_count": 33
        }
      ]
    },
    {
      "cell_type": "code",
      "metadata": {
        "colab": {
          "base_uri": "https://localhost:8080/"
        },
        "id": "OB2eCKiPiMYz",
        "outputId": "20377c1a-669e-4726-a1fa-4b005b8dd47c"
      },
      "source": [
        "print(D_sliced.squeeze()) #drops all singleton dimensions\n",
        "print(D_sliced.squeeze().shape)"
      ],
      "execution_count": 35,
      "outputs": [
        {
          "output_type": "stream",
          "text": [
            "[0 1 2]\n",
            "(3,)\n"
          ],
          "name": "stdout"
        }
      ]
    },
    {
      "cell_type": "code",
      "metadata": {
        "colab": {
          "base_uri": "https://localhost:8080/"
        },
        "id": "NaIbfPMBibnk",
        "outputId": "85b1803c-12f7-45f2-c71f-d0e63879606e"
      },
      "source": [
        "D_sliced_more_dims=np.expand_dims(D_sliced,0) #adds a singleton dimension as the first on (at dimension index 0)\n",
        "D_sliced_more_dims.shape\n"
      ],
      "execution_count": 41,
      "outputs": [
        {
          "output_type": "execute_result",
          "data": {
            "text/plain": [
              "(1, 1, 3)"
            ]
          },
          "metadata": {
            "tags": []
          },
          "execution_count": 41
        }
      ]
    },
    {
      "cell_type": "code",
      "metadata": {
        "colab": {
          "base_uri": "https://localhost:8080/"
        },
        "id": "cXLTO_RZjjZ7",
        "outputId": "e6f361a3-ac35-4fb1-d3c1-8a43569a1a03"
      },
      "source": [
        "D_sliced_more_dims.squeeze() #get rid of the extra singleton dimensions"
      ],
      "execution_count": 42,
      "outputs": [
        {
          "output_type": "execute_result",
          "data": {
            "text/plain": [
              "array([0, 1, 2])"
            ]
          },
          "metadata": {
            "tags": []
          },
          "execution_count": 42
        }
      ]
    },
    {
      "cell_type": "markdown",
      "metadata": {
        "id": "DvFI6LmIkBuR"
      },
      "source": [
        "## More on dimensions\n",
        "\n",
        "* "
      ]
    }
  ]
}