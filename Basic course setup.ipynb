{
 "cells": [
  {
   "cell_type": "markdown",
   "metadata": {},
   "source": [
    "# Text Mining (2016)\n",
    "\n",
    "* Mondays and Wednesdays 10-12, hands-on exercises in computer class (room 453)\n",
    "* Thursdays 10-12, lectures (K127)\n",
    "* Exam of some sort after the course (details fuzzy atm)\n",
    "\n",
    "# Materials\n",
    "\n",
    "* Everything is on GitHub https://github.com/TurkuNLP/Text_Mining_Course and materials will appear as we progress\n",
    "* Hands-on exercises held in the linux class 453\n",
    "* Please **REGISTER FOR THE COURSE NOW** - we need to make for you login accounts on the linux machines\n",
    "* People from outside of UTU who cannot register, please email me with your preferred username\n",
    "\n",
    "# Our assumptions\n",
    "\n",
    "This being an advanced level course, we assume:\n",
    "\n",
    "* Some knowledge of programming (all our stuff will be in Python)\n",
    "* Some idea of the linux environment\n",
    "* Many of the examples will focus on handling the Finnish language but we will always provide an English alternative as well\n",
    "\n",
    "# Topics (with links to materials)\n",
    "\n",
    "* Text data acquisition, typical sources, and pre-processing\n",
    "  * Grabbing sizeable portions of text data from various sources: Wikidumps, Web forum, CommonCrawl, Suomi24 research data, Pubmed, twitter,...\n",
    "  * Getting from raw text data into something which can be reasonably processed downstream\n",
    "  * Materials on GitHub: [Elementary text processing](https://github.com/TurkuNLP/Text_Mining_Course/blob/master/Elementary%20text%20processing.ipynb)\n",
    "* Text classification and clustering\n",
    "  * How can we label texts with topics, sentiment, etc?\n",
    "  * How can we find meaningful topic clusters in large text collections?\n",
    "* Relations and Information Extraction\n",
    "  * Finding entities of interest in text\n",
    "  * How can we find meaningful relations between these entities?\n",
    "  * How can we infer new relations?\n",
    "  \n"
   ]
  }
 ],
 "metadata": {
  "kernelspec": {
   "display_name": "Python 2",
   "language": "python",
   "name": "python2"
  },
  "language_info": {
   "codemirror_mode": {
    "name": "ipython",
    "version": 2
   },
   "file_extension": ".py",
   "mimetype": "text/x-python",
   "name": "python",
   "nbconvert_exporter": "python",
   "pygments_lexer": "ipython2",
   "version": "2.7.5+"
  }
 },
 "nbformat": 4,
 "nbformat_minor": 0
}
