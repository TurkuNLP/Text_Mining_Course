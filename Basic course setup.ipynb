{
  "nbformat": 4,
  "nbformat_minor": 0,
  "metadata": {
    "kernelspec": {
      "display_name": "Python 3",
      "language": "python",
      "name": "python3"
    },
    "language_info": {
      "codemirror_mode": {
        "name": "ipython",
        "version": 3
      },
      "file_extension": ".py",
      "mimetype": "text/x-python",
      "name": "python",
      "nbconvert_exporter": "python",
      "pygments_lexer": "ipython3",
      "version": "3.5.2"
    },
    "colab": {
      "name": "Basic course setup.ipynb",
      "provenance": [],
      "include_colab_link": true
    }
  },
  "cells": [
    {
      "cell_type": "markdown",
      "metadata": {
        "id": "view-in-github",
        "colab_type": "text"
      },
      "source": [
        "<a href=\"https://colab.research.google.com/github/TurkuNLP/Text_Mining_Course/blob/master/Basic%20course%20setup.ipynb\" target=\"_parent\"><img src=\"https://colab.research.google.com/assets/colab-badge.svg\" alt=\"Open In Colab\"/></a>"
      ]
    },
    {
      "cell_type": "markdown",
      "metadata": {
        "id": "rrSPBQfrggfU"
      },
      "source": [
        "# Textual Data Analysis (2021)\n",
        "\n",
        "\n",
        "* Everything is on GitHub https://github.com/TurkuNLP/Text_Mining_Course and updated materials will appear as we progress\n",
        "* Links from this document and from Moodle\n",
        "\n",
        "# Exercises\n",
        "\n",
        "* The course has a Moodle page\n",
        "* You hand the exercises out at Moodle\n",
        "\n",
        "# Computing environment\n",
        "\n",
        "Google Colab unless specified otherwise\n",
        "\n",
        "# Our assumptions\n",
        "\n",
        "This being an advanced level course, we assume:\n",
        "\n",
        "* Some knowledge of programming (all our stuff will be in Python)\n",
        "* Some idea of the linux environment\n",
        "* Many of the examples will focus on handling the Finnish language but we will always provide an English alternative as well\n",
        "* The students are a mix of different backgrounds, so we do expect everyone's interests will differ and that is fine\n",
        "* The course \"Introduction to Language Technology\" might be a life-saver for some, the materials are on Moodle for that course and there is no course key\n",
        "\n",
        "# Topics (with links to materials)\n",
        "\n",
        "* Information Retrieval / Text search\n",
        "  *  https://github.com/TurkuNLP/Text_Mining_Course/blob/master/ir_and_boolean_model.ipynb\n",
        "\n",
        "* Text data acquisition, typical sources, and pre-processing\n",
        "  * Grabbing sizeable portions of text data from various sources: Wikidumps, Web forum, CommonCrawl, Suomi24 research data, Pubmed, twitter,...\n",
        "  * Getting from raw text data into something which can be reasonably processed downstream\n",
        "  * Materials on GitHub: [Text sources](https://github.com/TurkuNLP/Text_Mining_Course/blob/master/Text%20sources.ipynb)[Elementary text processing](https://github.com/TurkuNLP/Text_Mining_Course/blob/master/Elementary%20text%20processing.ipynb)\n",
        "* Named Entity Recognition [Notebook](NER.ipynb)\n",
        "* Dependency trees and relation search [Notebook](dep_trees.ipynb)\n",
        "* Text classification and clustering\n",
        "  * How can we label texts with topics, sentiment, etc?\n",
        "  * How can we find meaningful topic clusters in large text collections?\n",
        "* Relations and Information Extraction\n",
        "  * Finding entities of interest in text\n",
        "  * How can we find meaningful relations between these entities?\n",
        "  * How can we infer new relations?\n",
        "\n",
        "# So what's this course all about?\n",
        "\n",
        "* Text mining: aggregate information from massive text collections to gain new insights\n",
        "* Scientific literature mining a prime non-evil example:\n",
        "* [www.evexdb.org](www.evexdb.org)\n",
        "  * Dozens of millions of interactions among genes/proteins extracted from millions of scientific articles\n",
        "  * Gives the \"big picture\"\n",
        "  * Allows search going far beyond keywords\n",
        "  * Allows generation of new hypotheses\n",
        "  * In: pure text  Out: network of known relations between genes and proteins\n",
        "* Customer feedback and review sentiment analysis\n",
        "  * What went right, what went wrong\n",
        "  * How is my company / product / idea / opinion received by others?\n",
        "* Faster access to information: cluster and label topics, views, opinions\n",
        "* Scarily accurate Ad placement by Google\n",
        "* Numerous applications in security\n",
        "* User/customer profiling\n",
        "\n",
        "The main difference from traditional data mining is that text is unstructured and a lot more noisy than your usual relational database. \n"
      ]
    }
  ]
}