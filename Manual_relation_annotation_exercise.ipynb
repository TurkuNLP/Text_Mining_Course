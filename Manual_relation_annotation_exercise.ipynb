{
  "nbformat": 4,
  "nbformat_minor": 0,
  "metadata": {
    "colab": {
      "name": "Manual relation annotation exercise.ipynb",
      "provenance": [],
      "collapsed_sections": []
    },
    "kernelspec": {
      "name": "python3",
      "display_name": "Python 3"
    },
    "language_info": {
      "name": "python"
    }
  },
  "cells": [
    {
      "cell_type": "markdown",
      "metadata": {
        "id": "TAWIzg4ap3uA"
      },
      "source": [
        "# Manual relation annotation exercise (Monday 19.4.2021)\n",
        "\n",
        "In today's session, we will cover the annotation process and tool for the course project Milestone **Manual relation annotation**. Specifically, we will perform a practical manual annotation exercise for relation extraction using the [Prodigy](https://prodi.gy/) annotation tool.\n",
        "\n",
        "The annotation target is a general [`ORG-Affiliation`](https://www.ldc.upenn.edu/sites/www.ldc.upenn.edu/files/english-relations-guidelines-v6.2.pdf#page=21) relation that can hold between a `PERSON` mention and an `ORG` mention. The following are examples of specific `ORG-Affiliation` relations:\n",
        "\n",
        "* Employment: _**Satya Nadella** is the CEO of **Microsoft**_\n",
        "* Ownership: _The NFL team **Dallas Cowboys** is owned by **Jerry Jones**_\n",
        "* Foundership: _**Larry Page** is best known as a co-founder of **Google**_\n",
        "* Student-Alum: _**Neil Armstrong** enrolled at **Purdue University**_\n",
        "* Sports-Affiliation: _**Terry Dave Wright** plays for the **Miami Dolphins**_\n",
        "* Investor-Shareholder: _**Elon Musk** is the largest stockholder in **Tesla**_\n",
        "* Membership: _**Clarence Thomas** is an associate justice of the **Supreme Court**_\n",
        "\n",
        "(Note that we will **not** annotate these more specific types, but rather simply determine for each example whether or not it expresses _some_ form of `ORG-Affiliation` relation.)\n",
        "\n",
        "More generally, any _lasting_ relationship between a person and an organization can be annotated as `ORG-Affiliation`. By contrast, coincidental or momentary associations between a person and an organization should **not** be annotated as `ORG-Affiliation`:\n",
        "\n",
        "* _**John** walked past the **Starbucks**_ (coincidental, not annotated)\n",
        "* _**John** bought coffee at **Starbucks**_ (temporary, not annotated)\n",
        "\n",
        "(For more detail, please see pages 21-28 of the [ACE English Relation Guidelines v6.2](https://www.ldc.upenn.edu/sites/www.ldc.upenn.edu/files/english-relations-guidelines-v6.2.pdf#page=21))"
      ]
    },
    {
      "cell_type": "markdown",
      "metadata": {
        "id": "8H_jfw_evEWC"
      },
      "source": [
        "## Annotation interface\n",
        "\n",
        "The following simple interface will be used for annotation:\n",
        "\n",
        "<img width=\"65%\" src=\"https://github.com/TurkuNLP/Text_Mining_Course/raw/master/figs/prodigy-relation-simplified.png\">\n",
        "\n",
        "Here, the choices for each candidate relation are\n",
        "\n",
        "* Accept (✓): the `ORG-Affiliation` relation is stated to hold between the `PERSON` and `ORG` marked in the text\n",
        "* Reject (❌): the `ORG-Affiliation` is not stated to hold\n",
        "* Ignore (⃠): can't decide, or entity mention annotation is wrong\n",
        "* Undo (↵): return to previous example\n",
        "\n",
        "Note also the **save icon** (💾) on the top left -- you need to click this for your annotations to be stored!\n"
      ]
    },
    {
      "cell_type": "markdown",
      "metadata": {
        "id": "IpQE8qntfNgd"
      },
      "source": [
        "## General annotation guidelines\n",
        "\n",
        "* **Annotate for what is said, not what you know**: if you encounter familiar associations (e.g. _Elon Musk_, _Tesla_), try to forget them and consider if the association could be inferred from the text\n",
        "* **Don't look for corner cases**: annotate what a reasonable reader would assume the meaning of the sentence to be in a general context\n",
        "* **Don't overthink your decisions**: once you've read the example, your initial understanding is likely correct\n",
        "* **Try to maintain a steady pace**: if you find yourself stuck, pick `ignore` in preference of spending a long time on any single example\n",
        "* **Expect negatives and errors**: the data is a random sample of pairs that have been annotated by an imperfect automatic tool; select `ignore` whenever something appears wrong in NE annotation"
      ]
    }
  ]
}