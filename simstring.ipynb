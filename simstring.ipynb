{
  "nbformat": 4,
  "nbformat_minor": 0,
  "metadata": {
    "kernelspec": {
      "display_name": "venv-simstring",
      "language": "python",
      "name": "venv-simstring"
    },
    "language_info": {
      "codemirror_mode": {
        "name": "ipython",
        "version": 3
      },
      "file_extension": ".py",
      "mimetype": "text/x-python",
      "name": "python",
      "nbconvert_exporter": "python",
      "pygments_lexer": "ipython3",
      "version": "3.8.6"
    },
    "colab": {
      "name": "simstring.ipynb",
      "provenance": [],
      "toc_visible": true,
      "include_colab_link": true
    }
  },
  "cells": [
    {
      "cell_type": "markdown",
      "metadata": {
        "id": "view-in-github",
        "colab_type": "text"
      },
      "source": [
        "<a href=\"https://colab.research.google.com/github/TurkuNLP/Text_Mining_Course/blob/master/simstring.ipynb\" target=\"_parent\"><img src=\"https://colab.research.google.com/assets/colab-badge.svg\" alt=\"Open In Colab\"/></a>"
      ]
    },
    {
      "cell_type": "markdown",
      "metadata": {
        "id": "Sx2texyrUNof"
      },
      "source": [
        "# Simstring\n",
        "\n",
        "## Installation\n",
        "\n",
        "* simstring needs a little effort to get running\n",
        "* the necessary steps to follow are here: https://github.com/chokkan/simstring/issues/27\n",
        "* that will give you a file called `simstring-1.1-cp38-cp38-linux_x86_64.whl`\n",
        "* install it"
      ]
    },
    {
      "cell_type": "code",
      "metadata": {
        "colab": {
          "base_uri": "https://localhost:8080/"
        },
        "id": "CSDPOI1hVDUT",
        "outputId": "f59acac0-c49d-4a08-992c-8de2ca9c3749"
      },
      "source": [
        "%%bash\n",
        "git clone https://github.com/chokkan/simstring.git\n"
      ],
      "execution_count": 6,
      "outputs": [
        {
          "output_type": "stream",
          "text": [
            "Cloning into 'simstring'...\n"
          ],
          "name": "stderr"
        }
      ]
    },
    {
      "cell_type": "code",
      "metadata": {
        "colab": {
          "base_uri": "https://localhost:8080/"
        },
        "id": "lT4megAYZYDX",
        "outputId": "890a2e7d-c18e-4d35-f09d-41d658ee0b51"
      },
      "source": [
        "%%bash\n",
        "apt install automake swig\n",
        "cd simstring\n",
        "./autogen.sh"
      ],
      "execution_count": 13,
      "outputs": [
        {
          "output_type": "stream",
          "text": [
            "Reading package lists...\n",
            "Building dependency tree...\n",
            "Reading state information...\n",
            "automake is already the newest version (1:1.15.1-3ubuntu2).\n",
            "Suggested packages:\n",
            "  swig-doc swig-examples swig3.0-examples swig3.0-doc\n",
            "The following NEW packages will be installed:\n",
            "  swig swig3.0\n",
            "0 upgraded, 2 newly installed, 0 to remove and 29 not upgraded.\n",
            "Need to get 1,100 kB of archives.\n",
            "After this operation, 5,822 kB of additional disk space will be used.\n",
            "Get:1 http://archive.ubuntu.com/ubuntu bionic/universe amd64 swig3.0 amd64 3.0.12-1 [1,094 kB]\n",
            "Get:2 http://archive.ubuntu.com/ubuntu bionic/universe amd64 swig amd64 3.0.12-1 [6,460 B]\n",
            "Fetched 1,100 kB in 1s (1,289 kB/s)\n",
            "Selecting previously unselected package swig3.0.\r\n",
            "(Reading database ... \r(Reading database ... 5%\r(Reading database ... 10%\r(Reading database ... 15%\r(Reading database ... 20%\r(Reading database ... 25%\r(Reading database ... 30%\r(Reading database ... 35%\r(Reading database ... 40%\r(Reading database ... 45%\r(Reading database ... 50%\r(Reading database ... 55%\r(Reading database ... 60%\r(Reading database ... 65%\r(Reading database ... 70%\r(Reading database ... 75%\r(Reading database ... 80%\r(Reading database ... 85%\r(Reading database ... 90%\r(Reading database ... 95%\r(Reading database ... 100%\r(Reading database ... 161260 files and directories currently installed.)\r\n",
            "Preparing to unpack .../swig3.0_3.0.12-1_amd64.deb ...\r\n",
            "Unpacking swig3.0 (3.0.12-1) ...\r\n",
            "Selecting previously unselected package swig.\r\n",
            "Preparing to unpack .../swig_3.0.12-1_amd64.deb ...\r\n",
            "Unpacking swig (3.0.12-1) ...\r\n",
            "Setting up swig3.0 (3.0.12-1) ...\r\n",
            "Setting up swig (3.0.12-1) ...\r\n",
            "Processing triggers for man-db (2.8.3-2ubuntu0.1) ...\r\n"
          ],
          "name": "stdout"
        },
        {
          "output_type": "stream",
          "text": [
            "\n",
            "WARNING: apt does not have a stable CLI interface. Use with caution in scripts.\n",
            "\n",
            "aclocal: warning: autoconf input should be named 'configure.ac', not 'configure.in'\n",
            "automake: warning: autoconf input should be named 'configure.ac', not 'configure.in'\n",
            "configure.in:31: warning: AM_INIT_AUTOMAKE: two- and three-arguments forms are deprecated.  For more info, see:\n",
            "configure.in:31: http://www.gnu.org/software/automake/manual/automake.html#Modernize-AM_005fINIT_005fAUTOMAKE-invocation\n",
            "configure.in:110: warning: 'INCLUDES' is the old name for 'AM_CPPFLAGS' (or '*_CPPFLAGS')\n",
            "frontend/Makefile.am:13: warning: 'INCLUDES' is the old name for 'AM_CPPFLAGS' (or '*_CPPFLAGS')\n",
            "automake: warning: autoconf input should be named 'configure.ac', not 'configure.in'\n",
            "configure.in:110: warning: 'INCLUDES' is the old name for 'AM_CPPFLAGS' (or '*_CPPFLAGS')\n",
            "sample/Makefile.am:10: warning: 'INCLUDES' is the old name for 'AM_CPPFLAGS' (or '*_CPPFLAGS')\n",
            "configure.in:110: warning: 'INCLUDES' is the old name for 'AM_CPPFLAGS' (or '*_CPPFLAGS')\n"
          ],
          "name": "stderr"
        }
      ]
    },
    {
      "cell_type": "code",
      "metadata": {
        "colab": {
          "base_uri": "https://localhost:8080/"
        },
        "id": "ZR9jkOqYafyE",
        "outputId": "7d067488-238a-4d6a-d358-2dc65d4e49e8"
      },
      "source": [
        "%%bash\n",
        "cd simstring/\n",
        "./autogen.sh\n",
        "./configure\n",
        "make\n",
        "cd swig/python\n",
        "./prepare.sh --swig\n",
        "pip3 install --upgrade pip setuptools wheel\n"
      ],
      "execution_count": 14,
      "outputs": [
        {
          "output_type": "stream",
          "text": [
            "checking build system type... x86_64-pc-linux-gnu\n",
            "checking host system type... x86_64-pc-linux-gnu\n",
            "checking for gcc... gcc\n",
            "checking whether the C compiler works... yes\n",
            "checking for C compiler default output file name... a.out\n",
            "checking for suffix of executables... \n",
            "checking whether we are cross compiling... no\n",
            "checking for suffix of object files... o\n",
            "checking whether we are using the GNU C compiler... yes\n",
            "checking whether gcc accepts -g... yes\n",
            "checking for gcc option to accept ISO C89... none needed\n",
            "checking whether gcc understands -c and -o together... yes\n",
            "checking how to run the C preprocessor... gcc -E\n",
            "checking for grep that handles long lines and -e... /bin/grep\n",
            "checking for egrep... /bin/grep -E\n",
            "checking for ANSI C header files... yes\n",
            "checking for sys/types.h... yes\n",
            "checking for sys/stat.h... yes\n",
            "checking for stdlib.h... yes\n",
            "checking for string.h... yes\n",
            "checking for memory.h... yes\n",
            "checking for strings.h... yes\n",
            "checking for inttypes.h... yes\n",
            "checking for stdint.h... yes\n",
            "checking for unistd.h... yes\n",
            "checking minix/config.h usability... no\n",
            "checking minix/config.h presence... no\n",
            "checking for minix/config.h... no\n",
            "checking whether it is safe to define __EXTENSIONS__... yes\n",
            "checking for library containing strerror... none required\n",
            "checking for a BSD-compatible install... /usr/bin/install -c\n",
            "checking whether build environment is sane... yes\n",
            "checking for a thread-safe mkdir -p... /bin/mkdir -p\n",
            "checking for gawk... no\n",
            "checking for mawk... mawk\n",
            "checking whether make sets $(MAKE)... yes\n",
            "checking for style of include used by make... GNU\n",
            "checking whether make supports nested variables... yes\n",
            "checking dependency style of gcc... gcc3\n",
            "checking whether to enable maintainer-specific portions of Makefiles... no\n",
            "checking for g++... g++\n",
            "checking whether we are using the GNU C++ compiler... yes\n",
            "checking whether g++ accepts -g... yes\n",
            "checking dependency style of g++... gcc3\n",
            "checking whether ln -s works... yes\n",
            "checking for ANSI C header files... (cached) yes\n",
            "checking for stdint.h... (cached) yes\n",
            "checking sys/mman.h usability... yes\n",
            "checking sys/mman.h presence... yes\n",
            "checking for sys/mman.h... yes\n",
            "checking for an ANSI C-conforming const... yes\n",
            "checking size of ... 0\n",
            "checking for size_t... yes\n",
            "checking whether struct tm is in sys/time.h or time.h... time.h\n",
            "checking for uint32_t... yes\n",
            "checking for sqrt in -lm... yes\n",
            "checking for mmap in -lmmap... no\n",
            "checking that generated files are newer than configure... done\n",
            "configure: creating ./config.status\n",
            "config.status: creating Makefile\n",
            "config.status: creating include/Makefile\n",
            "config.status: creating frontend/Makefile\n",
            "config.status: creating sample/Makefile\n",
            "config.status: creating swig/Makefile\n",
            "config.status: creating swig/python/setup.py\n",
            "config.status: creating swig/ruby/extconf.rb\n",
            "config.status: creating swig/perl/Makefile.PL\n",
            "config.status: creating config.h\n",
            "config.status: config.h is unchanged\n",
            "config.status: executing depfiles commands\n",
            "make  all-recursive\n",
            "make[1]: Entering directory '/content/simstring'\n",
            "Making all in include\n",
            "make[2]: Entering directory '/content/simstring/include'\n",
            "make[2]: Nothing to be done for 'all'.\n",
            "make[2]: Leaving directory '/content/simstring/include'\n",
            "Making all in frontend\n",
            "make[2]: Entering directory '/content/simstring/frontend'\n",
            "make[2]: Nothing to be done for 'all'.\n",
            "make[2]: Leaving directory '/content/simstring/frontend'\n",
            "Making all in sample\n",
            "make[2]: Entering directory '/content/simstring/sample'\n",
            "make[2]: Nothing to be done for 'all'.\n",
            "make[2]: Leaving directory '/content/simstring/sample'\n",
            "Making all in swig\n",
            "make[2]: Entering directory '/content/simstring/swig'\n",
            "make[2]: Nothing to be done for 'all'.\n",
            "make[2]: Leaving directory '/content/simstring/swig'\n",
            "make[2]: Entering directory '/content/simstring'\n",
            "make[2]: Leaving directory '/content/simstring'\n",
            "make[1]: Leaving directory '/content/simstring'\n",
            "Requirement already satisfied: pip in /usr/local/lib/python3.7/dist-packages (21.0.1)\n",
            "Requirement already satisfied: setuptools in /usr/local/lib/python3.7/dist-packages (54.1.1)\n",
            "Requirement already satisfied: wheel in /usr/local/lib/python3.7/dist-packages (0.36.2)\n"
          ],
          "name": "stdout"
        },
        {
          "output_type": "stream",
          "text": [
            "aclocal: warning: autoconf input should be named 'configure.ac', not 'configure.in'\n",
            "automake: warning: autoconf input should be named 'configure.ac', not 'configure.in'\n",
            "configure.in:31: warning: AM_INIT_AUTOMAKE: two- and three-arguments forms are deprecated.  For more info, see:\n",
            "configure.in:31: http://www.gnu.org/software/automake/manual/automake.html#Modernize-AM_005fINIT_005fAUTOMAKE-invocation\n",
            "configure.in:110: warning: 'INCLUDES' is the old name for 'AM_CPPFLAGS' (or '*_CPPFLAGS')\n",
            "frontend/Makefile.am:13: warning: 'INCLUDES' is the old name for 'AM_CPPFLAGS' (or '*_CPPFLAGS')\n",
            "automake: warning: autoconf input should be named 'configure.ac', not 'configure.in'\n",
            "configure.in:110: warning: 'INCLUDES' is the old name for 'AM_CPPFLAGS' (or '*_CPPFLAGS')\n",
            "sample/Makefile.am:10: warning: 'INCLUDES' is the old name for 'AM_CPPFLAGS' (or '*_CPPFLAGS')\n",
            "configure.in:110: warning: 'INCLUDES' is the old name for 'AM_CPPFLAGS' (or '*_CPPFLAGS')\n",
            "ln: failed to create symbolic link './export.cpp': File exists\n",
            "ln: failed to create symbolic link './export.h': File exists\n",
            "ln: failed to create symbolic link './export.i': File exists\n"
          ],
          "name": "stderr"
        }
      ]
    },
    {
      "cell_type": "code",
      "metadata": {
        "colab": {
          "base_uri": "https://localhost:8080/"
        },
        "id": "dYjeMoxFYf7_",
        "outputId": "dcba4354-6386-4292-8ebe-f29f8d339227"
      },
      "source": [
        "%%bash\n",
        "cd simstring/swig/python\n",
        "python3 setup.py bdist_wheel"
      ],
      "execution_count": 15,
      "outputs": [
        {
          "output_type": "stream",
          "text": [
            "running bdist_wheel\n",
            "running build\n",
            "running build_py\n",
            "creating build\n",
            "creating build/lib.linux-x86_64-3.7\n",
            "copying simstring.py -> build/lib.linux-x86_64-3.7\n",
            "running build_ext\n",
            "building '_simstring' extension\n",
            "creating build/temp.linux-x86_64-3.7\n",
            "g++ -Wno-unused-result -Wsign-compare -DNDEBUG -g -fwrapv -O2 -Wall -g -fdebug-prefix-map=/build/python3.7-a56wZI/python3.7-3.7.10=. -fstack-protector-strong -Wformat -Werror=format-security -g -fdebug-prefix-map=/build/python3.7-a56wZI/python3.7-3.7.10=. -fstack-protector-strong -Wformat -Werror=format-security -Wdate-time -D_FORTIFY_SOURCE=2 -fPIC -I/content/simstring/include -I/usr/include/python3.7m -c export.cpp -o build/temp.linux-x86_64-3.7/export.o\n",
            "g++ -Wno-unused-result -Wsign-compare -DNDEBUG -g -fwrapv -O2 -Wall -g -fdebug-prefix-map=/build/python3.7-a56wZI/python3.7-3.7.10=. -fstack-protector-strong -Wformat -Werror=format-security -g -fdebug-prefix-map=/build/python3.7-a56wZI/python3.7-3.7.10=. -fstack-protector-strong -Wformat -Werror=format-security -Wdate-time -D_FORTIFY_SOURCE=2 -fPIC -I/content/simstring/include -I/usr/include/python3.7m -c export_wrap.cpp -o build/temp.linux-x86_64-3.7/export_wrap.o\n",
            "g++ -Wl,-Bsymbolic-functions -Wl,-z,relro -g -fdebug-prefix-map=/build/python3.7-a56wZI/python3.7-3.7.10=. -fstack-protector-strong -Wformat -Werror=format-security -Wdate-time -D_FORTIFY_SOURCE=2 build/temp.linux-x86_64-3.7/export.o build/temp.linux-x86_64-3.7/export_wrap.o -o build/lib.linux-x86_64-3.7/_simstring.cpython-37m-x86_64-linux-gnu.so -shared -lpython3.7m\n",
            "installing to build/bdist.linux-x86_64/wheel\n",
            "running install\n",
            "running install_lib\n",
            "creating build/bdist.linux-x86_64\n",
            "creating build/bdist.linux-x86_64/wheel\n",
            "copying build/lib.linux-x86_64-3.7/_simstring.cpython-37m-x86_64-linux-gnu.so -> build/bdist.linux-x86_64/wheel\n",
            "copying build/lib.linux-x86_64-3.7/simstring.py -> build/bdist.linux-x86_64/wheel\n",
            "running install_egg_info\n",
            "running egg_info\n",
            "creating simstring.egg-info\n",
            "writing simstring.egg-info/PKG-INFO\n",
            "writing dependency_links to simstring.egg-info/dependency_links.txt\n",
            "writing top-level names to simstring.egg-info/top_level.txt\n",
            "writing manifest file 'simstring.egg-info/SOURCES.txt'\n",
            "writing manifest file 'simstring.egg-info/SOURCES.txt'\n",
            "Copying simstring.egg-info to build/bdist.linux-x86_64/wheel/simstring-1.1-py3.7.egg-info\n",
            "running install_scripts\n",
            "creating build/bdist.linux-x86_64/wheel/simstring-1.1.dist-info/WHEEL\n",
            "creating 'dist/simstring-1.1-cp37-cp37m-linux_x86_64.whl' and adding 'build/bdist.linux-x86_64/wheel' to it\n",
            "adding '_simstring.cpython-37m-x86_64-linux-gnu.so'\n",
            "adding 'simstring.py'\n",
            "adding 'simstring-1.1.dist-info/METADATA'\n",
            "adding 'simstring-1.1.dist-info/WHEEL'\n",
            "adding 'simstring-1.1.dist-info/top_level.txt'\n",
            "adding 'simstring-1.1.dist-info/RECORD'\n",
            "removing build/bdist.linux-x86_64/wheel\n"
          ],
          "name": "stdout"
        },
        {
          "output_type": "stream",
          "text": [
            "In file included from export.cpp:8:0:\n",
            "/content/simstring/include/simstring/simstring.h: In member function ‘bool simstring::reader::open(const string&)’:\n",
            "/content/simstring/include/simstring/simstring.h:838:18: warning: variable ‘num_entries’ set but not used [-Wunused-but-set-variable]\n",
            "         uint32_t num_entries, max_size;\n",
            "                  ^~~~~~~~~~~\n",
            "/content/simstring/include/simstring/simstring.h: In member function ‘bool simstring::reader::check(const string_type&, double)’:\n",
            "/content/simstring/include/simstring/simstring.h:1020:50: warning: typedef ‘char_type’ locally defined but not used [-Wunused-local-typedefs]\n",
            "         typedef typename string_type::value_type char_type;\n",
            "                                                  ^~~~~~~~~\n",
            "export.cpp: In destructor ‘virtual writer::~writer()’:\n",
            "export.cpp:112:41: warning: throw will always call terminate() [-Wterminate]\n",
            "         throw std::runtime_error(message);\n",
            "                                         ^\n",
            "export.cpp:112:41: note: in C++11 destructors default to noexcept\n",
            "export.cpp:126:41: warning: throw will always call terminate() [-Wterminate]\n",
            "         throw std::runtime_error(message);\n",
            "                                         ^\n",
            "export.cpp:126:41: note: in C++11 destructors default to noexcept\n"
          ],
          "name": "stderr"
        }
      ]
    },
    {
      "cell_type": "code",
      "metadata": {
        "colab": {
          "base_uri": "https://localhost:8080/"
        },
        "id": "oOfMzPvVUNos",
        "outputId": "d512f14a-8180-409d-cda0-8d2937ed04cf"
      },
      "source": [
        "!pip install simstring/swig/python/dist/simstring-1.1-cp37-cp37m-linux_x86_64.whl"
      ],
      "execution_count": 16,
      "outputs": [
        {
          "output_type": "stream",
          "text": [
            "Processing ./simstring/swig/python/dist/simstring-1.1-cp37-cp37m-linux_x86_64.whl\n",
            "Installing collected packages: simstring\n",
            "Successfully installed simstring-1.1\n"
          ],
          "name": "stdout"
        }
      ]
    },
    {
      "cell_type": "code",
      "metadata": {
        "colab": {
          "base_uri": "https://localhost:8080/"
        },
        "id": "7EvbApVvUNow",
        "outputId": "d9982c39-93bc-4a42-b202-b474ed2bf20a"
      },
      "source": [
        "import simstring\n",
        "help(simstring)"
      ],
      "execution_count": 17,
      "outputs": [
        {
          "output_type": "stream",
          "text": [
            "Help on module simstring:\n",
            "\n",
            "NAME\n",
            "    simstring\n",
            "\n",
            "DESCRIPTION\n",
            "    # This file was automatically generated by SWIG (http://www.swig.org).\n",
            "    # Version 3.0.12\n",
            "    #\n",
            "    # Do not make changes to this file unless you know what you are doing--modify\n",
            "    # the SWIG interface file instead.\n",
            "\n",
            "CLASSES\n",
            "    builtins.object\n",
            "        StringVector\n",
            "        SwigPyIterator\n",
            "        reader\n",
            "        writer\n",
            "    \n",
            "    class StringVector(builtins.object)\n",
            "     |  StringVector(*args)\n",
            "     |  \n",
            "     |  Methods defined here:\n",
            "     |  \n",
            "     |  __bool__(self)\n",
            "     |  \n",
            "     |  __del__ lambda self\n",
            "     |  \n",
            "     |  __delitem__(self, *args)\n",
            "     |  \n",
            "     |  __delslice__(self, i, j)\n",
            "     |  \n",
            "     |  __getattr__ lambda self, name\n",
            "     |  \n",
            "     |  __getitem__(self, *args)\n",
            "     |  \n",
            "     |  __getslice__(self, i, j)\n",
            "     |  \n",
            "     |  __init__(self, *args)\n",
            "     |      Initialize self.  See help(type(self)) for accurate signature.\n",
            "     |  \n",
            "     |  __iter__(self)\n",
            "     |  \n",
            "     |  __len__(self)\n",
            "     |  \n",
            "     |  __nonzero__(self)\n",
            "     |  \n",
            "     |  __repr__ = _swig_repr(self)\n",
            "     |  \n",
            "     |  __setattr__ lambda self, name, value\n",
            "     |  \n",
            "     |  __setitem__(self, *args)\n",
            "     |  \n",
            "     |  __setslice__(self, *args)\n",
            "     |  \n",
            "     |  append(self, x)\n",
            "     |  \n",
            "     |  assign(self, n, x)\n",
            "     |  \n",
            "     |  back(self)\n",
            "     |  \n",
            "     |  begin(self)\n",
            "     |  \n",
            "     |  capacity(self)\n",
            "     |  \n",
            "     |  clear(self)\n",
            "     |  \n",
            "     |  empty(self)\n",
            "     |  \n",
            "     |  end(self)\n",
            "     |  \n",
            "     |  erase(self, *args)\n",
            "     |  \n",
            "     |  front(self)\n",
            "     |  \n",
            "     |  get_allocator(self)\n",
            "     |  \n",
            "     |  insert(self, *args)\n",
            "     |  \n",
            "     |  iterator(self)\n",
            "     |  \n",
            "     |  pop(self)\n",
            "     |  \n",
            "     |  pop_back(self)\n",
            "     |  \n",
            "     |  push_back(self, x)\n",
            "     |  \n",
            "     |  rbegin(self)\n",
            "     |  \n",
            "     |  rend(self)\n",
            "     |  \n",
            "     |  reserve(self, n)\n",
            "     |  \n",
            "     |  resize(self, *args)\n",
            "     |  \n",
            "     |  size(self)\n",
            "     |  \n",
            "     |  swap(self, v)\n",
            "     |  \n",
            "     |  ----------------------------------------------------------------------\n",
            "     |  Static methods defined here:\n",
            "     |  \n",
            "     |  __swig_destroy__ = delete_StringVector(...)\n",
            "     |  \n",
            "     |  ----------------------------------------------------------------------\n",
            "     |  Data descriptors defined here:\n",
            "     |  \n",
            "     |  __dict__\n",
            "     |      dictionary for instance variables (if defined)\n",
            "     |  \n",
            "     |  __weakref__\n",
            "     |      list of weak references to the object (if defined)\n",
            "     |  \n",
            "     |  ----------------------------------------------------------------------\n",
            "     |  Data and other attributes defined here:\n",
            "     |  \n",
            "     |  __swig_getmethods__ = {}\n",
            "     |  \n",
            "     |  __swig_setmethods__ = {}\n",
            "    \n",
            "    class SwigPyIterator(builtins.object)\n",
            "     |  SwigPyIterator(*args, **kwargs)\n",
            "     |  \n",
            "     |  Methods defined here:\n",
            "     |  \n",
            "     |  __add__(self, n)\n",
            "     |  \n",
            "     |  __del__ lambda self\n",
            "     |  \n",
            "     |  __eq__(self, x)\n",
            "     |      Return self==value.\n",
            "     |  \n",
            "     |  __getattr__ lambda self, name\n",
            "     |  \n",
            "     |  __iadd__(self, n)\n",
            "     |  \n",
            "     |  __init__(self, *args, **kwargs)\n",
            "     |      Initialize self.  See help(type(self)) for accurate signature.\n",
            "     |  \n",
            "     |  __isub__(self, n)\n",
            "     |  \n",
            "     |  __iter__(self)\n",
            "     |  \n",
            "     |  __ne__(self, x)\n",
            "     |      Return self!=value.\n",
            "     |  \n",
            "     |  __next__(self)\n",
            "     |  \n",
            "     |  __repr__ = _swig_repr(self)\n",
            "     |  \n",
            "     |  __setattr__ lambda self, name, value\n",
            "     |  \n",
            "     |  __sub__(self, *args)\n",
            "     |  \n",
            "     |  advance(self, n)\n",
            "     |  \n",
            "     |  copy(self)\n",
            "     |  \n",
            "     |  decr(self, n=1)\n",
            "     |  \n",
            "     |  distance(self, x)\n",
            "     |  \n",
            "     |  equal(self, x)\n",
            "     |  \n",
            "     |  incr(self, n=1)\n",
            "     |  \n",
            "     |  next(self)\n",
            "     |  \n",
            "     |  previous(self)\n",
            "     |  \n",
            "     |  value(self)\n",
            "     |  \n",
            "     |  ----------------------------------------------------------------------\n",
            "     |  Static methods defined here:\n",
            "     |  \n",
            "     |  __swig_destroy__ = delete_SwigPyIterator(...)\n",
            "     |  \n",
            "     |  ----------------------------------------------------------------------\n",
            "     |  Data descriptors defined here:\n",
            "     |  \n",
            "     |  __dict__\n",
            "     |      dictionary for instance variables (if defined)\n",
            "     |  \n",
            "     |  __weakref__\n",
            "     |      list of weak references to the object (if defined)\n",
            "     |  \n",
            "     |  ----------------------------------------------------------------------\n",
            "     |  Data and other attributes defined here:\n",
            "     |  \n",
            "     |  __hash__ = None\n",
            "     |  \n",
            "     |  __swig_getmethods__ = {}\n",
            "     |  \n",
            "     |  __swig_setmethods__ = {}\n",
            "    \n",
            "    class reader(builtins.object)\n",
            "     |  reader(filename)\n",
            "     |  \n",
            "     |  Methods defined here:\n",
            "     |  \n",
            "     |  __del__ lambda self\n",
            "     |  \n",
            "     |  __getattr__ lambda self, name\n",
            "     |  \n",
            "     |  __init__(self, filename)\n",
            "     |      Initialize self.  See help(type(self)) for accurate signature.\n",
            "     |  \n",
            "     |  __repr__ = _swig_repr(self)\n",
            "     |  \n",
            "     |  __setattr__ lambda self, name, value\n",
            "     |  \n",
            "     |  check(self, query)\n",
            "     |  \n",
            "     |  close(self)\n",
            "     |  \n",
            "     |  retrieve(self, query)\n",
            "     |  \n",
            "     |  ----------------------------------------------------------------------\n",
            "     |  Static methods defined here:\n",
            "     |  \n",
            "     |  __swig_destroy__ = delete_reader(...)\n",
            "     |  \n",
            "     |  ----------------------------------------------------------------------\n",
            "     |  Data descriptors defined here:\n",
            "     |  \n",
            "     |  __dict__\n",
            "     |      dictionary for instance variables (if defined)\n",
            "     |  \n",
            "     |  __weakref__\n",
            "     |      list of weak references to the object (if defined)\n",
            "     |  \n",
            "     |  measure\n",
            "     |  \n",
            "     |  threshold\n",
            "     |  \n",
            "     |  ----------------------------------------------------------------------\n",
            "     |  Data and other attributes defined here:\n",
            "     |  \n",
            "     |  __swig_getmethods__ = {'measure': <built-in function reader_measure_ge...\n",
            "     |  \n",
            "     |  __swig_setmethods__ = {'measure': <built-in function reader_measure_se...\n",
            "    \n",
            "    class writer(builtins.object)\n",
            "     |  writer(filename, n=3, be=False, unicode=False)\n",
            "     |  \n",
            "     |  Methods defined here:\n",
            "     |  \n",
            "     |  __del__ lambda self\n",
            "     |  \n",
            "     |  __getattr__ lambda self, name\n",
            "     |  \n",
            "     |  __init__(self, filename, n=3, be=False, unicode=False)\n",
            "     |      Initialize self.  See help(type(self)) for accurate signature.\n",
            "     |  \n",
            "     |  __repr__ = _swig_repr(self)\n",
            "     |  \n",
            "     |  __setattr__ lambda self, name, value\n",
            "     |  \n",
            "     |  close(self)\n",
            "     |  \n",
            "     |  insert(self, string)\n",
            "     |  \n",
            "     |  ----------------------------------------------------------------------\n",
            "     |  Static methods defined here:\n",
            "     |  \n",
            "     |  __swig_destroy__ = delete_writer(...)\n",
            "     |  \n",
            "     |  ----------------------------------------------------------------------\n",
            "     |  Data descriptors defined here:\n",
            "     |  \n",
            "     |  __dict__\n",
            "     |      dictionary for instance variables (if defined)\n",
            "     |  \n",
            "     |  __weakref__\n",
            "     |      list of weak references to the object (if defined)\n",
            "     |  \n",
            "     |  ----------------------------------------------------------------------\n",
            "     |  Data and other attributes defined here:\n",
            "     |  \n",
            "     |  __swig_getmethods__ = {}\n",
            "     |  \n",
            "     |  __swig_setmethods__ = {}\n",
            "\n",
            "FUNCTIONS\n",
            "    StringVector_swigregister(...)\n",
            "    \n",
            "    SwigPyIterator_swigregister(...)\n",
            "    \n",
            "    reader_swigregister(...)\n",
            "    \n",
            "    writer_swigregister(...)\n",
            "\n",
            "DATA\n",
            "    cosine = 2\n",
            "    dice = 1\n",
            "    exact = 0\n",
            "    jaccard = 3\n",
            "    overlap = 4\n",
            "\n",
            "FILE\n",
            "    /usr/local/lib/python3.7/dist-packages/simstring.py\n",
            "\n",
            "\n"
          ],
          "name": "stdout"
        }
      ]
    },
    {
      "cell_type": "markdown",
      "metadata": {
        "id": "Ua9dxbnPUNoy"
      },
      "source": [
        "# Usage\n",
        "\n",
        "1. Index a number of strings\n",
        "2. Use the index for lookup"
      ]
    },
    {
      "cell_type": "code",
      "metadata": {
        "id": "bVBeQUvVc9w4"
      },
      "source": [
        ""
      ],
      "execution_count": null,
      "outputs": []
    },
    {
      "cell_type": "code",
      "metadata": {
        "colab": {
          "base_uri": "https://localhost:8080/"
        },
        "id": "1T5rFB22UNpC",
        "outputId": "413304b8-320b-4770-89f8-3ce995882a48"
      },
      "source": [
        "import bz2\n",
        "names=bz2.open(\"names.txt.bz2\",\"rt\").read().splitlines()\n",
        "print(names)"
      ],
      "execution_count": 20,
      "outputs": [
        {
          "output_type": "stream",
          "text": [
            "['Mikael Agricola', 'Adolf Ehrnrooth', 'Tarja Halonen', 'Urho Kekkonen', 'Aleksis Kivi', 'Elias Lönnrot', 'Kalevala', 'C. G. E. Mannerheim', 'Risto Ryti', 'Jean Sibelius', 'Arvo Ylppö', 'Matti Nykänen', 'Väinö Myllyrinne', 'Ville Valo', 'Lalli', 'Väinö Linna', 'Linus Torvalds', 'Spede Pasanen', 'Pentti Linkola', 'Tove Jansson', 'Veikko Hursti', 'Paavo Nurmi', 'Minna Canth', 'Juho Kusti Paasikivi', 'J. V. Snellman', 'Hertta Kuusinen', 'Arto Saari', 'Miina Sillanpää', 'Väinö Tanner', 'Lucina Hagman', 'Kristfrid Ganander', 'Mika Waltari', 'Mika Häkkinen', 'Alvar Aalto', 'Eugen Schauman', 'Tapio Rautavaara', 'Eino Leino', 'Jaakko Pöyry', 'Otto Wille Kuusinen', 'Juice Leskinen', 'Anders Chydenius', 'Uno Cygnaeus', 'Jari Litmanen', 'Katri Helena Kalaoja', 'Fanni Luukkonen', 'Anneli Jäätteenmäki', 'Karl Fazer', 'K. J. Ståhlberg', 'Mauno Koivisto', 'Helene Schjerfbeck', 'Reino Helismaa', 'Jorma Ollila', 'Lauri Törni', 'Georg Henrik von Wright', 'Arndt Pekurinen', 'Tauno Palo', 'Akseli Gallen-Kallela', 'Johan Ludvig Runeberg', 'Kyösti Kallio', 'Paavo Ruotsalainen', 'Lars Levi Laestadius', 'Lasse Virén', 'Helvi Sipilä', 'Yrjö Kallinen', 'A. I. Virtanen', 'Nils-Aslak Valkeapää', 'Armi Kuusela', 'Pehr Evind Svinhufvud', 'Aki Kaurismäki', 'Kalle Päätalo', 'Paavo Lipponen', 'Aurora Karamzin', 'Sakari Topelius', 'Alli Vaittinen-Kuikka', 'Simo Häyhä', 'Jaakko Ilkka', 'Arto Javanainen', 'Leena Palotie', 'Karita Mattila', 'Veikko Hakulinen', 'Helle Kannila', 'Olavi Virta', 'Hannu Salama', 'Irwin Goodman', 'Laila Kinnunen', 'Arvi Lind', 'Kirsti Paakkanen', 'Larin Paraske', 'Mathilda Wrede', 'Erno Paasilinna', 'Antti Tuisku', 'Annikki Tähti', 'Elisabeth Rehn', 'Esa Saarinen', 'Maiju Gebhard', 'Kalevi Sorsa', 'Aksel Airo', 'Lauri Ylönen', 'Raimo Helminen', 'Armi Ratia', 'Veikko Sinisalo']\n"
          ],
          "name": "stdout"
        }
      ]
    },
    {
      "cell_type": "code",
      "metadata": {
        "id": "7mwveAMtUNpF"
      },
      "source": [
        "# index\n",
        "import os\n",
        "os.makedirs(\"test_names\",exist_ok=True) #produces a lot of files, make dir\n",
        "db=simstring.writer(\"test_names/test_names.db\") \n",
        "for name in names:\n",
        "    db.insert(name)\n",
        "db.close()\n"
      ],
      "execution_count": 21,
      "outputs": []
    },
    {
      "cell_type": "code",
      "metadata": {
        "colab": {
          "base_uri": "https://localhost:8080/"
        },
        "id": "IW-pYq7oUNpH",
        "outputId": "867d26a3-28b6-4180-d616-06fdf64319cb"
      },
      "source": [
        "db=simstring.reader(\"test_names/test_names.db\")\n",
        "db.measure=simstring.cosine\n",
        "db.threshold=0.5\n",
        "print(db.retrieve(\"Karita Matila\"))\n",
        "print(db.retrieve(\"Arvi Lund\")) #short name, similarity decreases steeply!"
      ],
      "execution_count": 22,
      "outputs": [
        {
          "output_type": "stream",
          "text": [
            "('Karita Mattila',)\n",
            "('Arvi Lind',)\n"
          ],
          "name": "stdout"
        }
      ]
    },
    {
      "cell_type": "code",
      "metadata": {
        "colab": {
          "base_uri": "https://localhost:8080/"
        },
        "id": "1BezLLIWUNpJ",
        "outputId": "4e368a6d-f89f-4cf7-b9eb-be7be99a734c"
      },
      "source": [
        "db.retrieve(\"Kaarlo Juho Stahlberg\")"
      ],
      "execution_count": 23,
      "outputs": [
        {
          "output_type": "execute_result",
          "data": {
            "text/plain": [
              "()"
            ]
          },
          "metadata": {
            "tags": []
          },
          "execution_count": 23
        }
      ]
    },
    {
      "cell_type": "code",
      "metadata": {
        "colab": {
          "base_uri": "https://localhost:8080/"
        },
        "id": "MjPXLi-AUNpK",
        "outputId": "b5fe6a5b-e455-4a95-a024-776dc44fc438"
      },
      "source": [
        "db.retrieve(\"Kaarlo Juho Ståhlberg\")"
      ],
      "execution_count": 24,
      "outputs": [
        {
          "output_type": "execute_result",
          "data": {
            "text/plain": [
              "('K. J. Ståhlberg',)"
            ]
          },
          "metadata": {
            "tags": []
          },
          "execution_count": 24
        }
      ]
    },
    {
      "cell_type": "markdown",
      "metadata": {
        "id": "AnVa5fMuUNpf"
      },
      "source": [
        "* Many limitations shown above\n",
        "* Generic string matching needs further customization\n",
        "* simstring is a fast first filter for more costly techniques"
      ]
    },
    {
      "cell_type": "markdown",
      "metadata": {
        "id": "i8vWNVDxUNpg"
      },
      "source": [
        "# Larger index\n",
        "\n",
        "* all Finnish wikidata strings"
      ]
    },
    {
      "cell_type": "code",
      "metadata": {
        "id": "HmsOFfqlUNpg",
        "outputId": "c2a3e195-1e8c-4f31-99ad-83a1fe92f77a"
      },
      "source": [
        "from tqdm import tqdm #progress-bar\n",
        "os.makedirs(\"wikidata.db\",exist_ok=True)\n",
        "db=simstring.writer(\"wikidata.db/wikidata.db\")\n",
        "with open(\"wikidata.fi\") as f:\n",
        "    for line in tqdm(f):\n",
        "        line=line.strip()\n",
        "        # 4-col file with string, two urls, and official label\n",
        "        # let us index the strings\n",
        "        s,url1,url2,label=line.split(\"\\t\")\n",
        "        db.insert(s)\n",
        "db.close()"
      ],
      "execution_count": null,
      "outputs": [
        {
          "output_type": "stream",
          "text": [
            "3995911it [01:58, 33791.00it/s]\n"
          ],
          "name": "stderr"
        }
      ]
    },
    {
      "cell_type": "markdown",
      "metadata": {
        "id": "Fd1-yT-jUNph"
      },
      "source": [
        "* 4M strings - 2min index time"
      ]
    },
    {
      "cell_type": "code",
      "metadata": {
        "id": "T3LQdJk2UNph",
        "outputId": "9d14f107-cfd6-4f02-d2db-3dc84a9d8e67"
      },
      "source": [
        "db=simstring.reader(\"wikidata.db/wikidata.db\")\n",
        "db.retrieve(\"Tarja Halonen\")"
      ],
      "execution_count": null,
      "outputs": [
        {
          "output_type": "execute_result",
          "data": {
            "text/plain": [
              "('Ona Halonen',\n",
              " 'Esa Halonen',\n",
              " 'Mia Halonen',\n",
              " 'Tarja Halonen',\n",
              " 'Tarja Salonen',\n",
              " 'Tuija Halonen',\n",
              " 'Maija Halonen',\n",
              " 'Luokka:Tarja Halonen',\n",
              " 'Tarja Kaarina Halonen')"
            ]
          },
          "metadata": {
            "tags": []
          },
          "execution_count": 14
        }
      ]
    },
    {
      "cell_type": "code",
      "metadata": {
        "id": "7MbN_tSqUNpi",
        "outputId": "c2be0865-2e4a-42b3-abe9-59dedd9897b5"
      },
      "source": [
        "db.retrieve(\"keskusrikospoliisi\")"
      ],
      "execution_count": null,
      "outputs": [
        {
          "output_type": "execute_result",
          "data": {
            "text/plain": [
              "('rikospoliisi',\n",
              " 'keskusrikospoliisi',\n",
              " 'Keskusrikospoliisi',\n",
              " 'Keskusrikospoliisi',\n",
              " 'Keskusrikospoliisin Rikosmuseo')"
            ]
          },
          "metadata": {
            "tags": []
          },
          "execution_count": 15
        }
      ]
    },
    {
      "cell_type": "markdown",
      "metadata": {
        "id": "DJ_QKCC7UNpj"
      },
      "source": [
        "## Lookup speed"
      ]
    },
    {
      "cell_type": "code",
      "metadata": {
        "id": "y9GCbn0aUNpj",
        "outputId": "0518a414-40a6-495c-bd2d-788cb41d0272"
      },
      "source": [
        "import os\n",
        "from tqdm import tqdm\n",
        "with open(\"wikidata.fi\") as f:\n",
        "    for i,line in enumerate(tqdm(f)):\n",
        "        line=line.strip()\n",
        "        db.retrieve(line)\n",
        "        if i==10000:\n",
        "            break\n"
      ],
      "execution_count": null,
      "outputs": [
        {
          "output_type": "stream",
          "text": [
            "10000it [00:10, 927.73it/s]\n"
          ],
          "name": "stderr"
        }
      ]
    }
  ]
}