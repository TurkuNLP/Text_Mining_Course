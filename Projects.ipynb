{
 "cells": [
  {
   "cell_type": "markdown",
   "metadata": {},
   "source": [
    "# Projects\n",
    "\n",
    "Completion of this course requires you to finish a small-group project:\n",
    "\n",
    "* Form groups of 2 to 4 people, preferably involving people with different interests\n",
    "* Select the topic of your project:\n",
    "    * TOPIC 1 - Sentiment detection\n",
    "    * TOPIC 2 - Named entity recognition\n",
    "    * TOPIC 3 - Relation extraction\n",
    "* **Register** your group members and topic here: [https://goo.gl/e9B1wk](https://goo.gl/e9B1wk)\n",
    "\n",
    "The groups are expected to prepare a report on their work and present it.\n",
    "\n",
    "Projects are due **May 27th**.\n",
    "\n",
    "(**Note**: please include a brief \"contributions\" section in your report describing who did what.)\n",
    "\n",
    "## Grading\n",
    "\n",
    "* The projects are organized into **milestone** subtasks:\n",
    "    * Milestone 1 is mandatory, and completing it gives you grade 1\n",
    "    * Each of the milestones 2 and 3 gives you an extra grade (so, completing all 3 gives grade 3)\n",
    "* Voluntary interview (~oral exam) can give you extra 2 grades"
   ]
  }
 ],
 "metadata": {
  "kernelspec": {
   "display_name": "Python 3",
   "language": "python",
   "name": "python3"
  },
  "language_info": {
   "codemirror_mode": {
    "name": "ipython",
    "version": 3
   },
   "file_extension": ".py",
   "mimetype": "text/x-python",
   "name": "python",
   "nbconvert_exporter": "python",
   "pygments_lexer": "ipython3",
   "version": "3.7.2"
  }
 },
 "nbformat": 4,
 "nbformat_minor": 2
}
